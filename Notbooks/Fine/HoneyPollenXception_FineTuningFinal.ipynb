{
  "cells": [
    {
      "cell_type": "code",
      "execution_count": 1,
      "metadata": {
        "colab": {
          "base_uri": "https://localhost:8080/"
        },
        "id": "CuDGoysGdUml",
        "outputId": "2d72d31c-cd45-49b6-8499-f61cd0d0a31a"
      },
      "outputs": [
        {
          "output_type": "stream",
          "name": "stdout",
          "text": [
            "Mounted at /content/drive\n"
          ]
        }
      ],
      "source": [
        "from google.colab import drive\n",
        "drive.mount('/content/drive')"
      ]
    },
    {
      "cell_type": "code",
      "execution_count": 2,
      "metadata": {
        "colab": {
          "base_uri": "https://localhost:8080/"
        },
        "id": "uzCkIRFpWPWO",
        "outputId": "1f613e5f-0aa0-4ca0-827f-9f47befbd34a"
      },
      "outputs": [
        {
          "output_type": "stream",
          "name": "stdout",
          "text": [
            "Collecting ipython-autotime\n",
            "  Downloading ipython_autotime-0.3.2-py2.py3-none-any.whl (7.0 kB)\n",
            "Requirement already satisfied: ipython in /usr/local/lib/python3.10/dist-packages (from ipython-autotime) (7.34.0)\n",
            "Requirement already satisfied: setuptools>=18.5 in /usr/local/lib/python3.10/dist-packages (from ipython->ipython-autotime) (67.7.2)\n",
            "Collecting jedi>=0.16 (from ipython->ipython-autotime)\n",
            "  Downloading jedi-0.19.1-py2.py3-none-any.whl (1.6 MB)\n",
            "\u001b[2K     \u001b[90m━━━━━━━━━━━━━━━━━━━━━━━━━━━━━━━━━━━━━━━━\u001b[0m \u001b[32m1.6/1.6 MB\u001b[0m \u001b[31m10.4 MB/s\u001b[0m eta \u001b[36m0:00:00\u001b[0m\n",
            "\u001b[?25hRequirement already satisfied: decorator in /usr/local/lib/python3.10/dist-packages (from ipython->ipython-autotime) (4.4.2)\n",
            "Requirement already satisfied: pickleshare in /usr/local/lib/python3.10/dist-packages (from ipython->ipython-autotime) (0.7.5)\n",
            "Requirement already satisfied: traitlets>=4.2 in /usr/local/lib/python3.10/dist-packages (from ipython->ipython-autotime) (5.7.1)\n",
            "Requirement already satisfied: prompt-toolkit!=3.0.0,!=3.0.1,<3.1.0,>=2.0.0 in /usr/local/lib/python3.10/dist-packages (from ipython->ipython-autotime) (3.0.43)\n",
            "Requirement already satisfied: pygments in /usr/local/lib/python3.10/dist-packages (from ipython->ipython-autotime) (2.16.1)\n",
            "Requirement already satisfied: backcall in /usr/local/lib/python3.10/dist-packages (from ipython->ipython-autotime) (0.2.0)\n",
            "Requirement already satisfied: matplotlib-inline in /usr/local/lib/python3.10/dist-packages (from ipython->ipython-autotime) (0.1.6)\n",
            "Requirement already satisfied: pexpect>4.3 in /usr/local/lib/python3.10/dist-packages (from ipython->ipython-autotime) (4.9.0)\n",
            "Requirement already satisfied: parso<0.9.0,>=0.8.3 in /usr/local/lib/python3.10/dist-packages (from jedi>=0.16->ipython->ipython-autotime) (0.8.3)\n",
            "Requirement already satisfied: ptyprocess>=0.5 in /usr/local/lib/python3.10/dist-packages (from pexpect>4.3->ipython->ipython-autotime) (0.7.0)\n",
            "Requirement already satisfied: wcwidth in /usr/local/lib/python3.10/dist-packages (from prompt-toolkit!=3.0.0,!=3.0.1,<3.1.0,>=2.0.0->ipython->ipython-autotime) (0.2.12)\n",
            "Installing collected packages: jedi, ipython-autotime\n",
            "Successfully installed ipython-autotime-0.3.2 jedi-0.19.1\n",
            "time: 328 µs (started: 2024-01-15 18:09:50 +00:00)\n"
          ]
        }
      ],
      "source": [
        "!pip install ipython-autotime\n",
        "%load_ext autotime"
      ]
    },
    {
      "cell_type": "code",
      "execution_count": 41,
      "metadata": {
        "colab": {
          "base_uri": "https://localhost:8080/"
        },
        "id": "w5ybUAh8Kz_i",
        "outputId": "b7ebe40c-3606-4e83-9e88-2e85093feccd"
      },
      "outputs": [
        {
          "output_type": "stream",
          "name": "stdout",
          "text": [
            "time: 111 ms (started: 2024-01-15 19:28:16 +00:00)\n"
          ]
        }
      ],
      "source": [
        "import glob, os\n",
        "import random\n",
        "import shutil\n",
        "import seaborn as sns\n",
        "import numpy as np\n",
        "import matplotlib.pyplot as plt\n",
        "from skimage import io, transform\n",
        "from keras.optimizers import Adam\n",
        "import tensorflow as tf\n",
        "from tensorflow.keras.applications import Xception\n",
        "from tensorflow.keras.preprocessing import image\n",
        "from tensorflow.keras.applications.vgg16 import preprocess_input, decode_predictions\n",
        "from tensorflow.keras import layers, models\n",
        "from tensorflow.keras.optimizers import Adam\n",
        "from tensorflow.keras.preprocessing.image import ImageDataGenerator\n",
        "from sklearn.model_selection import train_test_split\n",
        "from sklearn.metrics import classification_report, confusion_matrix\n",
        "path=\"drive/MyDrive/imagensOriginais/\"\n",
        "imagens_originais= glob.glob(os.path.join(path, '*.jpg'))"
      ]
    },
    {
      "cell_type": "code",
      "execution_count": 42,
      "metadata": {
        "colab": {
          "base_uri": "https://localhost:8080/"
        },
        "id": "D_P0Y8aSQmY0",
        "outputId": "6a2de8a3-d822-4203-86db-c6e4c677a15f"
      },
      "outputs": [
        {
          "output_type": "stream",
          "name": "stdout",
          "text": [
            "time: 633 µs (started: 2024-01-15 19:28:18 +00:00)\n"
          ]
        }
      ],
      "source": [
        "def dataset(file_list,size=(224,224)):\n",
        "\timagens = []\n",
        "\tfor i, file in enumerate(imagens_originais):\n",
        "\t\timagem = io.imread(file)\n",
        "\t\timagem = transform.resize(imagem, size, mode='constant')\n",
        "\t\timagens.append(imagem)\n",
        "\n",
        "\tlabels = [1 if f.split(\"/\")[-1][0] == 'P' else 0 for f in file_list]\n",
        "\n",
        "\treturn np.array(imagens), np.array(labels)"
      ]
    },
    {
      "cell_type": "code",
      "execution_count": 43,
      "metadata": {
        "colab": {
          "base_uri": "https://localhost:8080/"
        },
        "id": "oBFas_yNtlRq",
        "outputId": "844bcdc3-c293-4619-c5eb-5db2ce48c1a2"
      },
      "outputs": [
        {
          "output_type": "stream",
          "name": "stdout",
          "text": [
            "time: 25.8 s (started: 2024-01-15 19:28:19 +00:00)\n"
          ]
        }
      ],
      "source": [
        "imagens,labels=dataset(imagens_originais)"
      ]
    },
    {
      "cell_type": "code",
      "execution_count": 44,
      "metadata": {
        "colab": {
          "base_uri": "https://localhost:8080/"
        },
        "id": "r3jaMrN98gJG",
        "outputId": "955289e7-cae2-43c7-e834-cedcc1881758"
      },
      "outputs": [
        {
          "output_type": "stream",
          "name": "stdout",
          "text": [
            "time: 731 ms (started: 2024-01-15 19:28:45 +00:00)\n"
          ]
        }
      ],
      "source": [
        "X_train, X_test, Y_train, Y_test = train_test_split(imagens, labels, test_size = 0.20, random_state = 40)\n",
        "X_train, X_validation, Y_train, Y_validation = train_test_split(X_train, Y_train, test_size = 0.15, random_state = 40)"
      ]
    },
    {
      "cell_type": "code",
      "execution_count": 45,
      "metadata": {
        "colab": {
          "base_uri": "https://localhost:8080/"
        },
        "id": "ssK5d-oMoYuA",
        "outputId": "23d09dd1-5a28-48fc-92e7-c23afabb37ea"
      },
      "outputs": [
        {
          "output_type": "stream",
          "name": "stdout",
          "text": [
            "time: 491 µs (started: 2024-01-15 19:28:46 +00:00)\n"
          ]
        }
      ],
      "source": [
        "EPOCHS = 60\n",
        "BATCH_SIZE = 16"
      ]
    },
    {
      "cell_type": "code",
      "execution_count": 46,
      "metadata": {
        "colab": {
          "base_uri": "https://localhost:8080/"
        },
        "id": "Xe-AAVWxocAQ",
        "outputId": "29589a7d-6bad-4d24-9f42-82507f2cca9b"
      },
      "outputs": [
        {
          "output_type": "stream",
          "name": "stdout",
          "text": [
            "time: 263 ms (started: 2024-01-15 19:28:46 +00:00)\n"
          ]
        }
      ],
      "source": [
        "train_generator = ImageDataGenerator(\n",
        "                                      shear_range=30,\n",
        "                                      rotation_range=20,\n",
        "                                      horizontal_flip=True,\n",
        "                                      vertical_flip=True,\n",
        "                                  ).flow(X_train, Y_train, batch_size=BATCH_SIZE)\n",
        "validation_generator = ImageDataGenerator(\n",
        "                                      shear_range=30,\n",
        "                                      rotation_range=20,\n",
        "                                      horizontal_flip=True,\n",
        "                                      vertical_flip=True,\n",
        "                                  ).flow(X_validation, Y_validation, batch_size=BATCH_SIZE)"
      ]
    },
    {
      "cell_type": "code",
      "execution_count": 48,
      "metadata": {
        "colab": {
          "base_uri": "https://localhost:8080/"
        },
        "id": "0kKbNBfc91em",
        "outputId": "8928b044-53f3-4347-dff3-d5de08e3f969"
      },
      "outputs": [
        {
          "output_type": "stream",
          "name": "stdout",
          "text": [
            "time: 1.18 ms (started: 2024-01-15 19:29:22 +00:00)\n"
          ]
        }
      ],
      "source": [
        "def create_model():\n",
        "  base_model = Xception(weights='imagenet', include_top=False, input_shape=(224, 224, 3))\n",
        "\n",
        "  # Congela todas as camadas\n",
        "  for layer in base_model.layers:\n",
        "    layer.trainable = False\n",
        "\n",
        "  # Descongela as sete últimas camadas convolucionais\n",
        "  for layer in base_model.layers[-6:]:\n",
        "    layer.trainable = True\n",
        "\n",
        "  x = base_model.output\n",
        "  x = layers.Flatten()(x)\n",
        "  x = layers.Dense(256, activation='relu')(x)\n",
        "  x = layers.Dropout(0.5)(x)\n",
        "  predictions = layers.Dense(1, activation='sigmoid')(x)\n",
        "\n",
        "  model = models.Model(inputs=base_model.input, outputs=predictions)\n",
        "\n",
        "  model.compile(optimizer=Adam(learning_rate=0.0001), loss='binary_crossentropy', metrics=['acc'])\n",
        "\n",
        "  return model"
      ]
    },
    {
      "cell_type": "code",
      "source": [
        "# Include the epoch in the file name (uses `str.format`)\n",
        "checkpoint_path = \"ResnetV2/cp-{epoch:04d}.ckpt\"\n",
        "checkpoint_dir = os.path.dirname(checkpoint_path)"
      ],
      "metadata": {
        "colab": {
          "base_uri": "https://localhost:8080/"
        },
        "id": "-ecRsdq_C7gd",
        "outputId": "74c04023-4492-4af9-ba80-43d763cefed9"
      },
      "execution_count": 49,
      "outputs": [
        {
          "output_type": "stream",
          "name": "stdout",
          "text": [
            "time: 477 µs (started: 2024-01-15 19:29:25 +00:00)\n"
          ]
        }
      ]
    },
    {
      "cell_type": "code",
      "source": [
        "# Create a callback that saves the model's weights every 5 epochs\n",
        "cp_callback = tf.keras.callbacks.ModelCheckpoint(\n",
        "    filepath=checkpoint_path,\n",
        "    verbose=1,\n",
        "    save_weights_only=True,\n",
        "    save_freq=\"epoch\")"
      ],
      "metadata": {
        "colab": {
          "base_uri": "https://localhost:8080/"
        },
        "id": "g4IH7TDOHFUL",
        "outputId": "2b78b599-b6f1-41f6-be90-ade4c649cd95"
      },
      "execution_count": 50,
      "outputs": [
        {
          "output_type": "stream",
          "name": "stdout",
          "text": [
            "time: 6.49 ms (started: 2024-01-15 19:29:26 +00:00)\n"
          ]
        }
      ]
    },
    {
      "cell_type": "code",
      "source": [
        "model = create_model()\n",
        "# Save the weights using the `checkpoint_path` format\n",
        "model.save_weights(checkpoint_path.format(epoch=0))"
      ],
      "metadata": {
        "colab": {
          "base_uri": "https://localhost:8080/"
        },
        "id": "Cnh8Vo-BJSxg",
        "outputId": "7c8bb2bf-dfab-4ba3-ab17-e81c0e4ee390"
      },
      "execution_count": 51,
      "outputs": [
        {
          "output_type": "stream",
          "name": "stdout",
          "text": [
            "Downloading data from https://storage.googleapis.com/tensorflow/keras-applications/xception/xception_weights_tf_dim_ordering_tf_kernels_notop.h5\n",
            "83683744/83683744 [==============================] - 0s 0us/step\n",
            "time: 3.36 s (started: 2024-01-15 19:29:27 +00:00)\n"
          ]
        }
      ]
    },
    {
      "cell_type": "code",
      "source": [
        "steps_per_epoch = X_train.shape[0]//BATCH_SIZE\n",
        "validation_steps = X_validation.shape[0]//BATCH_SIZE"
      ],
      "metadata": {
        "colab": {
          "base_uri": "https://localhost:8080/"
        },
        "id": "W1fZD5LSIX41",
        "outputId": "f5f5f052-dfde-44b8-aa8a-07b427b6a6ea"
      },
      "execution_count": 52,
      "outputs": [
        {
          "output_type": "stream",
          "name": "stdout",
          "text": [
            "time: 478 µs (started: 2024-01-15 19:29:30 +00:00)\n"
          ]
        }
      ]
    },
    {
      "cell_type": "code",
      "source": [
        "history = model.fit(train_generator,\n",
        "                   steps_per_epoch=steps_per_epoch,\n",
        "                   epochs=EPOCHS,\n",
        "                   callbacks=[cp_callback],\n",
        "                   validation_data=validation_generator,\n",
        "                   validation_steps=validation_steps,\n",
        "                   shuffle=True,\n",
        "                   verbose=2)"
      ],
      "metadata": {
        "colab": {
          "base_uri": "https://localhost:8080/"
        },
        "id": "oi9E2JsQIZTO",
        "outputId": "7d4d0e80-f908-4413-f163-11b31948bf67"
      },
      "execution_count": 53,
      "outputs": [
        {
          "output_type": "stream",
          "name": "stdout",
          "text": [
            "Epoch 1/60\n"
          ]
        },
        {
          "output_type": "stream",
          "name": "stderr",
          "text": [
            "WARNING:tensorflow:Detecting that an object or model or tf.train.Checkpoint is being deleted with unrestored values. See the following logs for the specific values in question. To silence these warnings, use `status.expect_partial()`. See https://www.tensorflow.org/api_docs/python/tf/train/Checkpoint#restorefor details about the status object returned by the restore function.\n",
            "WARNING:tensorflow:Value in checkpoint could not be found in the restored object: (root).optimizer._variables.1\n",
            "WARNING:tensorflow:Value in checkpoint could not be found in the restored object: (root).optimizer._variables.2\n",
            "WARNING:tensorflow:Value in checkpoint could not be found in the restored object: (root).optimizer._variables.3\n",
            "WARNING:tensorflow:Value in checkpoint could not be found in the restored object: (root).optimizer._variables.4\n",
            "WARNING:tensorflow:Value in checkpoint could not be found in the restored object: (root).optimizer._variables.5\n",
            "WARNING:tensorflow:Value in checkpoint could not be found in the restored object: (root).optimizer._variables.6\n",
            "WARNING:tensorflow:Value in checkpoint could not be found in the restored object: (root).optimizer._variables.7\n",
            "WARNING:tensorflow:Value in checkpoint could not be found in the restored object: (root).optimizer._variables.8\n",
            "WARNING:tensorflow:Value in checkpoint could not be found in the restored object: (root).optimizer._variables.9\n",
            "WARNING:tensorflow:Value in checkpoint could not be found in the restored object: (root).optimizer._variables.10\n",
            "WARNING:tensorflow:Value in checkpoint could not be found in the restored object: (root).optimizer._variables.11\n",
            "WARNING:tensorflow:Value in checkpoint could not be found in the restored object: (root).optimizer._variables.12\n",
            "WARNING:tensorflow:Value in checkpoint could not be found in the restored object: (root).optimizer._variables.13\n",
            "WARNING:tensorflow:Value in checkpoint could not be found in the restored object: (root).optimizer._variables.14\n",
            "WARNING:tensorflow:Value in checkpoint could not be found in the restored object: (root).optimizer._variables.15\n",
            "WARNING:tensorflow:Value in checkpoint could not be found in the restored object: (root).optimizer._variables.16\n",
            "WARNING:tensorflow:Value in checkpoint could not be found in the restored object: (root).optimizer._variables.17\n",
            "WARNING:tensorflow:Value in checkpoint could not be found in the restored object: (root).optimizer._variables.18\n",
            "WARNING:tensorflow:Value in checkpoint could not be found in the restored object: (root).optimizer._variables.19\n",
            "WARNING:tensorflow:Value in checkpoint could not be found in the restored object: (root).optimizer._variables.20\n",
            "WARNING:tensorflow:Value in checkpoint could not be found in the restored object: (root).optimizer._variables.21\n",
            "WARNING:tensorflow:Value in checkpoint could not be found in the restored object: (root).optimizer._variables.22\n"
          ]
        },
        {
          "output_type": "stream",
          "name": "stdout",
          "text": [
            "\n",
            "Epoch 1: saving model to ResnetV2/cp-0001.ckpt\n",
            "30/30 - 23s - loss: 0.8497 - acc: 0.6482 - val_loss: 0.5771 - val_acc: 0.8000 - 23s/epoch - 771ms/step\n",
            "Epoch 2/60\n",
            "\n",
            "Epoch 2: saving model to ResnetV2/cp-0002.ckpt\n",
            "30/30 - 11s - loss: 0.4941 - acc: 0.7974 - val_loss: 0.6281 - val_acc: 0.8000 - 11s/epoch - 382ms/step\n",
            "Epoch 3/60\n",
            "\n",
            "Epoch 3: saving model to ResnetV2/cp-0003.ckpt\n",
            "30/30 - 9s - loss: 0.3916 - acc: 0.8380 - val_loss: 0.3467 - val_acc: 0.8625 - 9s/epoch - 287ms/step\n",
            "Epoch 4/60\n",
            "\n",
            "Epoch 4: saving model to ResnetV2/cp-0004.ckpt\n",
            "30/30 - 9s - loss: 0.2841 - acc: 0.8827 - val_loss: 0.1305 - val_acc: 0.9250 - 9s/epoch - 303ms/step\n",
            "Epoch 5/60\n",
            "\n",
            "Epoch 5: saving model to ResnetV2/cp-0005.ckpt\n",
            "30/30 - 11s - loss: 0.2293 - acc: 0.9019 - val_loss: 0.2173 - val_acc: 0.9250 - 11s/epoch - 353ms/step\n",
            "Epoch 6/60\n",
            "\n",
            "Epoch 6: saving model to ResnetV2/cp-0006.ckpt\n",
            "30/30 - 9s - loss: 0.2945 - acc: 0.8763 - val_loss: 0.2970 - val_acc: 0.8875 - 9s/epoch - 289ms/step\n",
            "Epoch 7/60\n",
            "\n",
            "Epoch 7: saving model to ResnetV2/cp-0007.ckpt\n",
            "30/30 - 9s - loss: 0.2329 - acc: 0.9318 - val_loss: 0.2405 - val_acc: 0.9000 - 9s/epoch - 287ms/step\n",
            "Epoch 8/60\n",
            "\n",
            "Epoch 8: saving model to ResnetV2/cp-0008.ckpt\n",
            "30/30 - 11s - loss: 0.2362 - acc: 0.9083 - val_loss: 0.2494 - val_acc: 0.9000 - 11s/epoch - 359ms/step\n",
            "Epoch 9/60\n",
            "\n",
            "Epoch 9: saving model to ResnetV2/cp-0009.ckpt\n",
            "30/30 - 9s - loss: 0.2117 - acc: 0.9168 - val_loss: 0.2309 - val_acc: 0.9000 - 9s/epoch - 283ms/step\n",
            "Epoch 10/60\n",
            "\n",
            "Epoch 10: saving model to ResnetV2/cp-0010.ckpt\n",
            "30/30 - 11s - loss: 0.1775 - acc: 0.9403 - val_loss: 0.2238 - val_acc: 0.8875 - 11s/epoch - 364ms/step\n",
            "Epoch 11/60\n",
            "\n",
            "Epoch 11: saving model to ResnetV2/cp-0011.ckpt\n",
            "30/30 - 10s - loss: 0.1597 - acc: 0.9360 - val_loss: 0.1785 - val_acc: 0.9250 - 10s/epoch - 342ms/step\n",
            "Epoch 12/60\n",
            "\n",
            "Epoch 12: saving model to ResnetV2/cp-0012.ckpt\n",
            "30/30 - 9s - loss: 0.1274 - acc: 0.9458 - val_loss: 0.1576 - val_acc: 0.9125 - 9s/epoch - 291ms/step\n",
            "Epoch 13/60\n",
            "\n",
            "Epoch 13: saving model to ResnetV2/cp-0013.ckpt\n",
            "30/30 - 12s - loss: 0.2275 - acc: 0.9083 - val_loss: 0.1532 - val_acc: 0.9250 - 12s/epoch - 390ms/step\n",
            "Epoch 14/60\n",
            "\n",
            "Epoch 14: saving model to ResnetV2/cp-0014.ckpt\n",
            "30/30 - 14s - loss: 0.1485 - acc: 0.9446 - val_loss: 0.1473 - val_acc: 0.9375 - 14s/epoch - 458ms/step\n",
            "Epoch 15/60\n",
            "\n",
            "Epoch 15: saving model to ResnetV2/cp-0015.ckpt\n",
            "30/30 - 11s - loss: 0.2228 - acc: 0.9296 - val_loss: 0.5425 - val_acc: 0.8125 - 11s/epoch - 366ms/step\n",
            "Epoch 16/60\n",
            "\n",
            "Epoch 16: saving model to ResnetV2/cp-0016.ckpt\n",
            "30/30 - 14s - loss: 0.1302 - acc: 0.9510 - val_loss: 0.1648 - val_acc: 0.9125 - 14s/epoch - 473ms/step\n",
            "Epoch 17/60\n",
            "\n",
            "Epoch 17: saving model to ResnetV2/cp-0017.ckpt\n",
            "30/30 - 11s - loss: 0.1158 - acc: 0.9488 - val_loss: 0.2063 - val_acc: 0.9000 - 11s/epoch - 350ms/step\n",
            "Epoch 18/60\n",
            "\n",
            "Epoch 18: saving model to ResnetV2/cp-0018.ckpt\n",
            "30/30 - 10s - loss: 0.1394 - acc: 0.9595 - val_loss: 0.2407 - val_acc: 0.9125 - 10s/epoch - 332ms/step\n",
            "Epoch 19/60\n",
            "\n",
            "Epoch 19: saving model to ResnetV2/cp-0019.ckpt\n",
            "30/30 - 9s - loss: 0.1239 - acc: 0.9595 - val_loss: 0.2205 - val_acc: 0.9125 - 9s/epoch - 299ms/step\n",
            "Epoch 20/60\n",
            "\n",
            "Epoch 20: saving model to ResnetV2/cp-0020.ckpt\n",
            "30/30 - 12s - loss: 0.1221 - acc: 0.9488 - val_loss: 0.2915 - val_acc: 0.8625 - 12s/epoch - 386ms/step\n",
            "Epoch 21/60\n",
            "\n",
            "Epoch 21: saving model to ResnetV2/cp-0021.ckpt\n",
            "30/30 - 11s - loss: 0.1077 - acc: 0.9574 - val_loss: 0.2301 - val_acc: 0.9250 - 11s/epoch - 354ms/step\n",
            "Epoch 22/60\n",
            "\n",
            "Epoch 22: saving model to ResnetV2/cp-0022.ckpt\n",
            "30/30 - 11s - loss: 0.1466 - acc: 0.9382 - val_loss: 0.1438 - val_acc: 0.9375 - 11s/epoch - 354ms/step\n",
            "Epoch 23/60\n",
            "\n",
            "Epoch 23: saving model to ResnetV2/cp-0023.ckpt\n",
            "30/30 - 11s - loss: 0.1190 - acc: 0.9552 - val_loss: 0.1527 - val_acc: 0.9250 - 11s/epoch - 377ms/step\n",
            "Epoch 24/60\n",
            "\n",
            "Epoch 24: saving model to ResnetV2/cp-0024.ckpt\n",
            "30/30 - 13s - loss: 0.1076 - acc: 0.9616 - val_loss: 0.1941 - val_acc: 0.9375 - 13s/epoch - 432ms/step\n",
            "Epoch 25/60\n",
            "\n",
            "Epoch 25: saving model to ResnetV2/cp-0025.ckpt\n",
            "30/30 - 13s - loss: 0.1035 - acc: 0.9552 - val_loss: 0.1444 - val_acc: 0.9250 - 13s/epoch - 449ms/step\n",
            "Epoch 26/60\n",
            "\n",
            "Epoch 26: saving model to ResnetV2/cp-0026.ckpt\n",
            "30/30 - 11s - loss: 0.1076 - acc: 0.9531 - val_loss: 0.1832 - val_acc: 0.9250 - 11s/epoch - 377ms/step\n",
            "Epoch 27/60\n",
            "\n",
            "Epoch 27: saving model to ResnetV2/cp-0027.ckpt\n",
            "30/30 - 11s - loss: 0.1005 - acc: 0.9552 - val_loss: 0.4051 - val_acc: 0.9250 - 11s/epoch - 372ms/step\n",
            "Epoch 28/60\n",
            "\n",
            "Epoch 28: saving model to ResnetV2/cp-0028.ckpt\n",
            "30/30 - 9s - loss: 0.1239 - acc: 0.9574 - val_loss: 0.1097 - val_acc: 0.9375 - 9s/epoch - 292ms/step\n",
            "Epoch 29/60\n",
            "\n",
            "Epoch 29: saving model to ResnetV2/cp-0029.ckpt\n",
            "30/30 - 13s - loss: 0.0739 - acc: 0.9708 - val_loss: 0.1716 - val_acc: 0.9625 - 13s/epoch - 437ms/step\n",
            "Epoch 30/60\n",
            "\n",
            "Epoch 30: saving model to ResnetV2/cp-0030.ckpt\n",
            "30/30 - 11s - loss: 0.0988 - acc: 0.9595 - val_loss: 0.1696 - val_acc: 0.9500 - 11s/epoch - 371ms/step\n",
            "Epoch 31/60\n",
            "\n",
            "Epoch 31: saving model to ResnetV2/cp-0031.ckpt\n",
            "30/30 - 11s - loss: 0.0901 - acc: 0.9723 - val_loss: 0.1125 - val_acc: 0.9750 - 11s/epoch - 383ms/step\n",
            "Epoch 32/60\n",
            "\n",
            "Epoch 32: saving model to ResnetV2/cp-0032.ckpt\n",
            "30/30 - 9s - loss: 0.0810 - acc: 0.9708 - val_loss: 0.2763 - val_acc: 0.9250 - 9s/epoch - 304ms/step\n",
            "Epoch 33/60\n",
            "\n",
            "Epoch 33: saving model to ResnetV2/cp-0033.ckpt\n",
            "30/30 - 12s - loss: 0.1082 - acc: 0.9638 - val_loss: 0.1103 - val_acc: 0.9375 - 12s/epoch - 390ms/step\n",
            "Epoch 34/60\n",
            "\n",
            "Epoch 34: saving model to ResnetV2/cp-0034.ckpt\n",
            "30/30 - 11s - loss: 0.0708 - acc: 0.9680 - val_loss: 0.1619 - val_acc: 0.9375 - 11s/epoch - 378ms/step\n",
            "Epoch 35/60\n",
            "\n",
            "Epoch 35: saving model to ResnetV2/cp-0035.ckpt\n",
            "30/30 - 9s - loss: 0.1264 - acc: 0.9552 - val_loss: 0.1595 - val_acc: 0.9250 - 9s/epoch - 287ms/step\n",
            "Epoch 36/60\n",
            "\n",
            "Epoch 36: saving model to ResnetV2/cp-0036.ckpt\n",
            "30/30 - 11s - loss: 0.0975 - acc: 0.9616 - val_loss: 0.3164 - val_acc: 0.8875 - 11s/epoch - 368ms/step\n",
            "Epoch 37/60\n",
            "\n",
            "Epoch 37: saving model to ResnetV2/cp-0037.ckpt\n",
            "30/30 - 11s - loss: 0.0820 - acc: 0.9638 - val_loss: 0.2347 - val_acc: 0.9250 - 11s/epoch - 362ms/step\n",
            "Epoch 38/60\n",
            "\n",
            "Epoch 38: saving model to ResnetV2/cp-0038.ckpt\n",
            "30/30 - 14s - loss: 0.0586 - acc: 0.9765 - val_loss: 0.1091 - val_acc: 0.9250 - 14s/epoch - 460ms/step\n",
            "Epoch 39/60\n",
            "\n",
            "Epoch 39: saving model to ResnetV2/cp-0039.ckpt\n",
            "30/30 - 11s - loss: 0.0770 - acc: 0.9723 - val_loss: 0.3389 - val_acc: 0.8875 - 11s/epoch - 354ms/step\n",
            "Epoch 40/60\n",
            "\n",
            "Epoch 40: saving model to ResnetV2/cp-0040.ckpt\n",
            "30/30 - 13s - loss: 0.0653 - acc: 0.9744 - val_loss: 0.3169 - val_acc: 0.9125 - 13s/epoch - 423ms/step\n",
            "Epoch 41/60\n",
            "\n",
            "Epoch 41: saving model to ResnetV2/cp-0041.ckpt\n",
            "30/30 - 9s - loss: 0.0797 - acc: 0.9638 - val_loss: 0.2673 - val_acc: 0.9000 - 9s/epoch - 291ms/step\n",
            "Epoch 42/60\n",
            "\n",
            "Epoch 42: saving model to ResnetV2/cp-0042.ckpt\n",
            "30/30 - 12s - loss: 0.0752 - acc: 0.9680 - val_loss: 0.2421 - val_acc: 0.9250 - 12s/epoch - 397ms/step\n",
            "Epoch 43/60\n",
            "\n",
            "Epoch 43: saving model to ResnetV2/cp-0043.ckpt\n",
            "30/30 - 15s - loss: 0.0497 - acc: 0.9829 - val_loss: 0.0893 - val_acc: 0.9625 - 15s/epoch - 493ms/step\n",
            "Epoch 44/60\n",
            "\n",
            "Epoch 44: saving model to ResnetV2/cp-0044.ckpt\n",
            "30/30 - 12s - loss: 0.0452 - acc: 0.9829 - val_loss: 0.2581 - val_acc: 0.9500 - 12s/epoch - 387ms/step\n",
            "Epoch 45/60\n",
            "\n",
            "Epoch 45: saving model to ResnetV2/cp-0045.ckpt\n",
            "30/30 - 9s - loss: 0.0401 - acc: 0.9851 - val_loss: 0.1344 - val_acc: 0.9625 - 9s/epoch - 291ms/step\n",
            "Epoch 46/60\n",
            "\n",
            "Epoch 46: saving model to ResnetV2/cp-0046.ckpt\n",
            "30/30 - 9s - loss: 0.0790 - acc: 0.9680 - val_loss: 0.3236 - val_acc: 0.9250 - 9s/epoch - 306ms/step\n",
            "Epoch 47/60\n",
            "\n",
            "Epoch 47: saving model to ResnetV2/cp-0047.ckpt\n",
            "30/30 - 14s - loss: 0.0732 - acc: 0.9659 - val_loss: 0.2633 - val_acc: 0.9125 - 14s/epoch - 479ms/step\n",
            "Epoch 48/60\n",
            "\n",
            "Epoch 48: saving model to ResnetV2/cp-0048.ckpt\n",
            "30/30 - 16s - loss: 0.0321 - acc: 0.9851 - val_loss: 0.1795 - val_acc: 0.9375 - 16s/epoch - 525ms/step\n",
            "Epoch 49/60\n",
            "\n",
            "Epoch 49: saving model to ResnetV2/cp-0049.ckpt\n",
            "30/30 - 14s - loss: 0.0636 - acc: 0.9829 - val_loss: 0.2209 - val_acc: 0.9375 - 14s/epoch - 471ms/step\n",
            "Epoch 50/60\n",
            "\n",
            "Epoch 50: saving model to ResnetV2/cp-0050.ckpt\n",
            "30/30 - 10s - loss: 0.0419 - acc: 0.9872 - val_loss: 0.2533 - val_acc: 0.9000 - 10s/epoch - 343ms/step\n",
            "Epoch 51/60\n",
            "\n",
            "Epoch 51: saving model to ResnetV2/cp-0051.ckpt\n",
            "30/30 - 8s - loss: 0.0366 - acc: 0.9829 - val_loss: 0.1688 - val_acc: 0.9625 - 8s/epoch - 278ms/step\n",
            "Epoch 52/60\n",
            "\n",
            "Epoch 52: saving model to ResnetV2/cp-0052.ckpt\n",
            "30/30 - 11s - loss: 0.0560 - acc: 0.9771 - val_loss: 0.1510 - val_acc: 0.9500 - 11s/epoch - 374ms/step\n",
            "Epoch 53/60\n",
            "\n",
            "Epoch 53: saving model to ResnetV2/cp-0053.ckpt\n",
            "30/30 - 10s - loss: 0.0417 - acc: 0.9829 - val_loss: 0.1658 - val_acc: 0.9250 - 10s/epoch - 326ms/step\n",
            "Epoch 54/60\n",
            "\n",
            "Epoch 54: saving model to ResnetV2/cp-0054.ckpt\n",
            "30/30 - 8s - loss: 0.0776 - acc: 0.9787 - val_loss: 0.0757 - val_acc: 0.9750 - 8s/epoch - 283ms/step\n",
            "Epoch 55/60\n",
            "\n",
            "Epoch 55: saving model to ResnetV2/cp-0055.ckpt\n",
            "30/30 - 11s - loss: 0.0372 - acc: 0.9851 - val_loss: 0.1263 - val_acc: 0.9625 - 11s/epoch - 372ms/step\n",
            "Epoch 56/60\n",
            "\n",
            "Epoch 56: saving model to ResnetV2/cp-0056.ckpt\n",
            "30/30 - 13s - loss: 0.0447 - acc: 0.9808 - val_loss: 0.2393 - val_acc: 0.9125 - 13s/epoch - 434ms/step\n",
            "Epoch 57/60\n",
            "\n",
            "Epoch 57: saving model to ResnetV2/cp-0057.ckpt\n",
            "30/30 - 9s - loss: 0.0371 - acc: 0.9851 - val_loss: 0.2456 - val_acc: 0.9250 - 9s/epoch - 295ms/step\n",
            "Epoch 58/60\n",
            "\n",
            "Epoch 58: saving model to ResnetV2/cp-0058.ckpt\n",
            "30/30 - 10s - loss: 0.0508 - acc: 0.9787 - val_loss: 0.1444 - val_acc: 0.9500 - 10s/epoch - 338ms/step\n",
            "Epoch 59/60\n",
            "\n",
            "Epoch 59: saving model to ResnetV2/cp-0059.ckpt\n",
            "30/30 - 12s - loss: 0.0749 - acc: 0.9808 - val_loss: 0.2863 - val_acc: 0.8875 - 12s/epoch - 387ms/step\n",
            "Epoch 60/60\n",
            "\n",
            "Epoch 60: saving model to ResnetV2/cp-0060.ckpt\n",
            "30/30 - 9s - loss: 0.0260 - acc: 0.9893 - val_loss: 0.3173 - val_acc: 0.9125 - 9s/epoch - 299ms/step\n",
            "time: 13min 2s (started: 2024-01-15 19:29:32 +00:00)\n"
          ]
        }
      ]
    },
    {
      "cell_type": "code",
      "source": [
        "# Especificar o diretório de destino no Google Drive\n",
        "drive_dir = '/content/drive/MyDrive/Xcetpion/'"
      ],
      "metadata": {
        "colab": {
          "base_uri": "https://localhost:8080/"
        },
        "id": "ic90m-9fQdlK",
        "outputId": "98c8da22-3d4a-4f5c-810a-777f8969bc45"
      },
      "execution_count": 54,
      "outputs": [
        {
          "output_type": "stream",
          "name": "stdout",
          "text": [
            "time: 495 µs (started: 2024-01-15 19:42:35 +00:00)\n"
          ]
        }
      ]
    },
    {
      "cell_type": "code",
      "source": [
        "shutil.copytree(checkpoint_dir, drive_dir)"
      ],
      "metadata": {
        "colab": {
          "base_uri": "https://localhost:8080/",
          "height": 52
        },
        "id": "AieJKDaXP4TR",
        "outputId": "29bc2861-34c6-4954-bc77-bb3f6b128ba8"
      },
      "execution_count": 55,
      "outputs": [
        {
          "output_type": "execute_result",
          "data": {
            "text/plain": [
              "'/content/drive/MyDrive/Xcetpion/'"
            ],
            "application/vnd.google.colaboratory.intrinsic+json": {
              "type": "string"
            }
          },
          "metadata": {},
          "execution_count": 55
        },
        {
          "output_type": "stream",
          "name": "stdout",
          "text": [
            "time: 8min 34s (started: 2024-01-15 19:42:35 +00:00)\n"
          ]
        }
      ]
    },
    {
      "cell_type": "code",
      "execution_count": 56,
      "metadata": {
        "colab": {
          "base_uri": "https://localhost:8080/"
        },
        "id": "psL6jhi8-UT_",
        "outputId": "f4b9c04f-ada7-4b9d-fbb4-dbd25b92282c"
      },
      "outputs": [
        {
          "output_type": "stream",
          "name": "stdout",
          "text": [
            "time: 820 µs (started: 2024-01-15 19:55:33 +00:00)\n"
          ]
        }
      ],
      "source": [
        "def smooth_curve(points, factor=0.8): #this function will make our plots more smooth\n",
        "\tsmoothed_points = []\n",
        "\tfor point in points:\n",
        "\t\tif smoothed_points:\n",
        "\t\t\tprevious = smoothed_points[-1]\n",
        "\t\t\tsmoothed_points.append(previous*factor+point*(1-factor))\n",
        "\t\telse:\n",
        "\t\t\tsmoothed_points.append(point)\n",
        "\treturn smoothed_points"
      ]
    },
    {
      "cell_type": "code",
      "source": [
        "def imprime_graficos(history):\n",
        "  acc = history.history['acc']\n",
        "  val_acc = history.history['val_acc']\n",
        "  loss = history.history['loss']\n",
        "  val_loss = history.history['val_loss']\n",
        "\n",
        "  epochs = range(1, len(acc)+1)\n",
        "  plt.plot(epochs, smooth_curve(acc), 'bo', label='Treinamento acc')\n",
        "  plt.plot(epochs, smooth_curve(val_acc), 'r-', label='Validação acc')\n",
        "  plt.legend()\n",
        "  plt.title('Treinamento and Validação Acc')\n",
        "  plt.figure()\n",
        "\n",
        "  plt.plot(epochs, smooth_curve(loss), 'bo', label='Treinamento loss')\n",
        "  plt.plot(epochs, smooth_curve(val_loss), 'r-', label='Validação loss')\n",
        "  plt.legend()\n",
        "  plt.title('Treinamento e Validação Loss')\n",
        "  plt.show()\n",
        "\n",
        "  print(\"\\n\")"
      ],
      "metadata": {
        "colab": {
          "base_uri": "https://localhost:8080/"
        },
        "id": "tCp08vPNeCju",
        "outputId": "4c36b6a6-399b-4d16-8088-028a5b480954"
      },
      "execution_count": 57,
      "outputs": [
        {
          "output_type": "stream",
          "name": "stdout",
          "text": [
            "time: 727 µs (started: 2024-01-15 19:55:37 +00:00)\n"
          ]
        }
      ]
    },
    {
      "cell_type": "code",
      "execution_count": 58,
      "metadata": {
        "colab": {
          "base_uri": "https://localhost:8080/"
        },
        "id": "wMwF5avo4hk8",
        "outputId": "3ba52ca6-fac5-4a1b-ca8f-ace419925de8"
      },
      "outputs": [
        {
          "output_type": "stream",
          "name": "stdout",
          "text": [
            "time: 833 µs (started: 2024-01-15 19:55:39 +00:00)\n"
          ]
        }
      ],
      "source": [
        "def metricas(modelo_metricas, epocas):\n",
        "\n",
        "  # Obter as previsões do modelo nos dados de teste\n",
        "  y_pred = modelo_metricas.predict(X_test)\n",
        "\n",
        "  # Converter as previsões em rótulos binários\n",
        "  y_pred_binary = (y_pred > 0.5).astype(int)\n",
        "\n",
        "  # Calcular as métricas de precisão, recall e F1 Score\n",
        "  classification_rep = classification_report(Y_test, y_pred_binary)\n",
        "  print(\"Classification Report:\\n\", classification_rep)\n",
        "\n",
        "\n",
        "  #Calcula a matriz de confusão\n",
        "  cm = confusion_matrix(Y_test, y_pred_binary)\n",
        "  # Display\n",
        "  plt.figure(figsize=(4, 4))\n",
        "\n",
        "  sns.heatmap(cm, annot=True, fmt='g', vmin=0, cmap='Reds', cbar=False)\n",
        "  plt.xticks(ticks=[0.5, 1.5], labels=[\"No Pollen\", \"Pollen\"])\n",
        "  plt.yticks(ticks=[0.5, 1.5], labels=[\"No Pollen\", \"Pollen\"])\n",
        "  plt.xlabel(\"Predicted\")\n",
        "  plt.ylabel(\"Actual\")\n",
        "  plt.title(\"Confusion Matrix \" + str(epocas) + \" épocas\")\n",
        "\n",
        "  plt.show()\n",
        "\n",
        "  print(\"\\n\")"
      ]
    },
    {
      "cell_type": "code",
      "source": [
        "shutil.rmtree(checkpoint_dir, ignore_errors=False, onerror=None)"
      ],
      "metadata": {
        "colab": {
          "base_uri": "https://localhost:8080/"
        },
        "id": "FXistSEkbyTt",
        "outputId": "fea80fdb-eb40-4a5e-dd86-6f0c4a8996b4"
      },
      "execution_count": 67,
      "outputs": [
        {
          "output_type": "stream",
          "name": "stdout",
          "text": [
            "time: 1.22 s (started: 2024-01-15 20:13:20 +00:00)\n"
          ]
        }
      ]
    },
    {
      "cell_type": "code",
      "source": [
        "epoca = 10\n",
        "for i in range(6):\n",
        "  cp = \"ResnetV2/cp-00\"+str(epoca)+\".ckpt\"\n",
        "  print(\"Avaliando modelo com checkpoint \" + cp + \" correspondente a época \" + str(epoca))\n",
        "  avaliacao_modelo = create_model()\n",
        "  # Load the previously saved weights\n",
        "  avaliacao_modelo.load_weights(cp)\n",
        "\n",
        "  # Re-evaluate the model\n",
        "  loss, acc = avaliacao_modelo.evaluate(X_test, Y_test)\n",
        "  print(\"Restored model, accuracy: \" + str(acc) )\n",
        "  print(\"Restored model, loss: \" + str(loss) + \"\\n\")\n",
        "\n",
        "  metricas(avaliacao_modelo, epoca)\n",
        "\n",
        "  epoca += 10"
      ],
      "metadata": {
        "colab": {
          "base_uri": "https://localhost:8080/",
          "height": 1000
        },
        "id": "Hcftf7YvhGSy",
        "outputId": "c362ebd4-d22c-4e7c-c9b0-34d2e26a538c"
      },
      "execution_count": 61,
      "outputs": [
        {
          "output_type": "stream",
          "name": "stdout",
          "text": [
            "Avaliando modelo com checkpoint ResnetV2/cp-0010.ckpt correspondente a época 10\n"
          ]
        },
        {
          "output_type": "stream",
          "name": "stderr",
          "text": [
            "WARNING:tensorflow:Detecting that an object or model or tf.train.Checkpoint is being deleted with unrestored values. See the following logs for the specific values in question. To silence these warnings, use `status.expect_partial()`. See https://www.tensorflow.org/api_docs/python/tf/train/Checkpoint#restorefor details about the status object returned by the restore function.\n",
            "WARNING:tensorflow:Value in checkpoint could not be found in the restored object: (root).optimizer._variables.1\n",
            "WARNING:tensorflow:Value in checkpoint could not be found in the restored object: (root).optimizer._variables.2\n",
            "WARNING:tensorflow:Value in checkpoint could not be found in the restored object: (root).optimizer._variables.3\n",
            "WARNING:tensorflow:Value in checkpoint could not be found in the restored object: (root).optimizer._variables.4\n",
            "WARNING:tensorflow:Value in checkpoint could not be found in the restored object: (root).optimizer._variables.5\n",
            "WARNING:tensorflow:Value in checkpoint could not be found in the restored object: (root).optimizer._variables.6\n",
            "WARNING:tensorflow:Value in checkpoint could not be found in the restored object: (root).optimizer._variables.7\n",
            "WARNING:tensorflow:Value in checkpoint could not be found in the restored object: (root).optimizer._variables.8\n",
            "WARNING:tensorflow:Value in checkpoint could not be found in the restored object: (root).optimizer._variables.9\n",
            "WARNING:tensorflow:Value in checkpoint could not be found in the restored object: (root).optimizer._variables.10\n",
            "WARNING:tensorflow:Value in checkpoint could not be found in the restored object: (root).optimizer._variables.11\n",
            "WARNING:tensorflow:Value in checkpoint could not be found in the restored object: (root).optimizer._variables.12\n",
            "WARNING:tensorflow:Value in checkpoint could not be found in the restored object: (root).optimizer._variables.13\n",
            "WARNING:tensorflow:Value in checkpoint could not be found in the restored object: (root).optimizer._variables.14\n",
            "WARNING:tensorflow:Value in checkpoint could not be found in the restored object: (root).optimizer._variables.15\n",
            "WARNING:tensorflow:Value in checkpoint could not be found in the restored object: (root).optimizer._variables.16\n",
            "WARNING:tensorflow:Value in checkpoint could not be found in the restored object: (root).optimizer._variables.17\n",
            "WARNING:tensorflow:Value in checkpoint could not be found in the restored object: (root).optimizer._variables.18\n",
            "WARNING:tensorflow:Value in checkpoint could not be found in the restored object: (root).optimizer._variables.19\n",
            "WARNING:tensorflow:Value in checkpoint could not be found in the restored object: (root).optimizer._variables.20\n",
            "WARNING:tensorflow:Value in checkpoint could not be found in the restored object: (root).optimizer._variables.21\n",
            "WARNING:tensorflow:Value in checkpoint could not be found in the restored object: (root).optimizer._variables.22\n"
          ]
        },
        {
          "output_type": "stream",
          "name": "stdout",
          "text": [
            "5/5 [==============================] - 4s 656ms/step - loss: 0.1070 - acc: 0.9580\n",
            "Restored model, accuracy: 0.9580419659614563\n",
            "Restored model, loss: 0.10701532661914825\n",
            "\n",
            "5/5 [==============================] - 2s 152ms/step\n",
            "Classification Report:\n",
            "               precision    recall  f1-score   support\n",
            "\n",
            "           0       0.92      1.00      0.96        67\n",
            "           1       1.00      0.92      0.96        76\n",
            "\n",
            "    accuracy                           0.96       143\n",
            "   macro avg       0.96      0.96      0.96       143\n",
            "weighted avg       0.96      0.96      0.96       143\n",
            "\n"
          ]
        },
        {
          "output_type": "display_data",
          "data": {
            "text/plain": [
              "<Figure size 400x400 with 1 Axes>"
            ],
            "image/png": "[encoded data removed]"
          },
          "metadata": {}
        },
        {
          "output_type": "stream",
          "name": "stdout",
          "text": [
            "\n",
            "\n",
            "Avaliando modelo com checkpoint ResnetV2/cp-0020.ckpt correspondente a época 20\n",
            "5/5 [==============================] - 2s 126ms/step - loss: 0.1099 - acc: 0.9580\n",
            "Restored model, accuracy: 0.9580419659614563\n",
            "Restored model, loss: 0.10988764464855194\n",
            "\n",
            "5/5 [==============================] - 1s 153ms/step\n",
            "Classification Report:\n",
            "               precision    recall  f1-score   support\n",
            "\n",
            "           0       0.94      0.97      0.96        67\n",
            "           1       0.97      0.95      0.96        76\n",
            "\n",
            "    accuracy                           0.96       143\n",
            "   macro avg       0.96      0.96      0.96       143\n",
            "weighted avg       0.96      0.96      0.96       143\n",
            "\n"
          ]
        },
        {
          "output_type": "display_data",
          "data": {
            "text/plain": [
              "<Figure size 400x400 with 1 Axes>"
            ],
            "image/png": "[encoded data removed]"
          },
          "metadata": {}
        },
        {
          "output_type": "stream",
          "name": "stdout",
          "text": [
            "\n",
            "\n",
            "Avaliando modelo com checkpoint ResnetV2/cp-0030.ckpt correspondente a época 30\n",
            "5/5 [==============================] - 3s 129ms/step - loss: 0.1208 - acc: 0.9510\n",
            "Restored model, accuracy: 0.9510489702224731\n",
            "Restored model, loss: 0.12078952044248581\n",
            "\n",
            "5/5 [==============================] - 1s 153ms/step\n",
            "Classification Report:\n",
            "               precision    recall  f1-score   support\n",
            "\n",
            "           0       0.98      0.91      0.95        67\n",
            "           1       0.93      0.99      0.96        76\n",
            "\n",
            "    accuracy                           0.95       143\n",
            "   macro avg       0.95      0.95      0.95       143\n",
            "weighted avg       0.95      0.95      0.95       143\n",
            "\n"
          ]
        },
        {
          "output_type": "display_data",
          "data": {
            "text/plain": [
              "<Figure size 400x400 with 1 Axes>"
            ],
            "image/png": "[encoded data removed]"
          },
          "metadata": {}
        },
        {
          "output_type": "stream",
          "name": "stdout",
          "text": [
            "\n",
            "\n",
            "Avaliando modelo com checkpoint ResnetV2/cp-0040.ckpt correspondente a época 40\n",
            "5/5 [==============================] - 2s 125ms/step - loss: 0.0970 - acc: 0.9790\n",
            "Restored model, accuracy: 0.9790209531784058\n",
            "Restored model, loss: 0.09701265394687653\n",
            "\n"
          ]
        },
        {
          "output_type": "stream",
          "name": "stderr",
          "text": [
            "WARNING:tensorflow:Detecting that an object or model or tf.train.Checkpoint is being deleted with unrestored values. See the following logs for the specific values in question. To silence these warnings, use `status.expect_partial()`. See https://www.tensorflow.org/api_docs/python/tf/train/Checkpoint#restorefor details about the status object returned by the restore function.\n",
            "WARNING:tensorflow:Value in checkpoint could not be found in the restored object: (root).optimizer._variables.1\n",
            "WARNING:tensorflow:Value in checkpoint could not be found in the restored object: (root).optimizer._variables.2\n",
            "WARNING:tensorflow:Value in checkpoint could not be found in the restored object: (root).optimizer._variables.3\n",
            "WARNING:tensorflow:Value in checkpoint could not be found in the restored object: (root).optimizer._variables.4\n",
            "WARNING:tensorflow:Value in checkpoint could not be found in the restored object: (root).optimizer._variables.5\n",
            "WARNING:tensorflow:Value in checkpoint could not be found in the restored object: (root).optimizer._variables.6\n",
            "WARNING:tensorflow:Value in checkpoint could not be found in the restored object: (root).optimizer._variables.7\n",
            "WARNING:tensorflow:Value in checkpoint could not be found in the restored object: (root).optimizer._variables.8\n",
            "WARNING:tensorflow:Value in checkpoint could not be found in the restored object: (root).optimizer._variables.9\n",
            "WARNING:tensorflow:Value in checkpoint could not be found in the restored object: (root).optimizer._variables.10\n",
            "WARNING:tensorflow:Value in checkpoint could not be found in the restored object: (root).optimizer._variables.11\n",
            "WARNING:tensorflow:Value in checkpoint could not be found in the restored object: (root).optimizer._variables.12\n",
            "WARNING:tensorflow:Value in checkpoint could not be found in the restored object: (root).optimizer._variables.13\n",
            "WARNING:tensorflow:Value in checkpoint could not be found in the restored object: (root).optimizer._variables.14\n",
            "WARNING:tensorflow:Value in checkpoint could not be found in the restored object: (root).optimizer._variables.15\n",
            "WARNING:tensorflow:Value in checkpoint could not be found in the restored object: (root).optimizer._variables.16\n",
            "WARNING:tensorflow:Value in checkpoint could not be found in the restored object: (root).optimizer._variables.17\n",
            "WARNING:tensorflow:Value in checkpoint could not be found in the restored object: (root).optimizer._variables.18\n",
            "WARNING:tensorflow:Value in checkpoint could not be found in the restored object: (root).optimizer._variables.19\n",
            "WARNING:tensorflow:Value in checkpoint could not be found in the restored object: (root).optimizer._variables.20\n",
            "WARNING:tensorflow:Value in checkpoint could not be found in the restored object: (root).optimizer._variables.21\n",
            "WARNING:tensorflow:Value in checkpoint could not be found in the restored object: (root).optimizer._variables.22\n",
            "WARNING:tensorflow:Value in checkpoint could not be found in the restored object: (root).optimizer._variables.23\n",
            "WARNING:tensorflow:Value in checkpoint could not be found in the restored object: (root).optimizer._variables.24\n",
            "WARNING:tensorflow:Detecting that an object or model or tf.train.Checkpoint is being deleted with unrestored values. See the following logs for the specific values in question. To silence these warnings, use `status.expect_partial()`. See https://www.tensorflow.org/api_docs/python/tf/train/Checkpoint#restorefor details about the status object returned by the restore function.\n",
            "WARNING:tensorflow:Value in checkpoint could not be found in the restored object: (root).optimizer._variables.1\n",
            "WARNING:tensorflow:Value in checkpoint could not be found in the restored object: (root).optimizer._variables.2\n",
            "WARNING:tensorflow:Value in checkpoint could not be found in the restored object: (root).optimizer._variables.3\n",
            "WARNING:tensorflow:Value in checkpoint could not be found in the restored object: (root).optimizer._variables.4\n",
            "WARNING:tensorflow:Value in checkpoint could not be found in the restored object: (root).optimizer._variables.5\n",
            "WARNING:tensorflow:Value in checkpoint could not be found in the restored object: (root).optimizer._variables.6\n",
            "WARNING:tensorflow:Value in checkpoint could not be found in the restored object: (root).optimizer._variables.7\n",
            "WARNING:tensorflow:Value in checkpoint could not be found in the restored object: (root).optimizer._variables.8\n",
            "WARNING:tensorflow:Value in checkpoint could not be found in the restored object: (root).optimizer._variables.9\n",
            "WARNING:tensorflow:Value in checkpoint could not be found in the restored object: (root).optimizer._variables.10\n",
            "WARNING:tensorflow:Value in checkpoint could not be found in the restored object: (root).optimizer._variables.11\n",
            "WARNING:tensorflow:Value in checkpoint could not be found in the restored object: (root).optimizer._variables.12\n",
            "WARNING:tensorflow:Value in checkpoint could not be found in the restored object: (root).optimizer._variables.13\n",
            "WARNING:tensorflow:Value in checkpoint could not be found in the restored object: (root).optimizer._variables.14\n",
            "WARNING:tensorflow:Value in checkpoint could not be found in the restored object: (root).optimizer._variables.15\n",
            "WARNING:tensorflow:Value in checkpoint could not be found in the restored object: (root).optimizer._variables.16\n",
            "WARNING:tensorflow:Value in checkpoint could not be found in the restored object: (root).optimizer._variables.17\n",
            "WARNING:tensorflow:Value in checkpoint could not be found in the restored object: (root).optimizer._variables.18\n",
            "WARNING:tensorflow:Value in checkpoint could not be found in the restored object: (root).optimizer._variables.19\n",
            "WARNING:tensorflow:Value in checkpoint could not be found in the restored object: (root).optimizer._variables.20\n",
            "WARNING:tensorflow:Value in checkpoint could not be found in the restored object: (root).optimizer._variables.21\n",
            "WARNING:tensorflow:Value in checkpoint could not be found in the restored object: (root).optimizer._variables.22\n",
            "WARNING:tensorflow:Value in checkpoint could not be found in the restored object: (root).optimizer._variables.23\n",
            "WARNING:tensorflow:Value in checkpoint could not be found in the restored object: (root).optimizer._variables.24\n",
            "WARNING:tensorflow:Detecting that an object or model or tf.train.Checkpoint is being deleted with unrestored values. See the following logs for the specific values in question. To silence these warnings, use `status.expect_partial()`. See https://www.tensorflow.org/api_docs/python/tf/train/Checkpoint#restorefor details about the status object returned by the restore function.\n",
            "WARNING:tensorflow:Value in checkpoint could not be found in the restored object: (root).optimizer._variables.1\n",
            "WARNING:tensorflow:Value in checkpoint could not be found in the restored object: (root).optimizer._variables.2\n",
            "WARNING:tensorflow:Value in checkpoint could not be found in the restored object: (root).optimizer._variables.3\n",
            "WARNING:tensorflow:Value in checkpoint could not be found in the restored object: (root).optimizer._variables.4\n",
            "WARNING:tensorflow:Value in checkpoint could not be found in the restored object: (root).optimizer._variables.5\n",
            "WARNING:tensorflow:Value in checkpoint could not be found in the restored object: (root).optimizer._variables.6\n",
            "WARNING:tensorflow:Value in checkpoint could not be found in the restored object: (root).optimizer._variables.7\n",
            "WARNING:tensorflow:Value in checkpoint could not be found in the restored object: (root).optimizer._variables.8\n",
            "WARNING:tensorflow:Value in checkpoint could not be found in the restored object: (root).optimizer._variables.9\n",
            "WARNING:tensorflow:Value in checkpoint could not be found in the restored object: (root).optimizer._variables.10\n",
            "WARNING:tensorflow:Value in checkpoint could not be found in the restored object: (root).optimizer._variables.11\n",
            "WARNING:tensorflow:Value in checkpoint could not be found in the restored object: (root).optimizer._variables.12\n",
            "WARNING:tensorflow:Value in checkpoint could not be found in the restored object: (root).optimizer._variables.13\n",
            "WARNING:tensorflow:Value in checkpoint could not be found in the restored object: (root).optimizer._variables.14\n",
            "WARNING:tensorflow:Value in checkpoint could not be found in the restored object: (root).optimizer._variables.15\n",
            "WARNING:tensorflow:Value in checkpoint could not be found in the restored object: (root).optimizer._variables.16\n",
            "WARNING:tensorflow:Value in checkpoint could not be found in the restored object: (root).optimizer._variables.17\n",
            "WARNING:tensorflow:Value in checkpoint could not be found in the restored object: (root).optimizer._variables.18\n",
            "WARNING:tensorflow:Value in checkpoint could not be found in the restored object: (root).optimizer._variables.19\n",
            "WARNING:tensorflow:Value in checkpoint could not be found in the restored object: (root).optimizer._variables.20\n",
            "WARNING:tensorflow:Value in checkpoint could not be found in the restored object: (root).optimizer._variables.21\n",
            "WARNING:tensorflow:Value in checkpoint could not be found in the restored object: (root).optimizer._variables.22\n",
            "WARNING:tensorflow:Value in checkpoint could not be found in the restored object: (root).optimizer._variables.23\n",
            "WARNING:tensorflow:Value in checkpoint could not be found in the restored object: (root).optimizer._variables.24\n"
          ]
        },
        {
          "output_type": "stream",
          "name": "stdout",
          "text": [
            "5/5 [==============================] - 2s 148ms/step\n",
            "Classification Report:\n",
            "               precision    recall  f1-score   support\n",
            "\n",
            "           0       1.00      0.96      0.98        67\n",
            "           1       0.96      1.00      0.98        76\n",
            "\n",
            "    accuracy                           0.98       143\n",
            "   macro avg       0.98      0.98      0.98       143\n",
            "weighted avg       0.98      0.98      0.98       143\n",
            "\n"
          ]
        },
        {
          "output_type": "display_data",
          "data": {
            "text/plain": [
              "<Figure size 400x400 with 1 Axes>"
            ],
            "image/png": "[encoded data removed]"
          },
          "metadata": {}
        },
        {
          "output_type": "stream",
          "name": "stdout",
          "text": [
            "\n",
            "\n",
            "Avaliando modelo com checkpoint ResnetV2/cp-0050.ckpt correspondente a época 50\n",
            "5/5 [==============================] - 2s 131ms/step - loss: 0.0637 - acc: 0.9790\n",
            "Restored model, accuracy: 0.9790209531784058\n",
            "Restored model, loss: 0.06367568671703339\n",
            "\n",
            "5/5 [==============================] - 1s 136ms/step\n",
            "Classification Report:\n",
            "               precision    recall  f1-score   support\n",
            "\n",
            "           0       0.97      0.99      0.98        67\n",
            "           1       0.99      0.97      0.98        76\n",
            "\n",
            "    accuracy                           0.98       143\n",
            "   macro avg       0.98      0.98      0.98       143\n",
            "weighted avg       0.98      0.98      0.98       143\n",
            "\n"
          ]
        },
        {
          "output_type": "display_data",
          "data": {
            "text/plain": [
              "<Figure size 400x400 with 1 Axes>"
            ],
            "image/png": "[encoded data removed]"
          },
          "metadata": {}
        },
        {
          "output_type": "stream",
          "name": "stdout",
          "text": [
            "\n",
            "\n",
            "Avaliando modelo com checkpoint ResnetV2/cp-0060.ckpt correspondente a época 60\n",
            "5/5 [==============================] - 2s 132ms/step - loss: 0.0780 - acc: 0.9650\n",
            "Restored model, accuracy: 0.9650349617004395\n",
            "Restored model, loss: 0.07796534150838852\n",
            "\n",
            "5/5 [==============================] - 2s 147ms/step\n",
            "Classification Report:\n",
            "               precision    recall  f1-score   support\n",
            "\n",
            "           0       1.00      0.93      0.96        67\n",
            "           1       0.94      1.00      0.97        76\n",
            "\n",
            "    accuracy                           0.97       143\n",
            "   macro avg       0.97      0.96      0.96       143\n",
            "weighted avg       0.97      0.97      0.96       143\n",
            "\n"
          ]
        },
        {
          "output_type": "display_data",
          "data": {
            "text/plain": [
              "<Figure size 400x400 with 1 Axes>"
            ],
            "image/png": "[encoded data removed]"
          },
          "metadata": {}
        },
        {
          "output_type": "stream",
          "name": "stdout",
          "text": [
            "\n",
            "\n",
            "time: 53.8 s (started: 2024-01-15 19:56:44 +00:00)\n"
          ]
        }
      ]
    },
    {
      "cell_type": "code",
      "source": [
        "imprime_graficos(history)"
      ],
      "metadata": {
        "id": "F3ZtmSa1jk2b",
        "colab": {
          "base_uri": "https://localhost:8080/",
          "height": 939
        },
        "outputId": "df80f9a8-a536-4c90-858e-087caba02685"
      },
      "execution_count": 62,
      "outputs": [
        {
          "output_type": "display_data",
          "data": {
            "text/plain": [
              "<Figure size 640x480 with 1 Axes>"
            ],
            "image/png": "[encoded data removed]"
          },
          "metadata": {}
        },
        {
          "output_type": "display_data",
          "data": {
            "text/plain": [
              "<Figure size 640x480 with 1 Axes>"
            ],
            "image/png": "[encoded data removed]"
          },
          "metadata": {}
        },
        {
          "output_type": "stream",
          "name": "stdout",
          "text": [
            "\n",
            "\n",
            "time: 748 ms (started: 2024-01-15 19:57:49 +00:00)\n"
          ]
        }
      ]
    }
  ],
  "metadata": {
    "accelerator": "GPU",
    "colab": {
      "gpuType": "T4",
      "provenance": []
    },
    "kernelspec": {
      "display_name": "Python 3 (ipykernel)",
      "language": "python",
      "name": "python3"
    },
    "language_info": {
      "codemirror_mode": {
        "name": "ipython",
        "version": 3
      },
      "file_extension": ".py",
      "mimetype": "text/x-python",
      "name": "python",
      "nbconvert_exporter": "python",
      "pygments_lexer": "ipython3",
      "version": "3.9.7"
    }
  },
  "nbformat": 4,
  "nbformat_minor": 0
}