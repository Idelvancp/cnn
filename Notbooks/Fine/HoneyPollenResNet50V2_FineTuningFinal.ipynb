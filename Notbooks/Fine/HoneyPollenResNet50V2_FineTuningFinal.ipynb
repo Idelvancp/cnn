{
  "cells": [
    {
      "cell_type": "code",
      "execution_count": 1,
      "metadata": {
        "colab": {
          "base_uri": "https://localhost:8080/"
        },
        "id": "CuDGoysGdUml",
        "outputId": "2d72d31c-cd45-49b6-8499-f61cd0d0a31a"
      },
      "outputs": [
        {
          "output_type": "stream",
          "name": "stdout",
          "text": [
            "Mounted at /content/drive\n"
          ]
        }
      ],
      "source": [
        "from google.colab import drive\n",
        "drive.mount('/content/drive')"
      ]
    },
    {
      "cell_type": "code",
      "execution_count": 2,
      "metadata": {
        "colab": {
          "base_uri": "https://localhost:8080/"
        },
        "id": "uzCkIRFpWPWO",
        "outputId": "1f613e5f-0aa0-4ca0-827f-9f47befbd34a"
      },
      "outputs": [
        {
          "output_type": "stream",
          "name": "stdout",
          "text": [
            "Collecting ipython-autotime\n",
            "  Downloading ipython_autotime-0.3.2-py2.py3-none-any.whl (7.0 kB)\n",
            "Requirement already satisfied: ipython in /usr/local/lib/python3.10/dist-packages (from ipython-autotime) (7.34.0)\n",
            "Requirement already satisfied: setuptools>=18.5 in /usr/local/lib/python3.10/dist-packages (from ipython->ipython-autotime) (67.7.2)\n",
            "Collecting jedi>=0.16 (from ipython->ipython-autotime)\n",
            "  Downloading jedi-0.19.1-py2.py3-none-any.whl (1.6 MB)\n",
            "\u001b[2K     \u001b[90m━━━━━━━━━━━━━━━━━━━━━━━━━━━━━━━━━━━━━━━━\u001b[0m \u001b[32m1.6/1.6 MB\u001b[0m \u001b[31m10.4 MB/s\u001b[0m eta \u001b[36m0:00:00\u001b[0m\n",
            "\u001b[?25hRequirement already satisfied: decorator in /usr/local/lib/python3.10/dist-packages (from ipython->ipython-autotime) (4.4.2)\n",
            "Requirement already satisfied: pickleshare in /usr/local/lib/python3.10/dist-packages (from ipython->ipython-autotime) (0.7.5)\n",
            "Requirement already satisfied: traitlets>=4.2 in /usr/local/lib/python3.10/dist-packages (from ipython->ipython-autotime) (5.7.1)\n",
            "Requirement already satisfied: prompt-toolkit!=3.0.0,!=3.0.1,<3.1.0,>=2.0.0 in /usr/local/lib/python3.10/dist-packages (from ipython->ipython-autotime) (3.0.43)\n",
            "Requirement already satisfied: pygments in /usr/local/lib/python3.10/dist-packages (from ipython->ipython-autotime) (2.16.1)\n",
            "Requirement already satisfied: backcall in /usr/local/lib/python3.10/dist-packages (from ipython->ipython-autotime) (0.2.0)\n",
            "Requirement already satisfied: matplotlib-inline in /usr/local/lib/python3.10/dist-packages (from ipython->ipython-autotime) (0.1.6)\n",
            "Requirement already satisfied: pexpect>4.3 in /usr/local/lib/python3.10/dist-packages (from ipython->ipython-autotime) (4.9.0)\n",
            "Requirement already satisfied: parso<0.9.0,>=0.8.3 in /usr/local/lib/python3.10/dist-packages (from jedi>=0.16->ipython->ipython-autotime) (0.8.3)\n",
            "Requirement already satisfied: ptyprocess>=0.5 in /usr/local/lib/python3.10/dist-packages (from pexpect>4.3->ipython->ipython-autotime) (0.7.0)\n",
            "Requirement already satisfied: wcwidth in /usr/local/lib/python3.10/dist-packages (from prompt-toolkit!=3.0.0,!=3.0.1,<3.1.0,>=2.0.0->ipython->ipython-autotime) (0.2.12)\n",
            "Installing collected packages: jedi, ipython-autotime\n",
            "Successfully installed ipython-autotime-0.3.2 jedi-0.19.1\n",
            "time: 328 µs (started: 2024-01-15 18:09:50 +00:00)\n"
          ]
        }
      ],
      "source": [
        "!pip install ipython-autotime\n",
        "%load_ext autotime"
      ]
    },
    {
      "cell_type": "code",
      "execution_count": 3,
      "metadata": {
        "colab": {
          "base_uri": "https://localhost:8080/"
        },
        "id": "w5ybUAh8Kz_i",
        "outputId": "853b9884-d05b-4c07-aa66-75789d35b6ad"
      },
      "outputs": [
        {
          "output_type": "stream",
          "name": "stdout",
          "text": [
            "time: 1.1 s (started: 2024-01-15 18:09:54 +00:00)\n"
          ]
        }
      ],
      "source": [
        "import glob, os\n",
        "import random\n",
        "import shutil\n",
        "import seaborn as sns\n",
        "import numpy as np\n",
        "import matplotlib.pyplot as plt\n",
        "from skimage import io, transform\n",
        "from keras.optimizers import Adam\n",
        "import tensorflow as tf\n",
        "from tensorflow.keras.applications import ResNet50V2\n",
        "from tensorflow.keras.preprocessing import image\n",
        "from tensorflow.keras.applications.vgg16 import preprocess_input, decode_predictions\n",
        "from tensorflow.keras import layers, models\n",
        "from tensorflow.keras.optimizers import Adam\n",
        "from tensorflow.keras.preprocessing.image import ImageDataGenerator\n",
        "from sklearn.model_selection import train_test_split\n",
        "from sklearn.metrics import classification_report, confusion_matrix\n",
        "path=\"drive/MyDrive/imagensOriginais/\"\n",
        "imagens_originais= glob.glob(os.path.join(path, '*.jpg'))"
      ]
    },
    {
      "cell_type": "code",
      "execution_count": 4,
      "metadata": {
        "colab": {
          "base_uri": "https://localhost:8080/"
        },
        "id": "D_P0Y8aSQmY0",
        "outputId": "a7d1abf9-8037-494a-c950-973cbed4bda8"
      },
      "outputs": [
        {
          "output_type": "stream",
          "name": "stdout",
          "text": [
            "time: 887 µs (started: 2024-01-15 18:09:58 +00:00)\n"
          ]
        }
      ],
      "source": [
        "def dataset(file_list,size=(224,224)):\n",
        "\timagens = []\n",
        "\tfor i, file in enumerate(imagens_originais):\n",
        "\t\timagem = io.imread(file)\n",
        "\t\timagem = transform.resize(imagem, size, mode='constant')\n",
        "\t\timagens.append(imagem)\n",
        "\n",
        "\tlabels = [1 if f.split(\"/\")[-1][0] == 'P' else 0 for f in file_list]\n",
        "\n",
        "\treturn np.array(imagens), np.array(labels)"
      ]
    },
    {
      "cell_type": "code",
      "execution_count": 5,
      "metadata": {
        "colab": {
          "base_uri": "https://localhost:8080/"
        },
        "id": "oBFas_yNtlRq",
        "outputId": "9a60a8a0-5939-4ff4-d7e6-e4805d5c2786"
      },
      "outputs": [
        {
          "output_type": "stream",
          "name": "stdout",
          "text": [
            "time: 40.1 s (started: 2024-01-15 18:10:02 +00:00)\n"
          ]
        }
      ],
      "source": [
        "imagens,labels=dataset(imagens_originais)"
      ]
    },
    {
      "cell_type": "code",
      "execution_count": 6,
      "metadata": {
        "colab": {
          "base_uri": "https://localhost:8080/"
        },
        "id": "r3jaMrN98gJG",
        "outputId": "f2123328-da12-42a2-af7f-02701da1d70a"
      },
      "outputs": [
        {
          "output_type": "stream",
          "name": "stdout",
          "text": [
            "time: 463 ms (started: 2024-01-15 18:10:42 +00:00)\n"
          ]
        }
      ],
      "source": [
        "X_train, X_test, Y_train, Y_test = train_test_split(imagens, labels, test_size = 0.20, random_state = 40)\n",
        "X_train, X_validation, Y_train, Y_validation = train_test_split(X_train, Y_train, test_size = 0.15, random_state = 40)"
      ]
    },
    {
      "cell_type": "code",
      "execution_count": 7,
      "metadata": {
        "colab": {
          "base_uri": "https://localhost:8080/"
        },
        "id": "ssK5d-oMoYuA",
        "outputId": "1af529d8-0618-4d17-fb51-24f6a5dde922"
      },
      "outputs": [
        {
          "output_type": "stream",
          "name": "stdout",
          "text": [
            "time: 488 µs (started: 2024-01-15 18:10:42 +00:00)\n"
          ]
        }
      ],
      "source": [
        "EPOCHS = 60\n",
        "BATCH_SIZE = 16"
      ]
    },
    {
      "cell_type": "code",
      "execution_count": 8,
      "metadata": {
        "colab": {
          "base_uri": "https://localhost:8080/"
        },
        "id": "Xe-AAVWxocAQ",
        "outputId": "611444f3-173a-4e8a-df47-2d4ca2b59cb7"
      },
      "outputs": [
        {
          "output_type": "stream",
          "name": "stdout",
          "text": [
            "time: 137 ms (started: 2024-01-15 18:10:42 +00:00)\n"
          ]
        }
      ],
      "source": [
        "train_generator = ImageDataGenerator(\n",
        "                                      shear_range=30,\n",
        "                                      rotation_range=20,\n",
        "                                      horizontal_flip=True,\n",
        "                                      vertical_flip=True,\n",
        "                                  ).flow(X_train, Y_train, batch_size=BATCH_SIZE)\n",
        "validation_generator = ImageDataGenerator(\n",
        "                                      shear_range=30,\n",
        "                                      rotation_range=20,\n",
        "                                      horizontal_flip=True,\n",
        "                                      vertical_flip=True,\n",
        "                                  ).flow(X_validation, Y_validation, batch_size=BATCH_SIZE)"
      ]
    },
    {
      "cell_type": "code",
      "execution_count": 9,
      "metadata": {
        "colab": {
          "base_uri": "https://localhost:8080/"
        },
        "id": "0kKbNBfc91em",
        "outputId": "5eb13123-acc6-4b2f-86b3-7648f8e841c6"
      },
      "outputs": [
        {
          "output_type": "stream",
          "name": "stdout",
          "text": [
            "time: 1.01 ms (started: 2024-01-15 18:10:53 +00:00)\n"
          ]
        }
      ],
      "source": [
        "def create_model():\n",
        "  base_model = ResNet50V2(weights='imagenet', include_top=False, input_shape=(224, 224, 3))\n",
        "\n",
        "  # Congela todas as camadas\n",
        "  for layer in base_model.layers:\n",
        "    layer.trainable = False\n",
        "\n",
        "  # Descongela as sete últimas camadas convolucionais\n",
        "  for layer in base_model.layers[-7:]:\n",
        "    layer.trainable = True\n",
        "\n",
        "  x = base_model.output\n",
        "  x = layers.Flatten()(x)\n",
        "  x = layers.Dense(256, activation='relu')(x)\n",
        "  x = layers.Dropout(0.5)(x)\n",
        "  predictions = layers.Dense(1, activation='sigmoid')(x)\n",
        "\n",
        "  model = models.Model(inputs=base_model.input, outputs=predictions)\n",
        "\n",
        "  model.compile(optimizer=Adam(learning_rate=0.0001), loss='binary_crossentropy', metrics=['acc'])\n",
        "\n",
        "  return model"
      ]
    },
    {
      "cell_type": "code",
      "source": [
        "# Include the epoch in the file name (uses `str.format`)\n",
        "checkpoint_path = \"ResnetV2/cp-{epoch:04d}.ckpt\"\n",
        "checkpoint_dir = os.path.dirname(checkpoint_path)"
      ],
      "metadata": {
        "colab": {
          "base_uri": "https://localhost:8080/"
        },
        "id": "-ecRsdq_C7gd",
        "outputId": "9e18f4e3-9fd9-422d-ac59-83b4f646026f"
      },
      "execution_count": 10,
      "outputs": [
        {
          "output_type": "stream",
          "name": "stdout",
          "text": [
            "time: 505 µs (started: 2024-01-15 18:11:15 +00:00)\n"
          ]
        }
      ]
    },
    {
      "cell_type": "code",
      "source": [
        "# Create a callback that saves the model's weights every 5 epochs\n",
        "cp_callback = tf.keras.callbacks.ModelCheckpoint(\n",
        "    filepath=checkpoint_path,\n",
        "    verbose=1,\n",
        "    save_weights_only=True,\n",
        "    save_freq=\"epoch\")"
      ],
      "metadata": {
        "colab": {
          "base_uri": "https://localhost:8080/"
        },
        "id": "g4IH7TDOHFUL",
        "outputId": "119248d5-89b1-45c3-c5cd-8cfe08839c5a"
      },
      "execution_count": 11,
      "outputs": [
        {
          "output_type": "stream",
          "name": "stdout",
          "text": [
            "time: 759 µs (started: 2024-01-15 18:11:23 +00:00)\n"
          ]
        }
      ]
    },
    {
      "cell_type": "code",
      "source": [
        "model = create_model()\n",
        "# Save the weights using the `checkpoint_path` format\n",
        "model.save_weights(checkpoint_path.format(epoch=0))"
      ],
      "metadata": {
        "colab": {
          "base_uri": "https://localhost:8080/"
        },
        "id": "Cnh8Vo-BJSxg",
        "outputId": "e180e0fa-0a30-430b-d398-bc91941911c5"
      },
      "execution_count": 12,
      "outputs": [
        {
          "output_type": "stream",
          "name": "stdout",
          "text": [
            "Downloading data from https://storage.googleapis.com/tensorflow/keras-applications/resnet/resnet50v2_weights_tf_dim_ordering_tf_kernels_notop.h5\n",
            "94668760/94668760 [==============================] - 0s 0us/step\n",
            "time: 4.36 s (started: 2024-01-15 18:11:26 +00:00)\n"
          ]
        }
      ]
    },
    {
      "cell_type": "code",
      "source": [
        "steps_per_epoch = X_train.shape[0]//BATCH_SIZE\n",
        "validation_steps = X_validation.shape[0]//BATCH_SIZE"
      ],
      "metadata": {
        "colab": {
          "base_uri": "https://localhost:8080/"
        },
        "id": "W1fZD5LSIX41",
        "outputId": "7cfbb4e3-077b-479a-fd96-7ccca01392a0"
      },
      "execution_count": 13,
      "outputs": [
        {
          "output_type": "stream",
          "name": "stdout",
          "text": [
            "time: 639 µs (started: 2024-01-15 18:11:35 +00:00)\n"
          ]
        }
      ]
    },
    {
      "cell_type": "code",
      "source": [
        "history = model.fit(train_generator,\n",
        "                   steps_per_epoch=steps_per_epoch,\n",
        "                   epochs=EPOCHS,\n",
        "                   callbacks=[cp_callback],\n",
        "                   validation_data=validation_generator,\n",
        "                   validation_steps=validation_steps,\n",
        "                   shuffle=True,\n",
        "                   verbose=2)"
      ],
      "metadata": {
        "colab": {
          "base_uri": "https://localhost:8080/"
        },
        "id": "oi9E2JsQIZTO",
        "outputId": "fb3d07a2-aca9-4b98-e070-82cfff193c09"
      },
      "execution_count": 14,
      "outputs": [
        {
          "output_type": "stream",
          "name": "stdout",
          "text": [
            "Epoch 1/60\n",
            "\n",
            "Epoch 1: saving model to ResnetV2/cp-0001.ckpt\n",
            "30/30 - 26s - loss: 0.8901 - acc: 0.7228 - val_loss: 0.4175 - val_acc: 0.8625 - 26s/epoch - 883ms/step\n",
            "Epoch 2/60\n",
            "\n",
            "Epoch 2: saving model to ResnetV2/cp-0002.ckpt\n",
            "30/30 - 12s - loss: 0.5861 - acc: 0.8081 - val_loss: 0.5407 - val_acc: 0.8000 - 12s/epoch - 388ms/step\n",
            "Epoch 3/60\n",
            "\n",
            "Epoch 3: saving model to ResnetV2/cp-0003.ckpt\n",
            "30/30 - 10s - loss: 0.3028 - acc: 0.8742 - val_loss: 0.1890 - val_acc: 0.9375 - 10s/epoch - 331ms/step\n",
            "Epoch 4/60\n",
            "\n",
            "Epoch 4: saving model to ResnetV2/cp-0004.ckpt\n",
            "30/30 - 9s - loss: 0.3565 - acc: 0.8742 - val_loss: 0.2228 - val_acc: 0.9125 - 9s/epoch - 292ms/step\n",
            "Epoch 5/60\n",
            "\n",
            "Epoch 5: saving model to ResnetV2/cp-0005.ckpt\n",
            "30/30 - 10s - loss: 0.3045 - acc: 0.8806 - val_loss: 0.3780 - val_acc: 0.8500 - 10s/epoch - 346ms/step\n",
            "Epoch 6/60\n",
            "\n",
            "Epoch 6: saving model to ResnetV2/cp-0006.ckpt\n",
            "30/30 - 8s - loss: 0.2239 - acc: 0.9211 - val_loss: 0.2108 - val_acc: 0.9250 - 8s/epoch - 276ms/step\n",
            "Epoch 7/60\n",
            "\n",
            "Epoch 7: saving model to ResnetV2/cp-0007.ckpt\n",
            "30/30 - 10s - loss: 0.2698 - acc: 0.8891 - val_loss: 0.3162 - val_acc: 0.8375 - 10s/epoch - 334ms/step\n",
            "Epoch 8/60\n",
            "\n",
            "Epoch 8: saving model to ResnetV2/cp-0008.ckpt\n",
            "30/30 - 10s - loss: 0.1544 - acc: 0.9339 - val_loss: 0.2161 - val_acc: 0.9250 - 10s/epoch - 321ms/step\n",
            "Epoch 9/60\n",
            "\n",
            "Epoch 9: saving model to ResnetV2/cp-0009.ckpt\n",
            "30/30 - 8s - loss: 0.2103 - acc: 0.9126 - val_loss: 0.2530 - val_acc: 0.8750 - 8s/epoch - 280ms/step\n",
            "Epoch 10/60\n",
            "\n",
            "Epoch 10: saving model to ResnetV2/cp-0010.ckpt\n",
            "30/30 - 11s - loss: 0.1689 - acc: 0.9190 - val_loss: 0.3194 - val_acc: 0.8750 - 11s/epoch - 352ms/step\n",
            "Epoch 11/60\n",
            "\n",
            "Epoch 11: saving model to ResnetV2/cp-0011.ckpt\n",
            "30/30 - 10s - loss: 0.1652 - acc: 0.9318 - val_loss: 0.2539 - val_acc: 0.9000 - 10s/epoch - 321ms/step\n",
            "Epoch 12/60\n",
            "\n",
            "Epoch 12: saving model to ResnetV2/cp-0012.ckpt\n",
            "30/30 - 9s - loss: 0.1992 - acc: 0.9318 - val_loss: 0.3164 - val_acc: 0.8875 - 9s/epoch - 295ms/step\n",
            "Epoch 13/60\n",
            "\n",
            "Epoch 13: saving model to ResnetV2/cp-0013.ckpt\n",
            "30/30 - 11s - loss: 0.2200 - acc: 0.9019 - val_loss: 0.2799 - val_acc: 0.8750 - 11s/epoch - 355ms/step\n",
            "Epoch 14/60\n",
            "\n",
            "Epoch 14: saving model to ResnetV2/cp-0014.ckpt\n",
            "30/30 - 8s - loss: 0.2000 - acc: 0.9360 - val_loss: 0.4565 - val_acc: 0.8750 - 8s/epoch - 280ms/step\n",
            "Epoch 15/60\n",
            "\n",
            "Epoch 15: saving model to ResnetV2/cp-0015.ckpt\n",
            "30/30 - 11s - loss: 0.1500 - acc: 0.9360 - val_loss: 0.4631 - val_acc: 0.8750 - 11s/epoch - 359ms/step\n",
            "Epoch 16/60\n",
            "\n",
            "Epoch 16: saving model to ResnetV2/cp-0016.ckpt\n",
            "30/30 - 10s - loss: 0.1249 - acc: 0.9531 - val_loss: 0.3155 - val_acc: 0.8500 - 10s/epoch - 321ms/step\n",
            "Epoch 17/60\n",
            "\n",
            "Epoch 17: saving model to ResnetV2/cp-0017.ckpt\n",
            "30/30 - 8s - loss: 0.1177 - acc: 0.9552 - val_loss: 0.1536 - val_acc: 0.9500 - 8s/epoch - 271ms/step\n",
            "Epoch 18/60\n",
            "\n",
            "Epoch 18: saving model to ResnetV2/cp-0018.ckpt\n",
            "30/30 - 11s - loss: 0.1982 - acc: 0.9424 - val_loss: 0.2164 - val_acc: 0.9125 - 11s/epoch - 351ms/step\n",
            "Epoch 19/60\n",
            "\n",
            "Epoch 19: saving model to ResnetV2/cp-0019.ckpt\n",
            "30/30 - 10s - loss: 0.1580 - acc: 0.9360 - val_loss: 0.1486 - val_acc: 0.9500 - 10s/epoch - 325ms/step\n",
            "Epoch 20/60\n",
            "\n",
            "Epoch 20: saving model to ResnetV2/cp-0020.ckpt\n",
            "30/30 - 8s - loss: 0.1362 - acc: 0.9488 - val_loss: 0.2376 - val_acc: 0.9125 - 8s/epoch - 279ms/step\n",
            "Epoch 21/60\n",
            "\n",
            "Epoch 21: saving model to ResnetV2/cp-0021.ckpt\n",
            "30/30 - 11s - loss: 0.0865 - acc: 0.9583 - val_loss: 0.2678 - val_acc: 0.9250 - 11s/epoch - 356ms/step\n",
            "Epoch 22/60\n",
            "\n",
            "Epoch 22: saving model to ResnetV2/cp-0022.ckpt\n",
            "30/30 - 8s - loss: 0.1236 - acc: 0.9552 - val_loss: 0.2820 - val_acc: 0.9250 - 8s/epoch - 279ms/step\n",
            "Epoch 23/60\n",
            "\n",
            "Epoch 23: saving model to ResnetV2/cp-0023.ckpt\n",
            "30/30 - 9s - loss: 0.1108 - acc: 0.9467 - val_loss: 0.1660 - val_acc: 0.9125 - 9s/epoch - 315ms/step\n",
            "Epoch 24/60\n",
            "\n",
            "Epoch 24: saving model to ResnetV2/cp-0024.ckpt\n",
            "30/30 - 10s - loss: 0.1131 - acc: 0.9638 - val_loss: 0.2745 - val_acc: 0.9125 - 10s/epoch - 348ms/step\n",
            "Epoch 25/60\n",
            "\n",
            "Epoch 25: saving model to ResnetV2/cp-0025.ckpt\n",
            "30/30 - 8s - loss: 0.0765 - acc: 0.9680 - val_loss: 0.1839 - val_acc: 0.9250 - 8s/epoch - 282ms/step\n",
            "Epoch 26/60\n",
            "\n",
            "Epoch 26: saving model to ResnetV2/cp-0026.ckpt\n",
            "30/30 - 10s - loss: 0.0818 - acc: 0.9616 - val_loss: 0.1038 - val_acc: 0.9625 - 10s/epoch - 340ms/step\n",
            "Epoch 27/60\n",
            "\n",
            "Epoch 27: saving model to ResnetV2/cp-0027.ckpt\n",
            "30/30 - 11s - loss: 0.0655 - acc: 0.9680 - val_loss: 0.2524 - val_acc: 0.9375 - 11s/epoch - 360ms/step\n",
            "Epoch 28/60\n",
            "\n",
            "Epoch 28: saving model to ResnetV2/cp-0028.ckpt\n",
            "30/30 - 9s - loss: 0.0918 - acc: 0.9659 - val_loss: 0.2214 - val_acc: 0.9125 - 9s/epoch - 304ms/step\n",
            "Epoch 29/60\n",
            "\n",
            "Epoch 29: saving model to ResnetV2/cp-0029.ckpt\n",
            "30/30 - 10s - loss: 0.0712 - acc: 0.9680 - val_loss: 0.3019 - val_acc: 0.9250 - 10s/epoch - 347ms/step\n",
            "Epoch 30/60\n",
            "\n",
            "Epoch 30: saving model to ResnetV2/cp-0030.ckpt\n",
            "30/30 - 8s - loss: 0.0856 - acc: 0.9701 - val_loss: 0.2467 - val_acc: 0.9625 - 8s/epoch - 271ms/step\n",
            "Epoch 31/60\n",
            "\n",
            "Epoch 31: saving model to ResnetV2/cp-0031.ckpt\n",
            "30/30 - 9s - loss: 0.0638 - acc: 0.9829 - val_loss: 0.3171 - val_acc: 0.9375 - 9s/epoch - 288ms/step\n",
            "Epoch 32/60\n",
            "\n",
            "Epoch 32: saving model to ResnetV2/cp-0032.ckpt\n",
            "30/30 - 12s - loss: 0.0976 - acc: 0.9595 - val_loss: 0.3549 - val_acc: 0.9250 - 12s/epoch - 384ms/step\n",
            "Epoch 33/60\n",
            "\n",
            "Epoch 33: saving model to ResnetV2/cp-0033.ckpt\n",
            "30/30 - 9s - loss: 0.0843 - acc: 0.9659 - val_loss: 0.1204 - val_acc: 0.9500 - 9s/epoch - 285ms/step\n",
            "Epoch 34/60\n",
            "\n",
            "Epoch 34: saving model to ResnetV2/cp-0034.ckpt\n",
            "30/30 - 10s - loss: 0.0704 - acc: 0.9701 - val_loss: 0.1877 - val_acc: 0.9125 - 10s/epoch - 319ms/step\n",
            "Epoch 35/60\n",
            "\n",
            "Epoch 35: saving model to ResnetV2/cp-0035.ckpt\n",
            "30/30 - 11s - loss: 0.0967 - acc: 0.9680 - val_loss: 0.4304 - val_acc: 0.8875 - 11s/epoch - 350ms/step\n",
            "Epoch 36/60\n",
            "\n",
            "Epoch 36: saving model to ResnetV2/cp-0036.ckpt\n",
            "30/30 - 8s - loss: 0.0662 - acc: 0.9744 - val_loss: 0.3343 - val_acc: 0.9000 - 8s/epoch - 275ms/step\n",
            "Epoch 37/60\n",
            "\n",
            "Epoch 37: saving model to ResnetV2/cp-0037.ckpt\n",
            "30/30 - 9s - loss: 0.0531 - acc: 0.9829 - val_loss: 0.1598 - val_acc: 0.9500 - 9s/epoch - 294ms/step\n",
            "Epoch 38/60\n",
            "\n",
            "Epoch 38: saving model to ResnetV2/cp-0038.ckpt\n",
            "30/30 - 11s - loss: 0.0965 - acc: 0.9659 - val_loss: 0.2689 - val_acc: 0.9125 - 11s/epoch - 369ms/step\n",
            "Epoch 39/60\n",
            "\n",
            "Epoch 39: saving model to ResnetV2/cp-0039.ckpt\n",
            "30/30 - 10s - loss: 0.0789 - acc: 0.9744 - val_loss: 0.1313 - val_acc: 0.9500 - 10s/epoch - 330ms/step\n",
            "Epoch 40/60\n",
            "\n",
            "Epoch 40: saving model to ResnetV2/cp-0040.ckpt\n",
            "30/30 - 8s - loss: 0.0733 - acc: 0.9744 - val_loss: 0.1186 - val_acc: 0.9750 - 8s/epoch - 272ms/step\n",
            "Epoch 41/60\n",
            "\n",
            "Epoch 41: saving model to ResnetV2/cp-0041.ckpt\n",
            "30/30 - 10s - loss: 0.0659 - acc: 0.9680 - val_loss: 0.2623 - val_acc: 0.9375 - 10s/epoch - 350ms/step\n",
            "Epoch 42/60\n",
            "\n",
            "Epoch 42: saving model to ResnetV2/cp-0042.ckpt\n",
            "30/30 - 9s - loss: 0.0511 - acc: 0.9808 - val_loss: 0.4497 - val_acc: 0.9125 - 9s/epoch - 288ms/step\n",
            "Epoch 43/60\n",
            "\n",
            "Epoch 43: saving model to ResnetV2/cp-0043.ckpt\n",
            "30/30 - 9s - loss: 0.0839 - acc: 0.9765 - val_loss: 0.2715 - val_acc: 0.9250 - 9s/epoch - 316ms/step\n",
            "Epoch 44/60\n",
            "\n",
            "Epoch 44: saving model to ResnetV2/cp-0044.ckpt\n",
            "30/30 - 11s - loss: 0.0375 - acc: 0.9893 - val_loss: 0.2900 - val_acc: 0.9250 - 11s/epoch - 364ms/step\n",
            "Epoch 45/60\n",
            "\n",
            "Epoch 45: saving model to ResnetV2/cp-0045.ckpt\n",
            "30/30 - 9s - loss: 0.0622 - acc: 0.9808 - val_loss: 0.2555 - val_acc: 0.9500 - 9s/epoch - 298ms/step\n",
            "Epoch 46/60\n",
            "\n",
            "Epoch 46: saving model to ResnetV2/cp-0046.ckpt\n",
            "30/30 - 12s - loss: 0.0527 - acc: 0.9872 - val_loss: 0.1653 - val_acc: 0.9500 - 12s/epoch - 390ms/step\n",
            "Epoch 47/60\n",
            "\n",
            "Epoch 47: saving model to ResnetV2/cp-0047.ckpt\n",
            "30/30 - 9s - loss: 0.0434 - acc: 0.9851 - val_loss: 0.3916 - val_acc: 0.8750 - 9s/epoch - 285ms/step\n",
            "Epoch 48/60\n",
            "\n",
            "Epoch 48: saving model to ResnetV2/cp-0048.ckpt\n",
            "30/30 - 11s - loss: 0.0757 - acc: 0.9765 - val_loss: 0.2660 - val_acc: 0.9000 - 11s/epoch - 362ms/step\n",
            "Epoch 49/60\n",
            "\n",
            "Epoch 49: saving model to ResnetV2/cp-0049.ckpt\n",
            "30/30 - 8s - loss: 0.0422 - acc: 0.9829 - val_loss: 0.4350 - val_acc: 0.8875 - 8s/epoch - 277ms/step\n",
            "Epoch 50/60\n",
            "\n",
            "Epoch 50: saving model to ResnetV2/cp-0050.ckpt\n",
            "30/30 - 8s - loss: 0.0590 - acc: 0.9829 - val_loss: 0.2411 - val_acc: 0.9500 - 8s/epoch - 279ms/step\n",
            "Epoch 51/60\n",
            "\n",
            "Epoch 51: saving model to ResnetV2/cp-0051.ckpt\n",
            "30/30 - 10s - loss: 0.0495 - acc: 0.9765 - val_loss: 0.1856 - val_acc: 0.9500 - 10s/epoch - 349ms/step\n",
            "Epoch 52/60\n",
            "\n",
            "Epoch 52: saving model to ResnetV2/cp-0052.ckpt\n",
            "30/30 - 8s - loss: 0.0540 - acc: 0.9851 - val_loss: 0.3770 - val_acc: 0.9250 - 8s/epoch - 279ms/step\n",
            "Epoch 53/60\n",
            "\n",
            "Epoch 53: saving model to ResnetV2/cp-0053.ckpt\n",
            "30/30 - 12s - loss: 0.0385 - acc: 0.9872 - val_loss: 0.1729 - val_acc: 0.9375 - 12s/epoch - 392ms/step\n",
            "Epoch 54/60\n",
            "\n",
            "Epoch 54: saving model to ResnetV2/cp-0054.ckpt\n",
            "30/30 - 11s - loss: 0.0784 - acc: 0.9765 - val_loss: 0.3116 - val_acc: 0.9500 - 11s/epoch - 350ms/step\n",
            "Epoch 55/60\n",
            "\n",
            "Epoch 55: saving model to ResnetV2/cp-0055.ckpt\n",
            "30/30 - 8s - loss: 0.0568 - acc: 0.9808 - val_loss: 0.1549 - val_acc: 0.9375 - 8s/epoch - 274ms/step\n",
            "Epoch 56/60\n",
            "\n",
            "Epoch 56: saving model to ResnetV2/cp-0056.ckpt\n",
            "30/30 - 10s - loss: 0.0576 - acc: 0.9808 - val_loss: 0.2193 - val_acc: 0.9250 - 10s/epoch - 334ms/step\n",
            "Epoch 57/60\n",
            "\n",
            "Epoch 57: saving model to ResnetV2/cp-0057.ckpt\n",
            "30/30 - 11s - loss: 0.0490 - acc: 0.9808 - val_loss: 0.4045 - val_acc: 0.9250 - 11s/epoch - 362ms/step\n",
            "Epoch 58/60\n",
            "\n",
            "Epoch 58: saving model to ResnetV2/cp-0058.ckpt\n",
            "30/30 - 9s - loss: 0.0456 - acc: 0.9851 - val_loss: 0.0976 - val_acc: 0.9625 - 9s/epoch - 284ms/step\n",
            "Epoch 59/60\n",
            "\n",
            "Epoch 59: saving model to ResnetV2/cp-0059.ckpt\n",
            "30/30 - 10s - loss: 0.0403 - acc: 0.9915 - val_loss: 0.1849 - val_acc: 0.9750 - 10s/epoch - 346ms/step\n",
            "Epoch 60/60\n",
            "\n",
            "Epoch 60: saving model to ResnetV2/cp-0060.ckpt\n",
            "30/30 - 11s - loss: 0.0523 - acc: 0.9808 - val_loss: 0.4332 - val_acc: 0.9500 - 11s/epoch - 366ms/step\n",
            "time: 11min 40s (started: 2024-01-15 18:11:38 +00:00)\n"
          ]
        }
      ]
    },
    {
      "cell_type": "code",
      "source": [
        "# Especificar o diretório de destino no Google Drive\n",
        "drive_dir = '/content/drive/MyDrive/ResNet50V2/'"
      ],
      "metadata": {
        "colab": {
          "base_uri": "https://localhost:8080/"
        },
        "id": "ic90m-9fQdlK",
        "outputId": "9932eca4-f986-4557-85c7-5b2669f01e8f"
      },
      "execution_count": 34,
      "outputs": [
        {
          "output_type": "stream",
          "name": "stdout",
          "text": [
            "time: 641 µs (started: 2024-01-15 19:12:14 +00:00)\n"
          ]
        }
      ]
    },
    {
      "cell_type": "code",
      "source": [
        "shutil.copytree(checkpoint_dir, drive_dir)"
      ],
      "metadata": {
        "colab": {
          "base_uri": "https://localhost:8080/",
          "height": 52
        },
        "id": "AieJKDaXP4TR",
        "outputId": "e0d5239d-16f5-4a67-8f94-6c8400d20ec2"
      },
      "execution_count": 35,
      "outputs": [
        {
          "output_type": "execute_result",
          "data": {
            "text/plain": [
              "'/content/drive/MyDrive/ResNet50V2/'"
            ],
            "application/vnd.google.colaboratory.intrinsic+json": {
              "type": "string"
            }
          },
          "metadata": {},
          "execution_count": 35
        },
        {
          "output_type": "stream",
          "name": "stdout",
          "text": [
            "time: 7min 31s (started: 2024-01-15 19:12:18 +00:00)\n"
          ]
        }
      ]
    },
    {
      "cell_type": "code",
      "execution_count": 17,
      "metadata": {
        "colab": {
          "base_uri": "https://localhost:8080/"
        },
        "id": "psL6jhi8-UT_",
        "outputId": "bc5ef2ea-717f-4231-abcc-a55d54c500f1"
      },
      "outputs": [
        {
          "output_type": "stream",
          "name": "stdout",
          "text": [
            "time: 649 µs (started: 2024-01-15 18:31:56 +00:00)\n"
          ]
        }
      ],
      "source": [
        "def smooth_curve(points, factor=0.8): #this function will make our plots more smooth\n",
        "\tsmoothed_points = []\n",
        "\tfor point in points:\n",
        "\t\tif smoothed_points:\n",
        "\t\t\tprevious = smoothed_points[-1]\n",
        "\t\t\tsmoothed_points.append(previous*factor+point*(1-factor))\n",
        "\t\telse:\n",
        "\t\t\tsmoothed_points.append(point)\n",
        "\treturn smoothed_points"
      ]
    },
    {
      "cell_type": "code",
      "source": [
        "def imprime_graficos(history):\n",
        "  acc = history.history['acc']\n",
        "  val_acc = history.history['val_acc']\n",
        "  loss = history.history['loss']\n",
        "  val_loss = history.history['val_loss']\n",
        "\n",
        "  epochs = range(1, len(acc)+1)\n",
        "  plt.plot(epochs, smooth_curve(acc), 'bo', label='Treinamento acc')\n",
        "  plt.plot(epochs, smooth_curve(val_acc), 'r-', label='Validação acc')\n",
        "  plt.legend()\n",
        "  plt.title('Treinamento and Validação Acc')\n",
        "  plt.figure()\n",
        "\n",
        "  plt.plot(epochs, smooth_curve(loss), 'bo', label='Treinamento loss')\n",
        "  plt.plot(epochs, smooth_curve(val_loss), 'r-', label='Validação loss')\n",
        "  plt.legend()\n",
        "  plt.title('Treinamento e Validação Loss')\n",
        "  plt.show()\n",
        "\n",
        "  print(\"\\n\")"
      ],
      "metadata": {
        "colab": {
          "base_uri": "https://localhost:8080/"
        },
        "id": "tCp08vPNeCju",
        "outputId": "e0728160-d059-4310-902f-2b1ec61146ba"
      },
      "execution_count": 18,
      "outputs": [
        {
          "output_type": "stream",
          "name": "stdout",
          "text": [
            "time: 729 µs (started: 2024-01-15 18:31:57 +00:00)\n"
          ]
        }
      ]
    },
    {
      "cell_type": "code",
      "execution_count": 19,
      "metadata": {
        "colab": {
          "base_uri": "https://localhost:8080/"
        },
        "id": "wMwF5avo4hk8",
        "outputId": "be5d0124-8490-4fc8-ccc0-350f858b4e02"
      },
      "outputs": [
        {
          "output_type": "stream",
          "name": "stdout",
          "text": [
            "time: 1.01 ms (started: 2024-01-15 18:32:00 +00:00)\n"
          ]
        }
      ],
      "source": [
        "def metricas(modelo_metricas, epocas):\n",
        "\n",
        "  # Obter as previsões do modelo nos dados de teste\n",
        "  y_pred = modelo_metricas.predict(X_test)\n",
        "\n",
        "  # Converter as previsões em rótulos binários\n",
        "  y_pred_binary = (y_pred > 0.5).astype(int)\n",
        "\n",
        "  # Calcular as métricas de precisão, recall e F1 Score\n",
        "  classification_rep = classification_report(Y_test, y_pred_binary)\n",
        "  print(\"Classification Report:\\n\", classification_rep)\n",
        "\n",
        "\n",
        "  #Calcula a matriz de confusão\n",
        "  cm = confusion_matrix(Y_test, y_pred_binary)\n",
        "  # Display\n",
        "  plt.figure(figsize=(4, 4))\n",
        "\n",
        "  sns.heatmap(cm, annot=True, fmt='g', vmin=0, cmap='Reds', cbar=False)\n",
        "  plt.xticks(ticks=[0.5, 1.5], labels=[\"No Pollen\", \"Pollen\"])\n",
        "  plt.yticks(ticks=[0.5, 1.5], labels=[\"No Pollen\", \"Pollen\"])\n",
        "  plt.xlabel(\"Predicted\")\n",
        "  plt.ylabel(\"Actual\")\n",
        "  plt.title(\"Confusion Matrix \" + str(epocas) + \" épocas\")\n",
        "\n",
        "  plt.show()\n",
        "\n",
        "  print(\"\\n\")"
      ]
    },
    {
      "cell_type": "code",
      "source": [
        "shutil.rmtree(VGG16, ignore_errors=False, onerror=None)"
      ],
      "metadata": {
        "colab": {
          "base_uri": "https://localhost:8080/",
          "height": 196
        },
        "id": "FXistSEkbyTt",
        "outputId": "2bb6e390-c821-40d8-861d-dac1b1813585"
      },
      "execution_count": 40,
      "outputs": [
        {
          "output_type": "error",
          "ename": "NameError",
          "evalue": "name 'VGG16' is not defined",
          "traceback": [
            "\u001b[0;31m---------------------------------------------------------------------------\u001b[0m",
            "\u001b[0;31mNameError\u001b[0m                                 Traceback (most recent call last)",
            "\u001b[0;32m<ipython-input-40-ae9e5e6a8f4d>\u001b[0m in \u001b[0;36m<cell line: 1>\u001b[0;34m()\u001b[0m\n\u001b[0;32m----> 1\u001b[0;31m \u001b[0mshutil\u001b[0m\u001b[0;34m.\u001b[0m\u001b[0mrmtree\u001b[0m\u001b[0;34m(\u001b[0m\u001b[0mVGG16\u001b[0m\u001b[0;34m,\u001b[0m \u001b[0mignore_errors\u001b[0m\u001b[0;34m=\u001b[0m\u001b[0;32mFalse\u001b[0m\u001b[0;34m,\u001b[0m \u001b[0monerror\u001b[0m\u001b[0;34m=\u001b[0m\u001b[0;32mNone\u001b[0m\u001b[0;34m)\u001b[0m\u001b[0;34m\u001b[0m\u001b[0;34m\u001b[0m\u001b[0m\n\u001b[0m",
            "\u001b[0;31mNameError\u001b[0m: name 'VGG16' is not defined"
          ]
        },
        {
          "output_type": "stream",
          "name": "stdout",
          "text": [
            "time: 35.8 ms (started: 2024-01-15 19:26:47 +00:00)\n"
          ]
        }
      ]
    },
    {
      "cell_type": "code",
      "source": [
        "epoca = 10\n",
        "for i in range(6):\n",
        "  cp = \"ResnetV2/cp-00\"+str(epoca)+\".ckpt\"\n",
        "  print(\"Avaliando modelo com checkpoint \" + cp + \" correspondente a época \" + str(epoca))\n",
        "  avaliacao_modelo = create_model()\n",
        "  # Load the previously saved weights\n",
        "  avaliacao_modelo.load_weights(cp)\n",
        "\n",
        "  # Re-evaluate the model\n",
        "  loss, acc = avaliacao_modelo.evaluate(X_test, Y_test)\n",
        "  print(\"Restored model, accuracy: \" + str(acc) )\n",
        "  print(\"Restored model, loss: \" + str(loss) + \"\\n\")\n",
        "\n",
        "  metricas(avaliacao_modelo, epoca)\n",
        "\n",
        "  epoca += 10"
      ],
      "metadata": {
        "colab": {
          "base_uri": "https://localhost:8080/",
          "height": 1000
        },
        "id": "Hcftf7YvhGSy",
        "outputId": "fa9f61e8-82aa-4cd5-c17e-5f77292d1019"
      },
      "execution_count": 31,
      "outputs": [
        {
          "output_type": "stream",
          "name": "stdout",
          "text": [
            "Avaliando modelo com checkpoint ResnetV2/cp-0010.ckpt correspondente a época 10\n",
            "5/5 [==============================] - 7s 516ms/step - loss: 0.2663 - acc: 0.9021\n",
            "Restored model, accuracy: 0.9020978808403015\n",
            "Restored model, loss: 0.2662610709667206\n",
            "\n",
            "5/5 [==============================] - 1s 81ms/step\n",
            "Classification Report:\n",
            "               precision    recall  f1-score   support\n",
            "\n",
            "           0       0.90      0.90      0.90        67\n",
            "           1       0.91      0.91      0.91        76\n",
            "\n",
            "    accuracy                           0.90       143\n",
            "   macro avg       0.90      0.90      0.90       143\n",
            "weighted avg       0.90      0.90      0.90       143\n",
            "\n"
          ]
        },
        {
          "output_type": "display_data",
          "data": {
            "text/plain": [
              "<Figure size 400x400 with 1 Axes>"
            ],
            "image/png": "[encoded data removed]"
          },
          "metadata": {}
        },
        {
          "output_type": "stream",
          "name": "stdout",
          "text": [
            "\n",
            "\n",
            "Avaliando modelo com checkpoint ResnetV2/cp-0020.ckpt correspondente a época 20\n"
          ]
        },
        {
          "output_type": "stream",
          "name": "stderr",
          "text": [
            "WARNING:tensorflow:Detecting that an object or model or tf.train.Checkpoint is being deleted with unrestored values. See the following logs for the specific values in question. To silence these warnings, use `status.expect_partial()`. See https://www.tensorflow.org/api_docs/python/tf/train/Checkpoint#restorefor details about the status object returned by the restore function.\n",
            "WARNING:tensorflow:Value in checkpoint could not be found in the restored object: (root).optimizer._variables.1\n",
            "WARNING:tensorflow:Value in checkpoint could not be found in the restored object: (root).optimizer._variables.2\n",
            "WARNING:tensorflow:Value in checkpoint could not be found in the restored object: (root).optimizer._variables.3\n",
            "WARNING:tensorflow:Value in checkpoint could not be found in the restored object: (root).optimizer._variables.4\n",
            "WARNING:tensorflow:Value in checkpoint could not be found in the restored object: (root).optimizer._variables.5\n",
            "WARNING:tensorflow:Value in checkpoint could not be found in the restored object: (root).optimizer._variables.6\n",
            "WARNING:tensorflow:Value in checkpoint could not be found in the restored object: (root).optimizer._variables.7\n",
            "WARNING:tensorflow:Value in checkpoint could not be found in the restored object: (root).optimizer._variables.8\n",
            "WARNING:tensorflow:Value in checkpoint could not be found in the restored object: (root).optimizer._variables.9\n",
            "WARNING:tensorflow:Value in checkpoint could not be found in the restored object: (root).optimizer._variables.10\n",
            "WARNING:tensorflow:Value in checkpoint could not be found in the restored object: (root).optimizer._variables.11\n",
            "WARNING:tensorflow:Value in checkpoint could not be found in the restored object: (root).optimizer._variables.12\n",
            "WARNING:tensorflow:Value in checkpoint could not be found in the restored object: (root).optimizer._variables.13\n",
            "WARNING:tensorflow:Value in checkpoint could not be found in the restored object: (root).optimizer._variables.14\n",
            "WARNING:tensorflow:Value in checkpoint could not be found in the restored object: (root).optimizer._variables.15\n",
            "WARNING:tensorflow:Value in checkpoint could not be found in the restored object: (root).optimizer._variables.16\n",
            "WARNING:tensorflow:Value in checkpoint could not be found in the restored object: (root).optimizer._variables.17\n",
            "WARNING:tensorflow:Value in checkpoint could not be found in the restored object: (root).optimizer._variables.18\n",
            "WARNING:tensorflow:Value in checkpoint could not be found in the restored object: (root).optimizer._variables.19\n",
            "WARNING:tensorflow:Value in checkpoint could not be found in the restored object: (root).optimizer._variables.20\n",
            "WARNING:tensorflow:Value in checkpoint could not be found in the restored object: (root).optimizer._variables.21\n",
            "WARNING:tensorflow:Value in checkpoint could not be found in the restored object: (root).optimizer._variables.22\n"
          ]
        },
        {
          "output_type": "stream",
          "name": "stdout",
          "text": [
            "5/5 [==============================] - 3s 83ms/step - loss: 0.2629 - acc: 0.9021\n",
            "Restored model, accuracy: 0.9020978808403015\n",
            "Restored model, loss: 0.26285359263420105\n",
            "\n",
            "5/5 [==============================] - 1s 79ms/step\n",
            "Classification Report:\n",
            "               precision    recall  f1-score   support\n",
            "\n",
            "           0       0.91      0.88      0.89        67\n",
            "           1       0.90      0.92      0.91        76\n",
            "\n",
            "    accuracy                           0.90       143\n",
            "   macro avg       0.90      0.90      0.90       143\n",
            "weighted avg       0.90      0.90      0.90       143\n",
            "\n"
          ]
        },
        {
          "output_type": "display_data",
          "data": {
            "text/plain": [
              "<Figure size 400x400 with 1 Axes>"
            ],
            "image/png": "[encoded data removed]"
          },
          "metadata": {}
        },
        {
          "output_type": "stream",
          "name": "stdout",
          "text": [
            "\n",
            "\n",
            "Avaliando modelo com checkpoint ResnetV2/cp-0030.ckpt correspondente a época 30\n",
            "5/5 [==============================] - 2s 89ms/step - loss: 0.2905 - acc: 0.9091\n",
            "Restored model, accuracy: 0.9090909361839294\n",
            "Restored model, loss: 0.29052308201789856\n",
            "\n",
            "5/5 [==============================] - 1s 83ms/step\n",
            "Classification Report:\n",
            "               precision    recall  f1-score   support\n",
            "\n",
            "           0       0.89      0.93      0.91        67\n",
            "           1       0.93      0.89      0.91        76\n",
            "\n",
            "    accuracy                           0.91       143\n",
            "   macro avg       0.91      0.91      0.91       143\n",
            "weighted avg       0.91      0.91      0.91       143\n",
            "\n"
          ]
        },
        {
          "output_type": "display_data",
          "data": {
            "text/plain": [
              "<Figure size 400x400 with 1 Axes>"
            ],
            "image/png": "[encoded data removed]"
          },
          "metadata": {}
        },
        {
          "output_type": "stream",
          "name": "stdout",
          "text": [
            "\n",
            "\n",
            "Avaliando modelo com checkpoint ResnetV2/cp-0040.ckpt correspondente a época 40\n",
            "5/5 [==============================] - 2s 83ms/step - loss: 0.3134 - acc: 0.9231\n",
            "Restored model, accuracy: 0.9230769276618958\n",
            "Restored model, loss: 0.31343427300453186\n",
            "\n",
            "5/5 [==============================] - 1s 80ms/step\n",
            "Classification Report:\n",
            "               precision    recall  f1-score   support\n",
            "\n",
            "           0       0.92      0.91      0.92        67\n",
            "           1       0.92      0.93      0.93        76\n",
            "\n",
            "    accuracy                           0.92       143\n",
            "   macro avg       0.92      0.92      0.92       143\n",
            "weighted avg       0.92      0.92      0.92       143\n",
            "\n"
          ]
        },
        {
          "output_type": "display_data",
          "data": {
            "text/plain": [
              "<Figure size 400x400 with 1 Axes>"
            ],
            "image/png": "[encoded data removed]"
          },
          "metadata": {}
        },
        {
          "output_type": "stream",
          "name": "stdout",
          "text": [
            "\n",
            "\n",
            "Avaliando modelo com checkpoint ResnetV2/cp-0050.ckpt correspondente a época 50\n"
          ]
        },
        {
          "output_type": "stream",
          "name": "stderr",
          "text": [
            "WARNING:tensorflow:Detecting that an object or model or tf.train.Checkpoint is being deleted with unrestored values. See the following logs for the specific values in question. To silence these warnings, use `status.expect_partial()`. See https://www.tensorflow.org/api_docs/python/tf/train/Checkpoint#restorefor details about the status object returned by the restore function.\n",
            "WARNING:tensorflow:Value in checkpoint could not be found in the restored object: (root).optimizer._variables.1\n",
            "WARNING:tensorflow:Value in checkpoint could not be found in the restored object: (root).optimizer._variables.2\n",
            "WARNING:tensorflow:Value in checkpoint could not be found in the restored object: (root).optimizer._variables.3\n",
            "WARNING:tensorflow:Value in checkpoint could not be found in the restored object: (root).optimizer._variables.4\n",
            "WARNING:tensorflow:Value in checkpoint could not be found in the restored object: (root).optimizer._variables.5\n",
            "WARNING:tensorflow:Value in checkpoint could not be found in the restored object: (root).optimizer._variables.6\n",
            "WARNING:tensorflow:Value in checkpoint could not be found in the restored object: (root).optimizer._variables.7\n",
            "WARNING:tensorflow:Value in checkpoint could not be found in the restored object: (root).optimizer._variables.8\n",
            "WARNING:tensorflow:Value in checkpoint could not be found in the restored object: (root).optimizer._variables.9\n",
            "WARNING:tensorflow:Value in checkpoint could not be found in the restored object: (root).optimizer._variables.10\n",
            "WARNING:tensorflow:Value in checkpoint could not be found in the restored object: (root).optimizer._variables.11\n",
            "WARNING:tensorflow:Value in checkpoint could not be found in the restored object: (root).optimizer._variables.12\n",
            "WARNING:tensorflow:Value in checkpoint could not be found in the restored object: (root).optimizer._variables.13\n",
            "WARNING:tensorflow:Value in checkpoint could not be found in the restored object: (root).optimizer._variables.14\n",
            "WARNING:tensorflow:Value in checkpoint could not be found in the restored object: (root).optimizer._variables.15\n",
            "WARNING:tensorflow:Value in checkpoint could not be found in the restored object: (root).optimizer._variables.16\n",
            "WARNING:tensorflow:Value in checkpoint could not be found in the restored object: (root).optimizer._variables.17\n",
            "WARNING:tensorflow:Value in checkpoint could not be found in the restored object: (root).optimizer._variables.18\n",
            "WARNING:tensorflow:Value in checkpoint could not be found in the restored object: (root).optimizer._variables.19\n",
            "WARNING:tensorflow:Value in checkpoint could not be found in the restored object: (root).optimizer._variables.20\n",
            "WARNING:tensorflow:Value in checkpoint could not be found in the restored object: (root).optimizer._variables.21\n",
            "WARNING:tensorflow:Value in checkpoint could not be found in the restored object: (root).optimizer._variables.22\n",
            "WARNING:tensorflow:Detecting that an object or model or tf.train.Checkpoint is being deleted with unrestored values. See the following logs for the specific values in question. To silence these warnings, use `status.expect_partial()`. See https://www.tensorflow.org/api_docs/python/tf/train/Checkpoint#restorefor details about the status object returned by the restore function.\n",
            "WARNING:tensorflow:Value in checkpoint could not be found in the restored object: (root).optimizer._variables.1\n",
            "WARNING:tensorflow:Value in checkpoint could not be found in the restored object: (root).optimizer._variables.2\n",
            "WARNING:tensorflow:Value in checkpoint could not be found in the restored object: (root).optimizer._variables.3\n",
            "WARNING:tensorflow:Value in checkpoint could not be found in the restored object: (root).optimizer._variables.4\n",
            "WARNING:tensorflow:Value in checkpoint could not be found in the restored object: (root).optimizer._variables.5\n",
            "WARNING:tensorflow:Value in checkpoint could not be found in the restored object: (root).optimizer._variables.6\n",
            "WARNING:tensorflow:Value in checkpoint could not be found in the restored object: (root).optimizer._variables.7\n",
            "WARNING:tensorflow:Value in checkpoint could not be found in the restored object: (root).optimizer._variables.8\n",
            "WARNING:tensorflow:Value in checkpoint could not be found in the restored object: (root).optimizer._variables.9\n",
            "WARNING:tensorflow:Value in checkpoint could not be found in the restored object: (root).optimizer._variables.10\n",
            "WARNING:tensorflow:Value in checkpoint could not be found in the restored object: (root).optimizer._variables.11\n",
            "WARNING:tensorflow:Value in checkpoint could not be found in the restored object: (root).optimizer._variables.12\n",
            "WARNING:tensorflow:Value in checkpoint could not be found in the restored object: (root).optimizer._variables.13\n",
            "WARNING:tensorflow:Value in checkpoint could not be found in the restored object: (root).optimizer._variables.14\n",
            "WARNING:tensorflow:Value in checkpoint could not be found in the restored object: (root).optimizer._variables.15\n",
            "WARNING:tensorflow:Value in checkpoint could not be found in the restored object: (root).optimizer._variables.16\n",
            "WARNING:tensorflow:Value in checkpoint could not be found in the restored object: (root).optimizer._variables.17\n",
            "WARNING:tensorflow:Value in checkpoint could not be found in the restored object: (root).optimizer._variables.18\n",
            "WARNING:tensorflow:Value in checkpoint could not be found in the restored object: (root).optimizer._variables.19\n",
            "WARNING:tensorflow:Value in checkpoint could not be found in the restored object: (root).optimizer._variables.20\n",
            "WARNING:tensorflow:Value in checkpoint could not be found in the restored object: (root).optimizer._variables.21\n",
            "WARNING:tensorflow:Value in checkpoint could not be found in the restored object: (root).optimizer._variables.22\n",
            "WARNING:tensorflow:Detecting that an object or model or tf.train.Checkpoint is being deleted with unrestored values. See the following logs for the specific values in question. To silence these warnings, use `status.expect_partial()`. See https://www.tensorflow.org/api_docs/python/tf/train/Checkpoint#restorefor details about the status object returned by the restore function.\n",
            "WARNING:tensorflow:Value in checkpoint could not be found in the restored object: (root).optimizer._variables.1\n",
            "WARNING:tensorflow:Value in checkpoint could not be found in the restored object: (root).optimizer._variables.2\n",
            "WARNING:tensorflow:Value in checkpoint could not be found in the restored object: (root).optimizer._variables.3\n",
            "WARNING:tensorflow:Value in checkpoint could not be found in the restored object: (root).optimizer._variables.4\n",
            "WARNING:tensorflow:Value in checkpoint could not be found in the restored object: (root).optimizer._variables.5\n",
            "WARNING:tensorflow:Value in checkpoint could not be found in the restored object: (root).optimizer._variables.6\n",
            "WARNING:tensorflow:Value in checkpoint could not be found in the restored object: (root).optimizer._variables.7\n",
            "WARNING:tensorflow:Value in checkpoint could not be found in the restored object: (root).optimizer._variables.8\n",
            "WARNING:tensorflow:Value in checkpoint could not be found in the restored object: (root).optimizer._variables.9\n",
            "WARNING:tensorflow:Value in checkpoint could not be found in the restored object: (root).optimizer._variables.10\n",
            "WARNING:tensorflow:Value in checkpoint could not be found in the restored object: (root).optimizer._variables.11\n",
            "WARNING:tensorflow:Value in checkpoint could not be found in the restored object: (root).optimizer._variables.12\n",
            "WARNING:tensorflow:Value in checkpoint could not be found in the restored object: (root).optimizer._variables.13\n",
            "WARNING:tensorflow:Value in checkpoint could not be found in the restored object: (root).optimizer._variables.14\n",
            "WARNING:tensorflow:Value in checkpoint could not be found in the restored object: (root).optimizer._variables.15\n",
            "WARNING:tensorflow:Value in checkpoint could not be found in the restored object: (root).optimizer._variables.16\n",
            "WARNING:tensorflow:Value in checkpoint could not be found in the restored object: (root).optimizer._variables.17\n",
            "WARNING:tensorflow:Value in checkpoint could not be found in the restored object: (root).optimizer._variables.18\n",
            "WARNING:tensorflow:Value in checkpoint could not be found in the restored object: (root).optimizer._variables.19\n",
            "WARNING:tensorflow:Value in checkpoint could not be found in the restored object: (root).optimizer._variables.20\n",
            "WARNING:tensorflow:Value in checkpoint could not be found in the restored object: (root).optimizer._variables.21\n",
            "WARNING:tensorflow:Value in checkpoint could not be found in the restored object: (root).optimizer._variables.22\n"
          ]
        },
        {
          "output_type": "stream",
          "name": "stdout",
          "text": [
            "5/5 [==============================] - 3s 92ms/step - loss: 0.1678 - acc: 0.9510\n",
            "Restored model, accuracy: 0.9510489702224731\n",
            "Restored model, loss: 0.16776439547538757\n",
            "\n",
            "5/5 [==============================] - 2s 99ms/step\n",
            "Classification Report:\n",
            "               precision    recall  f1-score   support\n",
            "\n",
            "           0       0.94      0.96      0.95        67\n",
            "           1       0.96      0.95      0.95        76\n",
            "\n",
            "    accuracy                           0.95       143\n",
            "   macro avg       0.95      0.95      0.95       143\n",
            "weighted avg       0.95      0.95      0.95       143\n",
            "\n"
          ]
        },
        {
          "output_type": "display_data",
          "data": {
            "text/plain": [
              "<Figure size 400x400 with 1 Axes>"
            ],
            "image/png": "[encoded data removed]"
          },
          "metadata": {}
        },
        {
          "output_type": "stream",
          "name": "stdout",
          "text": [
            "\n",
            "\n",
            "Avaliando modelo com checkpoint ResnetV2/cp-0060.ckpt correspondente a época 60\n",
            "5/5 [==============================] - 2s 87ms/step - loss: 0.2610 - acc: 0.9371\n",
            "Restored model, accuracy: 0.9370629191398621\n",
            "Restored model, loss: 0.26100894808769226\n",
            "\n",
            "5/5 [==============================] - 1s 82ms/step\n",
            "Classification Report:\n",
            "               precision    recall  f1-score   support\n",
            "\n",
            "           0       0.97      0.90      0.93        67\n",
            "           1       0.91      0.97      0.94        76\n",
            "\n",
            "    accuracy                           0.94       143\n",
            "   macro avg       0.94      0.93      0.94       143\n",
            "weighted avg       0.94      0.94      0.94       143\n",
            "\n"
          ]
        },
        {
          "output_type": "display_data",
          "data": {
            "text/plain": [
              "<Figure size 400x400 with 1 Axes>"
            ],
            "image/png": "[encoded data removed]"
          },
          "metadata": {}
        },
        {
          "output_type": "stream",
          "name": "stdout",
          "text": [
            "\n",
            "\n",
            "time: 56.3 s (started: 2024-01-15 18:45:33 +00:00)\n"
          ]
        }
      ]
    },
    {
      "cell_type": "code",
      "source": [
        "imprime_graficos(history)"
      ],
      "metadata": {
        "id": "F3ZtmSa1jk2b",
        "colab": {
          "base_uri": "https://localhost:8080/",
          "height": 939
        },
        "outputId": "6e786f39-5609-41e4-b484-b196443b7e92"
      },
      "execution_count": 32,
      "outputs": [
        {
          "output_type": "display_data",
          "data": {
            "text/plain": [
              "<Figure size 640x480 with 1 Axes>"
            ],
            "image/png": "[encoded data removed]"
          },
          "metadata": {}
        },
        {
          "output_type": "display_data",
          "data": {
            "text/plain": [
              "<Figure size 640x480 with 1 Axes>"
            ],
            "image/png": "[encoded data removed]"
          },
          "metadata": {}
        },
        {
          "output_type": "stream",
          "name": "stdout",
          "text": [
            "\n",
            "\n",
            "time: 445 ms (started: 2024-01-15 18:47:02 +00:00)\n"
          ]
        }
      ]
    }
  ],
  "metadata": {
    "accelerator": "GPU",
    "colab": {
      "gpuType": "T4",
      "provenance": []
    },
    "kernelspec": {
      "display_name": "Python 3 (ipykernel)",
      "language": "python",
      "name": "python3"
    },
    "language_info": {
      "codemirror_mode": {
        "name": "ipython",
        "version": 3
      },
      "file_extension": ".py",
      "mimetype": "text/x-python",
      "name": "python",
      "nbconvert_exporter": "python",
      "pygments_lexer": "ipython3",
      "version": "3.9.7"
    }
  },
  "nbformat": 4,
  "nbformat_minor": 0
}