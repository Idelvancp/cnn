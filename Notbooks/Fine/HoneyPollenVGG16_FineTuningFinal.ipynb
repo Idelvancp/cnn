{
  "cells": [
    {
      "cell_type": "code",
      "execution_count": null,
      "metadata": {
        "colab": {
          "base_uri": "https://localhost:8080/"
        },
        "id": "CuDGoysGdUml",
        "outputId": "523ed49e-da70-4517-8666-d23e3ef3e9ab"
      },
      "outputs": [
        {
          "output_type": "stream",
          "name": "stdout",
          "text": [
            "Mounted at /content/drive\n"
          ]
        }
      ],
      "source": [
        "from google.colab import drive\n",
        "drive.mount('/content/drive')"
      ]
    },
    {
      "cell_type": "code",
      "execution_count": null,
      "metadata": {
        "colab": {
          "base_uri": "https://localhost:8080/"
        },
        "id": "uzCkIRFpWPWO",
        "outputId": "7626f17d-9968-44de-b5f0-489de9c6866c"
      },
      "outputs": [
        {
          "output_type": "stream",
          "name": "stdout",
          "text": [
            "Collecting ipython-autotime\n",
            "  Downloading ipython_autotime-0.3.2-py2.py3-none-any.whl (7.0 kB)\n",
            "Requirement already satisfied: ipython in /usr/local/lib/python3.10/dist-packages (from ipython-autotime) (7.34.0)\n",
            "Requirement already satisfied: setuptools>=18.5 in /usr/local/lib/python3.10/dist-packages (from ipython->ipython-autotime) (67.7.2)\n",
            "Collecting jedi>=0.16 (from ipython->ipython-autotime)\n",
            "  Downloading jedi-0.19.1-py2.py3-none-any.whl (1.6 MB)\n",
            "\u001b[2K     \u001b[90m━━━━━━━━━━━━━━━━━━━━━━━━━━━━━━━━━━━━━━━━\u001b[0m \u001b[32m1.6/1.6 MB\u001b[0m \u001b[31m9.5 MB/s\u001b[0m eta \u001b[36m0:00:00\u001b[0m\n",
            "\u001b[?25hRequirement already satisfied: decorator in /usr/local/lib/python3.10/dist-packages (from ipython->ipython-autotime) (4.4.2)\n",
            "Requirement already satisfied: pickleshare in /usr/local/lib/python3.10/dist-packages (from ipython->ipython-autotime) (0.7.5)\n",
            "Requirement already satisfied: traitlets>=4.2 in /usr/local/lib/python3.10/dist-packages (from ipython->ipython-autotime) (5.7.1)\n",
            "Requirement already satisfied: prompt-toolkit!=3.0.0,!=3.0.1,<3.1.0,>=2.0.0 in /usr/local/lib/python3.10/dist-packages (from ipython->ipython-autotime) (3.0.43)\n",
            "Requirement already satisfied: pygments in /usr/local/lib/python3.10/dist-packages (from ipython->ipython-autotime) (2.16.1)\n",
            "Requirement already satisfied: backcall in /usr/local/lib/python3.10/dist-packages (from ipython->ipython-autotime) (0.2.0)\n",
            "Requirement already satisfied: matplotlib-inline in /usr/local/lib/python3.10/dist-packages (from ipython->ipython-autotime) (0.1.6)\n",
            "Requirement already satisfied: pexpect>4.3 in /usr/local/lib/python3.10/dist-packages (from ipython->ipython-autotime) (4.9.0)\n",
            "Requirement already satisfied: parso<0.9.0,>=0.8.3 in /usr/local/lib/python3.10/dist-packages (from jedi>=0.16->ipython->ipython-autotime) (0.8.3)\n",
            "Requirement already satisfied: ptyprocess>=0.5 in /usr/local/lib/python3.10/dist-packages (from pexpect>4.3->ipython->ipython-autotime) (0.7.0)\n",
            "Requirement already satisfied: wcwidth in /usr/local/lib/python3.10/dist-packages (from prompt-toolkit!=3.0.0,!=3.0.1,<3.1.0,>=2.0.0->ipython->ipython-autotime) (0.2.12)\n",
            "Installing collected packages: jedi, ipython-autotime\n",
            "Successfully installed ipython-autotime-0.3.2 jedi-0.19.1\n",
            "time: 258 µs (started: 2024-01-15 16:37:25 +00:00)\n"
          ]
        }
      ],
      "source": [
        "!pip install ipython-autotime\n",
        "%load_ext autotime"
      ]
    },
    {
      "cell_type": "code",
      "execution_count": null,
      "metadata": {
        "colab": {
          "base_uri": "https://localhost:8080/"
        },
        "id": "w5ybUAh8Kz_i",
        "outputId": "eaeaace2-c84e-4f6c-92d5-3ceb9a97c48b"
      },
      "outputs": [
        {
          "output_type": "stream",
          "name": "stdout",
          "text": [
            "time: 16.9 ms (started: 2024-01-15 16:44:42 +00:00)\n"
          ]
        }
      ],
      "source": [
        "import glob, os\n",
        "import random\n",
        "import shutil\n",
        "import seaborn as sns\n",
        "import numpy as np\n",
        "import matplotlib.pyplot as plt\n",
        "from skimage import io, transform\n",
        "from keras.optimizers import Adam\n",
        "import tensorflow as tf\n",
        "from tensorflow.keras.applications import VGG16\n",
        "from tensorflow.keras.preprocessing import image\n",
        "from tensorflow.keras.applications.vgg16 import preprocess_input, decode_predictions\n",
        "from tensorflow.keras import layers, models\n",
        "from tensorflow.keras.optimizers import Adam\n",
        "from tensorflow.keras.preprocessing.image import ImageDataGenerator\n",
        "from sklearn.model_selection import train_test_split\n",
        "from sklearn.metrics import classification_report, confusion_matrix\n",
        "path=\"drive/MyDrive/imagensOriginais/\"\n",
        "imagens_originais= glob.glob(os.path.join(path, '*.jpg'))"
      ]
    },
    {
      "cell_type": "code",
      "execution_count": null,
      "metadata": {
        "colab": {
          "base_uri": "https://localhost:8080/"
        },
        "id": "D_P0Y8aSQmY0",
        "outputId": "a3dabd3e-d2fc-468b-dbf9-74e2f2d8b2da"
      },
      "outputs": [
        {
          "output_type": "stream",
          "name": "stdout",
          "text": [
            "time: 924 µs (started: 2024-01-15 16:44:44 +00:00)\n"
          ]
        }
      ],
      "source": [
        "def dataset(file_list,size=(224,224)):\n",
        "\timagens = []\n",
        "\tfor i, file in enumerate(imagens_originais):\n",
        "\t\timagem = io.imread(file)\n",
        "\t\timagem = transform.resize(imagem, size, mode='constant')\n",
        "\t\timagens.append(imagem)\n",
        "\n",
        "\tlabels = [1 if f.split(\"/\")[-1][0] == 'P' else 0 for f in file_list]\n",
        "\n",
        "\treturn np.array(imagens), np.array(labels)"
      ]
    },
    {
      "cell_type": "code",
      "execution_count": null,
      "metadata": {
        "colab": {
          "base_uri": "https://localhost:8080/"
        },
        "id": "oBFas_yNtlRq",
        "outputId": "08950c08-e506-4fb6-b61f-d922763aa49f"
      },
      "outputs": [
        {
          "output_type": "stream",
          "name": "stdout",
          "text": [
            "time: 24.7 s (started: 2024-01-15 16:44:45 +00:00)\n"
          ]
        }
      ],
      "source": [
        "imagens,labels=dataset(imagens_originais)"
      ]
    },
    {
      "cell_type": "code",
      "execution_count": null,
      "metadata": {
        "colab": {
          "base_uri": "https://localhost:8080/"
        },
        "id": "r3jaMrN98gJG",
        "outputId": "8b893182-b7e5-43cd-cfec-cf4ba8eeb130"
      },
      "outputs": [
        {
          "output_type": "stream",
          "name": "stdout",
          "text": [
            "time: 458 ms (started: 2024-01-15 16:45:39 +00:00)\n"
          ]
        }
      ],
      "source": [
        "X_train, X_test, Y_train, Y_test = train_test_split(imagens, labels, test_size = 0.20, random_state = 40)\n",
        "X_train, X_validation, Y_train, Y_validation = train_test_split(X_train, Y_train, test_size = 0.15, random_state = 40)"
      ]
    },
    {
      "cell_type": "code",
      "execution_count": null,
      "metadata": {
        "colab": {
          "base_uri": "https://localhost:8080/"
        },
        "id": "ssK5d-oMoYuA",
        "outputId": "967e89f8-05ab-4a24-8617-bed0249123dd"
      },
      "outputs": [
        {
          "output_type": "stream",
          "name": "stdout",
          "text": [
            "time: 512 µs (started: 2024-01-15 16:45:41 +00:00)\n"
          ]
        }
      ],
      "source": [
        "EPOCHS = 60\n",
        "BATCH_SIZE = 16"
      ]
    },
    {
      "cell_type": "code",
      "execution_count": null,
      "metadata": {
        "colab": {
          "base_uri": "https://localhost:8080/"
        },
        "id": "Xe-AAVWxocAQ",
        "outputId": "bc1069b6-5b50-43c4-d530-99dd1a55b699"
      },
      "outputs": [
        {
          "output_type": "stream",
          "name": "stdout",
          "text": [
            "time: 463 ms (started: 2024-01-15 16:46:48 +00:00)\n"
          ]
        }
      ],
      "source": [
        "train_generator = ImageDataGenerator(\n",
        "                                      shear_range=30,\n",
        "                                      rotation_range=20,\n",
        "                                      horizontal_flip=True,\n",
        "                                      vertical_flip=True,\n",
        "                                  ).flow(X_train, Y_train, batch_size=BATCH_SIZE)\n",
        "validation_generator = ImageDataGenerator(\n",
        "                                      shear_range=30,\n",
        "                                      rotation_range=20,\n",
        "                                      horizontal_flip=True,\n",
        "                                      vertical_flip=True,\n",
        "                                  ).flow(X_validation, Y_validation, batch_size=BATCH_SIZE)"
      ]
    },
    {
      "cell_type": "code",
      "execution_count": null,
      "metadata": {
        "colab": {
          "base_uri": "https://localhost:8080/"
        },
        "id": "0kKbNBfc91em",
        "outputId": "bf597f6b-d2a4-4f33-b51b-fce90aa69730"
      },
      "outputs": [
        {
          "output_type": "stream",
          "name": "stdout",
          "text": [
            "time: 715 µs (started: 2024-01-15 16:46:50 +00:00)\n"
          ]
        }
      ],
      "source": [
        "def create_model():\n",
        "  base_model = VGG16(weights='imagenet', include_top=False, input_shape=(224, 224, 3))\n",
        "\n",
        "  # Congela todas as camadas\n",
        "  for layer in base_model.layers:\n",
        "    layer.trainable = False\n",
        "\n",
        "  # Descongela as quatro últimas camadas convolucionais\n",
        "  for layer in base_model.layers[-4:]:\n",
        "    layer.trainable = True\n",
        "\n",
        "  x = base_model.output\n",
        "  x = layers.Flatten()(x)\n",
        "  x = layers.Dense(256, activation='relu')(x)\n",
        "  x = layers.Dropout(0.5)(x)\n",
        "  predictions = layers.Dense(1, activation='sigmoid')(x)\n",
        "\n",
        "  model = models.Model(inputs=base_model.input, outputs=predictions)\n",
        "\n",
        "  model.compile(optimizer=Adam(learning_rate=0.0001), loss='binary_crossentropy', metrics=['acc'])\n",
        "\n",
        "  return model"
      ]
    },
    {
      "cell_type": "code",
      "source": [
        "# Include the epoch in the file name (uses `str.format`)\n",
        "checkpoint_path = \"VGG16/cp-{epoch:04d}.ckpt\"\n",
        "checkpoint_dir = os.path.dirname(checkpoint_path)"
      ],
      "metadata": {
        "colab": {
          "base_uri": "https://localhost:8080/"
        },
        "id": "-ecRsdq_C7gd",
        "outputId": "a7ca3b5e-daf6-4593-8c69-f7dc06c3cd54"
      },
      "execution_count": null,
      "outputs": [
        {
          "output_type": "stream",
          "name": "stdout",
          "text": [
            "time: 528 µs (started: 2024-01-15 16:46:51 +00:00)\n"
          ]
        }
      ]
    },
    {
      "cell_type": "code",
      "source": [
        "# Create a callback that saves the model's weights every 5 epochs\n",
        "cp_callback = tf.keras.callbacks.ModelCheckpoint(\n",
        "    filepath=checkpoint_path,\n",
        "    verbose=1,\n",
        "    save_weights_only=True,\n",
        "    save_freq=\"epoch\")"
      ],
      "metadata": {
        "colab": {
          "base_uri": "https://localhost:8080/"
        },
        "id": "g4IH7TDOHFUL",
        "outputId": "065a2142-b9ff-47c4-fef9-60926bdc7576"
      },
      "execution_count": null,
      "outputs": [
        {
          "output_type": "stream",
          "name": "stdout",
          "text": [
            "time: 892 µs (started: 2024-01-15 16:46:52 +00:00)\n"
          ]
        }
      ]
    },
    {
      "cell_type": "code",
      "source": [
        "model = create_model()\n",
        "# Save the weights using the `checkpoint_path` format\n",
        "model.save_weights(checkpoint_path.format(epoch=0))"
      ],
      "metadata": {
        "colab": {
          "base_uri": "https://localhost:8080/"
        },
        "id": "Cnh8Vo-BJSxg",
        "outputId": "dbbc30d7-aea8-4dc3-aa24-56fc87e6a903"
      },
      "execution_count": null,
      "outputs": [
        {
          "output_type": "stream",
          "name": "stdout",
          "text": [
            "Downloading data from https://storage.googleapis.com/tensorflow/keras-applications/vgg16/vgg16_weights_tf_dim_ordering_tf_kernels_notop.h5\n",
            "58889256/58889256 [==============================] - 0s 0us/step\n",
            "time: 2.04 s (started: 2024-01-15 16:46:54 +00:00)\n"
          ]
        }
      ]
    },
    {
      "cell_type": "code",
      "source": [
        "steps_per_epoch = X_train.shape[0]//BATCH_SIZE\n",
        "validation_steps = X_validation.shape[0]//BATCH_SIZE"
      ],
      "metadata": {
        "colab": {
          "base_uri": "https://localhost:8080/"
        },
        "id": "W1fZD5LSIX41",
        "outputId": "7d0d5308-355a-46e9-e35e-f5939b285fb7"
      },
      "execution_count": null,
      "outputs": [
        {
          "output_type": "stream",
          "name": "stdout",
          "text": [
            "time: 570 µs (started: 2024-01-15 16:46:56 +00:00)\n"
          ]
        }
      ]
    },
    {
      "cell_type": "code",
      "source": [
        "history = model.fit(train_generator,\n",
        "                   steps_per_epoch=steps_per_epoch,\n",
        "                   epochs=EPOCHS,\n",
        "                   callbacks=[cp_callback],\n",
        "                   validation_data=validation_generator,\n",
        "                   validation_steps=validation_steps,\n",
        "                   shuffle=True,\n",
        "                   verbose=2)"
      ],
      "metadata": {
        "colab": {
          "base_uri": "https://localhost:8080/"
        },
        "id": "oi9E2JsQIZTO",
        "outputId": "d8e37cc6-2899-42d2-eb5f-4b0df0a8d67b"
      },
      "execution_count": null,
      "outputs": [
        {
          "output_type": "stream",
          "name": "stdout",
          "text": [
            "Epoch 1/60\n",
            "\n",
            "Epoch 1: saving model to VGG16/cp-0001.ckpt\n",
            "30/30 - 23s - loss: 0.6828 - acc: 0.6205 - val_loss: 0.6591 - val_acc: 0.6875 - 23s/epoch - 754ms/step\n",
            "Epoch 2/60\n",
            "\n",
            "Epoch 2: saving model to VGG16/cp-0002.ckpt\n",
            "30/30 - 7s - loss: 0.5014 - acc: 0.7527 - val_loss: 0.3713 - val_acc: 0.8000 - 7s/epoch - 240ms/step\n",
            "Epoch 3/60\n",
            "\n",
            "Epoch 3: saving model to VGG16/cp-0003.ckpt\n",
            "30/30 - 9s - loss: 0.3462 - acc: 0.8699 - val_loss: 0.4182 - val_acc: 0.8000 - 9s/epoch - 300ms/step\n",
            "Epoch 4/60\n",
            "\n",
            "Epoch 4: saving model to VGG16/cp-0004.ckpt\n",
            "30/30 - 7s - loss: 0.3345 - acc: 0.8337 - val_loss: 0.4291 - val_acc: 0.8000 - 7s/epoch - 239ms/step\n",
            "Epoch 5/60\n",
            "\n",
            "Epoch 5: saving model to VGG16/cp-0005.ckpt\n",
            "30/30 - 9s - loss: 0.2643 - acc: 0.8635 - val_loss: 0.2998 - val_acc: 0.8250 - 9s/epoch - 309ms/step\n",
            "Epoch 6/60\n",
            "\n",
            "Epoch 6: saving model to VGG16/cp-0006.ckpt\n",
            "30/30 - 7s - loss: 0.2378 - acc: 0.8998 - val_loss: 0.3518 - val_acc: 0.8250 - 7s/epoch - 237ms/step\n",
            "Epoch 7/60\n",
            "\n",
            "Epoch 7: saving model to VGG16/cp-0007.ckpt\n",
            "30/30 - 9s - loss: 0.2122 - acc: 0.9083 - val_loss: 0.1875 - val_acc: 0.9250 - 9s/epoch - 311ms/step\n",
            "Epoch 8/60\n",
            "\n",
            "Epoch 8: saving model to VGG16/cp-0008.ckpt\n",
            "30/30 - 8s - loss: 0.1772 - acc: 0.9296 - val_loss: 0.3270 - val_acc: 0.8625 - 8s/epoch - 264ms/step\n",
            "Epoch 9/60\n",
            "\n",
            "Epoch 9: saving model to VGG16/cp-0009.ckpt\n",
            "30/30 - 7s - loss: 0.2025 - acc: 0.9126 - val_loss: 0.2759 - val_acc: 0.8750 - 7s/epoch - 241ms/step\n",
            "Epoch 10/60\n",
            "\n",
            "Epoch 10: saving model to VGG16/cp-0010.ckpt\n",
            "30/30 - 9s - loss: 0.1384 - acc: 0.9446 - val_loss: 0.3762 - val_acc: 0.8750 - 9s/epoch - 310ms/step\n",
            "Epoch 11/60\n",
            "\n",
            "Epoch 11: saving model to VGG16/cp-0011.ckpt\n",
            "30/30 - 8s - loss: 0.1467 - acc: 0.9403 - val_loss: 0.1747 - val_acc: 0.9375 - 8s/epoch - 259ms/step\n",
            "Epoch 12/60\n",
            "\n",
            "Epoch 12: saving model to VGG16/cp-0012.ckpt\n",
            "30/30 - 9s - loss: 0.1050 - acc: 0.9595 - val_loss: 0.1433 - val_acc: 0.9500 - 9s/epoch - 289ms/step\n",
            "Epoch 13/60\n",
            "\n",
            "Epoch 13: saving model to VGG16/cp-0013.ckpt\n",
            "30/30 - 9s - loss: 0.0838 - acc: 0.9701 - val_loss: 0.2119 - val_acc: 0.9250 - 9s/epoch - 285ms/step\n",
            "Epoch 14/60\n",
            "\n",
            "Epoch 14: saving model to VGG16/cp-0014.ckpt\n",
            "30/30 - 8s - loss: 0.1328 - acc: 0.9552 - val_loss: 0.1704 - val_acc: 0.9250 - 8s/epoch - 256ms/step\n",
            "Epoch 15/60\n",
            "\n",
            "Epoch 15: saving model to VGG16/cp-0015.ckpt\n",
            "30/30 - 9s - loss: 0.0674 - acc: 0.9765 - val_loss: 0.2381 - val_acc: 0.9125 - 9s/epoch - 294ms/step\n",
            "Epoch 16/60\n",
            "\n",
            "Epoch 16: saving model to VGG16/cp-0016.ckpt\n",
            "30/30 - 7s - loss: 0.0494 - acc: 0.9808 - val_loss: 0.5557 - val_acc: 0.8875 - 7s/epoch - 239ms/step\n",
            "Epoch 17/60\n",
            "\n",
            "Epoch 17: saving model to VGG16/cp-0017.ckpt\n",
            "30/30 - 10s - loss: 0.0871 - acc: 0.9701 - val_loss: 0.3389 - val_acc: 0.8875 - 10s/epoch - 337ms/step\n",
            "Epoch 18/60\n",
            "\n",
            "Epoch 18: saving model to VGG16/cp-0018.ckpt\n",
            "30/30 - 7s - loss: 0.1115 - acc: 0.9574 - val_loss: 0.1298 - val_acc: 0.9625 - 7s/epoch - 231ms/step\n",
            "Epoch 19/60\n",
            "\n",
            "Epoch 19: saving model to VGG16/cp-0019.ckpt\n",
            "30/30 - 9s - loss: 0.1112 - acc: 0.9467 - val_loss: 0.3027 - val_acc: 0.9000 - 9s/epoch - 298ms/step\n",
            "Epoch 20/60\n",
            "\n",
            "Epoch 20: saving model to VGG16/cp-0020.ckpt\n",
            "30/30 - 8s - loss: 0.0826 - acc: 0.9701 - val_loss: 0.1839 - val_acc: 0.9375 - 8s/epoch - 256ms/step\n",
            "Epoch 21/60\n",
            "\n",
            "Epoch 21: saving model to VGG16/cp-0021.ckpt\n",
            "30/30 - 7s - loss: 0.0643 - acc: 0.9765 - val_loss: 0.1941 - val_acc: 0.9125 - 7s/epoch - 229ms/step\n",
            "Epoch 22/60\n",
            "\n",
            "Epoch 22: saving model to VGG16/cp-0022.ckpt\n",
            "30/30 - 9s - loss: 0.0818 - acc: 0.9659 - val_loss: 0.1959 - val_acc: 0.9250 - 9s/epoch - 302ms/step\n",
            "Epoch 23/60\n",
            "\n",
            "Epoch 23: saving model to VGG16/cp-0023.ckpt\n",
            "30/30 - 7s - loss: 0.0589 - acc: 0.9765 - val_loss: 0.1120 - val_acc: 0.9500 - 7s/epoch - 238ms/step\n",
            "Epoch 24/60\n",
            "\n",
            "Epoch 24: saving model to VGG16/cp-0024.ckpt\n",
            "30/30 - 9s - loss: 0.0492 - acc: 0.9808 - val_loss: 0.2508 - val_acc: 0.9000 - 9s/epoch - 309ms/step\n",
            "Epoch 25/60\n",
            "\n",
            "Epoch 25: saving model to VGG16/cp-0025.ckpt\n",
            "30/30 - 7s - loss: 0.0668 - acc: 0.9723 - val_loss: 0.4780 - val_acc: 0.9000 - 7s/epoch - 243ms/step\n",
            "Epoch 26/60\n",
            "\n",
            "Epoch 26: saving model to VGG16/cp-0026.ckpt\n",
            "30/30 - 7s - loss: 0.0961 - acc: 0.9552 - val_loss: 0.2668 - val_acc: 0.9250 - 7s/epoch - 241ms/step\n",
            "Epoch 27/60\n",
            "\n",
            "Epoch 27: saving model to VGG16/cp-0027.ckpt\n",
            "30/30 - 9s - loss: 0.0464 - acc: 0.9872 - val_loss: 0.1177 - val_acc: 0.9375 - 9s/epoch - 302ms/step\n",
            "Epoch 28/60\n",
            "\n",
            "Epoch 28: saving model to VGG16/cp-0028.ckpt\n",
            "30/30 - 7s - loss: 0.0724 - acc: 0.9808 - val_loss: 0.1586 - val_acc: 0.9500 - 7s/epoch - 239ms/step\n",
            "Epoch 29/60\n",
            "\n",
            "Epoch 29: saving model to VGG16/cp-0029.ckpt\n",
            "30/30 - 9s - loss: 0.0643 - acc: 0.9744 - val_loss: 0.0224 - val_acc: 1.0000 - 9s/epoch - 310ms/step\n",
            "Epoch 30/60\n",
            "\n",
            "Epoch 30: saving model to VGG16/cp-0030.ckpt\n",
            "30/30 - 7s - loss: 0.0645 - acc: 0.9723 - val_loss: 0.1919 - val_acc: 0.9625 - 7s/epoch - 242ms/step\n",
            "Epoch 31/60\n",
            "\n",
            "Epoch 31: saving model to VGG16/cp-0031.ckpt\n",
            "30/30 - 9s - loss: 0.0618 - acc: 0.9765 - val_loss: 0.1643 - val_acc: 0.9500 - 9s/epoch - 308ms/step\n",
            "Epoch 32/60\n",
            "\n",
            "Epoch 32: saving model to VGG16/cp-0032.ckpt\n",
            "30/30 - 8s - loss: 0.0473 - acc: 0.9851 - val_loss: 0.1470 - val_acc: 0.9500 - 8s/epoch - 262ms/step\n",
            "Epoch 33/60\n",
            "\n",
            "Epoch 33: saving model to VGG16/cp-0033.ckpt\n",
            "30/30 - 8s - loss: 0.0558 - acc: 0.9829 - val_loss: 0.1946 - val_acc: 0.9375 - 8s/epoch - 265ms/step\n",
            "Epoch 34/60\n",
            "\n",
            "Epoch 34: saving model to VGG16/cp-0034.ckpt\n",
            "30/30 - 9s - loss: 0.0442 - acc: 0.9829 - val_loss: 0.3259 - val_acc: 0.8875 - 9s/epoch - 303ms/step\n",
            "Epoch 35/60\n",
            "\n",
            "Epoch 35: saving model to VGG16/cp-0035.ckpt\n",
            "30/30 - 7s - loss: 0.0549 - acc: 0.9851 - val_loss: 0.2170 - val_acc: 0.9250 - 7s/epoch - 240ms/step\n",
            "Epoch 36/60\n",
            "\n",
            "Epoch 36: saving model to VGG16/cp-0036.ckpt\n",
            "30/30 - 9s - loss: 0.0608 - acc: 0.9808 - val_loss: 0.1426 - val_acc: 0.9250 - 9s/epoch - 305ms/step\n",
            "Epoch 37/60\n",
            "\n",
            "Epoch 37: saving model to VGG16/cp-0037.ckpt\n",
            "30/30 - 8s - loss: 0.0244 - acc: 0.9915 - val_loss: 0.2180 - val_acc: 0.9250 - 8s/epoch - 253ms/step\n",
            "Epoch 38/60\n",
            "\n",
            "Epoch 38: saving model to VGG16/cp-0038.ckpt\n",
            "30/30 - 7s - loss: 0.0474 - acc: 0.9829 - val_loss: 0.2099 - val_acc: 0.9500 - 7s/epoch - 230ms/step\n",
            "Epoch 39/60\n",
            "\n",
            "Epoch 39: saving model to VGG16/cp-0039.ckpt\n",
            "30/30 - 9s - loss: 0.0234 - acc: 0.9915 - val_loss: 0.1655 - val_acc: 0.9500 - 9s/epoch - 297ms/step\n",
            "Epoch 40/60\n",
            "\n",
            "Epoch 40: saving model to VGG16/cp-0040.ckpt\n",
            "30/30 - 7s - loss: 0.0407 - acc: 0.9851 - val_loss: 0.1399 - val_acc: 0.9375 - 7s/epoch - 228ms/step\n",
            "Epoch 41/60\n",
            "\n",
            "Epoch 41: saving model to VGG16/cp-0041.ckpt\n",
            "30/30 - 9s - loss: 0.0222 - acc: 0.9957 - val_loss: 0.1959 - val_acc: 0.9500 - 9s/epoch - 302ms/step\n",
            "Epoch 42/60\n",
            "\n",
            "Epoch 42: saving model to VGG16/cp-0042.ckpt\n",
            "30/30 - 7s - loss: 0.0441 - acc: 0.9893 - val_loss: 0.1908 - val_acc: 0.9500 - 7s/epoch - 241ms/step\n",
            "Epoch 43/60\n",
            "\n",
            "Epoch 43: saving model to VGG16/cp-0043.ckpt\n",
            "30/30 - 7s - loss: 0.0339 - acc: 0.9808 - val_loss: 0.2911 - val_acc: 0.9250 - 7s/epoch - 236ms/step\n",
            "Epoch 44/60\n",
            "\n",
            "Epoch 44: saving model to VGG16/cp-0044.ckpt\n",
            "30/30 - 9s - loss: 0.0415 - acc: 0.9893 - val_loss: 0.1064 - val_acc: 0.9500 - 9s/epoch - 307ms/step\n",
            "Epoch 45/60\n",
            "\n",
            "Epoch 45: saving model to VGG16/cp-0045.ckpt\n",
            "30/30 - 7s - loss: 0.0387 - acc: 0.9872 - val_loss: 0.2110 - val_acc: 0.9375 - 7s/epoch - 238ms/step\n",
            "Epoch 46/60\n",
            "\n",
            "Epoch 46: saving model to VGG16/cp-0046.ckpt\n",
            "30/30 - 9s - loss: 0.0540 - acc: 0.9851 - val_loss: 0.1993 - val_acc: 0.9250 - 9s/epoch - 303ms/step\n",
            "Epoch 47/60\n",
            "\n",
            "Epoch 47: saving model to VGG16/cp-0047.ckpt\n",
            "30/30 - 8s - loss: 0.0195 - acc: 0.9915 - val_loss: 0.1037 - val_acc: 0.9625 - 8s/epoch - 253ms/step\n",
            "Epoch 48/60\n",
            "\n",
            "Epoch 48: saving model to VGG16/cp-0048.ckpt\n",
            "30/30 - 7s - loss: 0.0227 - acc: 0.9936 - val_loss: 0.1178 - val_acc: 0.9375 - 7s/epoch - 228ms/step\n",
            "Epoch 49/60\n",
            "\n",
            "Epoch 49: saving model to VGG16/cp-0049.ckpt\n",
            "30/30 - 8s - loss: 0.0222 - acc: 0.9872 - val_loss: 0.2863 - val_acc: 0.9125 - 8s/epoch - 275ms/step\n",
            "Epoch 50/60\n",
            "\n",
            "Epoch 50: saving model to VGG16/cp-0050.ckpt\n",
            "30/30 - 8s - loss: 0.0430 - acc: 0.9829 - val_loss: 0.1990 - val_acc: 0.9375 - 8s/epoch - 266ms/step\n",
            "Epoch 51/60\n",
            "\n",
            "Epoch 51: saving model to VGG16/cp-0051.ckpt\n",
            "30/30 - 8s - loss: 0.0226 - acc: 0.9936 - val_loss: 0.1411 - val_acc: 0.9500 - 8s/epoch - 261ms/step\n",
            "Epoch 52/60\n",
            "\n",
            "Epoch 52: saving model to VGG16/cp-0052.ckpt\n",
            "30/30 - 9s - loss: 0.0285 - acc: 0.9915 - val_loss: 0.2878 - val_acc: 0.9500 - 9s/epoch - 306ms/step\n",
            "Epoch 53/60\n",
            "\n",
            "Epoch 53: saving model to VGG16/cp-0053.ckpt\n",
            "30/30 - 7s - loss: 0.0399 - acc: 0.9872 - val_loss: 0.1213 - val_acc: 0.9500 - 7s/epoch - 247ms/step\n",
            "Epoch 54/60\n",
            "\n",
            "Epoch 54: saving model to VGG16/cp-0054.ckpt\n",
            "30/30 - 7s - loss: 0.0263 - acc: 0.9915 - val_loss: 0.1467 - val_acc: 0.9750 - 7s/epoch - 235ms/step\n",
            "Epoch 55/60\n",
            "\n",
            "Epoch 55: saving model to VGG16/cp-0055.ckpt\n",
            "30/30 - 8s - loss: 0.0186 - acc: 0.9957 - val_loss: 0.2394 - val_acc: 0.9500 - 8s/epoch - 280ms/step\n",
            "Epoch 56/60\n",
            "\n",
            "Epoch 56: saving model to VGG16/cp-0056.ckpt\n",
            "30/30 - 8s - loss: 0.0147 - acc: 0.9979 - val_loss: 0.1558 - val_acc: 0.9375 - 8s/epoch - 267ms/step\n",
            "Epoch 57/60\n",
            "\n",
            "Epoch 57: saving model to VGG16/cp-0057.ckpt\n",
            "30/30 - 8s - loss: 0.0067 - acc: 1.0000 - val_loss: 0.0651 - val_acc: 0.9625 - 8s/epoch - 257ms/step\n",
            "Epoch 58/60\n",
            "\n",
            "Epoch 58: saving model to VGG16/cp-0058.ckpt\n",
            "30/30 - 8s - loss: 0.0107 - acc: 0.9979 - val_loss: 0.1222 - val_acc: 0.9625 - 8s/epoch - 277ms/step\n",
            "Epoch 59/60\n",
            "\n",
            "Epoch 59: saving model to VGG16/cp-0059.ckpt\n",
            "30/30 - 7s - loss: 0.0024 - acc: 1.0000 - val_loss: 0.0666 - val_acc: 0.9625 - 7s/epoch - 246ms/step\n",
            "Epoch 60/60\n",
            "\n",
            "Epoch 60: saving model to VGG16/cp-0060.ckpt\n",
            "30/30 - 9s - loss: 0.0051 - acc: 0.9979 - val_loss: 0.2821 - val_acc: 0.9375 - 9s/epoch - 305ms/step\n",
            "time: 9min (started: 2024-01-15 16:46:56 +00:00)\n"
          ]
        }
      ]
    },
    {
      "cell_type": "code",
      "source": [
        "# Especificar o diretório de destino no Google Drive\n",
        "drive_dir = '/content/drive/MyDrive/VGG16/'"
      ],
      "metadata": {
        "colab": {
          "base_uri": "https://localhost:8080/"
        },
        "id": "ic90m-9fQdlK",
        "outputId": "c8f0f0e0-ae5e-4709-8d15-ae94274042e5"
      },
      "execution_count": null,
      "outputs": [
        {
          "output_type": "stream",
          "name": "stdout",
          "text": [
            "time: 494 µs (started: 2024-01-15 16:55:56 +00:00)\n"
          ]
        }
      ]
    },
    {
      "cell_type": "code",
      "source": [
        "shutil.copytree(checkpoint_dir, drive_dir)"
      ],
      "metadata": {
        "colab": {
          "base_uri": "https://localhost:8080/",
          "height": 53
        },
        "id": "AieJKDaXP4TR",
        "outputId": "3c47e82f-1ea0-435f-e7d2-0366314bc433"
      },
      "execution_count": null,
      "outputs": [
        {
          "output_type": "execute_result",
          "data": {
            "text/plain": [
              "'/content/drive/MyDrive/VGG16/'"
            ],
            "application/vnd.google.colaboratory.intrinsic+json": {
              "type": "string"
            }
          },
          "metadata": {},
          "execution_count": 18
        },
        {
          "output_type": "stream",
          "name": "stdout",
          "text": [
            "time: 2min 27s (started: 2024-01-15 16:55:56 +00:00)\n"
          ]
        }
      ]
    },
    {
      "cell_type": "code",
      "execution_count": null,
      "metadata": {
        "colab": {
          "base_uri": "https://localhost:8080/"
        },
        "id": "psL6jhi8-UT_",
        "outputId": "2b5997a6-af83-4aef-ec45-8bf0e469487a"
      },
      "outputs": [
        {
          "output_type": "stream",
          "name": "stdout",
          "text": [
            "time: 766 µs (started: 2024-01-15 16:59:34 +00:00)\n"
          ]
        }
      ],
      "source": [
        "def smooth_curve(points, factor=0.8): #this function will make our plots more smooth\n",
        "\tsmoothed_points = []\n",
        "\tfor point in points:\n",
        "\t\tif smoothed_points:\n",
        "\t\t\tprevious = smoothed_points[-1]\n",
        "\t\t\tsmoothed_points.append(previous*factor+point*(1-factor))\n",
        "\t\telse:\n",
        "\t\t\tsmoothed_points.append(point)\n",
        "\treturn smoothed_points"
      ]
    },
    {
      "cell_type": "code",
      "source": [
        "def imprime_graficos(history):\n",
        "  acc = history.history['acc']\n",
        "  val_acc = history.history['val_acc']\n",
        "  loss = history.history['loss']\n",
        "  val_loss = history.history['val_loss']\n",
        "\n",
        "  epochs = range(1, len(acc)+1)\n",
        "  plt.plot(epochs, smooth_curve(acc), 'bo', label='Treinamento acc')\n",
        "  plt.plot(epochs, smooth_curve(val_acc), 'r-', label='Validação acc')\n",
        "  plt.legend()\n",
        "  plt.title('Treinamento and Validação Acc')\n",
        "  plt.figure()\n",
        "\n",
        "  plt.plot(epochs, smooth_curve(loss), 'bo', label='Treinamento loss')\n",
        "  plt.plot(epochs, smooth_curve(val_loss), 'r-', label='Validação loss')\n",
        "  plt.legend()\n",
        "  plt.title('Treinamento e Validação Loss')\n",
        "  plt.show()\n",
        "\n",
        "  print(\"\\n\")"
      ],
      "metadata": {
        "colab": {
          "base_uri": "https://localhost:8080/"
        },
        "id": "tCp08vPNeCju",
        "outputId": "7517f90f-5254-4f95-f091-4be70a0dd9bc"
      },
      "execution_count": null,
      "outputs": [
        {
          "output_type": "stream",
          "name": "stdout",
          "text": [
            "time: 6.04 ms (started: 2024-01-15 16:59:21 +00:00)\n"
          ]
        }
      ]
    },
    {
      "cell_type": "code",
      "execution_count": null,
      "metadata": {
        "colab": {
          "base_uri": "https://localhost:8080/"
        },
        "id": "wMwF5avo4hk8",
        "outputId": "7f5c4414-5280-42be-f48a-fbedf3034c8b"
      },
      "outputs": [
        {
          "output_type": "stream",
          "name": "stdout",
          "text": [
            "time: 783 µs (started: 2024-01-15 16:59:38 +00:00)\n"
          ]
        }
      ],
      "source": [
        "def metricas(modelo_metricas, epocas):\n",
        "\n",
        "  # Obter as previsões do modelo nos dados de teste\n",
        "  y_pred = modelo_metricas.predict(X_test)\n",
        "\n",
        "  # Converter as previsões em rótulos binários\n",
        "  y_pred_binary = (y_pred > 0.5).astype(int)\n",
        "\n",
        "  # Calcular as métricas de precisão, recall e F1 Score\n",
        "  classification_rep = classification_report(Y_test, y_pred_binary)\n",
        "  print(\"Classification Report:\\n\", classification_rep)\n",
        "\n",
        "\n",
        "  #Calcula a matriz de confusão\n",
        "  cm = confusion_matrix(Y_test, y_pred_binary)\n",
        "  # Display\n",
        "  plt.figure(figsize=(4, 4))\n",
        "\n",
        "  sns.heatmap(cm, annot=True, fmt='g', vmin=0, cmap='Reds', cbar=False)\n",
        "  plt.xticks(ticks=[0.5, 1.5], labels=[\"No Pollen\", \"Pollen\"])\n",
        "  plt.yticks(ticks=[0.5, 1.5], labels=[\"No Pollen\", \"Pollen\"])\n",
        "  plt.xlabel(\"Predicted\")\n",
        "  plt.ylabel(\"Actual\")\n",
        "  plt.title(\"Confusion Matrix \" + str(epocas) + \" épocas\")\n",
        "\n",
        "  plt.show()\n",
        "\n",
        "  print(\"\\n\")"
      ]
    },
    {
      "cell_type": "code",
      "source": [
        "epoca = 10\n",
        "for i in range(6):\n",
        "  cp = \"VGG16/cp-00\"+str(epoca)+\".ckpt\"\n",
        "  print(\"Avaliando modelo com checkpoint \" + cp + \" correspondente a época \" + str(epoca))\n",
        "  avaliacao_modelo = create_model()\n",
        "  # Load the previously saved weights\n",
        "  avaliacao_modelo.load_weights(cp)\n",
        "\n",
        "  # Re-evaluate the model\n",
        "  loss, acc = avaliacao_modelo.evaluate(X_test, Y_test)\n",
        "  print(\"Restored model, accuracy: \" + str(acc) )\n",
        "  print(\"Restored model, loss: \" + str(loss) + \"\\n\")\n",
        "\n",
        "  metricas(avaliacao_modelo, epoca)\n",
        "\n",
        "  epoca += 10"
      ],
      "metadata": {
        "colab": {
          "base_uri": "https://localhost:8080/",
          "height": 1000
        },
        "id": "Hcftf7YvhGSy",
        "outputId": "f2ed3660-50a8-433c-8832-6e1d17cba480"
      },
      "execution_count": null,
      "outputs": [
        {
          "output_type": "stream",
          "name": "stdout",
          "text": [
            "Avaliando modelo com checkpoint VGG16/cp-0010.ckpt correspondente a época 10\n",
            "5/5 [==============================] - 12s 1s/step - loss: 0.1663 - acc: 0.9650\n",
            "Restored model, accuracy: 0.9650349617004395\n",
            "Restored model, loss: 0.16627134382724762\n",
            "\n",
            "5/5 [==============================] - 1s 129ms/step\n",
            "Classification Report:\n",
            "               precision    recall  f1-score   support\n",
            "\n",
            "           0       0.93      1.00      0.97        71\n",
            "           1       1.00      0.93      0.96        72\n",
            "\n",
            "    accuracy                           0.97       143\n",
            "   macro avg       0.97      0.97      0.97       143\n",
            "weighted avg       0.97      0.97      0.97       143\n",
            "\n"
          ]
        },
        {
          "output_type": "display_data",
          "data": {
            "text/plain": [
              "<Figure size 400x400 with 1 Axes>"
            ],
            "image/png": "[encoded data removed]"
          },
          "metadata": {}
        },
        {
          "output_type": "stream",
          "name": "stdout",
          "text": [
            "\n",
            "\n",
            "Avaliando modelo com checkpoint VGG16/cp-0020.ckpt correspondente a época 20\n",
            "5/5 [==============================] - 1s 108ms/step - loss: 0.0992 - acc: 0.9580\n",
            "Restored model, accuracy: 0.9580419659614563\n",
            "Restored model, loss: 0.09922319650650024\n",
            "\n",
            "5/5 [==============================] - 1s 115ms/step\n",
            "Classification Report:\n",
            "               precision    recall  f1-score   support\n",
            "\n",
            "           0       0.95      0.97      0.96        71\n",
            "           1       0.97      0.94      0.96        72\n",
            "\n",
            "    accuracy                           0.96       143\n",
            "   macro avg       0.96      0.96      0.96       143\n",
            "weighted avg       0.96      0.96      0.96       143\n",
            "\n"
          ]
        },
        {
          "output_type": "display_data",
          "data": {
            "text/plain": [
              "<Figure size 400x400 with 1 Axes>"
            ],
            "image/png": "[encoded data removed]"
          },
          "metadata": {}
        },
        {
          "output_type": "stream",
          "name": "stdout",
          "text": [
            "\n",
            "\n",
            "Avaliando modelo com checkpoint VGG16/cp-0030.ckpt correspondente a época 30\n",
            "5/5 [==============================] - 1s 110ms/step - loss: 0.0628 - acc: 0.9720\n",
            "Restored model, accuracy: 0.9720279574394226\n",
            "Restored model, loss: 0.06275180727243423\n",
            "\n",
            "5/5 [==============================] - 1s 118ms/step\n",
            "Classification Report:\n",
            "               precision    recall  f1-score   support\n",
            "\n",
            "           0       0.99      0.96      0.97        71\n",
            "           1       0.96      0.99      0.97        72\n",
            "\n",
            "    accuracy                           0.97       143\n",
            "   macro avg       0.97      0.97      0.97       143\n",
            "weighted avg       0.97      0.97      0.97       143\n",
            "\n"
          ]
        },
        {
          "output_type": "display_data",
          "data": {
            "text/plain": [
              "<Figure size 400x400 with 1 Axes>"
            ],
            "image/png": "[encoded data removed]"
          },
          "metadata": {}
        },
        {
          "output_type": "stream",
          "name": "stdout",
          "text": [
            "\n",
            "\n",
            "Avaliando modelo com checkpoint VGG16/cp-0040.ckpt correspondente a época 40\n",
            "5/5 [==============================] - 1s 110ms/step - loss: 0.2381 - acc: 0.9580\n",
            "Restored model, accuracy: 0.9580419659614563\n",
            "Restored model, loss: 0.2380804568529129\n",
            "\n",
            "5/5 [==============================] - 1s 116ms/step\n",
            "Classification Report:\n",
            "               precision    recall  f1-score   support\n",
            "\n",
            "           0       0.92      1.00      0.96        71\n",
            "           1       1.00      0.92      0.96        72\n",
            "\n",
            "    accuracy                           0.96       143\n",
            "   macro avg       0.96      0.96      0.96       143\n",
            "weighted avg       0.96      0.96      0.96       143\n",
            "\n"
          ]
        },
        {
          "output_type": "display_data",
          "data": {
            "text/plain": [
              "<Figure size 400x400 with 1 Axes>"
            ],
            "image/png": "[encoded data removed]"
          },
          "metadata": {}
        },
        {
          "output_type": "stream",
          "name": "stdout",
          "text": [
            "\n",
            "\n",
            "Avaliando modelo com checkpoint VGG16/cp-0050.ckpt correspondente a época 50\n",
            "5/5 [==============================] - 1s 111ms/step - loss: 0.1451 - acc: 0.9790\n",
            "Restored model, accuracy: 0.9790209531784058\n",
            "Restored model, loss: 0.14512881636619568\n",
            "\n",
            "5/5 [==============================] - 1s 117ms/step\n",
            "Classification Report:\n",
            "               precision    recall  f1-score   support\n",
            "\n",
            "           0       0.96      1.00      0.98        71\n",
            "           1       1.00      0.96      0.98        72\n",
            "\n",
            "    accuracy                           0.98       143\n",
            "   macro avg       0.98      0.98      0.98       143\n",
            "weighted avg       0.98      0.98      0.98       143\n",
            "\n"
          ]
        },
        {
          "output_type": "display_data",
          "data": {
            "text/plain": [
              "<Figure size 400x400 with 1 Axes>"
            ],
            "image/png": "[encoded data removed]"
          },
          "metadata": {}
        },
        {
          "output_type": "stream",
          "name": "stdout",
          "text": [
            "\n",
            "\n",
            "Avaliando modelo com checkpoint VGG16/cp-0060.ckpt correspondente a época 60\n",
            "5/5 [==============================] - 1s 108ms/step - loss: 0.1073 - acc: 0.9860\n",
            "Restored model, accuracy: 0.9860140085220337\n",
            "Restored model, loss: 0.10734174400568008\n",
            "\n",
            "5/5 [==============================] - 1s 116ms/step\n",
            "Classification Report:\n",
            "               precision    recall  f1-score   support\n",
            "\n",
            "           0       0.97      1.00      0.99        71\n",
            "           1       1.00      0.97      0.99        72\n",
            "\n",
            "    accuracy                           0.99       143\n",
            "   macro avg       0.99      0.99      0.99       143\n",
            "weighted avg       0.99      0.99      0.99       143\n",
            "\n"
          ]
        },
        {
          "output_type": "display_data",
          "data": {
            "text/plain": [
              "<Figure size 400x400 with 1 Axes>"
            ],
            "image/png": "[encoded data removed]"
          },
          "metadata": {}
        },
        {
          "output_type": "stream",
          "name": "stdout",
          "text": [
            "\n",
            "\n",
            "time: 42.8 s (started: 2024-01-15 16:59:44 +00:00)\n"
          ]
        }
      ]
    },
    {
      "cell_type": "code",
      "source": [
        "imprime_graficos(history)"
      ],
      "metadata": {
        "id": "F3ZtmSa1jk2b",
        "colab": {
          "base_uri": "https://localhost:8080/",
          "height": 1000
        },
        "outputId": "f4a6f7a9-5e51-4d29-c002-df7834201422"
      },
      "execution_count": null,
      "outputs": [
        {
          "output_type": "stream",
          "name": "stderr",
          "text": [
            "WARNING:tensorflow:Detecting that an object or model or tf.train.Checkpoint is being deleted with unrestored values. See the following logs for the specific values in question. To silence these warnings, use `status.expect_partial()`. See https://www.tensorflow.org/api_docs/python/tf/train/Checkpoint#restorefor details about the status object returned by the restore function.\n",
            "WARNING:tensorflow:Value in checkpoint could not be found in the restored object: (root).optimizer._variables.1\n",
            "WARNING:tensorflow:Value in checkpoint could not be found in the restored object: (root).optimizer._variables.2\n",
            "WARNING:tensorflow:Value in checkpoint could not be found in the restored object: (root).optimizer._variables.3\n",
            "WARNING:tensorflow:Value in checkpoint could not be found in the restored object: (root).optimizer._variables.4\n",
            "WARNING:tensorflow:Value in checkpoint could not be found in the restored object: (root).optimizer._variables.5\n",
            "WARNING:tensorflow:Value in checkpoint could not be found in the restored object: (root).optimizer._variables.6\n",
            "WARNING:tensorflow:Value in checkpoint could not be found in the restored object: (root).optimizer._variables.7\n",
            "WARNING:tensorflow:Value in checkpoint could not be found in the restored object: (root).optimizer._variables.8\n",
            "WARNING:tensorflow:Value in checkpoint could not be found in the restored object: (root).optimizer._variables.9\n",
            "WARNING:tensorflow:Value in checkpoint could not be found in the restored object: (root).optimizer._variables.10\n",
            "WARNING:tensorflow:Value in checkpoint could not be found in the restored object: (root).optimizer._variables.11\n",
            "WARNING:tensorflow:Value in checkpoint could not be found in the restored object: (root).optimizer._variables.12\n",
            "WARNING:tensorflow:Value in checkpoint could not be found in the restored object: (root).optimizer._variables.13\n",
            "WARNING:tensorflow:Value in checkpoint could not be found in the restored object: (root).optimizer._variables.14\n",
            "WARNING:tensorflow:Value in checkpoint could not be found in the restored object: (root).optimizer._variables.15\n",
            "WARNING:tensorflow:Value in checkpoint could not be found in the restored object: (root).optimizer._variables.16\n",
            "WARNING:tensorflow:Value in checkpoint could not be found in the restored object: (root).optimizer._variables.17\n",
            "WARNING:tensorflow:Value in checkpoint could not be found in the restored object: (root).optimizer._variables.18\n",
            "WARNING:tensorflow:Value in checkpoint could not be found in the restored object: (root).optimizer._variables.19\n",
            "WARNING:tensorflow:Value in checkpoint could not be found in the restored object: (root).optimizer._variables.20\n",
            "WARNING:tensorflow:Detecting that an object or model or tf.train.Checkpoint is being deleted with unrestored values. See the following logs for the specific values in question. To silence these warnings, use `status.expect_partial()`. See https://www.tensorflow.org/api_docs/python/tf/train/Checkpoint#restorefor details about the status object returned by the restore function.\n",
            "WARNING:tensorflow:Value in checkpoint could not be found in the restored object: (root).optimizer._variables.1\n",
            "WARNING:tensorflow:Value in checkpoint could not be found in the restored object: (root).optimizer._variables.2\n",
            "WARNING:tensorflow:Value in checkpoint could not be found in the restored object: (root).optimizer._variables.3\n",
            "WARNING:tensorflow:Value in checkpoint could not be found in the restored object: (root).optimizer._variables.4\n",
            "WARNING:tensorflow:Value in checkpoint could not be found in the restored object: (root).optimizer._variables.5\n",
            "WARNING:tensorflow:Value in checkpoint could not be found in the restored object: (root).optimizer._variables.6\n",
            "WARNING:tensorflow:Value in checkpoint could not be found in the restored object: (root).optimizer._variables.7\n",
            "WARNING:tensorflow:Value in checkpoint could not be found in the restored object: (root).optimizer._variables.8\n",
            "WARNING:tensorflow:Value in checkpoint could not be found in the restored object: (root).optimizer._variables.9\n",
            "WARNING:tensorflow:Value in checkpoint could not be found in the restored object: (root).optimizer._variables.10\n",
            "WARNING:tensorflow:Value in checkpoint could not be found in the restored object: (root).optimizer._variables.11\n",
            "WARNING:tensorflow:Value in checkpoint could not be found in the restored object: (root).optimizer._variables.12\n",
            "WARNING:tensorflow:Value in checkpoint could not be found in the restored object: (root).optimizer._variables.13\n",
            "WARNING:tensorflow:Value in checkpoint could not be found in the restored object: (root).optimizer._variables.14\n",
            "WARNING:tensorflow:Value in checkpoint could not be found in the restored object: (root).optimizer._variables.15\n",
            "WARNING:tensorflow:Value in checkpoint could not be found in the restored object: (root).optimizer._variables.16\n",
            "WARNING:tensorflow:Value in checkpoint could not be found in the restored object: (root).optimizer._variables.17\n",
            "WARNING:tensorflow:Value in checkpoint could not be found in the restored object: (root).optimizer._variables.18\n",
            "WARNING:tensorflow:Value in checkpoint could not be found in the restored object: (root).optimizer._variables.19\n",
            "WARNING:tensorflow:Value in checkpoint could not be found in the restored object: (root).optimizer._variables.20\n",
            "WARNING:tensorflow:Detecting that an object or model or tf.train.Checkpoint is being deleted with unrestored values. See the following logs for the specific values in question. To silence these warnings, use `status.expect_partial()`. See https://www.tensorflow.org/api_docs/python/tf/train/Checkpoint#restorefor details about the status object returned by the restore function.\n",
            "WARNING:tensorflow:Value in checkpoint could not be found in the restored object: (root).optimizer._variables.1\n",
            "WARNING:tensorflow:Value in checkpoint could not be found in the restored object: (root).optimizer._variables.2\n",
            "WARNING:tensorflow:Value in checkpoint could not be found in the restored object: (root).optimizer._variables.3\n",
            "WARNING:tensorflow:Value in checkpoint could not be found in the restored object: (root).optimizer._variables.4\n",
            "WARNING:tensorflow:Value in checkpoint could not be found in the restored object: (root).optimizer._variables.5\n",
            "WARNING:tensorflow:Value in checkpoint could not be found in the restored object: (root).optimizer._variables.6\n",
            "WARNING:tensorflow:Value in checkpoint could not be found in the restored object: (root).optimizer._variables.7\n",
            "WARNING:tensorflow:Value in checkpoint could not be found in the restored object: (root).optimizer._variables.8\n",
            "WARNING:tensorflow:Value in checkpoint could not be found in the restored object: (root).optimizer._variables.9\n",
            "WARNING:tensorflow:Value in checkpoint could not be found in the restored object: (root).optimizer._variables.10\n",
            "WARNING:tensorflow:Value in checkpoint could not be found in the restored object: (root).optimizer._variables.11\n",
            "WARNING:tensorflow:Value in checkpoint could not be found in the restored object: (root).optimizer._variables.12\n",
            "WARNING:tensorflow:Value in checkpoint could not be found in the restored object: (root).optimizer._variables.13\n",
            "WARNING:tensorflow:Value in checkpoint could not be found in the restored object: (root).optimizer._variables.14\n",
            "WARNING:tensorflow:Value in checkpoint could not be found in the restored object: (root).optimizer._variables.15\n",
            "WARNING:tensorflow:Value in checkpoint could not be found in the restored object: (root).optimizer._variables.16\n",
            "WARNING:tensorflow:Value in checkpoint could not be found in the restored object: (root).optimizer._variables.17\n",
            "WARNING:tensorflow:Value in checkpoint could not be found in the restored object: (root).optimizer._variables.18\n",
            "WARNING:tensorflow:Value in checkpoint could not be found in the restored object: (root).optimizer._variables.19\n",
            "WARNING:tensorflow:Value in checkpoint could not be found in the restored object: (root).optimizer._variables.20\n",
            "WARNING:tensorflow:Detecting that an object or model or tf.train.Checkpoint is being deleted with unrestored values. See the following logs for the specific values in question. To silence these warnings, use `status.expect_partial()`. See https://www.tensorflow.org/api_docs/python/tf/train/Checkpoint#restorefor details about the status object returned by the restore function.\n",
            "WARNING:tensorflow:Value in checkpoint could not be found in the restored object: (root).optimizer._variables.1\n",
            "WARNING:tensorflow:Value in checkpoint could not be found in the restored object: (root).optimizer._variables.2\n",
            "WARNING:tensorflow:Value in checkpoint could not be found in the restored object: (root).optimizer._variables.3\n",
            "WARNING:tensorflow:Value in checkpoint could not be found in the restored object: (root).optimizer._variables.4\n",
            "WARNING:tensorflow:Value in checkpoint could not be found in the restored object: (root).optimizer._variables.5\n",
            "WARNING:tensorflow:Value in checkpoint could not be found in the restored object: (root).optimizer._variables.6\n",
            "WARNING:tensorflow:Value in checkpoint could not be found in the restored object: (root).optimizer._variables.7\n",
            "WARNING:tensorflow:Value in checkpoint could not be found in the restored object: (root).optimizer._variables.8\n",
            "WARNING:tensorflow:Value in checkpoint could not be found in the restored object: (root).optimizer._variables.9\n",
            "WARNING:tensorflow:Value in checkpoint could not be found in the restored object: (root).optimizer._variables.10\n",
            "WARNING:tensorflow:Value in checkpoint could not be found in the restored object: (root).optimizer._variables.11\n",
            "WARNING:tensorflow:Value in checkpoint could not be found in the restored object: (root).optimizer._variables.12\n",
            "WARNING:tensorflow:Value in checkpoint could not be found in the restored object: (root).optimizer._variables.13\n",
            "WARNING:tensorflow:Value in checkpoint could not be found in the restored object: (root).optimizer._variables.14\n",
            "WARNING:tensorflow:Value in checkpoint could not be found in the restored object: (root).optimizer._variables.15\n",
            "WARNING:tensorflow:Value in checkpoint could not be found in the restored object: (root).optimizer._variables.16\n",
            "WARNING:tensorflow:Value in checkpoint could not be found in the restored object: (root).optimizer._variables.17\n",
            "WARNING:tensorflow:Value in checkpoint could not be found in the restored object: (root).optimizer._variables.18\n",
            "WARNING:tensorflow:Value in checkpoint could not be found in the restored object: (root).optimizer._variables.19\n",
            "WARNING:tensorflow:Value in checkpoint could not be found in the restored object: (root).optimizer._variables.20\n",
            "WARNING:tensorflow:Detecting that an object or model or tf.train.Checkpoint is being deleted with unrestored values. See the following logs for the specific values in question. To silence these warnings, use `status.expect_partial()`. See https://www.tensorflow.org/api_docs/python/tf/train/Checkpoint#restorefor details about the status object returned by the restore function.\n",
            "WARNING:tensorflow:Value in checkpoint could not be found in the restored object: (root).optimizer._variables.1\n",
            "WARNING:tensorflow:Value in checkpoint could not be found in the restored object: (root).optimizer._variables.2\n",
            "WARNING:tensorflow:Value in checkpoint could not be found in the restored object: (root).optimizer._variables.3\n",
            "WARNING:tensorflow:Value in checkpoint could not be found in the restored object: (root).optimizer._variables.4\n",
            "WARNING:tensorflow:Value in checkpoint could not be found in the restored object: (root).optimizer._variables.5\n",
            "WARNING:tensorflow:Value in checkpoint could not be found in the restored object: (root).optimizer._variables.6\n",
            "WARNING:tensorflow:Value in checkpoint could not be found in the restored object: (root).optimizer._variables.7\n",
            "WARNING:tensorflow:Value in checkpoint could not be found in the restored object: (root).optimizer._variables.8\n",
            "WARNING:tensorflow:Value in checkpoint could not be found in the restored object: (root).optimizer._variables.9\n",
            "WARNING:tensorflow:Value in checkpoint could not be found in the restored object: (root).optimizer._variables.10\n",
            "WARNING:tensorflow:Value in checkpoint could not be found in the restored object: (root).optimizer._variables.11\n",
            "WARNING:tensorflow:Value in checkpoint could not be found in the restored object: (root).optimizer._variables.12\n",
            "WARNING:tensorflow:Value in checkpoint could not be found in the restored object: (root).optimizer._variables.13\n",
            "WARNING:tensorflow:Value in checkpoint could not be found in the restored object: (root).optimizer._variables.14\n",
            "WARNING:tensorflow:Value in checkpoint could not be found in the restored object: (root).optimizer._variables.15\n",
            "WARNING:tensorflow:Value in checkpoint could not be found in the restored object: (root).optimizer._variables.16\n",
            "WARNING:tensorflow:Value in checkpoint could not be found in the restored object: (root).optimizer._variables.17\n",
            "WARNING:tensorflow:Value in checkpoint could not be found in the restored object: (root).optimizer._variables.18\n",
            "WARNING:tensorflow:Value in checkpoint could not be found in the restored object: (root).optimizer._variables.19\n",
            "WARNING:tensorflow:Value in checkpoint could not be found in the restored object: (root).optimizer._variables.20\n"
          ]
        },
        {
          "output_type": "display_data",
          "data": {
            "text/plain": [
              "<Figure size 640x480 with 1 Axes>"
            ],
            "image/png": "[encoded data removed]"
          },
          "metadata": {}
        },
        {
          "output_type": "display_data",
          "data": {
            "text/plain": [
              "<Figure size 640x480 with 1 Axes>"
            ],
            "image/png": "[encoded data removed]"
          },
          "metadata": {}
        },
        {
          "output_type": "stream",
          "name": "stdout",
          "text": [
            "\n",
            "\n",
            "time: 1.08 s (started: 2024-01-15 17:00:33 +00:00)\n"
          ]
        }
      ]
    }
  ],
  "metadata": {
    "accelerator": "GPU",
    "colab": {
      "gpuType": "T4",
      "provenance": []
    },
    "kernelspec": {
      "display_name": "Python 3 (ipykernel)",
      "language": "python",
      "name": "python3"
    },
    "language_info": {
      "codemirror_mode": {
        "name": "ipython",
        "version": 3
      },
      "file_extension": ".py",
      "mimetype": "text/x-python",
      "name": "python",
      "nbconvert_exporter": "python",
      "pygments_lexer": "ipython3",
      "version": "3.9.7"
    }
  },
  "nbformat": 4,
  "nbformat_minor": 0
}