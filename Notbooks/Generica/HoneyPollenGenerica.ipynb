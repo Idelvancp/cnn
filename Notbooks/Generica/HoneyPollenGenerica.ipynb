{
  "cells": [
    {
      "cell_type": "code",
      "execution_count": 1,
      "metadata": {
        "colab": {
          "base_uri": "https://localhost:8080/"
        },
        "id": "CuDGoysGdUml",
        "outputId": "9435d8fe-c19c-4cec-f4ff-c09b00cb6b71"
      },
      "outputs": [
        {
          "output_type": "stream",
          "name": "stdout",
          "text": [
            "Mounted at /content/drive\n"
          ]
        }
      ],
      "source": [
        "from google.colab import drive\n",
        "drive.mount('/content/drive')"
      ]
    },
    {
      "cell_type": "code",
      "execution_count": 2,
      "metadata": {
        "colab": {
          "base_uri": "https://localhost:8080/"
        },
        "id": "uzCkIRFpWPWO",
        "outputId": "6a7e729a-21f3-4237-87c0-673485058545"
      },
      "outputs": [
        {
          "output_type": "stream",
          "name": "stdout",
          "text": [
            "Collecting ipython-autotime\n",
            "  Downloading ipython_autotime-0.3.2-py2.py3-none-any.whl (7.0 kB)\n",
            "Requirement already satisfied: ipython in /usr/local/lib/python3.10/dist-packages (from ipython-autotime) (7.34.0)\n",
            "Requirement already satisfied: setuptools>=18.5 in /usr/local/lib/python3.10/dist-packages (from ipython->ipython-autotime) (67.7.2)\n",
            "Collecting jedi>=0.16 (from ipython->ipython-autotime)\n",
            "  Downloading jedi-0.19.1-py2.py3-none-any.whl (1.6 MB)\n",
            "\u001b[2K     \u001b[90m━━━━━━━━━━━━━━━━━━━━━━━━━━━━━━━━━━━━━━━━\u001b[0m \u001b[32m1.6/1.6 MB\u001b[0m \u001b[31m8.4 MB/s\u001b[0m eta \u001b[36m0:00:00\u001b[0m\n",
            "\u001b[?25hRequirement already satisfied: decorator in /usr/local/lib/python3.10/dist-packages (from ipython->ipython-autotime) (4.4.2)\n",
            "Requirement already satisfied: pickleshare in /usr/local/lib/python3.10/dist-packages (from ipython->ipython-autotime) (0.7.5)\n",
            "Requirement already satisfied: traitlets>=4.2 in /usr/local/lib/python3.10/dist-packages (from ipython->ipython-autotime) (5.7.1)\n",
            "Requirement already satisfied: prompt-toolkit!=3.0.0,!=3.0.1,<3.1.0,>=2.0.0 in /usr/local/lib/python3.10/dist-packages (from ipython->ipython-autotime) (3.0.43)\n",
            "Requirement already satisfied: pygments in /usr/local/lib/python3.10/dist-packages (from ipython->ipython-autotime) (2.16.1)\n",
            "Requirement already satisfied: backcall in /usr/local/lib/python3.10/dist-packages (from ipython->ipython-autotime) (0.2.0)\n",
            "Requirement already satisfied: matplotlib-inline in /usr/local/lib/python3.10/dist-packages (from ipython->ipython-autotime) (0.1.6)\n",
            "Requirement already satisfied: pexpect>4.3 in /usr/local/lib/python3.10/dist-packages (from ipython->ipython-autotime) (4.9.0)\n",
            "Requirement already satisfied: parso<0.9.0,>=0.8.3 in /usr/local/lib/python3.10/dist-packages (from jedi>=0.16->ipython->ipython-autotime) (0.8.3)\n",
            "Requirement already satisfied: ptyprocess>=0.5 in /usr/local/lib/python3.10/dist-packages (from pexpect>4.3->ipython->ipython-autotime) (0.7.0)\n",
            "Requirement already satisfied: wcwidth in /usr/local/lib/python3.10/dist-packages (from prompt-toolkit!=3.0.0,!=3.0.1,<3.1.0,>=2.0.0->ipython->ipython-autotime) (0.2.12)\n",
            "Installing collected packages: jedi, ipython-autotime\n",
            "Successfully installed ipython-autotime-0.3.2 jedi-0.19.1\n",
            "time: 276 µs (started: 2024-01-15 23:12:08 +00:00)\n"
          ]
        }
      ],
      "source": [
        "!pip install ipython-autotime\n",
        "%load_ext autotime"
      ]
    },
    {
      "cell_type": "code",
      "execution_count": 3,
      "metadata": {
        "colab": {
          "base_uri": "https://localhost:8080/"
        },
        "id": "w5ybUAh8Kz_i",
        "outputId": "709574a8-8424-4c09-bb7e-3e37dd277117"
      },
      "outputs": [
        {
          "output_type": "stream",
          "name": "stdout",
          "text": [
            "time: 4.4 s (started: 2024-01-15 23:12:10 +00:00)\n"
          ]
        }
      ],
      "source": [
        "import glob, os\n",
        "import random\n",
        "import shutil\n",
        "import seaborn as sns\n",
        "import numpy as np\n",
        "import matplotlib.pyplot as plt\n",
        "from skimage import io, transform\n",
        "from keras.optimizers import Adam\n",
        "import tensorflow as tf\n",
        "from tensorflow.keras.preprocessing import image\n",
        "from tensorflow.keras.applications.vgg16 import preprocess_input, decode_predictions\n",
        "from tensorflow.keras import layers, models\n",
        "from tensorflow.keras import optimizers\n",
        "from tensorflow.keras.preprocessing.image import ImageDataGenerator\n",
        "from sklearn.model_selection import train_test_split\n",
        "from sklearn.metrics import classification_report, confusion_matrix\n",
        "path=\"drive/MyDrive/imagensOriginais/\"\n",
        "imagens_originais= glob.glob(os.path.join(path, '*.jpg'))"
      ]
    },
    {
      "cell_type": "code",
      "execution_count": 4,
      "metadata": {
        "colab": {
          "base_uri": "https://localhost:8080/"
        },
        "id": "D_P0Y8aSQmY0",
        "outputId": "59c899a9-e882-49af-c49e-a901cc013cde"
      },
      "outputs": [
        {
          "output_type": "stream",
          "name": "stdout",
          "text": [
            "time: 644 µs (started: 2024-01-15 23:12:14 +00:00)\n"
          ]
        }
      ],
      "source": [
        "def dataset(file_list,size=(224,224)):\n",
        "\timagens = []\n",
        "\tfor i, file in enumerate(imagens_originais):\n",
        "\t\timagem = io.imread(file)\n",
        "\t\timagem = transform.resize(imagem, size, mode='constant')\n",
        "\t\timagens.append(imagem)\n",
        "\n",
        "\tlabels = [1 if f.split(\"/\")[-1][0] == 'P' else 0 for f in file_list]\n",
        "\n",
        "\treturn np.array(imagens), np.array(labels)"
      ]
    },
    {
      "cell_type": "code",
      "execution_count": 5,
      "metadata": {
        "colab": {
          "base_uri": "https://localhost:8080/"
        },
        "id": "oBFas_yNtlRq",
        "outputId": "980a3134-cd8e-4815-fc2a-a2d7dfca7b24"
      },
      "outputs": [
        {
          "output_type": "stream",
          "name": "stdout",
          "text": [
            "time: 35.6 s (started: 2024-01-15 23:12:14 +00:00)\n"
          ]
        }
      ],
      "source": [
        "imagens,labels=dataset(imagens_originais)"
      ]
    },
    {
      "cell_type": "code",
      "execution_count": 6,
      "metadata": {
        "colab": {
          "base_uri": "https://localhost:8080/"
        },
        "id": "r3jaMrN98gJG",
        "outputId": "05373596-873c-4336-cb28-8eb5bf6f571c"
      },
      "outputs": [
        {
          "output_type": "stream",
          "name": "stdout",
          "text": [
            "time: 512 ms (started: 2024-01-15 23:12:50 +00:00)\n"
          ]
        }
      ],
      "source": [
        "X_train, X_test, Y_train, Y_test = train_test_split(imagens, labels, test_size = 0.20, random_state = 40)\n",
        "X_train, X_validation, Y_train, Y_validation = train_test_split(X_train, Y_train, test_size = 0.15, random_state = 40)"
      ]
    },
    {
      "cell_type": "code",
      "execution_count": 7,
      "metadata": {
        "colab": {
          "base_uri": "https://localhost:8080/"
        },
        "id": "ssK5d-oMoYuA",
        "outputId": "b00f0f74-fa48-4274-e9e4-495c211f8d0d"
      },
      "outputs": [
        {
          "output_type": "stream",
          "name": "stdout",
          "text": [
            "time: 495 µs (started: 2024-01-15 23:12:51 +00:00)\n"
          ]
        }
      ],
      "source": [
        "EPOCHS = 60\n",
        "BATCH_SIZE = 16"
      ]
    },
    {
      "cell_type": "code",
      "execution_count": 8,
      "metadata": {
        "colab": {
          "base_uri": "https://localhost:8080/"
        },
        "id": "Xe-AAVWxocAQ",
        "outputId": "aea44bd9-330c-4d3b-a6ec-2627b690c923"
      },
      "outputs": [
        {
          "output_type": "stream",
          "name": "stdout",
          "text": [
            "time: 167 ms (started: 2024-01-15 23:12:51 +00:00)\n"
          ]
        }
      ],
      "source": [
        "train_generator = ImageDataGenerator(\n",
        "                                      shear_range=30,\n",
        "                                      rotation_range=20,\n",
        "                                      horizontal_flip=True,\n",
        "                                      vertical_flip=True,\n",
        "                                  ).flow(X_train, Y_train, batch_size=BATCH_SIZE)\n",
        "validation_generator = ImageDataGenerator(\n",
        "                                      shear_range=30,\n",
        "                                      rotation_range=20,\n",
        "                                      horizontal_flip=True,\n",
        "                                      vertical_flip=True,\n",
        "                                  ).flow(X_validation, Y_validation, batch_size=BATCH_SIZE)"
      ]
    },
    {
      "cell_type": "code",
      "execution_count": 9,
      "metadata": {
        "colab": {
          "base_uri": "https://localhost:8080/"
        },
        "id": "0kKbNBfc91em",
        "outputId": "4ea29915-1e21-42e4-e4a2-3889d18b253e"
      },
      "outputs": [
        {
          "output_type": "stream",
          "name": "stdout",
          "text": [
            "time: 1.14 ms (started: 2024-01-15 23:12:51 +00:00)\n"
          ]
        }
      ],
      "source": [
        "def create_model():\n",
        "  model = models.Sequential()\n",
        "  model.add(layers.Conv2D(64,(3,3), padding=\"same\",strides=1, activation='relu', input_shape=(224,224,3)))  #input shape must be the match the input image tensor shape\n",
        "  model.add(layers.MaxPooling2D(2,2))\n",
        "  model.add(layers.Conv2D(64,(3,3), padding=\"same\",strides=1, activation='relu'))\n",
        "  model.add(layers.MaxPooling2D(2,2))\n",
        "  model.add(layers.Conv2D(128,(3,3), padding=\"same\",strides=1, activation='relu'))\n",
        "  model.add(layers.MaxPooling2D(2,2))\n",
        "  model.add(layers.Conv2D(256,(3,3), padding=\"same\",strides=1, activation='relu'))\n",
        "  model.add(layers.MaxPooling2D(2,2))\n",
        "  model.add(layers.Flatten())\n",
        "  model.add(layers.Dropout(0.5))\n",
        "  model.add(layers.Dense(512, activation = 'relu'))\n",
        "  model.add(layers.Dense(1, activation = 'sigmoid'))\n",
        "\n",
        "  model.compile(loss='binary_crossentropy', optimizer=optimizers.RMSprop(learning_rate=1e-3), metrics=['acc'])\n",
        "\n",
        "  return model"
      ]
    },
    {
      "cell_type": "code",
      "source": [
        "# Include the epoch in the file name (uses `str.format`)\n",
        "checkpoint_path = \"Generico/cp-{epoch:04d}.ckpt\"\n",
        "checkpoint_dir = os.path.dirname(checkpoint_path)"
      ],
      "metadata": {
        "colab": {
          "base_uri": "https://localhost:8080/"
        },
        "id": "-ecRsdq_C7gd",
        "outputId": "5cc44fee-0154-4f3d-a77e-33f4d480249a"
      },
      "execution_count": 10,
      "outputs": [
        {
          "output_type": "stream",
          "name": "stdout",
          "text": [
            "time: 412 µs (started: 2024-01-15 23:12:51 +00:00)\n"
          ]
        }
      ]
    },
    {
      "cell_type": "code",
      "source": [
        "# Create a callback that saves the model's weights every 5 epochs\n",
        "cp_callback = tf.keras.callbacks.ModelCheckpoint(\n",
        "    filepath=checkpoint_path,\n",
        "    verbose=1,\n",
        "    save_weights_only=True,\n",
        "    save_freq=\"epoch\")"
      ],
      "metadata": {
        "colab": {
          "base_uri": "https://localhost:8080/"
        },
        "id": "g4IH7TDOHFUL",
        "outputId": "75b780d8-171c-4f15-d4ec-b6c7ac1f476a"
      },
      "execution_count": 11,
      "outputs": [
        {
          "output_type": "stream",
          "name": "stdout",
          "text": [
            "time: 582 µs (started: 2024-01-15 23:12:51 +00:00)\n"
          ]
        }
      ]
    },
    {
      "cell_type": "code",
      "source": [
        "model = create_model()\n",
        "# Save the weights using the `checkpoint_path` format\n",
        "model.save_weights(checkpoint_path.format(epoch=0))"
      ],
      "metadata": {
        "colab": {
          "base_uri": "https://localhost:8080/"
        },
        "id": "Cnh8Vo-BJSxg",
        "outputId": "11a9055c-4a17-4a92-c5bc-25dd0974b410"
      },
      "execution_count": 12,
      "outputs": [
        {
          "output_type": "stream",
          "name": "stdout",
          "text": [
            "time: 1.32 s (started: 2024-01-15 23:12:52 +00:00)\n"
          ]
        }
      ]
    },
    {
      "cell_type": "code",
      "source": [
        "steps_per_epoch = X_train.shape[0]//BATCH_SIZE\n",
        "validation_steps = X_validation.shape[0]//BATCH_SIZE"
      ],
      "metadata": {
        "colab": {
          "base_uri": "https://localhost:8080/"
        },
        "id": "W1fZD5LSIX41",
        "outputId": "bbe9855c-44ef-46b7-a86a-b86aed19f260"
      },
      "execution_count": 13,
      "outputs": [
        {
          "output_type": "stream",
          "name": "stdout",
          "text": [
            "time: 452 µs (started: 2024-01-15 23:12:55 +00:00)\n"
          ]
        }
      ]
    },
    {
      "cell_type": "code",
      "source": [
        "history = model.fit(train_generator,\n",
        "                   steps_per_epoch=steps_per_epoch,\n",
        "                   epochs=EPOCHS,\n",
        "                   callbacks=[cp_callback],\n",
        "                   validation_data=validation_generator,\n",
        "                   validation_steps=validation_steps,\n",
        "                   shuffle=True,\n",
        "                   verbose=2)"
      ],
      "metadata": {
        "colab": {
          "base_uri": "https://localhost:8080/"
        },
        "id": "oi9E2JsQIZTO",
        "outputId": "aafee0e9-2fec-462b-ee44-79d439d49ab2"
      },
      "execution_count": 14,
      "outputs": [
        {
          "output_type": "stream",
          "name": "stdout",
          "text": [
            "Epoch 1/60\n",
            "\n",
            "Epoch 1: saving model to Generico/cp-0001.ckpt\n",
            "30/30 - 16s - loss: 0.7144 - acc: 0.4861 - val_loss: 0.6954 - val_acc: 0.4750 - 16s/epoch - 522ms/step\n",
            "Epoch 2/60\n",
            "\n",
            "Epoch 2: saving model to Generico/cp-0002.ckpt\n",
            "30/30 - 13s - loss: 0.6950 - acc: 0.5267 - val_loss: 0.6910 - val_acc: 0.5500 - 13s/epoch - 449ms/step\n",
            "Epoch 3/60\n",
            "\n",
            "Epoch 3: saving model to Generico/cp-0003.ckpt\n",
            "30/30 - 8s - loss: 0.6945 - acc: 0.4883 - val_loss: 0.6925 - val_acc: 0.5000 - 8s/epoch - 271ms/step\n",
            "Epoch 4/60\n",
            "\n",
            "Epoch 4: saving model to Generico/cp-0004.ckpt\n",
            "30/30 - 9s - loss: 0.6935 - acc: 0.5373 - val_loss: 0.6869 - val_acc: 0.6250 - 9s/epoch - 285ms/step\n",
            "Epoch 5/60\n",
            "\n",
            "Epoch 5: saving model to Generico/cp-0005.ckpt\n",
            "30/30 - 6s - loss: 0.7296 - acc: 0.6311 - val_loss: 0.6028 - val_acc: 0.7500 - 6s/epoch - 216ms/step\n",
            "Epoch 6/60\n",
            "\n",
            "Epoch 6: saving model to Generico/cp-0006.ckpt\n",
            "30/30 - 7s - loss: 0.5961 - acc: 0.7271 - val_loss: 0.5171 - val_acc: 0.7625 - 7s/epoch - 230ms/step\n",
            "Epoch 7/60\n",
            "\n",
            "Epoch 7: saving model to Generico/cp-0007.ckpt\n",
            "30/30 - 9s - loss: 0.4736 - acc: 0.8060 - val_loss: 0.4270 - val_acc: 0.8375 - 9s/epoch - 306ms/step\n",
            "Epoch 8/60\n",
            "\n",
            "Epoch 8: saving model to Generico/cp-0008.ckpt\n",
            "30/30 - 7s - loss: 0.4143 - acc: 0.8294 - val_loss: 0.3715 - val_acc: 0.8625 - 7s/epoch - 225ms/step\n",
            "Epoch 9/60\n",
            "\n",
            "Epoch 9: saving model to Generico/cp-0009.ckpt\n",
            "30/30 - 10s - loss: 0.4008 - acc: 0.8294 - val_loss: 0.3504 - val_acc: 0.8125 - 10s/epoch - 338ms/step\n",
            "Epoch 10/60\n",
            "\n",
            "Epoch 10: saving model to Generico/cp-0010.ckpt\n",
            "30/30 - 7s - loss: 0.3346 - acc: 0.8635 - val_loss: 0.3813 - val_acc: 0.8125 - 7s/epoch - 219ms/step\n",
            "Epoch 11/60\n",
            "\n",
            "Epoch 11: saving model to Generico/cp-0011.ckpt\n",
            "30/30 - 9s - loss: 0.2826 - acc: 0.8806 - val_loss: 0.3421 - val_acc: 0.8875 - 9s/epoch - 289ms/step\n",
            "Epoch 12/60\n",
            "\n",
            "Epoch 12: saving model to Generico/cp-0012.ckpt\n",
            "30/30 - 6s - loss: 0.2978 - acc: 0.8763 - val_loss: 0.2034 - val_acc: 0.9500 - 6s/epoch - 216ms/step\n",
            "Epoch 13/60\n",
            "\n",
            "Epoch 13: saving model to Generico/cp-0013.ckpt\n",
            "30/30 - 10s - loss: 0.2797 - acc: 0.8977 - val_loss: 0.2767 - val_acc: 0.9250 - 10s/epoch - 318ms/step\n",
            "Epoch 14/60\n",
            "\n",
            "Epoch 14: saving model to Generico/cp-0014.ckpt\n",
            "30/30 - 7s - loss: 0.2585 - acc: 0.8955 - val_loss: 0.2242 - val_acc: 0.9250 - 7s/epoch - 229ms/step\n",
            "Epoch 15/60\n",
            "\n",
            "Epoch 15: saving model to Generico/cp-0015.ckpt\n",
            "30/30 - 8s - loss: 0.2250 - acc: 0.9190 - val_loss: 0.1954 - val_acc: 0.9375 - 8s/epoch - 271ms/step\n",
            "Epoch 16/60\n",
            "\n",
            "Epoch 16: saving model to Generico/cp-0016.ckpt\n",
            "30/30 - 7s - loss: 0.2518 - acc: 0.9126 - val_loss: 0.2300 - val_acc: 0.9250 - 7s/epoch - 227ms/step\n",
            "Epoch 17/60\n",
            "\n",
            "Epoch 17: saving model to Generico/cp-0017.ckpt\n",
            "30/30 - 8s - loss: 0.2065 - acc: 0.9126 - val_loss: 0.1605 - val_acc: 0.9125 - 8s/epoch - 274ms/step\n",
            "Epoch 18/60\n",
            "\n",
            "Epoch 18: saving model to Generico/cp-0018.ckpt\n",
            "30/30 - 7s - loss: 0.2216 - acc: 0.9019 - val_loss: 0.2639 - val_acc: 0.9125 - 7s/epoch - 237ms/step\n",
            "Epoch 19/60\n",
            "\n",
            "Epoch 19: saving model to Generico/cp-0019.ckpt\n",
            "30/30 - 8s - loss: 0.2107 - acc: 0.9339 - val_loss: 0.1928 - val_acc: 0.9250 - 8s/epoch - 268ms/step\n",
            "Epoch 20/60\n",
            "\n",
            "Epoch 20: saving model to Generico/cp-0020.ckpt\n",
            "30/30 - 7s - loss: 0.1772 - acc: 0.9333 - val_loss: 0.2094 - val_acc: 0.8875 - 7s/epoch - 237ms/step\n",
            "Epoch 21/60\n",
            "\n",
            "Epoch 21: saving model to Generico/cp-0021.ckpt\n",
            "30/30 - 8s - loss: 0.1845 - acc: 0.9318 - val_loss: 0.2080 - val_acc: 0.9500 - 8s/epoch - 265ms/step\n",
            "Epoch 22/60\n",
            "\n",
            "Epoch 22: saving model to Generico/cp-0022.ckpt\n",
            "30/30 - 9s - loss: 0.1629 - acc: 0.9318 - val_loss: 0.2086 - val_acc: 0.9125 - 9s/epoch - 315ms/step\n",
            "Epoch 23/60\n",
            "\n",
            "Epoch 23: saving model to Generico/cp-0023.ckpt\n",
            "30/30 - 7s - loss: 0.1811 - acc: 0.9275 - val_loss: 0.1914 - val_acc: 0.9125 - 7s/epoch - 240ms/step\n",
            "Epoch 24/60\n",
            "\n",
            "Epoch 24: saving model to Generico/cp-0024.ckpt\n",
            "30/30 - 7s - loss: 0.1813 - acc: 0.9467 - val_loss: 0.3977 - val_acc: 0.8000 - 7s/epoch - 248ms/step\n",
            "Epoch 25/60\n",
            "\n",
            "Epoch 25: saving model to Generico/cp-0025.ckpt\n",
            "30/30 - 9s - loss: 0.1652 - acc: 0.9232 - val_loss: 0.1929 - val_acc: 0.9250 - 9s/epoch - 289ms/step\n",
            "Epoch 26/60\n",
            "\n",
            "Epoch 26: saving model to Generico/cp-0026.ckpt\n",
            "30/30 - 7s - loss: 0.1655 - acc: 0.9318 - val_loss: 0.1391 - val_acc: 0.9625 - 7s/epoch - 228ms/step\n",
            "Epoch 27/60\n",
            "\n",
            "Epoch 27: saving model to Generico/cp-0027.ckpt\n",
            "30/30 - 9s - loss: 0.1668 - acc: 0.9595 - val_loss: 0.2305 - val_acc: 0.9375 - 9s/epoch - 302ms/step\n",
            "Epoch 28/60\n",
            "\n",
            "Epoch 28: saving model to Generico/cp-0028.ckpt\n",
            "30/30 - 7s - loss: 0.1302 - acc: 0.9531 - val_loss: 0.0749 - val_acc: 0.9750 - 7s/epoch - 235ms/step\n",
            "Epoch 29/60\n",
            "\n",
            "Epoch 29: saving model to Generico/cp-0029.ckpt\n",
            "30/30 - 7s - loss: 0.1454 - acc: 0.9467 - val_loss: 0.2079 - val_acc: 0.9500 - 7s/epoch - 229ms/step\n",
            "Epoch 30/60\n",
            "\n",
            "Epoch 30: saving model to Generico/cp-0030.ckpt\n",
            "30/30 - 9s - loss: 0.1517 - acc: 0.9531 - val_loss: 0.1447 - val_acc: 0.9500 - 9s/epoch - 303ms/step\n",
            "Epoch 31/60\n",
            "\n",
            "Epoch 31: saving model to Generico/cp-0031.ckpt\n",
            "30/30 - 7s - loss: 0.1179 - acc: 0.9616 - val_loss: 0.3002 - val_acc: 0.9375 - 7s/epoch - 231ms/step\n",
            "Epoch 32/60\n",
            "\n",
            "Epoch 32: saving model to Generico/cp-0032.ckpt\n",
            "30/30 - 9s - loss: 0.1352 - acc: 0.9488 - val_loss: 0.1993 - val_acc: 0.9625 - 9s/epoch - 292ms/step\n",
            "Epoch 33/60\n",
            "\n",
            "Epoch 33: saving model to Generico/cp-0033.ckpt\n",
            "30/30 - 7s - loss: 0.1258 - acc: 0.9531 - val_loss: 0.1648 - val_acc: 0.9500 - 7s/epoch - 236ms/step\n",
            "Epoch 34/60\n",
            "\n",
            "Epoch 34: saving model to Generico/cp-0034.ckpt\n",
            "30/30 - 7s - loss: 0.1038 - acc: 0.9510 - val_loss: 0.6492 - val_acc: 0.7500 - 7s/epoch - 227ms/step\n",
            "Epoch 35/60\n",
            "\n",
            "Epoch 35: saving model to Generico/cp-0035.ckpt\n",
            "30/30 - 9s - loss: 0.1634 - acc: 0.9531 - val_loss: 0.1220 - val_acc: 0.9625 - 9s/epoch - 305ms/step\n",
            "Epoch 36/60\n",
            "\n",
            "Epoch 36: saving model to Generico/cp-0036.ckpt\n",
            "30/30 - 7s - loss: 0.1104 - acc: 0.9595 - val_loss: 0.3075 - val_acc: 0.8375 - 7s/epoch - 229ms/step\n",
            "Epoch 37/60\n",
            "\n",
            "Epoch 37: saving model to Generico/cp-0037.ckpt\n",
            "30/30 - 7s - loss: 0.1228 - acc: 0.9552 - val_loss: 0.3072 - val_acc: 0.8375 - 7s/epoch - 228ms/step\n",
            "Epoch 38/60\n",
            "\n",
            "Epoch 38: saving model to Generico/cp-0038.ckpt\n",
            "30/30 - 9s - loss: 0.0941 - acc: 0.9659 - val_loss: 0.0918 - val_acc: 0.9750 - 9s/epoch - 301ms/step\n",
            "Epoch 39/60\n",
            "\n",
            "Epoch 39: saving model to Generico/cp-0039.ckpt\n",
            "30/30 - 7s - loss: 0.1047 - acc: 0.9701 - val_loss: 0.0859 - val_acc: 0.9625 - 7s/epoch - 218ms/step\n",
            "Epoch 40/60\n",
            "\n",
            "Epoch 40: saving model to Generico/cp-0040.ckpt\n",
            "30/30 - 9s - loss: 0.1274 - acc: 0.9638 - val_loss: 0.1242 - val_acc: 0.9625 - 9s/epoch - 288ms/step\n",
            "Epoch 41/60\n",
            "\n",
            "Epoch 41: saving model to Generico/cp-0041.ckpt\n",
            "30/30 - 7s - loss: 0.1123 - acc: 0.9574 - val_loss: 0.1643 - val_acc: 0.9750 - 7s/epoch - 229ms/step\n",
            "Epoch 42/60\n",
            "\n",
            "Epoch 42: saving model to Generico/cp-0042.ckpt\n",
            "30/30 - 7s - loss: 0.1090 - acc: 0.9616 - val_loss: 0.0765 - val_acc: 0.9875 - 7s/epoch - 235ms/step\n",
            "Epoch 43/60\n",
            "\n",
            "Epoch 43: saving model to Generico/cp-0043.ckpt\n",
            "30/30 - 9s - loss: 0.1029 - acc: 0.9574 - val_loss: 0.2075 - val_acc: 0.9625 - 9s/epoch - 289ms/step\n",
            "Epoch 44/60\n",
            "\n",
            "Epoch 44: saving model to Generico/cp-0044.ckpt\n",
            "30/30 - 7s - loss: 0.0880 - acc: 0.9659 - val_loss: 0.1131 - val_acc: 0.9750 - 7s/epoch - 221ms/step\n",
            "Epoch 45/60\n",
            "\n",
            "Epoch 45: saving model to Generico/cp-0045.ckpt\n",
            "30/30 - 9s - loss: 0.1248 - acc: 0.9616 - val_loss: 0.0789 - val_acc: 0.9875 - 9s/epoch - 315ms/step\n",
            "Epoch 46/60\n",
            "\n",
            "Epoch 46: saving model to Generico/cp-0046.ckpt\n",
            "30/30 - 7s - loss: 0.1112 - acc: 0.9531 - val_loss: 0.1584 - val_acc: 0.9500 - 7s/epoch - 230ms/step\n",
            "Epoch 47/60\n",
            "\n",
            "Epoch 47: saving model to Generico/cp-0047.ckpt\n",
            "30/30 - 9s - loss: 0.0894 - acc: 0.9701 - val_loss: 0.1375 - val_acc: 0.9625 - 9s/epoch - 294ms/step\n",
            "Epoch 48/60\n",
            "\n",
            "Epoch 48: saving model to Generico/cp-0048.ckpt\n",
            "30/30 - 7s - loss: 0.1003 - acc: 0.9625 - val_loss: 0.1334 - val_acc: 0.9500 - 7s/epoch - 221ms/step\n",
            "Epoch 49/60\n",
            "\n",
            "Epoch 49: saving model to Generico/cp-0049.ckpt\n",
            "30/30 - 9s - loss: 0.0751 - acc: 0.9808 - val_loss: 0.2599 - val_acc: 0.8500 - 9s/epoch - 296ms/step\n",
            "Epoch 50/60\n",
            "\n",
            "Epoch 50: saving model to Generico/cp-0050.ckpt\n",
            "30/30 - 7s - loss: 0.0863 - acc: 0.9680 - val_loss: 0.1507 - val_acc: 0.9500 - 7s/epoch - 249ms/step\n",
            "Epoch 51/60\n",
            "\n",
            "Epoch 51: saving model to Generico/cp-0051.ckpt\n",
            "30/30 - 7s - loss: 0.1129 - acc: 0.9723 - val_loss: 0.1466 - val_acc: 0.9375 - 7s/epoch - 230ms/step\n",
            "Epoch 52/60\n",
            "\n",
            "Epoch 52: saving model to Generico/cp-0052.ckpt\n",
            "30/30 - 9s - loss: 0.1045 - acc: 0.9616 - val_loss: 0.0977 - val_acc: 0.9625 - 9s/epoch - 292ms/step\n",
            "Epoch 53/60\n",
            "\n",
            "Epoch 53: saving model to Generico/cp-0053.ckpt\n",
            "30/30 - 7s - loss: 0.1268 - acc: 0.9467 - val_loss: 0.0504 - val_acc: 0.9750 - 7s/epoch - 230ms/step\n",
            "Epoch 54/60\n",
            "\n",
            "Epoch 54: saving model to Generico/cp-0054.ckpt\n",
            "30/30 - 9s - loss: 0.0686 - acc: 0.9723 - val_loss: 0.1253 - val_acc: 0.9500 - 9s/epoch - 307ms/step\n",
            "Epoch 55/60\n",
            "\n",
            "Epoch 55: saving model to Generico/cp-0055.ckpt\n",
            "30/30 - 9s - loss: 0.1172 - acc: 0.9659 - val_loss: 0.0484 - val_acc: 0.9875 - 9s/epoch - 300ms/step\n",
            "Epoch 56/60\n",
            "\n",
            "Epoch 56: saving model to Generico/cp-0056.ckpt\n",
            "30/30 - 7s - loss: 0.1727 - acc: 0.9446 - val_loss: 0.0681 - val_acc: 0.9875 - 7s/epoch - 231ms/step\n",
            "Epoch 57/60\n",
            "\n",
            "Epoch 57: saving model to Generico/cp-0057.ckpt\n",
            "30/30 - 8s - loss: 0.0835 - acc: 0.9659 - val_loss: 0.1497 - val_acc: 0.9500 - 8s/epoch - 270ms/step\n",
            "Epoch 58/60\n",
            "\n",
            "Epoch 58: saving model to Generico/cp-0058.ckpt\n",
            "30/30 - 8s - loss: 0.0903 - acc: 0.9638 - val_loss: 0.1906 - val_acc: 0.9125 - 8s/epoch - 268ms/step\n",
            "Epoch 59/60\n",
            "\n",
            "Epoch 59: saving model to Generico/cp-0059.ckpt\n",
            "30/30 - 8s - loss: 0.0870 - acc: 0.9680 - val_loss: 0.0881 - val_acc: 0.9875 - 8s/epoch - 253ms/step\n",
            "Epoch 60/60\n",
            "\n",
            "Epoch 60: saving model to Generico/cp-0060.ckpt\n",
            "30/30 - 9s - loss: 0.0805 - acc: 0.9680 - val_loss: 0.1687 - val_acc: 0.9625 - 9s/epoch - 300ms/step\n",
            "time: 8min 55s (started: 2024-01-15 23:12:56 +00:00)\n"
          ]
        }
      ]
    },
    {
      "cell_type": "code",
      "source": [
        "# Especificar o diretório de destino no Google Drive\n",
        "drive_dir = '/content/drive/MyDrive/Generico/'"
      ],
      "metadata": {
        "id": "ic90m-9fQdlK",
        "colab": {
          "base_uri": "https://localhost:8080/"
        },
        "outputId": "1134ad15-dade-4754-a46f-5349d6fe44ac"
      },
      "execution_count": 15,
      "outputs": [
        {
          "output_type": "stream",
          "name": "stdout",
          "text": [
            "time: 502 µs (started: 2024-01-15 23:21:51 +00:00)\n"
          ]
        }
      ]
    },
    {
      "cell_type": "code",
      "source": [
        "shutil.copytree(checkpoint_dir, drive_dir)"
      ],
      "metadata": {
        "id": "AieJKDaXP4TR",
        "colab": {
          "base_uri": "https://localhost:8080/",
          "height": 54
        },
        "outputId": "9201c84c-7338-4768-e5e6-6272657d976a"
      },
      "execution_count": 16,
      "outputs": [
        {
          "output_type": "execute_result",
          "data": {
            "text/plain": [
              "'/content/drive/MyDrive/Generico/'"
            ],
            "application/vnd.google.colaboratory.intrinsic+json": {
              "type": "string"
            }
          },
          "metadata": {},
          "execution_count": 16
        },
        {
          "output_type": "stream",
          "name": "stdout",
          "text": [
            "time: 2min 40s (started: 2024-01-15 23:21:51 +00:00)\n"
          ]
        }
      ]
    },
    {
      "cell_type": "code",
      "execution_count": 17,
      "metadata": {
        "colab": {
          "base_uri": "https://localhost:8080/"
        },
        "id": "psL6jhi8-UT_",
        "outputId": "22345d3d-75ef-49fd-8c45-afc9685ac414"
      },
      "outputs": [
        {
          "output_type": "stream",
          "name": "stdout",
          "text": [
            "time: 1.74 ms (started: 2024-01-15 23:24:31 +00:00)\n"
          ]
        }
      ],
      "source": [
        "def smooth_curve(points, factor=0.8): #this function will make our plots more smooth\n",
        "\tsmoothed_points = []\n",
        "\tfor point in points:\n",
        "\t\tif smoothed_points:\n",
        "\t\t\tprevious = smoothed_points[-1]\n",
        "\t\t\tsmoothed_points.append(previous*factor+point*(1-factor))\n",
        "\t\telse:\n",
        "\t\t\tsmoothed_points.append(point)\n",
        "\treturn smoothed_points"
      ]
    },
    {
      "cell_type": "code",
      "source": [
        "def imprime_graficos(history):\n",
        "  acc = history.history['acc']\n",
        "  val_acc = history.history['val_acc']\n",
        "  loss = history.history['loss']\n",
        "  val_loss = history.history['val_loss']\n",
        "\n",
        "  epochs = range(1, len(acc)+1)\n",
        "  plt.plot(epochs, smooth_curve(acc), 'bo', label='Treinamento acc')\n",
        "  plt.plot(epochs, smooth_curve(val_acc), 'r-', label='Validação acc')\n",
        "  plt.legend()\n",
        "  plt.title('Treinamento and Validação Acc')\n",
        "  plt.figure()\n",
        "\n",
        "  plt.plot(epochs, smooth_curve(loss), 'bo', label='Treinamento loss')\n",
        "  plt.plot(epochs, smooth_curve(val_loss), 'r-', label='Validação loss')\n",
        "  plt.legend()\n",
        "  plt.title('Treinamento e Validação Loss')\n",
        "  plt.show()\n",
        "\n",
        "  print(\"\\n\")"
      ],
      "metadata": {
        "colab": {
          "base_uri": "https://localhost:8080/"
        },
        "id": "tCp08vPNeCju",
        "outputId": "8eb2b4bc-241e-419e-de1c-498e327d9399"
      },
      "execution_count": 18,
      "outputs": [
        {
          "output_type": "stream",
          "name": "stdout",
          "text": [
            "time: 980 µs (started: 2024-01-15 23:24:31 +00:00)\n"
          ]
        }
      ]
    },
    {
      "cell_type": "code",
      "execution_count": 19,
      "metadata": {
        "colab": {
          "base_uri": "https://localhost:8080/"
        },
        "id": "wMwF5avo4hk8",
        "outputId": "478c7ec5-13ba-4878-8c97-f323acb36dcc"
      },
      "outputs": [
        {
          "output_type": "stream",
          "name": "stdout",
          "text": [
            "time: 1.23 ms (started: 2024-01-15 23:24:32 +00:00)\n"
          ]
        }
      ],
      "source": [
        "def metricas(modelo_metricas, epocas):\n",
        "\n",
        "  # Obter as previsões do modelo nos dados de teste\n",
        "  y_pred = modelo_metricas.predict(X_test)\n",
        "\n",
        "  # Converter as previsões em rótulos binários\n",
        "  y_pred_binary = (y_pred > 0.5).astype(int)\n",
        "\n",
        "  # Calcular as métricas de precisão, recall e F1 Score\n",
        "  classification_rep = classification_report(Y_test, y_pred_binary)\n",
        "  print(\"Classification Report:\\n\", classification_rep)\n",
        "\n",
        "\n",
        "  #Calcula a matriz de confusão\n",
        "  cm = confusion_matrix(Y_test, y_pred_binary)\n",
        "  # Display\n",
        "  plt.figure(figsize=(4, 4))\n",
        "\n",
        "  sns.heatmap(cm, annot=True, fmt='g', vmin=0, cmap='Reds', cbar=False)\n",
        "  plt.xticks(ticks=[0.5, 1.5], labels=[\"No Pollen\", \"Pollen\"])\n",
        "  plt.yticks(ticks=[0.5, 1.5], labels=[\"No Pollen\", \"Pollen\"])\n",
        "  plt.xlabel(\"Predicted\")\n",
        "  plt.ylabel(\"Actual\")\n",
        "  plt.title(\"Confusion Matrix \" + str(epocas) + \" épocas\")\n",
        "\n",
        "  plt.show()\n",
        "\n",
        "  print(\"\\n\")"
      ]
    },
    {
      "cell_type": "code",
      "source": [
        "#shutil.rmtree(checkpoint_dir, ignore_errors=False, onerror=None)"
      ],
      "metadata": {
        "colab": {
          "base_uri": "https://localhost:8080/"
        },
        "id": "FXistSEkbyTt",
        "outputId": "04d1aa1f-a3b1-4fe5-aba7-e9c574739ab9"
      },
      "execution_count": 20,
      "outputs": [
        {
          "output_type": "stream",
          "name": "stdout",
          "text": [
            "time: 275 µs (started: 2024-01-15 23:24:32 +00:00)\n"
          ]
        }
      ]
    },
    {
      "cell_type": "code",
      "source": [
        "epoca = 10\n",
        "for i in range(6):\n",
        "  cp = \"Generico/cp-00\"+str(epoca)+\".ckpt\"\n",
        "  print(\"Avaliando modelo com checkpoint \" + cp + \" correspondente a época \" + str(epoca))\n",
        "  avaliacao_modelo = create_model()\n",
        "  # Load the previously saved weights\n",
        "  avaliacao_modelo.load_weights(cp)\n",
        "\n",
        "  # Re-evaluate the model\n",
        "  loss, acc = avaliacao_modelo.evaluate(X_test, Y_test)\n",
        "  print(\"Restored model, accuracy: \" + str(acc) )\n",
        "  print(\"Restored model, loss: \" + str(loss) + \"\\n\")\n",
        "\n",
        "  metricas(avaliacao_modelo, epoca)\n",
        "\n",
        "  epoca += 10"
      ],
      "metadata": {
        "colab": {
          "base_uri": "https://localhost:8080/",
          "height": 1000
        },
        "id": "Hcftf7YvhGSy",
        "outputId": "34ba5074-5554-48d1-bb93-6641396bf9cd"
      },
      "execution_count": 23,
      "outputs": [
        {
          "output_type": "stream",
          "name": "stdout",
          "text": [
            "Avaliando modelo com checkpoint Generico/cp-0010.ckpt correspondente a época 10\n",
            "5/5 [==============================] - 3s 151ms/step - loss: 0.2033 - acc: 0.9091\n",
            "Restored model, accuracy: 0.9090909361839294\n",
            "Restored model, loss: 0.2032555490732193\n",
            "\n",
            "5/5 [==============================] - 0s 20ms/step\n",
            "Classification Report:\n",
            "               precision    recall  f1-score   support\n",
            "\n",
            "           0       0.91      0.86      0.88        58\n",
            "           1       0.91      0.94      0.92        85\n",
            "\n",
            "    accuracy                           0.91       143\n",
            "   macro avg       0.91      0.90      0.90       143\n",
            "weighted avg       0.91      0.91      0.91       143\n",
            "\n"
          ]
        },
        {
          "output_type": "display_data",
          "data": {
            "text/plain": [
              "<Figure size 400x400 with 1 Axes>"
            ],
            "image/png": "[encoded data removed]"
          },
          "metadata": {}
        },
        {
          "output_type": "stream",
          "name": "stdout",
          "text": [
            "\n",
            "\n",
            "Avaliando modelo com checkpoint Generico/cp-0020.ckpt correspondente a época 20\n",
            "5/5 [==============================] - 0s 28ms/step - loss: 0.1005 - acc: 0.9580\n",
            "Restored model, accuracy: 0.9580419659614563\n",
            "Restored model, loss: 0.10054318606853485\n",
            "\n",
            "5/5 [==============================] - 0s 27ms/step\n",
            "Classification Report:\n",
            "               precision    recall  f1-score   support\n",
            "\n",
            "           0       0.92      0.98      0.95        58\n",
            "           1       0.99      0.94      0.96        85\n",
            "\n",
            "    accuracy                           0.96       143\n",
            "   macro avg       0.95      0.96      0.96       143\n",
            "weighted avg       0.96      0.96      0.96       143\n",
            "\n"
          ]
        },
        {
          "output_type": "display_data",
          "data": {
            "text/plain": [
              "<Figure size 400x400 with 1 Axes>"
            ],
            "image/png": "[encoded data removed]"
          },
          "metadata": {}
        },
        {
          "output_type": "stream",
          "name": "stdout",
          "text": [
            "\n",
            "\n",
            "Avaliando modelo com checkpoint Generico/cp-0030.ckpt correspondente a época 30\n",
            "5/5 [==============================] - 0s 28ms/step - loss: 0.0873 - acc: 0.9580\n",
            "Restored model, accuracy: 0.9580419659614563\n",
            "Restored model, loss: 0.08725447207689285\n",
            "\n",
            "5/5 [==============================] - 0s 27ms/step\n",
            "Classification Report:\n",
            "               precision    recall  f1-score   support\n",
            "\n",
            "           0       0.93      0.97      0.95        58\n",
            "           1       0.98      0.95      0.96        85\n",
            "\n",
            "    accuracy                           0.96       143\n",
            "   macro avg       0.95      0.96      0.96       143\n",
            "weighted avg       0.96      0.96      0.96       143\n",
            "\n"
          ]
        },
        {
          "output_type": "display_data",
          "data": {
            "text/plain": [
              "<Figure size 400x400 with 1 Axes>"
            ],
            "image/png": "[encoded data removed]"
          },
          "metadata": {}
        },
        {
          "output_type": "stream",
          "name": "stdout",
          "text": [
            "\n",
            "\n",
            "Avaliando modelo com checkpoint Generico/cp-0040.ckpt correspondente a época 40\n",
            "5/5 [==============================] - 1s 31ms/step - loss: 0.0550 - acc: 0.9650\n",
            "Restored model, accuracy: 0.9650349617004395\n",
            "Restored model, loss: 0.05504791438579559\n",
            "\n",
            "5/5 [==============================] - 0s 30ms/step\n",
            "Classification Report:\n",
            "               precision    recall  f1-score   support\n",
            "\n",
            "           0       0.98      0.93      0.96        58\n",
            "           1       0.95      0.99      0.97        85\n",
            "\n",
            "    accuracy                           0.97       143\n",
            "   macro avg       0.97      0.96      0.96       143\n",
            "weighted avg       0.97      0.97      0.96       143\n",
            "\n"
          ]
        },
        {
          "output_type": "display_data",
          "data": {
            "text/plain": [
              "<Figure size 400x400 with 1 Axes>"
            ],
            "image/png": "[encoded data removed]"
          },
          "metadata": {}
        },
        {
          "output_type": "stream",
          "name": "stdout",
          "text": [
            "\n",
            "\n",
            "Avaliando modelo com checkpoint Generico/cp-0050.ckpt correspondente a época 50\n",
            "5/5 [==============================] - 0s 29ms/step - loss: 0.0345 - acc: 0.9790\n",
            "Restored model, accuracy: 0.9790209531784058\n",
            "Restored model, loss: 0.03454940393567085\n",
            "\n",
            "5/5 [==============================] - 0s 24ms/step\n",
            "Classification Report:\n",
            "               precision    recall  f1-score   support\n",
            "\n",
            "           0       0.97      0.98      0.97        58\n",
            "           1       0.99      0.98      0.98        85\n",
            "\n",
            "    accuracy                           0.98       143\n",
            "   macro avg       0.98      0.98      0.98       143\n",
            "weighted avg       0.98      0.98      0.98       143\n",
            "\n"
          ]
        },
        {
          "output_type": "display_data",
          "data": {
            "text/plain": [
              "<Figure size 400x400 with 1 Axes>"
            ],
            "image/png": "[encoded data removed]"
          },
          "metadata": {}
        },
        {
          "output_type": "stream",
          "name": "stdout",
          "text": [
            "\n",
            "\n",
            "Avaliando modelo com checkpoint Generico/cp-0060.ckpt correspondente a época 60\n",
            "5/5 [==============================] - 0s 33ms/step - loss: 0.0407 - acc: 0.9860\n",
            "Restored model, accuracy: 0.9860140085220337\n",
            "Restored model, loss: 0.04067306965589523\n",
            "\n",
            "5/5 [==============================] - 0s 28ms/step\n",
            "Classification Report:\n",
            "               precision    recall  f1-score   support\n",
            "\n",
            "           0       0.97      1.00      0.98        58\n",
            "           1       1.00      0.98      0.99        85\n",
            "\n",
            "    accuracy                           0.99       143\n",
            "   macro avg       0.98      0.99      0.99       143\n",
            "weighted avg       0.99      0.99      0.99       143\n",
            "\n"
          ]
        },
        {
          "output_type": "display_data",
          "data": {
            "text/plain": [
              "<Figure size 400x400 with 1 Axes>"
            ],
            "image/png": "[encoded data removed]"
          },
          "metadata": {}
        },
        {
          "output_type": "stream",
          "name": "stdout",
          "text": [
            "\n",
            "\n",
            "time: 22.5 s (started: 2024-01-15 23:25:35 +00:00)\n"
          ]
        }
      ]
    },
    {
      "cell_type": "code",
      "source": [
        "imprime_graficos(history)"
      ],
      "metadata": {
        "id": "F3ZtmSa1jk2b",
        "colab": {
          "base_uri": "https://localhost:8080/",
          "height": 942
        },
        "outputId": "097ef52b-bf8f-4692-fa9b-07984fb8c393"
      },
      "execution_count": 24,
      "outputs": [
        {
          "output_type": "display_data",
          "data": {
            "text/plain": [
              "<Figure size 640x480 with 1 Axes>"
            ],
            "image/png": "[encoded data removed]"
          },
          "metadata": {}
        },
        {
          "output_type": "display_data",
          "data": {
            "text/plain": [
              "<Figure size 640x480 with 1 Axes>"
            ],
            "image/png": "[encoded data removed]"
          },
          "metadata": {}
        },
        {
          "output_type": "stream",
          "name": "stdout",
          "text": [
            "\n",
            "\n",
            "time: 439 ms (started: 2024-01-15 23:25:58 +00:00)\n"
          ]
        }
      ]
    }
  ],
  "metadata": {
    "accelerator": "GPU",
    "colab": {
      "gpuType": "T4",
      "provenance": []
    },
    "kernelspec": {
      "display_name": "Python 3 (ipykernel)",
      "language": "python",
      "name": "python3"
    },
    "language_info": {
      "codemirror_mode": {
        "name": "ipython",
        "version": 3
      },
      "file_extension": ".py",
      "mimetype": "text/x-python",
      "name": "python",
      "nbconvert_exporter": "python",
      "pygments_lexer": "ipython3",
      "version": "3.9.7"
    }
  },
  "nbformat": 4,
  "nbformat_minor": 0
}