{
  "cells": [
    {
      "cell_type": "code",
      "execution_count": 1,
      "metadata": {
        "colab": {
          "base_uri": "https://localhost:8080/"
        },
        "id": "CuDGoysGdUml",
        "outputId": "2d72d31c-cd45-49b6-8499-f61cd0d0a31a"
      },
      "outputs": [
        {
          "output_type": "stream",
          "name": "stdout",
          "text": [
            "Mounted at /content/drive\n"
          ]
        }
      ],
      "source": [
        "from google.colab import drive\n",
        "drive.mount('/content/drive')"
      ]
    },
    {
      "cell_type": "code",
      "execution_count": 2,
      "metadata": {
        "colab": {
          "base_uri": "https://localhost:8080/"
        },
        "id": "uzCkIRFpWPWO",
        "outputId": "1f613e5f-0aa0-4ca0-827f-9f47befbd34a"
      },
      "outputs": [
        {
          "output_type": "stream",
          "name": "stdout",
          "text": [
            "Collecting ipython-autotime\n",
            "  Downloading ipython_autotime-0.3.2-py2.py3-none-any.whl (7.0 kB)\n",
            "Requirement already satisfied: ipython in /usr/local/lib/python3.10/dist-packages (from ipython-autotime) (7.34.0)\n",
            "Requirement already satisfied: setuptools>=18.5 in /usr/local/lib/python3.10/dist-packages (from ipython->ipython-autotime) (67.7.2)\n",
            "Collecting jedi>=0.16 (from ipython->ipython-autotime)\n",
            "  Downloading jedi-0.19.1-py2.py3-none-any.whl (1.6 MB)\n",
            "\u001b[2K     \u001b[90m━━━━━━━━━━━━━━━━━━━━━━━━━━━━━━━━━━━━━━━━\u001b[0m \u001b[32m1.6/1.6 MB\u001b[0m \u001b[31m10.4 MB/s\u001b[0m eta \u001b[36m0:00:00\u001b[0m\n",
            "\u001b[?25hRequirement already satisfied: decorator in /usr/local/lib/python3.10/dist-packages (from ipython->ipython-autotime) (4.4.2)\n",
            "Requirement already satisfied: pickleshare in /usr/local/lib/python3.10/dist-packages (from ipython->ipython-autotime) (0.7.5)\n",
            "Requirement already satisfied: traitlets>=4.2 in /usr/local/lib/python3.10/dist-packages (from ipython->ipython-autotime) (5.7.1)\n",
            "Requirement already satisfied: prompt-toolkit!=3.0.0,!=3.0.1,<3.1.0,>=2.0.0 in /usr/local/lib/python3.10/dist-packages (from ipython->ipython-autotime) (3.0.43)\n",
            "Requirement already satisfied: pygments in /usr/local/lib/python3.10/dist-packages (from ipython->ipython-autotime) (2.16.1)\n",
            "Requirement already satisfied: backcall in /usr/local/lib/python3.10/dist-packages (from ipython->ipython-autotime) (0.2.0)\n",
            "Requirement already satisfied: matplotlib-inline in /usr/local/lib/python3.10/dist-packages (from ipython->ipython-autotime) (0.1.6)\n",
            "Requirement already satisfied: pexpect>4.3 in /usr/local/lib/python3.10/dist-packages (from ipython->ipython-autotime) (4.9.0)\n",
            "Requirement already satisfied: parso<0.9.0,>=0.8.3 in /usr/local/lib/python3.10/dist-packages (from jedi>=0.16->ipython->ipython-autotime) (0.8.3)\n",
            "Requirement already satisfied: ptyprocess>=0.5 in /usr/local/lib/python3.10/dist-packages (from pexpect>4.3->ipython->ipython-autotime) (0.7.0)\n",
            "Requirement already satisfied: wcwidth in /usr/local/lib/python3.10/dist-packages (from prompt-toolkit!=3.0.0,!=3.0.1,<3.1.0,>=2.0.0->ipython->ipython-autotime) (0.2.12)\n",
            "Installing collected packages: jedi, ipython-autotime\n",
            "Successfully installed ipython-autotime-0.3.2 jedi-0.19.1\n",
            "time: 328 µs (started: 2024-01-15 18:09:50 +00:00)\n"
          ]
        }
      ],
      "source": [
        "!pip install ipython-autotime\n",
        "%load_ext autotime"
      ]
    },
    {
      "cell_type": "code",
      "execution_count": 123,
      "metadata": {
        "colab": {
          "base_uri": "https://localhost:8080/"
        },
        "id": "w5ybUAh8Kz_i",
        "outputId": "8213fe12-6d63-47a0-e062-a961940164c3"
      },
      "outputs": [
        {
          "output_type": "stream",
          "name": "stdout",
          "text": [
            "time: 26.3 ms (started: 2024-01-15 22:05:20 +00:00)\n"
          ]
        }
      ],
      "source": [
        "import glob, os\n",
        "import random\n",
        "import shutil\n",
        "import seaborn as sns\n",
        "import numpy as np\n",
        "import matplotlib.pyplot as plt\n",
        "from skimage import io, transform\n",
        "from keras.optimizers import Adam\n",
        "import tensorflow as tf\n",
        "from tensorflow.keras.applications import VGG16\n",
        "from tensorflow.keras.preprocessing import image\n",
        "from tensorflow.keras.applications.vgg16 import preprocess_input, decode_predictions\n",
        "from tensorflow.keras import layers, models\n",
        "from tensorflow.keras.optimizers import Adam\n",
        "from tensorflow.keras.preprocessing.image import ImageDataGenerator\n",
        "from sklearn.model_selection import train_test_split\n",
        "from sklearn.metrics import classification_report, confusion_matrix\n",
        "path=\"drive/MyDrive/imagensOriginais/\"\n",
        "imagens_originais= glob.glob(os.path.join(path, '*.jpg'))"
      ]
    },
    {
      "cell_type": "code",
      "execution_count": 124,
      "metadata": {
        "colab": {
          "base_uri": "https://localhost:8080/"
        },
        "id": "D_P0Y8aSQmY0",
        "outputId": "a0d93c72-8a49-4696-c7e6-012c88938fc1"
      },
      "outputs": [
        {
          "output_type": "stream",
          "name": "stdout",
          "text": [
            "time: 996 µs (started: 2024-01-15 22:05:23 +00:00)\n"
          ]
        }
      ],
      "source": [
        "def dataset(file_list,size=(224,224)):\n",
        "\timagens = []\n",
        "\tfor i, file in enumerate(imagens_originais):\n",
        "\t\timagem = io.imread(file)\n",
        "\t\timagem = transform.resize(imagem, size, mode='constant')\n",
        "\t\timagens.append(imagem)\n",
        "\n",
        "\tlabels = [1 if f.split(\"/\")[-1][0] == 'P' else 0 for f in file_list]\n",
        "\n",
        "\treturn np.array(imagens), np.array(labels)"
      ]
    },
    {
      "cell_type": "code",
      "execution_count": 125,
      "metadata": {
        "colab": {
          "base_uri": "https://localhost:8080/"
        },
        "id": "oBFas_yNtlRq",
        "outputId": "9618f3fe-5895-4622-a785-68cfa578ed9c"
      },
      "outputs": [
        {
          "output_type": "stream",
          "name": "stdout",
          "text": [
            "time: 30.7 s (started: 2024-01-15 22:05:23 +00:00)\n"
          ]
        }
      ],
      "source": [
        "imagens,labels=dataset(imagens_originais)"
      ]
    },
    {
      "cell_type": "code",
      "execution_count": 126,
      "metadata": {
        "colab": {
          "base_uri": "https://localhost:8080/"
        },
        "id": "r3jaMrN98gJG",
        "outputId": "3429aab1-047a-4206-bafc-3d575c6efa69"
      },
      "outputs": [
        {
          "output_type": "stream",
          "name": "stdout",
          "text": [
            "time: 5.1 s (started: 2024-01-15 22:05:54 +00:00)\n"
          ]
        }
      ],
      "source": [
        "X_train, X_test, Y_train, Y_test = train_test_split(imagens, labels, test_size = 0.20, random_state = 40)\n",
        "X_train, X_validation, Y_train, Y_validation = train_test_split(X_train, Y_train, test_size = 0.15, random_state = 40)"
      ]
    },
    {
      "cell_type": "code",
      "execution_count": 127,
      "metadata": {
        "colab": {
          "base_uri": "https://localhost:8080/"
        },
        "id": "ssK5d-oMoYuA",
        "outputId": "2ec00033-23ec-48a1-c407-f6bbb82db73e"
      },
      "outputs": [
        {
          "output_type": "stream",
          "name": "stdout",
          "text": [
            "time: 537 µs (started: 2024-01-15 22:05:59 +00:00)\n"
          ]
        }
      ],
      "source": [
        "EPOCHS = 60\n",
        "BATCH_SIZE = 16"
      ]
    },
    {
      "cell_type": "code",
      "execution_count": 128,
      "metadata": {
        "colab": {
          "base_uri": "https://localhost:8080/"
        },
        "id": "Xe-AAVWxocAQ",
        "outputId": "0cea6360-a7d4-421d-9ab5-d403cbd062bf"
      },
      "outputs": [
        {
          "output_type": "stream",
          "name": "stdout",
          "text": [
            "time: 139 ms (started: 2024-01-15 22:05:59 +00:00)\n"
          ]
        }
      ],
      "source": [
        "train_generator = ImageDataGenerator(\n",
        "                                      shear_range=30,\n",
        "                                      rotation_range=20,\n",
        "                                      horizontal_flip=True,\n",
        "                                      vertical_flip=True,\n",
        "                                  ).flow(X_train, Y_train, batch_size=BATCH_SIZE)\n",
        "validation_generator = ImageDataGenerator(\n",
        "                                      shear_range=30,\n",
        "                                      rotation_range=20,\n",
        "                                      horizontal_flip=True,\n",
        "                                      vertical_flip=True,\n",
        "                                  ).flow(X_validation, Y_validation, batch_size=BATCH_SIZE)"
      ]
    },
    {
      "cell_type": "code",
      "execution_count": 131,
      "metadata": {
        "colab": {
          "base_uri": "https://localhost:8080/"
        },
        "id": "0kKbNBfc91em",
        "outputId": "6f44fde9-59b0-4de9-f4a4-ef90d7d658ea"
      },
      "outputs": [
        {
          "output_type": "stream",
          "name": "stdout",
          "text": [
            "time: 779 µs (started: 2024-01-15 22:06:57 +00:00)\n"
          ]
        }
      ],
      "source": [
        "def create_model():\n",
        "  base_model = VGG16(weights='imagenet', include_top=False, input_shape=(224, 224, 3))\n",
        "\n",
        "  # Congela todas as camadas\n",
        "  for layer in base_model.layers:\n",
        "    layer.trainable = False\n",
        "\n",
        "\n",
        "  x = base_model.output\n",
        "  x = layers.Flatten()(x)\n",
        "  x = layers.Dense(256, activation='relu')(x)\n",
        "  x = layers.Dropout(0.5)(x)\n",
        "  predictions = layers.Dense(1, activation='sigmoid')(x)\n",
        "\n",
        "  model = models.Model(inputs=base_model.input, outputs=predictions)\n",
        "\n",
        "  model.compile(optimizer=Adam(learning_rate=0.0001), loss='binary_crossentropy', metrics=['acc'])\n",
        "\n",
        "  return model"
      ]
    },
    {
      "cell_type": "code",
      "source": [
        "# Include the epoch in the file name (uses `str.format`)\n",
        "checkpoint_path = \"VGG16Pre/cp-{epoch:04d}.ckpt\"\n",
        "checkpoint_dir = os.path.dirname(checkpoint_path)"
      ],
      "metadata": {
        "colab": {
          "base_uri": "https://localhost:8080/"
        },
        "id": "-ecRsdq_C7gd",
        "outputId": "e2c7ce57-79ce-4e5d-ba24-b9083d85bae4"
      },
      "execution_count": 132,
      "outputs": [
        {
          "output_type": "stream",
          "name": "stdout",
          "text": [
            "time: 575 µs (started: 2024-01-15 22:06:59 +00:00)\n"
          ]
        }
      ]
    },
    {
      "cell_type": "code",
      "source": [
        "# Create a callback that saves the model's weights every 5 epochs\n",
        "cp_callback = tf.keras.callbacks.ModelCheckpoint(\n",
        "    filepath=checkpoint_path,\n",
        "    verbose=1,\n",
        "    save_weights_only=True,\n",
        "    save_freq=\"epoch\")"
      ],
      "metadata": {
        "colab": {
          "base_uri": "https://localhost:8080/"
        },
        "id": "g4IH7TDOHFUL",
        "outputId": "be16bad8-3989-42dc-d6f2-7b942a2f8cb4"
      },
      "execution_count": 133,
      "outputs": [
        {
          "output_type": "stream",
          "name": "stdout",
          "text": [
            "time: 917 µs (started: 2024-01-15 22:07:04 +00:00)\n"
          ]
        }
      ]
    },
    {
      "cell_type": "code",
      "source": [
        "model = create_model()\n",
        "# Save the weights using the `checkpoint_path` format\n",
        "model.save_weights(checkpoint_path.format(epoch=0))"
      ],
      "metadata": {
        "colab": {
          "base_uri": "https://localhost:8080/"
        },
        "id": "Cnh8Vo-BJSxg",
        "outputId": "ee3ed534-39f6-47ea-d9eb-fbe2bdb4f076"
      },
      "execution_count": 134,
      "outputs": [
        {
          "output_type": "stream",
          "name": "stdout",
          "text": [
            "Downloading data from https://storage.googleapis.com/tensorflow/keras-applications/vgg16/vgg16_weights_tf_dim_ordering_tf_kernels_notop.h5\n",
            "58889256/58889256 [==============================] - 0s 0us/step\n",
            "time: 1.14 s (started: 2024-01-15 22:07:08 +00:00)\n"
          ]
        }
      ]
    },
    {
      "cell_type": "code",
      "source": [
        "steps_per_epoch = X_train.shape[0]//BATCH_SIZE\n",
        "validation_steps = X_validation.shape[0]//BATCH_SIZE"
      ],
      "metadata": {
        "colab": {
          "base_uri": "https://localhost:8080/"
        },
        "id": "W1fZD5LSIX41",
        "outputId": "552524e9-9ebd-45df-e747-a4a364653287"
      },
      "execution_count": 135,
      "outputs": [
        {
          "output_type": "stream",
          "name": "stdout",
          "text": [
            "time: 571 µs (started: 2024-01-15 22:07:13 +00:00)\n"
          ]
        }
      ]
    },
    {
      "cell_type": "code",
      "source": [
        "history = model.fit(train_generator,\n",
        "                   steps_per_epoch=steps_per_epoch,\n",
        "                   epochs=EPOCHS,\n",
        "                   callbacks=[cp_callback],\n",
        "                   validation_data=validation_generator,\n",
        "                   validation_steps=validation_steps,\n",
        "                   shuffle=True,\n",
        "                   verbose=2)"
      ],
      "metadata": {
        "colab": {
          "base_uri": "https://localhost:8080/"
        },
        "id": "oi9E2JsQIZTO",
        "outputId": "995aba5d-8407-455a-b5ba-0d5747f45f5e"
      },
      "execution_count": 136,
      "outputs": [
        {
          "output_type": "stream",
          "name": "stdout",
          "text": [
            "Epoch 1/60\n",
            "\n",
            "Epoch 1: saving model to VGG16Pre/cp-0001.ckpt\n",
            "30/30 - 15s - loss: 0.7747 - acc: 0.5480 - val_loss: 0.7774 - val_acc: 0.5500 - 15s/epoch - 515ms/step\n",
            "Epoch 2/60\n",
            "\n",
            "Epoch 2: saving model to VGG16Pre/cp-0002.ckpt\n",
            "30/30 - 7s - loss: 0.6185 - acc: 0.6844 - val_loss: 0.5245 - val_acc: 0.7625 - 7s/epoch - 224ms/step\n",
            "Epoch 3/60\n",
            "\n",
            "Epoch 3: saving model to VGG16Pre/cp-0003.ckpt\n",
            "30/30 - 9s - loss: 0.5113 - acc: 0.7548 - val_loss: 0.5241 - val_acc: 0.6875 - 9s/epoch - 305ms/step\n",
            "Epoch 4/60\n",
            "\n",
            "Epoch 4: saving model to VGG16Pre/cp-0004.ckpt\n",
            "30/30 - 7s - loss: 0.4789 - acc: 0.7676 - val_loss: 0.4397 - val_acc: 0.8250 - 7s/epoch - 232ms/step\n",
            "Epoch 5/60\n",
            "\n",
            "Epoch 5: saving model to VGG16Pre/cp-0005.ckpt\n",
            "30/30 - 8s - loss: 0.4327 - acc: 0.7996 - val_loss: 0.5515 - val_acc: 0.6750 - 8s/epoch - 259ms/step\n",
            "Epoch 6/60\n",
            "\n",
            "Epoch 6: saving model to VGG16Pre/cp-0006.ckpt\n",
            "30/30 - 9s - loss: 0.4305 - acc: 0.8081 - val_loss: 0.4387 - val_acc: 0.7625 - 9s/epoch - 309ms/step\n",
            "Epoch 7/60\n",
            "\n",
            "Epoch 7: saving model to VGG16Pre/cp-0007.ckpt\n",
            "30/30 - 7s - loss: 0.3993 - acc: 0.8038 - val_loss: 0.3283 - val_acc: 0.9000 - 7s/epoch - 233ms/step\n",
            "Epoch 8/60\n",
            "\n",
            "Epoch 8: saving model to VGG16Pre/cp-0008.ckpt\n",
            "30/30 - 7s - loss: 0.3679 - acc: 0.8358 - val_loss: 0.3678 - val_acc: 0.8250 - 7s/epoch - 230ms/step\n",
            "Epoch 9/60\n",
            "\n",
            "Epoch 9: saving model to VGG16Pre/cp-0009.ckpt\n",
            "30/30 - 9s - loss: 0.3734 - acc: 0.8209 - val_loss: 0.3593 - val_acc: 0.8375 - 9s/epoch - 297ms/step\n",
            "Epoch 10/60\n",
            "\n",
            "Epoch 10: saving model to VGG16Pre/cp-0010.ckpt\n",
            "30/30 - 7s - loss: 0.3550 - acc: 0.8380 - val_loss: 0.3372 - val_acc: 0.8500 - 7s/epoch - 230ms/step\n",
            "Epoch 11/60\n",
            "\n",
            "Epoch 11: saving model to VGG16Pre/cp-0011.ckpt\n",
            "30/30 - 9s - loss: 0.3802 - acc: 0.8230 - val_loss: 0.3373 - val_acc: 0.8625 - 9s/epoch - 310ms/step\n",
            "Epoch 12/60\n",
            "\n",
            "Epoch 12: saving model to VGG16Pre/cp-0012.ckpt\n",
            "30/30 - 7s - loss: 0.3482 - acc: 0.8337 - val_loss: 0.3204 - val_acc: 0.8625 - 7s/epoch - 225ms/step\n",
            "Epoch 13/60\n",
            "\n",
            "Epoch 13: saving model to VGG16Pre/cp-0013.ckpt\n",
            "30/30 - 7s - loss: 0.3577 - acc: 0.8380 - val_loss: 0.4463 - val_acc: 0.7750 - 7s/epoch - 222ms/step\n",
            "Epoch 14/60\n",
            "\n",
            "Epoch 14: saving model to VGG16Pre/cp-0014.ckpt\n",
            "30/30 - 9s - loss: 0.3540 - acc: 0.8443 - val_loss: 0.3593 - val_acc: 0.8000 - 9s/epoch - 291ms/step\n",
            "Epoch 15/60\n",
            "\n",
            "Epoch 15: saving model to VGG16Pre/cp-0015.ckpt\n",
            "30/30 - 9s - loss: 0.3289 - acc: 0.8486 - val_loss: 0.3373 - val_acc: 0.8500 - 9s/epoch - 289ms/step\n",
            "Epoch 16/60\n",
            "\n",
            "Epoch 16: saving model to VGG16Pre/cp-0016.ckpt\n",
            "30/30 - 7s - loss: 0.3255 - acc: 0.8507 - val_loss: 0.3049 - val_acc: 0.8375 - 7s/epoch - 235ms/step\n",
            "Epoch 17/60\n",
            "\n",
            "Epoch 17: saving model to VGG16Pre/cp-0017.ckpt\n",
            "30/30 - 8s - loss: 0.3324 - acc: 0.8571 - val_loss: 0.3243 - val_acc: 0.8625 - 8s/epoch - 279ms/step\n",
            "Epoch 18/60\n",
            "\n",
            "Epoch 18: saving model to VGG16Pre/cp-0018.ckpt\n",
            "30/30 - 9s - loss: 0.3014 - acc: 0.8529 - val_loss: 0.3273 - val_acc: 0.8750 - 9s/epoch - 285ms/step\n",
            "Epoch 19/60\n",
            "\n",
            "Epoch 19: saving model to VGG16Pre/cp-0019.ckpt\n",
            "30/30 - 7s - loss: 0.3050 - acc: 0.8721 - val_loss: 0.3160 - val_acc: 0.8500 - 7s/epoch - 223ms/step\n",
            "Epoch 20/60\n",
            "\n",
            "Epoch 20: saving model to VGG16Pre/cp-0020.ckpt\n",
            "30/30 - 11s - loss: 0.2851 - acc: 0.8849 - val_loss: 0.2953 - val_acc: 0.8500 - 11s/epoch - 380ms/step\n",
            "Epoch 21/60\n",
            "\n",
            "Epoch 21: saving model to VGG16Pre/cp-0021.ckpt\n",
            "30/30 - 9s - loss: 0.2974 - acc: 0.8635 - val_loss: 0.3278 - val_acc: 0.8375 - 9s/epoch - 309ms/step\n",
            "Epoch 22/60\n",
            "\n",
            "Epoch 22: saving model to VGG16Pre/cp-0022.ckpt\n",
            "30/30 - 7s - loss: 0.2968 - acc: 0.8721 - val_loss: 0.2521 - val_acc: 0.9125 - 7s/epoch - 224ms/step\n",
            "Epoch 23/60\n",
            "\n",
            "Epoch 23: saving model to VGG16Pre/cp-0023.ckpt\n",
            "30/30 - 7s - loss: 0.2758 - acc: 0.9041 - val_loss: 0.2714 - val_acc: 0.9125 - 7s/epoch - 232ms/step\n",
            "Epoch 24/60\n",
            "\n",
            "Epoch 24: saving model to VGG16Pre/cp-0024.ckpt\n",
            "30/30 - 9s - loss: 0.2550 - acc: 0.8998 - val_loss: 0.2388 - val_acc: 0.9250 - 9s/epoch - 305ms/step\n",
            "Epoch 25/60\n",
            "\n",
            "Epoch 25: saving model to VGG16Pre/cp-0025.ckpt\n",
            "30/30 - 7s - loss: 0.2754 - acc: 0.8891 - val_loss: 0.2148 - val_acc: 0.9375 - 7s/epoch - 229ms/step\n",
            "Epoch 26/60\n",
            "\n",
            "Epoch 26: saving model to VGG16Pre/cp-0026.ckpt\n",
            "30/30 - 9s - loss: 0.2620 - acc: 0.8913 - val_loss: 0.2643 - val_acc: 0.9000 - 9s/epoch - 299ms/step\n",
            "Epoch 27/60\n",
            "\n",
            "Epoch 27: saving model to VGG16Pre/cp-0027.ckpt\n",
            "30/30 - 12s - loss: 0.2437 - acc: 0.9062 - val_loss: 0.2342 - val_acc: 0.9000 - 12s/epoch - 409ms/step\n",
            "Epoch 28/60\n",
            "\n",
            "Epoch 28: saving model to VGG16Pre/cp-0028.ckpt\n",
            "30/30 - 9s - loss: 0.2382 - acc: 0.9019 - val_loss: 0.2630 - val_acc: 0.8875 - 9s/epoch - 296ms/step\n",
            "Epoch 29/60\n",
            "\n",
            "Epoch 29: saving model to VGG16Pre/cp-0029.ckpt\n",
            "30/30 - 8s - loss: 0.2651 - acc: 0.8870 - val_loss: 0.2935 - val_acc: 0.8750 - 8s/epoch - 272ms/step\n",
            "Epoch 30/60\n",
            "\n",
            "Epoch 30: saving model to VGG16Pre/cp-0030.ckpt\n",
            "30/30 - 7s - loss: 0.2404 - acc: 0.9041 - val_loss: 0.2183 - val_acc: 0.8875 - 7s/epoch - 234ms/step\n",
            "Epoch 31/60\n",
            "\n",
            "Epoch 31: saving model to VGG16Pre/cp-0031.ckpt\n",
            "30/30 - 9s - loss: 0.2387 - acc: 0.9167 - val_loss: 0.2393 - val_acc: 0.9000 - 9s/epoch - 298ms/step\n",
            "Epoch 32/60\n",
            "\n",
            "Epoch 32: saving model to VGG16Pre/cp-0032.ckpt\n",
            "30/30 - 7s - loss: 0.2471 - acc: 0.9104 - val_loss: 0.2694 - val_acc: 0.9000 - 7s/epoch - 223ms/step\n",
            "Epoch 33/60\n",
            "\n",
            "Epoch 33: saving model to VGG16Pre/cp-0033.ckpt\n",
            "30/30 - 9s - loss: 0.2043 - acc: 0.9211 - val_loss: 0.2672 - val_acc: 0.9125 - 9s/epoch - 310ms/step\n",
            "Epoch 34/60\n",
            "\n",
            "Epoch 34: saving model to VGG16Pre/cp-0034.ckpt\n",
            "30/30 - 7s - loss: 0.2243 - acc: 0.9019 - val_loss: 0.2065 - val_acc: 0.9125 - 7s/epoch - 233ms/step\n",
            "Epoch 35/60\n",
            "\n",
            "Epoch 35: saving model to VGG16Pre/cp-0035.ckpt\n",
            "30/30 - 9s - loss: 0.2466 - acc: 0.8891 - val_loss: 0.2170 - val_acc: 0.8875 - 9s/epoch - 302ms/step\n",
            "Epoch 36/60\n",
            "\n",
            "Epoch 36: saving model to VGG16Pre/cp-0036.ckpt\n",
            "30/30 - 8s - loss: 0.2200 - acc: 0.9104 - val_loss: 0.2130 - val_acc: 0.9125 - 8s/epoch - 264ms/step\n",
            "Epoch 37/60\n",
            "\n",
            "Epoch 37: saving model to VGG16Pre/cp-0037.ckpt\n",
            "30/30 - 8s - loss: 0.2428 - acc: 0.9019 - val_loss: 0.2297 - val_acc: 0.9250 - 8s/epoch - 264ms/step\n",
            "Epoch 38/60\n",
            "\n",
            "Epoch 38: saving model to VGG16Pre/cp-0038.ckpt\n",
            "30/30 - 9s - loss: 0.2133 - acc: 0.9019 - val_loss: 0.2157 - val_acc: 0.9000 - 9s/epoch - 298ms/step\n",
            "Epoch 39/60\n",
            "\n",
            "Epoch 39: saving model to VGG16Pre/cp-0039.ckpt\n",
            "30/30 - 7s - loss: 0.2198 - acc: 0.8977 - val_loss: 0.2578 - val_acc: 0.9000 - 7s/epoch - 232ms/step\n",
            "Epoch 40/60\n",
            "\n",
            "Epoch 40: saving model to VGG16Pre/cp-0040.ckpt\n",
            "30/30 - 7s - loss: 0.2006 - acc: 0.9275 - val_loss: 0.2002 - val_acc: 0.9125 - 7s/epoch - 229ms/step\n",
            "Epoch 41/60\n",
            "\n",
            "Epoch 41: saving model to VGG16Pre/cp-0041.ckpt\n",
            "30/30 - 10s - loss: 0.2142 - acc: 0.9190 - val_loss: 0.2463 - val_acc: 0.9000 - 10s/epoch - 332ms/step\n",
            "Epoch 42/60\n",
            "\n",
            "Epoch 42: saving model to VGG16Pre/cp-0042.ckpt\n",
            "30/30 - 12s - loss: 0.2041 - acc: 0.9211 - val_loss: 0.2279 - val_acc: 0.9000 - 12s/epoch - 389ms/step\n",
            "Epoch 43/60\n",
            "\n",
            "Epoch 43: saving model to VGG16Pre/cp-0043.ckpt\n",
            "30/30 - 7s - loss: 0.1921 - acc: 0.9232 - val_loss: 0.2215 - val_acc: 0.9500 - 7s/epoch - 231ms/step\n",
            "Epoch 44/60\n",
            "\n",
            "Epoch 44: saving model to VGG16Pre/cp-0044.ckpt\n",
            "30/30 - 10s - loss: 0.2123 - acc: 0.9104 - val_loss: 0.2168 - val_acc: 0.9250 - 10s/epoch - 339ms/step\n",
            "Epoch 45/60\n",
            "\n",
            "Epoch 45: saving model to VGG16Pre/cp-0045.ckpt\n",
            "30/30 - 7s - loss: 0.2217 - acc: 0.9147 - val_loss: 0.1829 - val_acc: 0.9500 - 7s/epoch - 231ms/step\n",
            "Epoch 46/60\n",
            "\n",
            "Epoch 46: saving model to VGG16Pre/cp-0046.ckpt\n",
            "30/30 - 7s - loss: 0.1766 - acc: 0.9488 - val_loss: 0.2345 - val_acc: 0.9125 - 7s/epoch - 236ms/step\n",
            "Epoch 47/60\n",
            "\n",
            "Epoch 47: saving model to VGG16Pre/cp-0047.ckpt\n",
            "30/30 - 10s - loss: 0.2199 - acc: 0.9104 - val_loss: 0.2385 - val_acc: 0.9125 - 10s/epoch - 321ms/step\n",
            "Epoch 48/60\n",
            "\n",
            "Epoch 48: saving model to VGG16Pre/cp-0048.ckpt\n",
            "30/30 - 7s - loss: 0.1886 - acc: 0.9254 - val_loss: 0.1685 - val_acc: 0.9125 - 7s/epoch - 223ms/step\n",
            "Epoch 49/60\n",
            "\n",
            "Epoch 49: saving model to VGG16Pre/cp-0049.ckpt\n",
            "30/30 - 7s - loss: 0.1927 - acc: 0.9126 - val_loss: 0.2620 - val_acc: 0.9250 - 7s/epoch - 248ms/step\n",
            "Epoch 50/60\n",
            "\n",
            "Epoch 50: saving model to VGG16Pre/cp-0050.ckpt\n",
            "30/30 - 9s - loss: 0.1786 - acc: 0.9318 - val_loss: 0.2330 - val_acc: 0.9250 - 9s/epoch - 304ms/step\n",
            "Epoch 51/60\n",
            "\n",
            "Epoch 51: saving model to VGG16Pre/cp-0051.ckpt\n",
            "30/30 - 7s - loss: 0.2029 - acc: 0.9083 - val_loss: 0.2065 - val_acc: 0.9125 - 7s/epoch - 238ms/step\n",
            "Epoch 52/60\n",
            "\n",
            "Epoch 52: saving model to VGG16Pre/cp-0052.ckpt\n",
            "30/30 - 8s - loss: 0.2192 - acc: 0.9041 - val_loss: 0.2224 - val_acc: 0.8875 - 8s/epoch - 276ms/step\n",
            "Epoch 53/60\n",
            "\n",
            "Epoch 53: saving model to VGG16Pre/cp-0053.ckpt\n",
            "30/30 - 8s - loss: 0.1804 - acc: 0.9360 - val_loss: 0.2642 - val_acc: 0.8875 - 8s/epoch - 277ms/step\n",
            "Epoch 54/60\n",
            "\n",
            "Epoch 54: saving model to VGG16Pre/cp-0054.ckpt\n",
            "30/30 - 7s - loss: 0.1662 - acc: 0.9254 - val_loss: 0.2108 - val_acc: 0.9250 - 7s/epoch - 242ms/step\n",
            "Epoch 55/60\n",
            "\n",
            "Epoch 55: saving model to VGG16Pre/cp-0055.ckpt\n",
            "30/30 - 9s - loss: 0.1680 - acc: 0.9467 - val_loss: 0.2425 - val_acc: 0.8875 - 9s/epoch - 307ms/step\n",
            "Epoch 56/60\n",
            "\n",
            "Epoch 56: saving model to VGG16Pre/cp-0056.ckpt\n",
            "30/30 - 10s - loss: 0.2049 - acc: 0.9147 - val_loss: 0.1968 - val_acc: 0.9250 - 10s/epoch - 325ms/step\n",
            "Epoch 57/60\n",
            "\n",
            "Epoch 57: saving model to VGG16Pre/cp-0057.ckpt\n",
            "30/30 - 7s - loss: 0.2048 - acc: 0.9126 - val_loss: 0.3019 - val_acc: 0.8250 - 7s/epoch - 234ms/step\n",
            "Epoch 58/60\n",
            "\n",
            "Epoch 58: saving model to VGG16Pre/cp-0058.ckpt\n",
            "30/30 - 9s - loss: 0.1809 - acc: 0.9232 - val_loss: 0.1516 - val_acc: 0.9625 - 9s/epoch - 311ms/step\n",
            "Epoch 59/60\n",
            "\n",
            "Epoch 59: saving model to VGG16Pre/cp-0059.ckpt\n",
            "30/30 - 8s - loss: 0.2039 - acc: 0.9296 - val_loss: 0.2109 - val_acc: 0.9125 - 8s/epoch - 259ms/step\n",
            "Epoch 60/60\n",
            "\n",
            "Epoch 60: saving model to VGG16Pre/cp-0060.ckpt\n",
            "30/30 - 8s - loss: 0.1709 - acc: 0.9339 - val_loss: 0.1786 - val_acc: 0.9250 - 8s/epoch - 264ms/step\n",
            "time: 9min 31s (started: 2024-01-15 22:07:15 +00:00)\n"
          ]
        }
      ]
    },
    {
      "cell_type": "code",
      "source": [
        "# Especificar o diretório de destino no Google Drive\n",
        "drive_dir = '/content/drive/MyDrive/VGG16Pre/'"
      ],
      "metadata": {
        "colab": {
          "base_uri": "https://localhost:8080/"
        },
        "id": "ic90m-9fQdlK",
        "outputId": "c3daf86b-32cb-4273-d78e-70ffeff8dcc0"
      },
      "execution_count": 144,
      "outputs": [
        {
          "output_type": "stream",
          "name": "stdout",
          "text": [
            "time: 473 µs (started: 2024-01-15 22:27:59 +00:00)\n"
          ]
        }
      ]
    },
    {
      "cell_type": "code",
      "source": [
        "shutil.copytree(checkpoint_dir, drive_dir)"
      ],
      "metadata": {
        "colab": {
          "base_uri": "https://localhost:8080/",
          "height": 52
        },
        "id": "AieJKDaXP4TR",
        "outputId": "1abc3ba8-6b06-4373-e82a-c311969ba5e0"
      },
      "execution_count": 139,
      "outputs": [
        {
          "output_type": "execute_result",
          "data": {
            "text/plain": [
              "'/content/drive/MyDrive/VGG16Pre/'"
            ],
            "application/vnd.google.colaboratory.intrinsic+json": {
              "type": "string"
            }
          },
          "metadata": {},
          "execution_count": 139
        },
        {
          "output_type": "stream",
          "name": "stdout",
          "text": [
            "time: 3min 9s (started: 2024-01-15 22:17:45 +00:00)\n"
          ]
        }
      ]
    },
    {
      "cell_type": "code",
      "execution_count": 143,
      "metadata": {
        "colab": {
          "base_uri": "https://localhost:8080/"
        },
        "id": "psL6jhi8-UT_",
        "outputId": "cf9587f6-86fc-48e5-ddef-92706e7b6718"
      },
      "outputs": [
        {
          "output_type": "stream",
          "name": "stdout",
          "text": [
            "time: 832 µs (started: 2024-01-15 22:27:52 +00:00)\n"
          ]
        }
      ],
      "source": [
        "def smooth_curve(points, factor=0.8): #this function will make our plots more smooth\n",
        "\tsmoothed_points = []\n",
        "\tfor point in points:\n",
        "\t\tif smoothed_points:\n",
        "\t\t\tprevious = smoothed_points[-1]\n",
        "\t\t\tsmoothed_points.append(previous*factor+point*(1-factor))\n",
        "\t\telse:\n",
        "\t\t\tsmoothed_points.append(point)\n",
        "\treturn smoothed_points"
      ]
    },
    {
      "cell_type": "code",
      "source": [
        "def imprime_graficos(history):\n",
        "  acc = history.history['acc']\n",
        "  val_acc = history.history['val_acc']\n",
        "  loss = history.history['loss']\n",
        "  val_loss = history.history['val_loss']\n",
        "\n",
        "  epochs = range(1, len(acc)+1)\n",
        "  plt.plot(epochs, smooth_curve(acc), 'bo', label='Treinamento acc')\n",
        "  plt.plot(epochs, smooth_curve(val_acc), 'r-', label='Validação acc')\n",
        "  plt.legend()\n",
        "  plt.title('Treinamento and Validação Acc')\n",
        "  plt.figure()\n",
        "\n",
        "  plt.plot(epochs, smooth_curve(loss), 'bo', label='Treinamento loss')\n",
        "  plt.plot(epochs, smooth_curve(val_loss), 'r-', label='Validação loss')\n",
        "  plt.legend()\n",
        "  plt.title('Treinamento e Validação Loss')\n",
        "  plt.show()\n",
        "\n",
        "  print(\"\\n\")"
      ],
      "metadata": {
        "colab": {
          "base_uri": "https://localhost:8080/"
        },
        "id": "tCp08vPNeCju",
        "outputId": "19279935-abc9-47e6-bf95-d2aeb53b4d65"
      },
      "execution_count": 145,
      "outputs": [
        {
          "output_type": "stream",
          "name": "stdout",
          "text": [
            "time: 1.09 ms (started: 2024-01-15 22:28:03 +00:00)\n"
          ]
        }
      ]
    },
    {
      "cell_type": "code",
      "execution_count": 146,
      "metadata": {
        "colab": {
          "base_uri": "https://localhost:8080/"
        },
        "id": "wMwF5avo4hk8",
        "outputId": "cf5a4783-74ba-4ca0-bc63-a89cc0baa087"
      },
      "outputs": [
        {
          "output_type": "stream",
          "name": "stdout",
          "text": [
            "time: 761 µs (started: 2024-01-15 22:28:06 +00:00)\n"
          ]
        }
      ],
      "source": [
        "def metricas(modelo_metricas, epocas):\n",
        "\n",
        "  # Obter as previsões do modelo nos dados de teste\n",
        "  y_pred = modelo_metricas.predict(X_test)\n",
        "\n",
        "  # Converter as previsões em rótulos binários\n",
        "  y_pred_binary = (y_pred > 0.5).astype(int)\n",
        "\n",
        "  # Calcular as métricas de precisão, recall e F1 Score\n",
        "  classification_rep = classification_report(Y_test, y_pred_binary)\n",
        "  print(\"Classification Report:\\n\", classification_rep)\n",
        "\n",
        "\n",
        "  #Calcula a matriz de confusão\n",
        "  cm = confusion_matrix(Y_test, y_pred_binary)\n",
        "  # Display\n",
        "  plt.figure(figsize=(4, 4))\n",
        "\n",
        "  sns.heatmap(cm, annot=True, fmt='g', vmin=0, cmap='Reds', cbar=False)\n",
        "  plt.xticks(ticks=[0.5, 1.5], labels=[\"No Pollen\", \"Pollen\"])\n",
        "  plt.yticks(ticks=[0.5, 1.5], labels=[\"No Pollen\", \"Pollen\"])\n",
        "  plt.xlabel(\"Predicted\")\n",
        "  plt.ylabel(\"Actual\")\n",
        "  plt.title(\"Confusion Matrix \" + str(epocas) + \" épocas\")\n",
        "\n",
        "  plt.show()\n",
        "\n",
        "  print(\"\\n\")"
      ]
    },
    {
      "cell_type": "code",
      "source": [
        "#shutil.rmtree(checkpoint_dir, ignore_errors=False, onerror=None)"
      ],
      "metadata": {
        "colab": {
          "base_uri": "https://localhost:8080/"
        },
        "id": "FXistSEkbyTt",
        "outputId": "ecb4f40e-c1be-4f5a-dc65-001052ce4b63"
      },
      "execution_count": 130,
      "outputs": [
        {
          "output_type": "stream",
          "name": "stdout",
          "text": [
            "time: 555 ms (started: 2024-01-15 22:06:18 +00:00)\n"
          ]
        }
      ]
    },
    {
      "cell_type": "code",
      "source": [
        "epoca = 10\n",
        "for i in range(6):\n",
        "  cp = \"VGG16Pre/cp-00\"+str(epoca)+\".ckpt\"\n",
        "  print(\"Avaliando modelo com checkpoint \" + cp + \" correspondente a época \" + str(epoca))\n",
        "  avaliacao_modelo = create_model()\n",
        "  # Load the previously saved weights\n",
        "  avaliacao_modelo.load_weights(cp)\n",
        "\n",
        "  # Re-evaluate the model\n",
        "  loss, acc = avaliacao_modelo.evaluate(X_test, Y_test)\n",
        "  print(\"Restored model, accuracy: \" + str(acc) )\n",
        "  print(\"Restored model, loss: \" + str(loss) + \"\\n\")\n",
        "\n",
        "  metricas(avaliacao_modelo, epoca)\n",
        "\n",
        "  epoca += 10"
      ],
      "metadata": {
        "colab": {
          "base_uri": "https://localhost:8080/",
          "height": 1000
        },
        "id": "Hcftf7YvhGSy",
        "outputId": "4ef7eb17-2823-40ac-ced2-ccf3eeb0e2af"
      },
      "execution_count": 148,
      "outputs": [
        {
          "output_type": "stream",
          "name": "stdout",
          "text": [
            "Avaliando modelo com checkpoint VGG16Pre/cp-0010.ckpt correspondente a época 10\n",
            "5/5 [==============================] - 11s 1s/step - loss: 0.3355 - acc: 0.8811\n",
            "Restored model, accuracy: 0.881118893623352\n",
            "Restored model, loss: 0.3355499505996704\n",
            "\n",
            "5/5 [==============================] - 1s 120ms/step\n",
            "Classification Report:\n",
            "               precision    recall  f1-score   support\n",
            "\n",
            "           0       0.87      0.88      0.87        67\n",
            "           1       0.89      0.88      0.89        76\n",
            "\n",
            "    accuracy                           0.88       143\n",
            "   macro avg       0.88      0.88      0.88       143\n",
            "weighted avg       0.88      0.88      0.88       143\n",
            "\n"
          ]
        },
        {
          "output_type": "display_data",
          "data": {
            "text/plain": [
              "<Figure size 400x400 with 1 Axes>"
            ],
            "image/png": "[encoded data removed]"
          },
          "metadata": {}
        },
        {
          "output_type": "stream",
          "name": "stdout",
          "text": [
            "\n",
            "\n",
            "Avaliando modelo com checkpoint VGG16Pre/cp-0020.ckpt correspondente a época 20\n",
            "5/5 [==============================] - 1s 112ms/step - loss: 0.2547 - acc: 0.8881\n",
            "Restored model, accuracy: 0.8881118893623352\n",
            "Restored model, loss: 0.25469672679901123\n",
            "\n",
            "5/5 [==============================] - 1s 116ms/step\n",
            "Classification Report:\n",
            "               precision    recall  f1-score   support\n",
            "\n",
            "           0       0.90      0.85      0.88        67\n",
            "           1       0.88      0.92      0.90        76\n",
            "\n",
            "    accuracy                           0.89       143\n",
            "   macro avg       0.89      0.89      0.89       143\n",
            "weighted avg       0.89      0.89      0.89       143\n",
            "\n"
          ]
        },
        {
          "output_type": "display_data",
          "data": {
            "text/plain": [
              "<Figure size 400x400 with 1 Axes>"
            ],
            "image/png": "[encoded data removed]"
          },
          "metadata": {}
        },
        {
          "output_type": "stream",
          "name": "stdout",
          "text": [
            "\n",
            "\n",
            "Avaliando modelo com checkpoint VGG16Pre/cp-0030.ckpt correspondente a época 30\n"
          ]
        },
        {
          "output_type": "stream",
          "name": "stderr",
          "text": [
            "WARNING:tensorflow:Detecting that an object or model or tf.train.Checkpoint is being deleted with unrestored values. See the following logs for the specific values in question. To silence these warnings, use `status.expect_partial()`. See https://www.tensorflow.org/api_docs/python/tf/train/Checkpoint#restorefor details about the status object returned by the restore function.\n",
            "WARNING:tensorflow:Value in checkpoint could not be found in the restored object: (root).optimizer._variables.1\n",
            "WARNING:tensorflow:Value in checkpoint could not be found in the restored object: (root).optimizer._variables.2\n",
            "WARNING:tensorflow:Value in checkpoint could not be found in the restored object: (root).optimizer._variables.3\n",
            "WARNING:tensorflow:Value in checkpoint could not be found in the restored object: (root).optimizer._variables.4\n",
            "WARNING:tensorflow:Value in checkpoint could not be found in the restored object: (root).optimizer._variables.5\n",
            "WARNING:tensorflow:Value in checkpoint could not be found in the restored object: (root).optimizer._variables.6\n",
            "WARNING:tensorflow:Value in checkpoint could not be found in the restored object: (root).optimizer._variables.7\n",
            "WARNING:tensorflow:Value in checkpoint could not be found in the restored object: (root).optimizer._variables.8\n",
            "WARNING:tensorflow:Detecting that an object or model or tf.train.Checkpoint is being deleted with unrestored values. See the following logs for the specific values in question. To silence these warnings, use `status.expect_partial()`. See https://www.tensorflow.org/api_docs/python/tf/train/Checkpoint#restorefor details about the status object returned by the restore function.\n",
            "WARNING:tensorflow:Value in checkpoint could not be found in the restored object: (root).optimizer._variables.1\n",
            "WARNING:tensorflow:Value in checkpoint could not be found in the restored object: (root).optimizer._variables.2\n",
            "WARNING:tensorflow:Value in checkpoint could not be found in the restored object: (root).optimizer._variables.3\n",
            "WARNING:tensorflow:Value in checkpoint could not be found in the restored object: (root).optimizer._variables.4\n",
            "WARNING:tensorflow:Value in checkpoint could not be found in the restored object: (root).optimizer._variables.5\n",
            "WARNING:tensorflow:Value in checkpoint could not be found in the restored object: (root).optimizer._variables.6\n",
            "WARNING:tensorflow:Value in checkpoint could not be found in the restored object: (root).optimizer._variables.7\n",
            "WARNING:tensorflow:Value in checkpoint could not be found in the restored object: (root).optimizer._variables.8\n",
            "WARNING:tensorflow:Detecting that an object or model or tf.train.Checkpoint is being deleted with unrestored values. See the following logs for the specific values in question. To silence these warnings, use `status.expect_partial()`. See https://www.tensorflow.org/api_docs/python/tf/train/Checkpoint#restorefor details about the status object returned by the restore function.\n",
            "WARNING:tensorflow:Value in checkpoint could not be found in the restored object: (root).optimizer._variables.1\n",
            "WARNING:tensorflow:Value in checkpoint could not be found in the restored object: (root).optimizer._variables.2\n",
            "WARNING:tensorflow:Value in checkpoint could not be found in the restored object: (root).optimizer._variables.3\n",
            "WARNING:tensorflow:Value in checkpoint could not be found in the restored object: (root).optimizer._variables.4\n",
            "WARNING:tensorflow:Value in checkpoint could not be found in the restored object: (root).optimizer._variables.5\n",
            "WARNING:tensorflow:Value in checkpoint could not be found in the restored object: (root).optimizer._variables.6\n",
            "WARNING:tensorflow:Value in checkpoint could not be found in the restored object: (root).optimizer._variables.7\n",
            "WARNING:tensorflow:Value in checkpoint could not be found in the restored object: (root).optimizer._variables.8\n",
            "WARNING:tensorflow:Detecting that an object or model or tf.train.Checkpoint is being deleted with unrestored values. See the following logs for the specific values in question. To silence these warnings, use `status.expect_partial()`. See https://www.tensorflow.org/api_docs/python/tf/train/Checkpoint#restorefor details about the status object returned by the restore function.\n",
            "WARNING:tensorflow:Value in checkpoint could not be found in the restored object: (root).optimizer._variables.1\n",
            "WARNING:tensorflow:Value in checkpoint could not be found in the restored object: (root).optimizer._variables.2\n",
            "WARNING:tensorflow:Value in checkpoint could not be found in the restored object: (root).optimizer._variables.3\n",
            "WARNING:tensorflow:Value in checkpoint could not be found in the restored object: (root).optimizer._variables.4\n",
            "WARNING:tensorflow:Value in checkpoint could not be found in the restored object: (root).optimizer._variables.5\n",
            "WARNING:tensorflow:Value in checkpoint could not be found in the restored object: (root).optimizer._variables.6\n",
            "WARNING:tensorflow:Value in checkpoint could not be found in the restored object: (root).optimizer._variables.7\n",
            "WARNING:tensorflow:Value in checkpoint could not be found in the restored object: (root).optimizer._variables.8\n",
            "WARNING:tensorflow:Detecting that an object or model or tf.train.Checkpoint is being deleted with unrestored values. See the following logs for the specific values in question. To silence these warnings, use `status.expect_partial()`. See https://www.tensorflow.org/api_docs/python/tf/train/Checkpoint#restorefor details about the status object returned by the restore function.\n",
            "WARNING:tensorflow:Value in checkpoint could not be found in the restored object: (root).optimizer._variables.1\n",
            "WARNING:tensorflow:Value in checkpoint could not be found in the restored object: (root).optimizer._variables.2\n",
            "WARNING:tensorflow:Value in checkpoint could not be found in the restored object: (root).optimizer._variables.3\n",
            "WARNING:tensorflow:Value in checkpoint could not be found in the restored object: (root).optimizer._variables.4\n",
            "WARNING:tensorflow:Value in checkpoint could not be found in the restored object: (root).optimizer._variables.5\n",
            "WARNING:tensorflow:Value in checkpoint could not be found in the restored object: (root).optimizer._variables.6\n",
            "WARNING:tensorflow:Value in checkpoint could not be found in the restored object: (root).optimizer._variables.7\n",
            "WARNING:tensorflow:Value in checkpoint could not be found in the restored object: (root).optimizer._variables.8\n",
            "WARNING:tensorflow:Detecting that an object or model or tf.train.Checkpoint is being deleted with unrestored values. See the following logs for the specific values in question. To silence these warnings, use `status.expect_partial()`. See https://www.tensorflow.org/api_docs/python/tf/train/Checkpoint#restorefor details about the status object returned by the restore function.\n",
            "WARNING:tensorflow:Value in checkpoint could not be found in the restored object: (root).optimizer._variables.1\n",
            "WARNING:tensorflow:Value in checkpoint could not be found in the restored object: (root).optimizer._variables.2\n",
            "WARNING:tensorflow:Value in checkpoint could not be found in the restored object: (root).optimizer._variables.3\n",
            "WARNING:tensorflow:Value in checkpoint could not be found in the restored object: (root).optimizer._variables.4\n",
            "WARNING:tensorflow:Value in checkpoint could not be found in the restored object: (root).optimizer._variables.5\n",
            "WARNING:tensorflow:Value in checkpoint could not be found in the restored object: (root).optimizer._variables.6\n",
            "WARNING:tensorflow:Value in checkpoint could not be found in the restored object: (root).optimizer._variables.7\n",
            "WARNING:tensorflow:Value in checkpoint could not be found in the restored object: (root).optimizer._variables.8\n"
          ]
        },
        {
          "output_type": "stream",
          "name": "stdout",
          "text": [
            "5/5 [==============================] - 2s 113ms/step - loss: 0.2725 - acc: 0.8531\n",
            "Restored model, accuracy: 0.8531468510627747\n",
            "Restored model, loss: 0.27250799536705017\n",
            "\n",
            "5/5 [==============================] - 1s 126ms/step\n",
            "Classification Report:\n",
            "               precision    recall  f1-score   support\n",
            "\n",
            "           0       0.96      0.72      0.82        67\n",
            "           1       0.80      0.97      0.88        76\n",
            "\n",
            "    accuracy                           0.85       143\n",
            "   macro avg       0.88      0.85      0.85       143\n",
            "weighted avg       0.87      0.85      0.85       143\n",
            "\n"
          ]
        },
        {
          "output_type": "display_data",
          "data": {
            "text/plain": [
              "<Figure size 400x400 with 1 Axes>"
            ],
            "image/png": "[encoded data removed]"
          },
          "metadata": {}
        },
        {
          "output_type": "stream",
          "name": "stdout",
          "text": [
            "\n",
            "\n",
            "Avaliando modelo com checkpoint VGG16Pre/cp-0040.ckpt correspondente a época 40\n",
            "5/5 [==============================] - 1s 115ms/step - loss: 0.2181 - acc: 0.9021\n",
            "Restored model, accuracy: 0.9020978808403015\n",
            "Restored model, loss: 0.21805442869663239\n",
            "\n",
            "5/5 [==============================] - 1s 133ms/step\n",
            "Classification Report:\n",
            "               precision    recall  f1-score   support\n",
            "\n",
            "           0       0.92      0.87      0.89        67\n",
            "           1       0.89      0.93      0.91        76\n",
            "\n",
            "    accuracy                           0.90       143\n",
            "   macro avg       0.90      0.90      0.90       143\n",
            "weighted avg       0.90      0.90      0.90       143\n",
            "\n"
          ]
        },
        {
          "output_type": "display_data",
          "data": {
            "text/plain": [
              "<Figure size 400x400 with 1 Axes>"
            ],
            "image/png": "[encoded data removed]"
          },
          "metadata": {}
        },
        {
          "output_type": "stream",
          "name": "stdout",
          "text": [
            "\n",
            "\n",
            "Avaliando modelo com checkpoint VGG16Pre/cp-0050.ckpt correspondente a época 50\n",
            "5/5 [==============================] - 1s 116ms/step - loss: 0.1948 - acc: 0.9441\n",
            "Restored model, accuracy: 0.9440559148788452\n",
            "Restored model, loss: 0.1948302686214447\n",
            "\n",
            "5/5 [==============================] - 1s 134ms/step\n",
            "Classification Report:\n",
            "               precision    recall  f1-score   support\n",
            "\n",
            "           0       0.93      0.96      0.94        67\n",
            "           1       0.96      0.93      0.95        76\n",
            "\n",
            "    accuracy                           0.94       143\n",
            "   macro avg       0.94      0.94      0.94       143\n",
            "weighted avg       0.94      0.94      0.94       143\n",
            "\n"
          ]
        },
        {
          "output_type": "display_data",
          "data": {
            "text/plain": [
              "<Figure size 400x400 with 1 Axes>"
            ],
            "image/png": "[encoded data removed]"
          },
          "metadata": {}
        },
        {
          "output_type": "stream",
          "name": "stdout",
          "text": [
            "\n",
            "\n",
            "Avaliando modelo com checkpoint VGG16Pre/cp-0060.ckpt correspondente a época 60\n",
            "5/5 [==============================] - 1s 114ms/step - loss: 0.1764 - acc: 0.9301\n",
            "Restored model, accuracy: 0.9300699234008789\n",
            "Restored model, loss: 0.17637602984905243\n",
            "\n",
            "5/5 [==============================] - 1s 117ms/step\n",
            "Classification Report:\n",
            "               precision    recall  f1-score   support\n",
            "\n",
            "           0       0.97      0.88      0.92        67\n",
            "           1       0.90      0.97      0.94        76\n",
            "\n",
            "    accuracy                           0.93       143\n",
            "   macro avg       0.93      0.93      0.93       143\n",
            "weighted avg       0.93      0.93      0.93       143\n",
            "\n"
          ]
        },
        {
          "output_type": "display_data",
          "data": {
            "text/plain": [
              "<Figure size 400x400 with 1 Axes>"
            ],
            "image/png": "[encoded data removed]"
          },
          "metadata": {}
        },
        {
          "output_type": "stream",
          "name": "stdout",
          "text": [
            "\n",
            "\n",
            "time: 42.7 s (started: 2024-01-15 22:29:09 +00:00)\n"
          ]
        }
      ]
    },
    {
      "cell_type": "code",
      "source": [
        "imprime_graficos(history)"
      ],
      "metadata": {
        "id": "F3ZtmSa1jk2b",
        "colab": {
          "base_uri": "https://localhost:8080/",
          "height": 939
        },
        "outputId": "f33edbc6-1c73-4fa4-f3e4-4b66a5bdae1e"
      },
      "execution_count": 149,
      "outputs": [
        {
          "output_type": "display_data",
          "data": {
            "text/plain": [
              "<Figure size 640x480 with 1 Axes>"
            ],
            "image/png": "[encoded data removed]"
          },
          "metadata": {}
        },
        {
          "output_type": "display_data",
          "data": {
            "text/plain": [
              "<Figure size 640x480 with 1 Axes>"
            ],
            "image/png": "[encoded data removed]"
          },
          "metadata": {}
        },
        {
          "output_type": "stream",
          "name": "stdout",
          "text": [
            "\n",
            "\n",
            "time: 467 ms (started: 2024-01-15 22:30:13 +00:00)\n"
          ]
        }
      ]
    }
  ],
  "metadata": {
    "accelerator": "GPU",
    "colab": {
      "gpuType": "T4",
      "provenance": []
    },
    "kernelspec": {
      "display_name": "Python 3 (ipykernel)",
      "language": "python",
      "name": "python3"
    },
    "language_info": {
      "codemirror_mode": {
        "name": "ipython",
        "version": 3
      },
      "file_extension": ".py",
      "mimetype": "text/x-python",
      "name": "python",
      "nbconvert_exporter": "python",
      "pygments_lexer": "ipython3",
      "version": "3.9.7"
    }
  },
  "nbformat": 4,
  "nbformat_minor": 0
}