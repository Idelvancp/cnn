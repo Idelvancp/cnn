{
  "cells": [
    {
      "cell_type": "code",
      "execution_count": 1,
      "metadata": {
        "colab": {
          "base_uri": "https://localhost:8080/"
        },
        "id": "CuDGoysGdUml",
        "outputId": "2d72d31c-cd45-49b6-8499-f61cd0d0a31a"
      },
      "outputs": [
        {
          "output_type": "stream",
          "name": "stdout",
          "text": [
            "Mounted at /content/drive\n"
          ]
        }
      ],
      "source": [
        "from google.colab import drive\n",
        "drive.mount('/content/drive')"
      ]
    },
    {
      "cell_type": "code",
      "execution_count": 2,
      "metadata": {
        "colab": {
          "base_uri": "https://localhost:8080/"
        },
        "id": "uzCkIRFpWPWO",
        "outputId": "1f613e5f-0aa0-4ca0-827f-9f47befbd34a"
      },
      "outputs": [
        {
          "output_type": "stream",
          "name": "stdout",
          "text": [
            "Collecting ipython-autotime\n",
            "  Downloading ipython_autotime-0.3.2-py2.py3-none-any.whl (7.0 kB)\n",
            "Requirement already satisfied: ipython in /usr/local/lib/python3.10/dist-packages (from ipython-autotime) (7.34.0)\n",
            "Requirement already satisfied: setuptools>=18.5 in /usr/local/lib/python3.10/dist-packages (from ipython->ipython-autotime) (67.7.2)\n",
            "Collecting jedi>=0.16 (from ipython->ipython-autotime)\n",
            "  Downloading jedi-0.19.1-py2.py3-none-any.whl (1.6 MB)\n",
            "\u001b[2K     \u001b[90m━━━━━━━━━━━━━━━━━━━━━━━━━━━━━━━━━━━━━━━━\u001b[0m \u001b[32m1.6/1.6 MB\u001b[0m \u001b[31m10.4 MB/s\u001b[0m eta \u001b[36m0:00:00\u001b[0m\n",
            "\u001b[?25hRequirement already satisfied: decorator in /usr/local/lib/python3.10/dist-packages (from ipython->ipython-autotime) (4.4.2)\n",
            "Requirement already satisfied: pickleshare in /usr/local/lib/python3.10/dist-packages (from ipython->ipython-autotime) (0.7.5)\n",
            "Requirement already satisfied: traitlets>=4.2 in /usr/local/lib/python3.10/dist-packages (from ipython->ipython-autotime) (5.7.1)\n",
            "Requirement already satisfied: prompt-toolkit!=3.0.0,!=3.0.1,<3.1.0,>=2.0.0 in /usr/local/lib/python3.10/dist-packages (from ipython->ipython-autotime) (3.0.43)\n",
            "Requirement already satisfied: pygments in /usr/local/lib/python3.10/dist-packages (from ipython->ipython-autotime) (2.16.1)\n",
            "Requirement already satisfied: backcall in /usr/local/lib/python3.10/dist-packages (from ipython->ipython-autotime) (0.2.0)\n",
            "Requirement already satisfied: matplotlib-inline in /usr/local/lib/python3.10/dist-packages (from ipython->ipython-autotime) (0.1.6)\n",
            "Requirement already satisfied: pexpect>4.3 in /usr/local/lib/python3.10/dist-packages (from ipython->ipython-autotime) (4.9.0)\n",
            "Requirement already satisfied: parso<0.9.0,>=0.8.3 in /usr/local/lib/python3.10/dist-packages (from jedi>=0.16->ipython->ipython-autotime) (0.8.3)\n",
            "Requirement already satisfied: ptyprocess>=0.5 in /usr/local/lib/python3.10/dist-packages (from pexpect>4.3->ipython->ipython-autotime) (0.7.0)\n",
            "Requirement already satisfied: wcwidth in /usr/local/lib/python3.10/dist-packages (from prompt-toolkit!=3.0.0,!=3.0.1,<3.1.0,>=2.0.0->ipython->ipython-autotime) (0.2.12)\n",
            "Installing collected packages: jedi, ipython-autotime\n",
            "Successfully installed ipython-autotime-0.3.2 jedi-0.19.1\n",
            "time: 328 µs (started: 2024-01-15 18:09:50 +00:00)\n"
          ]
        }
      ],
      "source": [
        "!pip install ipython-autotime\n",
        "%load_ext autotime"
      ]
    },
    {
      "cell_type": "code",
      "execution_count": 68,
      "metadata": {
        "colab": {
          "base_uri": "https://localhost:8080/"
        },
        "id": "w5ybUAh8Kz_i",
        "outputId": "f02a279e-0876-4f5e-e903-28bc19e48705"
      },
      "outputs": [
        {
          "output_type": "stream",
          "name": "stdout",
          "text": [
            "time: 96.8 ms (started: 2024-01-15 20:19:06 +00:00)\n"
          ]
        }
      ],
      "source": [
        "import glob, os\n",
        "import random\n",
        "import shutil\n",
        "import seaborn as sns\n",
        "import numpy as np\n",
        "import matplotlib.pyplot as plt\n",
        "from skimage import io, transform\n",
        "from keras.optimizers import Adam\n",
        "import tensorflow as tf\n",
        "from tensorflow.keras.applications import Xception\n",
        "from tensorflow.keras.preprocessing import image\n",
        "from tensorflow.keras.applications.vgg16 import preprocess_input, decode_predictions\n",
        "from tensorflow.keras import layers, models\n",
        "from tensorflow.keras.optimizers import Adam\n",
        "from tensorflow.keras.preprocessing.image import ImageDataGenerator\n",
        "from sklearn.model_selection import train_test_split\n",
        "from sklearn.metrics import classification_report, confusion_matrix\n",
        "path=\"drive/MyDrive/imagensOriginais/\"\n",
        "imagens_originais= glob.glob(os.path.join(path, '*.jpg'))"
      ]
    },
    {
      "cell_type": "code",
      "execution_count": 69,
      "metadata": {
        "colab": {
          "base_uri": "https://localhost:8080/"
        },
        "id": "D_P0Y8aSQmY0",
        "outputId": "7f7c5789-d3a7-4a66-f9fb-c3a74be76f93"
      },
      "outputs": [
        {
          "output_type": "stream",
          "name": "stdout",
          "text": [
            "time: 600 µs (started: 2024-01-15 20:19:07 +00:00)\n"
          ]
        }
      ],
      "source": [
        "def dataset(file_list,size=(224,224)):\n",
        "\timagens = []\n",
        "\tfor i, file in enumerate(imagens_originais):\n",
        "\t\timagem = io.imread(file)\n",
        "\t\timagem = transform.resize(imagem, size, mode='constant')\n",
        "\t\timagens.append(imagem)\n",
        "\n",
        "\tlabels = [1 if f.split(\"/\")[-1][0] == 'P' else 0 for f in file_list]\n",
        "\n",
        "\treturn np.array(imagens), np.array(labels)"
      ]
    },
    {
      "cell_type": "code",
      "execution_count": 70,
      "metadata": {
        "colab": {
          "base_uri": "https://localhost:8080/"
        },
        "id": "oBFas_yNtlRq",
        "outputId": "8362758d-82d9-4b24-aa1e-a0ba904bf3a8"
      },
      "outputs": [
        {
          "output_type": "stream",
          "name": "stdout",
          "text": [
            "time: 24.9 s (started: 2024-01-15 20:19:08 +00:00)\n"
          ]
        }
      ],
      "source": [
        "imagens,labels=dataset(imagens_originais)"
      ]
    },
    {
      "cell_type": "code",
      "execution_count": 71,
      "metadata": {
        "colab": {
          "base_uri": "https://localhost:8080/"
        },
        "id": "r3jaMrN98gJG",
        "outputId": "190bac6a-82a1-4cdb-dfdf-ed4d35a84d16"
      },
      "outputs": [
        {
          "output_type": "stream",
          "name": "stdout",
          "text": [
            "time: 5.41 s (started: 2024-01-15 20:19:33 +00:00)\n"
          ]
        }
      ],
      "source": [
        "X_train, X_test, Y_train, Y_test = train_test_split(imagens, labels, test_size = 0.20, random_state = 40)\n",
        "X_train, X_validation, Y_train, Y_validation = train_test_split(X_train, Y_train, test_size = 0.15, random_state = 40)"
      ]
    },
    {
      "cell_type": "code",
      "execution_count": 72,
      "metadata": {
        "colab": {
          "base_uri": "https://localhost:8080/"
        },
        "id": "ssK5d-oMoYuA",
        "outputId": "0546b001-3d8a-43d8-efd8-439fb96d4f23"
      },
      "outputs": [
        {
          "output_type": "stream",
          "name": "stdout",
          "text": [
            "time: 522 µs (started: 2024-01-15 20:19:39 +00:00)\n"
          ]
        }
      ],
      "source": [
        "EPOCHS = 60\n",
        "BATCH_SIZE = 16"
      ]
    },
    {
      "cell_type": "code",
      "execution_count": 73,
      "metadata": {
        "colab": {
          "base_uri": "https://localhost:8080/"
        },
        "id": "Xe-AAVWxocAQ",
        "outputId": "9c0e64e6-34d4-41ff-9d88-9ecf3cd5c104"
      },
      "outputs": [
        {
          "output_type": "stream",
          "name": "stdout",
          "text": [
            "time: 781 ms (started: 2024-01-15 20:19:39 +00:00)\n"
          ]
        }
      ],
      "source": [
        "train_generator = ImageDataGenerator(\n",
        "                                      shear_range=30,\n",
        "                                      rotation_range=20,\n",
        "                                      horizontal_flip=True,\n",
        "                                      vertical_flip=True,\n",
        "                                  ).flow(X_train, Y_train, batch_size=BATCH_SIZE)\n",
        "validation_generator = ImageDataGenerator(\n",
        "                                      shear_range=30,\n",
        "                                      rotation_range=20,\n",
        "                                      horizontal_flip=True,\n",
        "                                      vertical_flip=True,\n",
        "                                  ).flow(X_validation, Y_validation, batch_size=BATCH_SIZE)"
      ]
    },
    {
      "cell_type": "code",
      "execution_count": 74,
      "metadata": {
        "colab": {
          "base_uri": "https://localhost:8080/"
        },
        "id": "0kKbNBfc91em",
        "outputId": "b798011c-9964-47c0-bb4f-feaabe146a72"
      },
      "outputs": [
        {
          "output_type": "stream",
          "name": "stdout",
          "text": [
            "time: 1.2 ms (started: 2024-01-15 20:19:39 +00:00)\n"
          ]
        }
      ],
      "source": [
        "def create_model():\n",
        "  base_model = Xception(weights='imagenet', include_top=False, input_shape=(224, 224, 3))\n",
        "\n",
        "  # Congela todas as camadas\n",
        "  for layer in base_model.layers:\n",
        "    layer.trainable = False\n",
        "\n",
        "\n",
        "  x = base_model.output\n",
        "  x = layers.Flatten()(x)\n",
        "  x = layers.Dense(256, activation='relu')(x)\n",
        "  x = layers.Dropout(0.5)(x)\n",
        "  predictions = layers.Dense(1, activation='sigmoid')(x)\n",
        "\n",
        "  model = models.Model(inputs=base_model.input, outputs=predictions)\n",
        "\n",
        "  model.compile(optimizer=Adam(learning_rate=0.0001), loss='binary_crossentropy', metrics=['acc'])\n",
        "\n",
        "  return model"
      ]
    },
    {
      "cell_type": "code",
      "source": [
        "# Include the epoch in the file name (uses `str.format`)\n",
        "checkpoint_path = \"Xception/cp-{epoch:04d}.ckpt\"\n",
        "checkpoint_dir = os.path.dirname(checkpoint_path)"
      ],
      "metadata": {
        "colab": {
          "base_uri": "https://localhost:8080/"
        },
        "id": "-ecRsdq_C7gd",
        "outputId": "fb908e5b-482b-4862-d6da-65df2e6d47a0"
      },
      "execution_count": 75,
      "outputs": [
        {
          "output_type": "stream",
          "name": "stdout",
          "text": [
            "time: 438 µs (started: 2024-01-15 20:19:45 +00:00)\n"
          ]
        }
      ]
    },
    {
      "cell_type": "code",
      "source": [
        "# Create a callback that saves the model's weights every 5 epochs\n",
        "cp_callback = tf.keras.callbacks.ModelCheckpoint(\n",
        "    filepath=checkpoint_path,\n",
        "    verbose=1,\n",
        "    save_weights_only=True,\n",
        "    save_freq=\"epoch\")"
      ],
      "metadata": {
        "colab": {
          "base_uri": "https://localhost:8080/"
        },
        "id": "g4IH7TDOHFUL",
        "outputId": "6a838206-5019-4c5a-b5df-eb6cc4131500"
      },
      "execution_count": 76,
      "outputs": [
        {
          "output_type": "stream",
          "name": "stdout",
          "text": [
            "time: 841 µs (started: 2024-01-15 20:19:49 +00:00)\n"
          ]
        }
      ]
    },
    {
      "cell_type": "code",
      "source": [
        "model = create_model()\n",
        "# Save the weights using the `checkpoint_path` format\n",
        "model.save_weights(checkpoint_path.format(epoch=0))"
      ],
      "metadata": {
        "colab": {
          "base_uri": "https://localhost:8080/"
        },
        "id": "Cnh8Vo-BJSxg",
        "outputId": "c63ccde2-a614-4e06-f05c-a77a3fb18c62"
      },
      "execution_count": 77,
      "outputs": [
        {
          "output_type": "stream",
          "name": "stdout",
          "text": [
            "time: 2.5 s (started: 2024-01-15 20:19:53 +00:00)\n"
          ]
        }
      ]
    },
    {
      "cell_type": "code",
      "source": [
        "steps_per_epoch = X_train.shape[0]//BATCH_SIZE\n",
        "validation_steps = X_validation.shape[0]//BATCH_SIZE"
      ],
      "metadata": {
        "colab": {
          "base_uri": "https://localhost:8080/"
        },
        "id": "W1fZD5LSIX41",
        "outputId": "81767ffb-cfa6-40c3-e6f1-99e9cf695e89"
      },
      "execution_count": 78,
      "outputs": [
        {
          "output_type": "stream",
          "name": "stdout",
          "text": [
            "time: 572 µs (started: 2024-01-15 20:19:55 +00:00)\n"
          ]
        }
      ]
    },
    {
      "cell_type": "code",
      "source": [
        "history = model.fit(train_generator,\n",
        "                   steps_per_epoch=steps_per_epoch,\n",
        "                   epochs=EPOCHS,\n",
        "                   callbacks=[cp_callback],\n",
        "                   validation_data=validation_generator,\n",
        "                   validation_steps=validation_steps,\n",
        "                   shuffle=True,\n",
        "                   verbose=2)"
      ],
      "metadata": {
        "colab": {
          "base_uri": "https://localhost:8080/"
        },
        "id": "oi9E2JsQIZTO",
        "outputId": "9cc2a30e-1b9d-4ced-fc1e-9c3e7d17fd7f"
      },
      "execution_count": 79,
      "outputs": [
        {
          "output_type": "stream",
          "name": "stdout",
          "text": [
            "Epoch 1/60\n",
            "\n",
            "Epoch 1: saving model to Xception/cp-0001.ckpt\n",
            "30/30 - 17s - loss: 1.1025 - acc: 0.6674 - val_loss: 0.5497 - val_acc: 0.8125 - 17s/epoch - 560ms/step\n",
            "Epoch 2/60\n",
            "\n",
            "Epoch 2: saving model to Xception/cp-0002.ckpt\n",
            "30/30 - 11s - loss: 0.4199 - acc: 0.7910 - val_loss: 0.3884 - val_acc: 0.8125 - 11s/epoch - 357ms/step\n",
            "Epoch 3/60\n",
            "\n",
            "Epoch 3: saving model to Xception/cp-0003.ckpt\n",
            "30/30 - 15s - loss: 0.3834 - acc: 0.8252 - val_loss: 0.3319 - val_acc: 0.8500 - 15s/epoch - 501ms/step\n",
            "Epoch 4/60\n",
            "\n",
            "Epoch 4: saving model to Xception/cp-0004.ckpt\n",
            "30/30 - 12s - loss: 0.3755 - acc: 0.8145 - val_loss: 0.3178 - val_acc: 0.8375 - 12s/epoch - 401ms/step\n",
            "Epoch 5/60\n",
            "\n",
            "Epoch 5: saving model to Xception/cp-0005.ckpt\n",
            "30/30 - 13s - loss: 0.3090 - acc: 0.8699 - val_loss: 0.2930 - val_acc: 0.8500 - 13s/epoch - 446ms/step\n",
            "Epoch 6/60\n",
            "\n",
            "Epoch 6: saving model to Xception/cp-0006.ckpt\n",
            "30/30 - 11s - loss: 0.3178 - acc: 0.8742 - val_loss: 0.3273 - val_acc: 0.8625 - 11s/epoch - 356ms/step\n",
            "Epoch 7/60\n",
            "\n",
            "Epoch 7: saving model to Xception/cp-0007.ckpt\n",
            "30/30 - 14s - loss: 0.2865 - acc: 0.8699 - val_loss: 0.2591 - val_acc: 0.8750 - 14s/epoch - 475ms/step\n",
            "Epoch 8/60\n",
            "\n",
            "Epoch 8: saving model to Xception/cp-0008.ckpt\n",
            "30/30 - 13s - loss: 0.3039 - acc: 0.8699 - val_loss: 0.2750 - val_acc: 0.8750 - 13s/epoch - 420ms/step\n",
            "Epoch 9/60\n",
            "\n",
            "Epoch 9: saving model to Xception/cp-0009.ckpt\n",
            "30/30 - 15s - loss: 0.2923 - acc: 0.8500 - val_loss: 0.2419 - val_acc: 0.9125 - 15s/epoch - 501ms/step\n",
            "Epoch 10/60\n",
            "\n",
            "Epoch 10: saving model to Xception/cp-0010.ckpt\n"
          ]
        },
        {
          "output_type": "stream",
          "name": "stderr",
          "text": [
            "WARNING:tensorflow:Detecting that an object or model or tf.train.Checkpoint is being deleted with unrestored values. See the following logs for the specific values in question. To silence these warnings, use `status.expect_partial()`. See https://www.tensorflow.org/api_docs/python/tf/train/Checkpoint#restorefor details about the status object returned by the restore function.\n",
            "WARNING:tensorflow:Value in checkpoint could not be found in the restored object: (root).optimizer._variables.1\n",
            "WARNING:tensorflow:Value in checkpoint could not be found in the restored object: (root).optimizer._variables.2\n",
            "WARNING:tensorflow:Value in checkpoint could not be found in the restored object: (root).optimizer._variables.3\n",
            "WARNING:tensorflow:Value in checkpoint could not be found in the restored object: (root).optimizer._variables.4\n",
            "WARNING:tensorflow:Value in checkpoint could not be found in the restored object: (root).optimizer._variables.5\n",
            "WARNING:tensorflow:Value in checkpoint could not be found in the restored object: (root).optimizer._variables.6\n",
            "WARNING:tensorflow:Value in checkpoint could not be found in the restored object: (root).optimizer._variables.7\n",
            "WARNING:tensorflow:Value in checkpoint could not be found in the restored object: (root).optimizer._variables.8\n",
            "WARNING:tensorflow:Value in checkpoint could not be found in the restored object: (root).optimizer._variables.9\n",
            "WARNING:tensorflow:Value in checkpoint could not be found in the restored object: (root).optimizer._variables.10\n",
            "WARNING:tensorflow:Value in checkpoint could not be found in the restored object: (root).optimizer._variables.11\n",
            "WARNING:tensorflow:Value in checkpoint could not be found in the restored object: (root).optimizer._variables.12\n",
            "WARNING:tensorflow:Value in checkpoint could not be found in the restored object: (root).optimizer._variables.13\n",
            "WARNING:tensorflow:Value in checkpoint could not be found in the restored object: (root).optimizer._variables.14\n",
            "WARNING:tensorflow:Value in checkpoint could not be found in the restored object: (root).optimizer._variables.15\n",
            "WARNING:tensorflow:Value in checkpoint could not be found in the restored object: (root).optimizer._variables.16\n",
            "WARNING:tensorflow:Value in checkpoint could not be found in the restored object: (root).optimizer._variables.17\n",
            "WARNING:tensorflow:Value in checkpoint could not be found in the restored object: (root).optimizer._variables.18\n",
            "WARNING:tensorflow:Value in checkpoint could not be found in the restored object: (root).optimizer._variables.19\n",
            "WARNING:tensorflow:Value in checkpoint could not be found in the restored object: (root).optimizer._variables.20\n",
            "WARNING:tensorflow:Value in checkpoint could not be found in the restored object: (root).optimizer._variables.21\n",
            "WARNING:tensorflow:Value in checkpoint could not be found in the restored object: (root).optimizer._variables.22\n",
            "WARNING:tensorflow:Value in checkpoint could not be found in the restored object: (root).optimizer._variables.23\n",
            "WARNING:tensorflow:Value in checkpoint could not be found in the restored object: (root).optimizer._variables.24\n",
            "WARNING:tensorflow:Detecting that an object or model or tf.train.Checkpoint is being deleted with unrestored values. See the following logs for the specific values in question. To silence these warnings, use `status.expect_partial()`. See https://www.tensorflow.org/api_docs/python/tf/train/Checkpoint#restorefor details about the status object returned by the restore function.\n",
            "WARNING:tensorflow:Value in checkpoint could not be found in the restored object: (root).optimizer._variables.1\n",
            "WARNING:tensorflow:Value in checkpoint could not be found in the restored object: (root).optimizer._variables.2\n",
            "WARNING:tensorflow:Value in checkpoint could not be found in the restored object: (root).optimizer._variables.3\n",
            "WARNING:tensorflow:Value in checkpoint could not be found in the restored object: (root).optimizer._variables.4\n",
            "WARNING:tensorflow:Value in checkpoint could not be found in the restored object: (root).optimizer._variables.5\n",
            "WARNING:tensorflow:Value in checkpoint could not be found in the restored object: (root).optimizer._variables.6\n",
            "WARNING:tensorflow:Value in checkpoint could not be found in the restored object: (root).optimizer._variables.7\n",
            "WARNING:tensorflow:Value in checkpoint could not be found in the restored object: (root).optimizer._variables.8\n",
            "WARNING:tensorflow:Value in checkpoint could not be found in the restored object: (root).optimizer._variables.9\n",
            "WARNING:tensorflow:Value in checkpoint could not be found in the restored object: (root).optimizer._variables.10\n",
            "WARNING:tensorflow:Value in checkpoint could not be found in the restored object: (root).optimizer._variables.11\n",
            "WARNING:tensorflow:Value in checkpoint could not be found in the restored object: (root).optimizer._variables.12\n",
            "WARNING:tensorflow:Value in checkpoint could not be found in the restored object: (root).optimizer._variables.13\n",
            "WARNING:tensorflow:Value in checkpoint could not be found in the restored object: (root).optimizer._variables.14\n",
            "WARNING:tensorflow:Value in checkpoint could not be found in the restored object: (root).optimizer._variables.15\n",
            "WARNING:tensorflow:Value in checkpoint could not be found in the restored object: (root).optimizer._variables.16\n",
            "WARNING:tensorflow:Value in checkpoint could not be found in the restored object: (root).optimizer._variables.17\n",
            "WARNING:tensorflow:Value in checkpoint could not be found in the restored object: (root).optimizer._variables.18\n",
            "WARNING:tensorflow:Value in checkpoint could not be found in the restored object: (root).optimizer._variables.19\n",
            "WARNING:tensorflow:Value in checkpoint could not be found in the restored object: (root).optimizer._variables.20\n",
            "WARNING:tensorflow:Value in checkpoint could not be found in the restored object: (root).optimizer._variables.21\n",
            "WARNING:tensorflow:Value in checkpoint could not be found in the restored object: (root).optimizer._variables.22\n",
            "WARNING:tensorflow:Value in checkpoint could not be found in the restored object: (root).optimizer._variables.23\n",
            "WARNING:tensorflow:Value in checkpoint could not be found in the restored object: (root).optimizer._variables.24\n",
            "WARNING:tensorflow:Detecting that an object or model or tf.train.Checkpoint is being deleted with unrestored values. See the following logs for the specific values in question. To silence these warnings, use `status.expect_partial()`. See https://www.tensorflow.org/api_docs/python/tf/train/Checkpoint#restorefor details about the status object returned by the restore function.\n",
            "WARNING:tensorflow:Value in checkpoint could not be found in the restored object: (root).optimizer._variables.1\n",
            "WARNING:tensorflow:Value in checkpoint could not be found in the restored object: (root).optimizer._variables.2\n",
            "WARNING:tensorflow:Value in checkpoint could not be found in the restored object: (root).optimizer._variables.3\n",
            "WARNING:tensorflow:Value in checkpoint could not be found in the restored object: (root).optimizer._variables.4\n",
            "WARNING:tensorflow:Value in checkpoint could not be found in the restored object: (root).optimizer._variables.5\n",
            "WARNING:tensorflow:Value in checkpoint could not be found in the restored object: (root).optimizer._variables.6\n",
            "WARNING:tensorflow:Value in checkpoint could not be found in the restored object: (root).optimizer._variables.7\n",
            "WARNING:tensorflow:Value in checkpoint could not be found in the restored object: (root).optimizer._variables.8\n",
            "WARNING:tensorflow:Value in checkpoint could not be found in the restored object: (root).optimizer._variables.9\n",
            "WARNING:tensorflow:Value in checkpoint could not be found in the restored object: (root).optimizer._variables.10\n",
            "WARNING:tensorflow:Value in checkpoint could not be found in the restored object: (root).optimizer._variables.11\n",
            "WARNING:tensorflow:Value in checkpoint could not be found in the restored object: (root).optimizer._variables.12\n",
            "WARNING:tensorflow:Value in checkpoint could not be found in the restored object: (root).optimizer._variables.13\n",
            "WARNING:tensorflow:Value in checkpoint could not be found in the restored object: (root).optimizer._variables.14\n",
            "WARNING:tensorflow:Value in checkpoint could not be found in the restored object: (root).optimizer._variables.15\n",
            "WARNING:tensorflow:Value in checkpoint could not be found in the restored object: (root).optimizer._variables.16\n",
            "WARNING:tensorflow:Value in checkpoint could not be found in the restored object: (root).optimizer._variables.17\n",
            "WARNING:tensorflow:Value in checkpoint could not be found in the restored object: (root).optimizer._variables.18\n",
            "WARNING:tensorflow:Value in checkpoint could not be found in the restored object: (root).optimizer._variables.19\n",
            "WARNING:tensorflow:Value in checkpoint could not be found in the restored object: (root).optimizer._variables.20\n",
            "WARNING:tensorflow:Value in checkpoint could not be found in the restored object: (root).optimizer._variables.21\n",
            "WARNING:tensorflow:Value in checkpoint could not be found in the restored object: (root).optimizer._variables.22\n",
            "WARNING:tensorflow:Value in checkpoint could not be found in the restored object: (root).optimizer._variables.23\n",
            "WARNING:tensorflow:Value in checkpoint could not be found in the restored object: (root).optimizer._variables.24\n"
          ]
        },
        {
          "output_type": "stream",
          "name": "stdout",
          "text": [
            "30/30 - 14s - loss: 0.2935 - acc: 0.8721 - val_loss: 0.3043 - val_acc: 0.8875 - 14s/epoch - 467ms/step\n",
            "Epoch 11/60\n",
            "\n",
            "Epoch 11: saving model to Xception/cp-0011.ckpt\n",
            "30/30 - 13s - loss: 0.3027 - acc: 0.8604 - val_loss: 0.3126 - val_acc: 0.8625 - 13s/epoch - 432ms/step\n",
            "Epoch 12/60\n",
            "\n",
            "Epoch 12: saving model to Xception/cp-0012.ckpt\n",
            "30/30 - 15s - loss: 0.2696 - acc: 0.8827 - val_loss: 0.1953 - val_acc: 0.9125 - 15s/epoch - 500ms/step\n",
            "Epoch 13/60\n",
            "\n",
            "Epoch 13: saving model to Xception/cp-0013.ckpt\n",
            "30/30 - 11s - loss: 0.2928 - acc: 0.8635 - val_loss: 0.2255 - val_acc: 0.9125 - 11s/epoch - 357ms/step\n",
            "Epoch 14/60\n",
            "\n",
            "Epoch 14: saving model to Xception/cp-0014.ckpt\n",
            "30/30 - 11s - loss: 0.2208 - acc: 0.9126 - val_loss: 0.2239 - val_acc: 0.9125 - 11s/epoch - 351ms/step\n",
            "Epoch 15/60\n",
            "\n",
            "Epoch 15: saving model to Xception/cp-0015.ckpt\n",
            "30/30 - 9s - loss: 0.2056 - acc: 0.9211 - val_loss: 0.2583 - val_acc: 0.8375 - 9s/epoch - 287ms/step\n",
            "Epoch 16/60\n",
            "\n",
            "Epoch 16: saving model to Xception/cp-0016.ckpt\n",
            "30/30 - 11s - loss: 0.3164 - acc: 0.8635 - val_loss: 0.2456 - val_acc: 0.9250 - 11s/epoch - 364ms/step\n",
            "Epoch 17/60\n",
            "\n",
            "Epoch 17: saving model to Xception/cp-0017.ckpt\n",
            "30/30 - 14s - loss: 0.2634 - acc: 0.8891 - val_loss: 0.3212 - val_acc: 0.8500 - 14s/epoch - 464ms/step\n",
            "Epoch 18/60\n",
            "\n",
            "Epoch 18: saving model to Xception/cp-0018.ckpt\n",
            "30/30 - 10s - loss: 0.2816 - acc: 0.8891 - val_loss: 0.3314 - val_acc: 0.8625 - 10s/epoch - 341ms/step\n",
            "Epoch 19/60\n",
            "\n",
            "Epoch 19: saving model to Xception/cp-0019.ckpt\n",
            "30/30 - 9s - loss: 0.2286 - acc: 0.9083 - val_loss: 0.2888 - val_acc: 0.8375 - 9s/epoch - 305ms/step\n",
            "Epoch 20/60\n",
            "\n",
            "Epoch 20: saving model to Xception/cp-0020.ckpt\n",
            "30/30 - 12s - loss: 0.2260 - acc: 0.9126 - val_loss: 0.3269 - val_acc: 0.8500 - 12s/epoch - 402ms/step\n",
            "Epoch 21/60\n",
            "\n",
            "Epoch 21: saving model to Xception/cp-0021.ckpt\n",
            "30/30 - 9s - loss: 0.1891 - acc: 0.9168 - val_loss: 0.3040 - val_acc: 0.8625 - 9s/epoch - 285ms/step\n",
            "Epoch 22/60\n",
            "\n",
            "Epoch 22: saving model to Xception/cp-0022.ckpt\n",
            "30/30 - 13s - loss: 0.2214 - acc: 0.8998 - val_loss: 0.6804 - val_acc: 0.7250 - 13s/epoch - 440ms/step\n",
            "Epoch 23/60\n",
            "\n",
            "Epoch 23: saving model to Xception/cp-0023.ckpt\n",
            "30/30 - 16s - loss: 0.2558 - acc: 0.8977 - val_loss: 0.2934 - val_acc: 0.8500 - 16s/epoch - 534ms/step\n",
            "Epoch 24/60\n",
            "\n",
            "Epoch 24: saving model to Xception/cp-0024.ckpt\n",
            "30/30 - 14s - loss: 0.1732 - acc: 0.9403 - val_loss: 0.2137 - val_acc: 0.8875 - 14s/epoch - 479ms/step\n",
            "Epoch 25/60\n",
            "\n",
            "Epoch 25: saving model to Xception/cp-0025.ckpt\n",
            "30/30 - 14s - loss: 0.2336 - acc: 0.9147 - val_loss: 0.2437 - val_acc: 0.8875 - 14s/epoch - 478ms/step\n",
            "Epoch 26/60\n",
            "\n",
            "Epoch 26: saving model to Xception/cp-0026.ckpt\n",
            "30/30 - 10s - loss: 0.2112 - acc: 0.9147 - val_loss: 0.2526 - val_acc: 0.8875 - 10s/epoch - 335ms/step\n",
            "Epoch 27/60\n",
            "\n",
            "Epoch 27: saving model to Xception/cp-0027.ckpt\n",
            "30/30 - 10s - loss: 0.1751 - acc: 0.9360 - val_loss: 0.2626 - val_acc: 0.9000 - 10s/epoch - 349ms/step\n",
            "Epoch 28/60\n",
            "\n",
            "Epoch 28: saving model to Xception/cp-0028.ckpt\n",
            "30/30 - 11s - loss: 0.1845 - acc: 0.9339 - val_loss: 0.2755 - val_acc: 0.8875 - 11s/epoch - 361ms/step\n",
            "Epoch 29/60\n",
            "\n",
            "Epoch 29: saving model to Xception/cp-0029.ckpt\n",
            "30/30 - 14s - loss: 0.1956 - acc: 0.9168 - val_loss: 0.2008 - val_acc: 0.9250 - 14s/epoch - 455ms/step\n",
            "Epoch 30/60\n",
            "\n",
            "Epoch 30: saving model to Xception/cp-0030.ckpt\n",
            "30/30 - 12s - loss: 0.1850 - acc: 0.9318 - val_loss: 0.2468 - val_acc: 0.8875 - 12s/epoch - 406ms/step\n",
            "Epoch 31/60\n",
            "\n",
            "Epoch 31: saving model to Xception/cp-0031.ckpt\n",
            "30/30 - 11s - loss: 0.2169 - acc: 0.9104 - val_loss: 0.2721 - val_acc: 0.9000 - 11s/epoch - 379ms/step\n",
            "Epoch 32/60\n",
            "\n",
            "Epoch 32: saving model to Xception/cp-0032.ckpt\n",
            "30/30 - 9s - loss: 0.1736 - acc: 0.9318 - val_loss: 0.2322 - val_acc: 0.8750 - 9s/epoch - 292ms/step\n",
            "Epoch 33/60\n",
            "\n",
            "Epoch 33: saving model to Xception/cp-0033.ckpt\n",
            "30/30 - 11s - loss: 0.1919 - acc: 0.9147 - val_loss: 0.2355 - val_acc: 0.9125 - 11s/epoch - 370ms/step\n",
            "Epoch 34/60\n",
            "\n",
            "Epoch 34: saving model to Xception/cp-0034.ckpt\n",
            "30/30 - 12s - loss: 0.1873 - acc: 0.9190 - val_loss: 0.2217 - val_acc: 0.9250 - 12s/epoch - 409ms/step\n",
            "Epoch 35/60\n",
            "\n",
            "Epoch 35: saving model to Xception/cp-0035.ckpt\n",
            "30/30 - 11s - loss: 0.2041 - acc: 0.9083 - val_loss: 0.1995 - val_acc: 0.9250 - 11s/epoch - 369ms/step\n",
            "Epoch 36/60\n",
            "\n",
            "Epoch 36: saving model to Xception/cp-0036.ckpt\n",
            "30/30 - 16s - loss: 0.1824 - acc: 0.9254 - val_loss: 0.1597 - val_acc: 0.9375 - 16s/epoch - 519ms/step\n",
            "Epoch 37/60\n",
            "\n",
            "Epoch 37: saving model to Xception/cp-0037.ckpt\n",
            "30/30 - 11s - loss: 0.1903 - acc: 0.9232 - val_loss: 0.2286 - val_acc: 0.8750 - 11s/epoch - 356ms/step\n",
            "Epoch 38/60\n",
            "\n",
            "Epoch 38: saving model to Xception/cp-0038.ckpt\n",
            "30/30 - 8s - loss: 0.1562 - acc: 0.9424 - val_loss: 0.2951 - val_acc: 0.8875 - 8s/epoch - 279ms/step\n",
            "Epoch 39/60\n",
            "\n",
            "Epoch 39: saving model to Xception/cp-0039.ckpt\n",
            "30/30 - 13s - loss: 0.1888 - acc: 0.9229 - val_loss: 0.2425 - val_acc: 0.9000 - 13s/epoch - 427ms/step\n",
            "Epoch 40/60\n",
            "\n",
            "Epoch 40: saving model to Xception/cp-0040.ckpt\n",
            "30/30 - 13s - loss: 0.1824 - acc: 0.9232 - val_loss: 0.3632 - val_acc: 0.8625 - 13s/epoch - 436ms/step\n",
            "Epoch 41/60\n",
            "\n",
            "Epoch 41: saving model to Xception/cp-0041.ckpt\n",
            "30/30 - 14s - loss: 0.1906 - acc: 0.9232 - val_loss: 0.2792 - val_acc: 0.8875 - 14s/epoch - 464ms/step\n",
            "Epoch 42/60\n",
            "\n",
            "Epoch 42: saving model to Xception/cp-0042.ckpt\n",
            "30/30 - 10s - loss: 0.2369 - acc: 0.9019 - val_loss: 0.1629 - val_acc: 0.9500 - 10s/epoch - 346ms/step\n",
            "Epoch 43/60\n",
            "\n",
            "Epoch 43: saving model to Xception/cp-0043.ckpt\n",
            "30/30 - 11s - loss: 0.1680 - acc: 0.9403 - val_loss: 0.2257 - val_acc: 0.9375 - 11s/epoch - 372ms/step\n",
            "Epoch 44/60\n",
            "\n",
            "Epoch 44: saving model to Xception/cp-0044.ckpt\n",
            "30/30 - 9s - loss: 0.1716 - acc: 0.9360 - val_loss: 0.1384 - val_acc: 0.9500 - 9s/epoch - 292ms/step\n",
            "Epoch 45/60\n",
            "\n",
            "Epoch 45: saving model to Xception/cp-0045.ckpt\n",
            "30/30 - 10s - loss: 0.1813 - acc: 0.9275 - val_loss: 0.1443 - val_acc: 0.9375 - 10s/epoch - 347ms/step\n",
            "Epoch 46/60\n",
            "\n",
            "Epoch 46: saving model to Xception/cp-0046.ckpt\n",
            "30/30 - 13s - loss: 0.1829 - acc: 0.9211 - val_loss: 0.2267 - val_acc: 0.8875 - 13s/epoch - 444ms/step\n",
            "Epoch 47/60\n",
            "\n",
            "Epoch 47: saving model to Xception/cp-0047.ckpt\n",
            "30/30 - 18s - loss: 0.1536 - acc: 0.9382 - val_loss: 0.3866 - val_acc: 0.8500 - 18s/epoch - 601ms/step\n",
            "Epoch 48/60\n",
            "\n",
            "Epoch 48: saving model to Xception/cp-0048.ckpt\n",
            "30/30 - 11s - loss: 0.1703 - acc: 0.9360 - val_loss: 0.3959 - val_acc: 0.8375 - 11s/epoch - 373ms/step\n",
            "Epoch 49/60\n",
            "\n",
            "Epoch 49: saving model to Xception/cp-0049.ckpt\n",
            "30/30 - 10s - loss: 0.2045 - acc: 0.9126 - val_loss: 0.2490 - val_acc: 0.8875 - 10s/epoch - 348ms/step\n",
            "Epoch 50/60\n",
            "\n",
            "Epoch 50: saving model to Xception/cp-0050.ckpt\n",
            "30/30 - 11s - loss: 0.2136 - acc: 0.9041 - val_loss: 0.2720 - val_acc: 0.9000 - 11s/epoch - 370ms/step\n",
            "Epoch 51/60\n",
            "\n",
            "Epoch 51: saving model to Xception/cp-0051.ckpt\n",
            "30/30 - 14s - loss: 0.1661 - acc: 0.9318 - val_loss: 0.2639 - val_acc: 0.8875 - 14s/epoch - 479ms/step\n",
            "Epoch 52/60\n",
            "\n",
            "Epoch 52: saving model to Xception/cp-0052.ckpt\n",
            "30/30 - 13s - loss: 0.1917 - acc: 0.9254 - val_loss: 0.2064 - val_acc: 0.9375 - 13s/epoch - 434ms/step\n",
            "Epoch 53/60\n",
            "\n",
            "Epoch 53: saving model to Xception/cp-0053.ckpt\n",
            "30/30 - 11s - loss: 0.1432 - acc: 0.9424 - val_loss: 0.3247 - val_acc: 0.8500 - 11s/epoch - 366ms/step\n",
            "Epoch 54/60\n",
            "\n",
            "Epoch 54: saving model to Xception/cp-0054.ckpt\n",
            "30/30 - 12s - loss: 0.1756 - acc: 0.9275 - val_loss: 0.1993 - val_acc: 0.9375 - 12s/epoch - 388ms/step\n",
            "Epoch 55/60\n",
            "\n",
            "Epoch 55: saving model to Xception/cp-0055.ckpt\n",
            "30/30 - 11s - loss: 0.1620 - acc: 0.9339 - val_loss: 0.1777 - val_acc: 0.9250 - 11s/epoch - 366ms/step\n",
            "Epoch 56/60\n",
            "\n",
            "Epoch 56: saving model to Xception/cp-0056.ckpt\n",
            "30/30 - 11s - loss: 0.2033 - acc: 0.9211 - val_loss: 0.1903 - val_acc: 0.8875 - 11s/epoch - 350ms/step\n",
            "Epoch 57/60\n",
            "\n",
            "Epoch 57: saving model to Xception/cp-0057.ckpt\n",
            "30/30 - 9s - loss: 0.1462 - acc: 0.9339 - val_loss: 0.1618 - val_acc: 0.9250 - 9s/epoch - 288ms/step\n",
            "Epoch 58/60\n",
            "\n",
            "Epoch 58: saving model to Xception/cp-0058.ckpt\n",
            "30/30 - 15s - loss: 0.1576 - acc: 0.9339 - val_loss: 0.2753 - val_acc: 0.8750 - 15s/epoch - 513ms/step\n",
            "Epoch 59/60\n",
            "\n",
            "Epoch 59: saving model to Xception/cp-0059.ckpt\n",
            "30/30 - 9s - loss: 0.1399 - acc: 0.9510 - val_loss: 0.2679 - val_acc: 0.8625 - 9s/epoch - 287ms/step\n",
            "Epoch 60/60\n",
            "\n",
            "Epoch 60: saving model to Xception/cp-0060.ckpt\n",
            "30/30 - 13s - loss: 0.1592 - acc: 0.9403 - val_loss: 0.1873 - val_acc: 0.9125 - 13s/epoch - 434ms/step\n",
            "time: 14min 35s (started: 2024-01-15 20:20:03 +00:00)\n"
          ]
        }
      ]
    },
    {
      "cell_type": "code",
      "source": [
        "# Especificar o diretório de destino no Google Drive\n",
        "drive_dir = '/content/drive/MyDrive/XcetpionPre/'"
      ],
      "metadata": {
        "colab": {
          "base_uri": "https://localhost:8080/"
        },
        "id": "ic90m-9fQdlK",
        "outputId": "d9cb9ab5-52a3-40e9-e883-b34f65886e54"
      },
      "execution_count": 80,
      "outputs": [
        {
          "output_type": "stream",
          "name": "stdout",
          "text": [
            "time: 435 µs (started: 2024-01-15 20:34:39 +00:00)\n"
          ]
        }
      ]
    },
    {
      "cell_type": "code",
      "source": [
        "shutil.copytree(checkpoint_dir, drive_dir)"
      ],
      "metadata": {
        "colab": {
          "base_uri": "https://localhost:8080/",
          "height": 52
        },
        "id": "AieJKDaXP4TR",
        "outputId": "29bc2861-34c6-4954-bc77-bb3f6b128ba8"
      },
      "execution_count": 55,
      "outputs": [
        {
          "output_type": "execute_result",
          "data": {
            "text/plain": [
              "'/content/drive/MyDrive/Xcetpion/'"
            ],
            "application/vnd.google.colaboratory.intrinsic+json": {
              "type": "string"
            }
          },
          "metadata": {},
          "execution_count": 55
        },
        {
          "output_type": "stream",
          "name": "stdout",
          "text": [
            "time: 8min 34s (started: 2024-01-15 19:42:35 +00:00)\n"
          ]
        }
      ]
    },
    {
      "cell_type": "code",
      "execution_count": 81,
      "metadata": {
        "colab": {
          "base_uri": "https://localhost:8080/"
        },
        "id": "psL6jhi8-UT_",
        "outputId": "b4bbcce0-adca-4427-f3e1-ed92715b60ad"
      },
      "outputs": [
        {
          "output_type": "stream",
          "name": "stdout",
          "text": [
            "time: 829 µs (started: 2024-01-15 20:36:07 +00:00)\n"
          ]
        }
      ],
      "source": [
        "def smooth_curve(points, factor=0.8): #this function will make our plots more smooth\n",
        "\tsmoothed_points = []\n",
        "\tfor point in points:\n",
        "\t\tif smoothed_points:\n",
        "\t\t\tprevious = smoothed_points[-1]\n",
        "\t\t\tsmoothed_points.append(previous*factor+point*(1-factor))\n",
        "\t\telse:\n",
        "\t\t\tsmoothed_points.append(point)\n",
        "\treturn smoothed_points"
      ]
    },
    {
      "cell_type": "code",
      "source": [
        "def imprime_graficos(history):\n",
        "  acc = history.history['acc']\n",
        "  val_acc = history.history['val_acc']\n",
        "  loss = history.history['loss']\n",
        "  val_loss = history.history['val_loss']\n",
        "\n",
        "  epochs = range(1, len(acc)+1)\n",
        "  plt.plot(epochs, smooth_curve(acc), 'bo', label='Treinamento acc')\n",
        "  plt.plot(epochs, smooth_curve(val_acc), 'r-', label='Validação acc')\n",
        "  plt.legend()\n",
        "  plt.title('Treinamento and Validação Acc')\n",
        "  plt.figure()\n",
        "\n",
        "  plt.plot(epochs, smooth_curve(loss), 'bo', label='Treinamento loss')\n",
        "  plt.plot(epochs, smooth_curve(val_loss), 'r-', label='Validação loss')\n",
        "  plt.legend()\n",
        "  plt.title('Treinamento e Validação Loss')\n",
        "  plt.show()\n",
        "\n",
        "  print(\"\\n\")"
      ],
      "metadata": {
        "colab": {
          "base_uri": "https://localhost:8080/"
        },
        "id": "tCp08vPNeCju",
        "outputId": "0c01883d-27a8-435b-9182-48ebcb12d39a"
      },
      "execution_count": 82,
      "outputs": [
        {
          "output_type": "stream",
          "name": "stdout",
          "text": [
            "time: 770 µs (started: 2024-01-15 20:36:09 +00:00)\n"
          ]
        }
      ]
    },
    {
      "cell_type": "code",
      "execution_count": 84,
      "metadata": {
        "colab": {
          "base_uri": "https://localhost:8080/"
        },
        "id": "wMwF5avo4hk8",
        "outputId": "500e9e9f-ff41-49c0-b169-ac8130be3a2e"
      },
      "outputs": [
        {
          "output_type": "stream",
          "name": "stdout",
          "text": [
            "time: 773 µs (started: 2024-01-15 20:36:38 +00:00)\n"
          ]
        }
      ],
      "source": [
        "def metricas(modelo_metricas, epocas):\n",
        "\n",
        "  # Obter as previsões do modelo nos dados de teste\n",
        "  y_pred = modelo_metricas.predict(X_test)\n",
        "\n",
        "  # Converter as previsões em rótulos binários\n",
        "  y_pred_binary = (y_pred > 0.5).astype(int)\n",
        "\n",
        "  # Calcular as métricas de precisão, recall e F1 Score\n",
        "  classification_rep = classification_report(Y_test, y_pred_binary)\n",
        "  print(\"Classification Report:\\n\", classification_rep)\n",
        "\n",
        "\n",
        "  #Calcula a matriz de confusão\n",
        "  cm = confusion_matrix(Y_test, y_pred_binary)\n",
        "  # Display\n",
        "  plt.figure(figsize=(4, 4))\n",
        "\n",
        "  sns.heatmap(cm, annot=True, fmt='g', vmin=0, cmap='Reds', cbar=False)\n",
        "  plt.xticks(ticks=[0.5, 1.5], labels=[\"No Pollen\", \"Pollen\"])\n",
        "  plt.yticks(ticks=[0.5, 1.5], labels=[\"No Pollen\", \"Pollen\"])\n",
        "  plt.xlabel(\"Predicted\")\n",
        "  plt.ylabel(\"Actual\")\n",
        "  plt.title(\"Confusion Matrix \" + str(epocas) + \" épocas\")\n",
        "\n",
        "  plt.show()\n",
        "\n",
        "  print(\"\\n\")"
      ]
    },
    {
      "cell_type": "code",
      "source": [
        "#shutil.rmtree(checkpoint_dir, ignore_errors=False, onerror=None)"
      ],
      "metadata": {
        "colab": {
          "base_uri": "https://localhost:8080/"
        },
        "id": "FXistSEkbyTt",
        "outputId": "fea80fdb-eb40-4a5e-dd86-6f0c4a8996b4"
      },
      "execution_count": 67,
      "outputs": [
        {
          "output_type": "stream",
          "name": "stdout",
          "text": [
            "time: 1.22 s (started: 2024-01-15 20:13:20 +00:00)\n"
          ]
        }
      ]
    },
    {
      "cell_type": "code",
      "source": [
        "epoca = 10\n",
        "for i in range(6):\n",
        "  cp = \"Xception/cp-00\"+str(epoca)+\".ckpt\"\n",
        "  print(\"Avaliando modelo com checkpoint \" + cp + \" correspondente a época \" + str(epoca))\n",
        "  avaliacao_modelo = create_model()\n",
        "  # Load the previously saved weights\n",
        "  avaliacao_modelo.load_weights(cp)\n",
        "\n",
        "  # Re-evaluate the model\n",
        "  loss, acc = avaliacao_modelo.evaluate(X_test, Y_test)\n",
        "  print(\"Restored model, accuracy: \" + str(acc) )\n",
        "  print(\"Restored model, loss: \" + str(loss) + \"\\n\")\n",
        "\n",
        "  metricas(avaliacao_modelo, epoca)\n",
        "\n",
        "  epoca += 10"
      ],
      "metadata": {
        "colab": {
          "base_uri": "https://localhost:8080/",
          "height": 1000
        },
        "id": "Hcftf7YvhGSy",
        "outputId": "b8940617-b180-4556-94e4-da1a8e121cd3"
      },
      "execution_count": 86,
      "outputs": [
        {
          "output_type": "stream",
          "name": "stdout",
          "text": [
            "Avaliando modelo com checkpoint Xception/cp-0010.ckpt correspondente a época 10\n",
            "5/5 [==============================] - 2s 118ms/step - loss: 0.2047 - acc: 0.9231\n",
            "Restored model, accuracy: 0.9230769276618958\n",
            "Restored model, loss: 0.20473164319992065\n",
            "\n",
            "5/5 [==============================] - 1s 142ms/step\n",
            "Classification Report:\n",
            "               precision    recall  f1-score   support\n",
            "\n",
            "           0       0.98      0.85      0.91        67\n",
            "           1       0.88      0.99      0.93        76\n",
            "\n",
            "    accuracy                           0.92       143\n",
            "   macro avg       0.93      0.92      0.92       143\n",
            "weighted avg       0.93      0.92      0.92       143\n",
            "\n"
          ]
        },
        {
          "output_type": "display_data",
          "data": {
            "text/plain": [
              "<Figure size 400x400 with 1 Axes>"
            ],
            "image/png": "[encoded data removed]"
          },
          "metadata": {}
        },
        {
          "output_type": "stream",
          "name": "stdout",
          "text": [
            "\n",
            "\n",
            "Avaliando modelo com checkpoint Xception/cp-0020.ckpt correspondente a época 20\n"
          ]
        },
        {
          "output_type": "stream",
          "name": "stderr",
          "text": [
            "WARNING:tensorflow:Detecting that an object or model or tf.train.Checkpoint is being deleted with unrestored values. See the following logs for the specific values in question. To silence these warnings, use `status.expect_partial()`. See https://www.tensorflow.org/api_docs/python/tf/train/Checkpoint#restorefor details about the status object returned by the restore function.\n",
            "WARNING:tensorflow:Value in checkpoint could not be found in the restored object: (root).optimizer._variables.1\n",
            "WARNING:tensorflow:Value in checkpoint could not be found in the restored object: (root).optimizer._variables.2\n",
            "WARNING:tensorflow:Value in checkpoint could not be found in the restored object: (root).optimizer._variables.3\n",
            "WARNING:tensorflow:Value in checkpoint could not be found in the restored object: (root).optimizer._variables.4\n",
            "WARNING:tensorflow:Value in checkpoint could not be found in the restored object: (root).optimizer._variables.5\n",
            "WARNING:tensorflow:Value in checkpoint could not be found in the restored object: (root).optimizer._variables.6\n",
            "WARNING:tensorflow:Value in checkpoint could not be found in the restored object: (root).optimizer._variables.7\n",
            "WARNING:tensorflow:Value in checkpoint could not be found in the restored object: (root).optimizer._variables.8\n",
            "WARNING:tensorflow:Value in checkpoint could not be found in the restored object: (root).optimizer._variables.9\n",
            "WARNING:tensorflow:Value in checkpoint could not be found in the restored object: (root).optimizer._variables.10\n",
            "WARNING:tensorflow:Value in checkpoint could not be found in the restored object: (root).optimizer._variables.11\n",
            "WARNING:tensorflow:Value in checkpoint could not be found in the restored object: (root).optimizer._variables.12\n",
            "WARNING:tensorflow:Value in checkpoint could not be found in the restored object: (root).optimizer._variables.13\n",
            "WARNING:tensorflow:Value in checkpoint could not be found in the restored object: (root).optimizer._variables.14\n",
            "WARNING:tensorflow:Value in checkpoint could not be found in the restored object: (root).optimizer._variables.15\n",
            "WARNING:tensorflow:Value in checkpoint could not be found in the restored object: (root).optimizer._variables.16\n",
            "WARNING:tensorflow:Value in checkpoint could not be found in the restored object: (root).optimizer._variables.17\n",
            "WARNING:tensorflow:Value in checkpoint could not be found in the restored object: (root).optimizer._variables.18\n",
            "WARNING:tensorflow:Value in checkpoint could not be found in the restored object: (root).optimizer._variables.19\n",
            "WARNING:tensorflow:Value in checkpoint could not be found in the restored object: (root).optimizer._variables.20\n",
            "WARNING:tensorflow:Value in checkpoint could not be found in the restored object: (root).optimizer._variables.21\n",
            "WARNING:tensorflow:Value in checkpoint could not be found in the restored object: (root).optimizer._variables.22\n",
            "WARNING:tensorflow:Value in checkpoint could not be found in the restored object: (root).optimizer._variables.23\n",
            "WARNING:tensorflow:Value in checkpoint could not be found in the restored object: (root).optimizer._variables.24\n",
            "WARNING:tensorflow:Detecting that an object or model or tf.train.Checkpoint is being deleted with unrestored values. See the following logs for the specific values in question. To silence these warnings, use `status.expect_partial()`. See https://www.tensorflow.org/api_docs/python/tf/train/Checkpoint#restorefor details about the status object returned by the restore function.\n",
            "WARNING:tensorflow:Value in checkpoint could not be found in the restored object: (root).optimizer._variables.1\n",
            "WARNING:tensorflow:Value in checkpoint could not be found in the restored object: (root).optimizer._variables.2\n",
            "WARNING:tensorflow:Value in checkpoint could not be found in the restored object: (root).optimizer._variables.3\n",
            "WARNING:tensorflow:Value in checkpoint could not be found in the restored object: (root).optimizer._variables.4\n",
            "WARNING:tensorflow:Value in checkpoint could not be found in the restored object: (root).optimizer._variables.5\n",
            "WARNING:tensorflow:Value in checkpoint could not be found in the restored object: (root).optimizer._variables.6\n",
            "WARNING:tensorflow:Value in checkpoint could not be found in the restored object: (root).optimizer._variables.7\n",
            "WARNING:tensorflow:Value in checkpoint could not be found in the restored object: (root).optimizer._variables.8\n"
          ]
        },
        {
          "output_type": "stream",
          "name": "stdout",
          "text": [
            "5/5 [==============================] - 2s 121ms/step - loss: 0.1830 - acc: 0.9301\n",
            "Restored model, accuracy: 0.9300699234008789\n",
            "Restored model, loss: 0.18295535445213318\n",
            "\n",
            "5/5 [==============================] - 1s 121ms/step\n",
            "Classification Report:\n",
            "               precision    recall  f1-score   support\n",
            "\n",
            "           0       0.88      0.99      0.93        67\n",
            "           1       0.99      0.88      0.93        76\n",
            "\n",
            "    accuracy                           0.93       143\n",
            "   macro avg       0.93      0.93      0.93       143\n",
            "weighted avg       0.94      0.93      0.93       143\n",
            "\n"
          ]
        },
        {
          "output_type": "display_data",
          "data": {
            "text/plain": [
              "<Figure size 400x400 with 1 Axes>"
            ],
            "image/png": "[encoded data removed]"
          },
          "metadata": {}
        },
        {
          "output_type": "stream",
          "name": "stdout",
          "text": [
            "\n",
            "\n",
            "Avaliando modelo com checkpoint Xception/cp-0030.ckpt correspondente a época 30\n",
            "5/5 [==============================] - 2s 120ms/step - loss: 0.1150 - acc: 0.9650\n",
            "Restored model, accuracy: 0.9650349617004395\n",
            "Restored model, loss: 0.11504269391298294\n",
            "\n",
            "5/5 [==============================] - 2s 126ms/step\n",
            "Classification Report:\n",
            "               precision    recall  f1-score   support\n",
            "\n",
            "           0       1.00      0.93      0.96        67\n",
            "           1       0.94      1.00      0.97        76\n",
            "\n",
            "    accuracy                           0.97       143\n",
            "   macro avg       0.97      0.96      0.96       143\n",
            "weighted avg       0.97      0.97      0.96       143\n",
            "\n"
          ]
        },
        {
          "output_type": "display_data",
          "data": {
            "text/plain": [
              "<Figure size 400x400 with 1 Axes>"
            ],
            "image/png": "[encoded data removed]"
          },
          "metadata": {}
        },
        {
          "output_type": "stream",
          "name": "stdout",
          "text": [
            "\n",
            "\n",
            "Avaliando modelo com checkpoint Xception/cp-0040.ckpt correspondente a época 40\n",
            "5/5 [==============================] - 2s 114ms/step - loss: 0.2262 - acc: 0.9231\n",
            "Restored model, accuracy: 0.9230769276618958\n",
            "Restored model, loss: 0.22617647051811218\n",
            "\n",
            "5/5 [==============================] - 1s 134ms/step\n",
            "Classification Report:\n",
            "               precision    recall  f1-score   support\n",
            "\n",
            "           0       1.00      0.84      0.91        67\n",
            "           1       0.87      1.00      0.93        76\n",
            "\n",
            "    accuracy                           0.92       143\n",
            "   macro avg       0.94      0.92      0.92       143\n",
            "weighted avg       0.93      0.92      0.92       143\n",
            "\n"
          ]
        },
        {
          "output_type": "display_data",
          "data": {
            "text/plain": [
              "<Figure size 400x400 with 1 Axes>"
            ],
            "image/png": "[encoded data removed]"
          },
          "metadata": {}
        },
        {
          "output_type": "stream",
          "name": "stdout",
          "text": [
            "\n",
            "\n",
            "Avaliando modelo com checkpoint Xception/cp-0050.ckpt correspondente a época 50\n",
            "5/5 [==============================] - 2s 116ms/step - loss: 0.1820 - acc: 0.9091\n",
            "Restored model, accuracy: 0.9090909361839294\n",
            "Restored model, loss: 0.1819845288991928\n",
            "\n",
            "5/5 [==============================] - 2s 144ms/step\n",
            "Classification Report:\n",
            "               precision    recall  f1-score   support\n",
            "\n",
            "           0       0.86      0.96      0.91        67\n",
            "           1       0.96      0.87      0.91        76\n",
            "\n",
            "    accuracy                           0.91       143\n",
            "   macro avg       0.91      0.91      0.91       143\n",
            "weighted avg       0.91      0.91      0.91       143\n",
            "\n"
          ]
        },
        {
          "output_type": "display_data",
          "data": {
            "text/plain": [
              "<Figure size 400x400 with 1 Axes>"
            ],
            "image/png": "[encoded data removed]"
          },
          "metadata": {}
        },
        {
          "output_type": "stream",
          "name": "stdout",
          "text": [
            "\n",
            "\n",
            "Avaliando modelo com checkpoint Xception/cp-0060.ckpt correspondente a época 60\n"
          ]
        },
        {
          "output_type": "stream",
          "name": "stderr",
          "text": [
            "WARNING:tensorflow:Detecting that an object or model or tf.train.Checkpoint is being deleted with unrestored values. See the following logs for the specific values in question. To silence these warnings, use `status.expect_partial()`. See https://www.tensorflow.org/api_docs/python/tf/train/Checkpoint#restorefor details about the status object returned by the restore function.\n",
            "WARNING:tensorflow:Value in checkpoint could not be found in the restored object: (root).optimizer._variables.1\n",
            "WARNING:tensorflow:Value in checkpoint could not be found in the restored object: (root).optimizer._variables.2\n",
            "WARNING:tensorflow:Value in checkpoint could not be found in the restored object: (root).optimizer._variables.3\n",
            "WARNING:tensorflow:Value in checkpoint could not be found in the restored object: (root).optimizer._variables.4\n",
            "WARNING:tensorflow:Value in checkpoint could not be found in the restored object: (root).optimizer._variables.5\n",
            "WARNING:tensorflow:Value in checkpoint could not be found in the restored object: (root).optimizer._variables.6\n",
            "WARNING:tensorflow:Value in checkpoint could not be found in the restored object: (root).optimizer._variables.7\n",
            "WARNING:tensorflow:Value in checkpoint could not be found in the restored object: (root).optimizer._variables.8\n",
            "WARNING:tensorflow:Detecting that an object or model or tf.train.Checkpoint is being deleted with unrestored values. See the following logs for the specific values in question. To silence these warnings, use `status.expect_partial()`. See https://www.tensorflow.org/api_docs/python/tf/train/Checkpoint#restorefor details about the status object returned by the restore function.\n",
            "WARNING:tensorflow:Value in checkpoint could not be found in the restored object: (root).optimizer._variables.1\n",
            "WARNING:tensorflow:Value in checkpoint could not be found in the restored object: (root).optimizer._variables.2\n",
            "WARNING:tensorflow:Value in checkpoint could not be found in the restored object: (root).optimizer._variables.3\n",
            "WARNING:tensorflow:Value in checkpoint could not be found in the restored object: (root).optimizer._variables.4\n",
            "WARNING:tensorflow:Value in checkpoint could not be found in the restored object: (root).optimizer._variables.5\n",
            "WARNING:tensorflow:Value in checkpoint could not be found in the restored object: (root).optimizer._variables.6\n",
            "WARNING:tensorflow:Value in checkpoint could not be found in the restored object: (root).optimizer._variables.7\n",
            "WARNING:tensorflow:Value in checkpoint could not be found in the restored object: (root).optimizer._variables.8\n",
            "WARNING:tensorflow:Detecting that an object or model or tf.train.Checkpoint is being deleted with unrestored values. See the following logs for the specific values in question. To silence these warnings, use `status.expect_partial()`. See https://www.tensorflow.org/api_docs/python/tf/train/Checkpoint#restorefor details about the status object returned by the restore function.\n",
            "WARNING:tensorflow:Value in checkpoint could not be found in the restored object: (root).optimizer._variables.1\n",
            "WARNING:tensorflow:Value in checkpoint could not be found in the restored object: (root).optimizer._variables.2\n",
            "WARNING:tensorflow:Value in checkpoint could not be found in the restored object: (root).optimizer._variables.3\n",
            "WARNING:tensorflow:Value in checkpoint could not be found in the restored object: (root).optimizer._variables.4\n",
            "WARNING:tensorflow:Value in checkpoint could not be found in the restored object: (root).optimizer._variables.5\n",
            "WARNING:tensorflow:Value in checkpoint could not be found in the restored object: (root).optimizer._variables.6\n",
            "WARNING:tensorflow:Value in checkpoint could not be found in the restored object: (root).optimizer._variables.7\n",
            "WARNING:tensorflow:Value in checkpoint could not be found in the restored object: (root).optimizer._variables.8\n",
            "WARNING:tensorflow:Detecting that an object or model or tf.train.Checkpoint is being deleted with unrestored values. See the following logs for the specific values in question. To silence these warnings, use `status.expect_partial()`. See https://www.tensorflow.org/api_docs/python/tf/train/Checkpoint#restorefor details about the status object returned by the restore function.\n",
            "WARNING:tensorflow:Value in checkpoint could not be found in the restored object: (root).optimizer._variables.1\n",
            "WARNING:tensorflow:Value in checkpoint could not be found in the restored object: (root).optimizer._variables.2\n",
            "WARNING:tensorflow:Value in checkpoint could not be found in the restored object: (root).optimizer._variables.3\n",
            "WARNING:tensorflow:Value in checkpoint could not be found in the restored object: (root).optimizer._variables.4\n",
            "WARNING:tensorflow:Value in checkpoint could not be found in the restored object: (root).optimizer._variables.5\n",
            "WARNING:tensorflow:Value in checkpoint could not be found in the restored object: (root).optimizer._variables.6\n",
            "WARNING:tensorflow:Value in checkpoint could not be found in the restored object: (root).optimizer._variables.7\n",
            "WARNING:tensorflow:Value in checkpoint could not be found in the restored object: (root).optimizer._variables.8\n"
          ]
        },
        {
          "output_type": "stream",
          "name": "stdout",
          "text": [
            "5/5 [==============================] - 3s 114ms/step - loss: 0.1214 - acc: 0.9441\n",
            "Restored model, accuracy: 0.9440559148788452\n",
            "Restored model, loss: 0.12140247225761414\n",
            "\n",
            "5/5 [==============================] - 1s 139ms/step\n",
            "Classification Report:\n",
            "               precision    recall  f1-score   support\n",
            "\n",
            "           0       0.92      0.97      0.94        67\n",
            "           1       0.97      0.92      0.95        76\n",
            "\n",
            "    accuracy                           0.94       143\n",
            "   macro avg       0.94      0.95      0.94       143\n",
            "weighted avg       0.95      0.94      0.94       143\n",
            "\n"
          ]
        },
        {
          "output_type": "display_data",
          "data": {
            "text/plain": [
              "<Figure size 400x400 with 1 Axes>"
            ],
            "image/png": "[encoded data removed]"
          },
          "metadata": {}
        },
        {
          "output_type": "stream",
          "name": "stdout",
          "text": [
            "\n",
            "\n",
            "time: 51.5 s (started: 2024-01-15 20:36:56 +00:00)\n"
          ]
        }
      ]
    },
    {
      "cell_type": "code",
      "source": [
        "imprime_graficos(history)"
      ],
      "metadata": {
        "id": "F3ZtmSa1jk2b",
        "colab": {
          "base_uri": "https://localhost:8080/",
          "height": 939
        },
        "outputId": "bdb6be40-17d3-43e9-e4ba-04db705b84d4"
      },
      "execution_count": 88,
      "outputs": [
        {
          "output_type": "display_data",
          "data": {
            "text/plain": [
              "<Figure size 640x480 with 1 Axes>"
            ],
            "image/png": "[encoded data removed]"
          },
          "metadata": {}
        },
        {
          "output_type": "display_data",
          "data": {
            "text/plain": [
              "<Figure size 640x480 with 1 Axes>"
            ],
            "image/png": "[encoded data removed]"
          },
          "metadata": {}
        },
        {
          "output_type": "stream",
          "name": "stdout",
          "text": [
            "\n",
            "\n",
            "time: 450 ms (started: 2024-01-15 20:58:50 +00:00)\n"
          ]
        }
      ]
    }
  ],
  "metadata": {
    "accelerator": "GPU",
    "colab": {
      "gpuType": "T4",
      "provenance": []
    },
    "kernelspec": {
      "display_name": "Python 3 (ipykernel)",
      "language": "python",
      "name": "python3"
    },
    "language_info": {
      "codemirror_mode": {
        "name": "ipython",
        "version": 3
      },
      "file_extension": ".py",
      "mimetype": "text/x-python",
      "name": "python",
      "nbconvert_exporter": "python",
      "pygments_lexer": "ipython3",
      "version": "3.9.7"
    }
  },
  "nbformat": 4,
  "nbformat_minor": 0
}