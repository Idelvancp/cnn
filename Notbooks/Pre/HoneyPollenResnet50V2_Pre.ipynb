{
  "cells": [
    {
      "cell_type": "code",
      "execution_count": 1,
      "metadata": {
        "colab": {
          "base_uri": "https://localhost:8080/"
        },
        "id": "CuDGoysGdUml",
        "outputId": "2d72d31c-cd45-49b6-8499-f61cd0d0a31a"
      },
      "outputs": [
        {
          "output_type": "stream",
          "name": "stdout",
          "text": [
            "Mounted at /content/drive\n"
          ]
        }
      ],
      "source": [
        "from google.colab import drive\n",
        "drive.mount('/content/drive')"
      ]
    },
    {
      "cell_type": "code",
      "execution_count": 2,
      "metadata": {
        "colab": {
          "base_uri": "https://localhost:8080/"
        },
        "id": "uzCkIRFpWPWO",
        "outputId": "1f613e5f-0aa0-4ca0-827f-9f47befbd34a"
      },
      "outputs": [
        {
          "output_type": "stream",
          "name": "stdout",
          "text": [
            "Collecting ipython-autotime\n",
            "  Downloading ipython_autotime-0.3.2-py2.py3-none-any.whl (7.0 kB)\n",
            "Requirement already satisfied: ipython in /usr/local/lib/python3.10/dist-packages (from ipython-autotime) (7.34.0)\n",
            "Requirement already satisfied: setuptools>=18.5 in /usr/local/lib/python3.10/dist-packages (from ipython->ipython-autotime) (67.7.2)\n",
            "Collecting jedi>=0.16 (from ipython->ipython-autotime)\n",
            "  Downloading jedi-0.19.1-py2.py3-none-any.whl (1.6 MB)\n",
            "\u001b[2K     \u001b[90m━━━━━━━━━━━━━━━━━━━━━━━━━━━━━━━━━━━━━━━━\u001b[0m \u001b[32m1.6/1.6 MB\u001b[0m \u001b[31m10.4 MB/s\u001b[0m eta \u001b[36m0:00:00\u001b[0m\n",
            "\u001b[?25hRequirement already satisfied: decorator in /usr/local/lib/python3.10/dist-packages (from ipython->ipython-autotime) (4.4.2)\n",
            "Requirement already satisfied: pickleshare in /usr/local/lib/python3.10/dist-packages (from ipython->ipython-autotime) (0.7.5)\n",
            "Requirement already satisfied: traitlets>=4.2 in /usr/local/lib/python3.10/dist-packages (from ipython->ipython-autotime) (5.7.1)\n",
            "Requirement already satisfied: prompt-toolkit!=3.0.0,!=3.0.1,<3.1.0,>=2.0.0 in /usr/local/lib/python3.10/dist-packages (from ipython->ipython-autotime) (3.0.43)\n",
            "Requirement already satisfied: pygments in /usr/local/lib/python3.10/dist-packages (from ipython->ipython-autotime) (2.16.1)\n",
            "Requirement already satisfied: backcall in /usr/local/lib/python3.10/dist-packages (from ipython->ipython-autotime) (0.2.0)\n",
            "Requirement already satisfied: matplotlib-inline in /usr/local/lib/python3.10/dist-packages (from ipython->ipython-autotime) (0.1.6)\n",
            "Requirement already satisfied: pexpect>4.3 in /usr/local/lib/python3.10/dist-packages (from ipython->ipython-autotime) (4.9.0)\n",
            "Requirement already satisfied: parso<0.9.0,>=0.8.3 in /usr/local/lib/python3.10/dist-packages (from jedi>=0.16->ipython->ipython-autotime) (0.8.3)\n",
            "Requirement already satisfied: ptyprocess>=0.5 in /usr/local/lib/python3.10/dist-packages (from pexpect>4.3->ipython->ipython-autotime) (0.7.0)\n",
            "Requirement already satisfied: wcwidth in /usr/local/lib/python3.10/dist-packages (from prompt-toolkit!=3.0.0,!=3.0.1,<3.1.0,>=2.0.0->ipython->ipython-autotime) (0.2.12)\n",
            "Installing collected packages: jedi, ipython-autotime\n",
            "Successfully installed ipython-autotime-0.3.2 jedi-0.19.1\n",
            "time: 328 µs (started: 2024-01-15 18:09:50 +00:00)\n"
          ]
        }
      ],
      "source": [
        "!pip install ipython-autotime\n",
        "%load_ext autotime"
      ]
    },
    {
      "cell_type": "code",
      "execution_count": 89,
      "metadata": {
        "colab": {
          "base_uri": "https://localhost:8080/"
        },
        "id": "w5ybUAh8Kz_i",
        "outputId": "66d73094-3b0e-4f28-990c-a56fe171a573"
      },
      "outputs": [
        {
          "output_type": "stream",
          "name": "stdout",
          "text": [
            "time: 26.3 ms (started: 2024-01-15 21:02:34 +00:00)\n"
          ]
        }
      ],
      "source": [
        "import glob, os\n",
        "import random\n",
        "import shutil\n",
        "import seaborn as sns\n",
        "import numpy as np\n",
        "import matplotlib.pyplot as plt\n",
        "from skimage import io, transform\n",
        "from keras.optimizers import Adam\n",
        "import tensorflow as tf\n",
        "from tensorflow.keras.applications import ResNet50V2\n",
        "from tensorflow.keras.preprocessing import image\n",
        "from tensorflow.keras.applications.vgg16 import preprocess_input, decode_predictions\n",
        "from tensorflow.keras import layers, models\n",
        "from tensorflow.keras.optimizers import Adam\n",
        "from tensorflow.keras.preprocessing.image import ImageDataGenerator\n",
        "from sklearn.model_selection import train_test_split\n",
        "from sklearn.metrics import classification_report, confusion_matrix\n",
        "path=\"drive/MyDrive/imagensOriginais/\"\n",
        "imagens_originais= glob.glob(os.path.join(path, '*.jpg'))"
      ]
    },
    {
      "cell_type": "code",
      "execution_count": 90,
      "metadata": {
        "colab": {
          "base_uri": "https://localhost:8080/"
        },
        "id": "D_P0Y8aSQmY0",
        "outputId": "7a511f08-2735-4670-ade7-a2fb66abbf7f"
      },
      "outputs": [
        {
          "output_type": "stream",
          "name": "stdout",
          "text": [
            "time: 904 µs (started: 2024-01-15 21:02:37 +00:00)\n"
          ]
        }
      ],
      "source": [
        "def dataset(file_list,size=(224,224)):\n",
        "\timagens = []\n",
        "\tfor i, file in enumerate(imagens_originais):\n",
        "\t\timagem = io.imread(file)\n",
        "\t\timagem = transform.resize(imagem, size, mode='constant')\n",
        "\t\timagens.append(imagem)\n",
        "\n",
        "\tlabels = [1 if f.split(\"/\")[-1][0] == 'P' else 0 for f in file_list]\n",
        "\n",
        "\treturn np.array(imagens), np.array(labels)"
      ]
    },
    {
      "cell_type": "code",
      "execution_count": 91,
      "metadata": {
        "colab": {
          "base_uri": "https://localhost:8080/"
        },
        "id": "oBFas_yNtlRq",
        "outputId": "f878cfe5-6411-4d90-ba46-9ea4dd74abc5"
      },
      "outputs": [
        {
          "output_type": "stream",
          "name": "stdout",
          "text": [
            "time: 20.9 s (started: 2024-01-15 21:02:37 +00:00)\n"
          ]
        }
      ],
      "source": [
        "imagens,labels=dataset(imagens_originais)"
      ]
    },
    {
      "cell_type": "code",
      "execution_count": 92,
      "metadata": {
        "colab": {
          "base_uri": "https://localhost:8080/"
        },
        "id": "r3jaMrN98gJG",
        "outputId": "f7817bbc-7569-4985-f289-54129c65ade9"
      },
      "outputs": [
        {
          "output_type": "stream",
          "name": "stdout",
          "text": [
            "time: 7.63 s (started: 2024-01-15 21:02:58 +00:00)\n"
          ]
        }
      ],
      "source": [
        "X_train, X_test, Y_train, Y_test = train_test_split(imagens, labels, test_size = 0.20, random_state = 40)\n",
        "X_train, X_validation, Y_train, Y_validation = train_test_split(X_train, Y_train, test_size = 0.15, random_state = 40)"
      ]
    },
    {
      "cell_type": "code",
      "execution_count": 93,
      "metadata": {
        "colab": {
          "base_uri": "https://localhost:8080/"
        },
        "id": "ssK5d-oMoYuA",
        "outputId": "535c8f55-082b-4396-a60d-8a2bf9efb048"
      },
      "outputs": [
        {
          "output_type": "stream",
          "name": "stdout",
          "text": [
            "time: 495 µs (started: 2024-01-15 21:03:06 +00:00)\n"
          ]
        }
      ],
      "source": [
        "EPOCHS = 60\n",
        "BATCH_SIZE = 16"
      ]
    },
    {
      "cell_type": "code",
      "execution_count": 94,
      "metadata": {
        "colab": {
          "base_uri": "https://localhost:8080/"
        },
        "id": "Xe-AAVWxocAQ",
        "outputId": "755c93be-606b-4ca7-bf78-e620bc277fe0"
      },
      "outputs": [
        {
          "output_type": "stream",
          "name": "stdout",
          "text": [
            "time: 1.71 s (started: 2024-01-15 21:03:06 +00:00)\n"
          ]
        }
      ],
      "source": [
        "train_generator = ImageDataGenerator(\n",
        "                                      shear_range=30,\n",
        "                                      rotation_range=20,\n",
        "                                      horizontal_flip=True,\n",
        "                                      vertical_flip=True,\n",
        "                                  ).flow(X_train, Y_train, batch_size=BATCH_SIZE)\n",
        "validation_generator = ImageDataGenerator(\n",
        "                                      shear_range=30,\n",
        "                                      rotation_range=20,\n",
        "                                      horizontal_flip=True,\n",
        "                                      vertical_flip=True,\n",
        "                                  ).flow(X_validation, Y_validation, batch_size=BATCH_SIZE)"
      ]
    },
    {
      "cell_type": "code",
      "execution_count": 101,
      "metadata": {
        "colab": {
          "base_uri": "https://localhost:8080/"
        },
        "id": "0kKbNBfc91em",
        "outputId": "07d684f1-76e2-4f95-f64b-07985b88ca87"
      },
      "outputs": [
        {
          "output_type": "stream",
          "name": "stdout",
          "text": [
            "time: 1.12 ms (started: 2024-01-15 21:05:21 +00:00)\n"
          ]
        }
      ],
      "source": [
        "def create_model():\n",
        "  base_model = ResNet50V2(weights='imagenet', include_top=False, input_shape=(224, 224, 3))\n",
        "\n",
        "  # Congela todas as camadas\n",
        "  for layer in base_model.layers:\n",
        "    layer.trainable = False\n",
        "\n",
        "\n",
        "  x = base_model.output\n",
        "  x = layers.Flatten()(x)\n",
        "  x = layers.Dense(256, activation='relu')(x)\n",
        "  x = layers.Dropout(0.5)(x)\n",
        "  predictions = layers.Dense(1, activation='sigmoid')(x)\n",
        "\n",
        "  model = models.Model(inputs=base_model.input, outputs=predictions)\n",
        "\n",
        "  model.compile(optimizer=Adam(learning_rate=0.0001), loss='binary_crossentropy', metrics=['acc'])\n",
        "\n",
        "  return model"
      ]
    },
    {
      "cell_type": "code",
      "source": [
        "# Include the epoch in the file name (uses `str.format`)\n",
        "checkpoint_path = \"Resnet50V2/cp-{epoch:04d}.ckpt\"\n",
        "checkpoint_dir = os.path.dirname(checkpoint_path)"
      ],
      "metadata": {
        "colab": {
          "base_uri": "https://localhost:8080/"
        },
        "id": "-ecRsdq_C7gd",
        "outputId": "76373c0e-6299-4efa-df07-265641a08203"
      },
      "execution_count": 111,
      "outputs": [
        {
          "output_type": "stream",
          "name": "stdout",
          "text": [
            "time: 566 µs (started: 2024-01-15 21:08:38 +00:00)\n"
          ]
        }
      ]
    },
    {
      "cell_type": "code",
      "source": [
        "# Create a callback that saves the model's weights every 5 epochs\n",
        "cp_callback = tf.keras.callbacks.ModelCheckpoint(\n",
        "    filepath=checkpoint_path,\n",
        "    verbose=1,\n",
        "    save_weights_only=True,\n",
        "    save_freq=\"epoch\")"
      ],
      "metadata": {
        "colab": {
          "base_uri": "https://localhost:8080/"
        },
        "id": "g4IH7TDOHFUL",
        "outputId": "21296a5a-b6f2-489d-8d5d-79573380644b"
      },
      "execution_count": 112,
      "outputs": [
        {
          "output_type": "stream",
          "name": "stdout",
          "text": [
            "time: 609 µs (started: 2024-01-15 21:08:41 +00:00)\n"
          ]
        }
      ]
    },
    {
      "cell_type": "code",
      "source": [
        "model = create_model()\n",
        "# Save the weights using the `checkpoint_path` format\n",
        "model.save_weights(checkpoint_path.format(epoch=0))"
      ],
      "metadata": {
        "colab": {
          "base_uri": "https://localhost:8080/"
        },
        "id": "Cnh8Vo-BJSxg",
        "outputId": "4723d0a9-4ec7-4931-b5cb-79d719da47ce"
      },
      "execution_count": 113,
      "outputs": [
        {
          "output_type": "stream",
          "name": "stdout",
          "text": [
            "time: 2.53 s (started: 2024-01-15 21:08:47 +00:00)\n"
          ]
        }
      ]
    },
    {
      "cell_type": "code",
      "source": [
        "steps_per_epoch = X_train.shape[0]//BATCH_SIZE\n",
        "validation_steps = X_validation.shape[0]//BATCH_SIZE"
      ],
      "metadata": {
        "colab": {
          "base_uri": "https://localhost:8080/"
        },
        "id": "W1fZD5LSIX41",
        "outputId": "c1b0b797-3490-46fa-b110-0416f82fdcbe"
      },
      "execution_count": 114,
      "outputs": [
        {
          "output_type": "stream",
          "name": "stdout",
          "text": [
            "time: 602 µs (started: 2024-01-15 21:08:52 +00:00)\n"
          ]
        }
      ]
    },
    {
      "cell_type": "code",
      "source": [
        "history = model.fit(train_generator,\n",
        "                   steps_per_epoch=steps_per_epoch,\n",
        "                   epochs=EPOCHS,\n",
        "                   callbacks=[cp_callback],\n",
        "                   validation_data=validation_generator,\n",
        "                   validation_steps=validation_steps,\n",
        "                   shuffle=True,\n",
        "                   verbose=2)"
      ],
      "metadata": {
        "colab": {
          "base_uri": "https://localhost:8080/"
        },
        "id": "oi9E2JsQIZTO",
        "outputId": "c394dd9d-065e-4a5b-8914-286a2b20d624"
      },
      "execution_count": 115,
      "outputs": [
        {
          "output_type": "stream",
          "name": "stdout",
          "text": [
            "Epoch 1/60\n",
            "\n",
            "Epoch 1: saving model to Resnet50V2/cp-0001.ckpt\n",
            "30/30 - 50s - loss: 1.4704 - acc: 0.7186 - val_loss: 0.4703 - val_acc: 0.8500 - 50s/epoch - 2s/step\n",
            "Epoch 2/60\n",
            "\n",
            "Epoch 2: saving model to Resnet50V2/cp-0002.ckpt\n",
            "30/30 - 11s - loss: 0.7375 - acc: 0.7996 - val_loss: 0.3690 - val_acc: 0.8875 - 11s/epoch - 370ms/step\n",
            "Epoch 3/60\n",
            "\n",
            "Epoch 3: saving model to Resnet50V2/cp-0003.ckpt\n",
            "30/30 - 13s - loss: 0.5947 - acc: 0.8465 - val_loss: 0.3591 - val_acc: 0.8500 - 13s/epoch - 426ms/step\n",
            "Epoch 4/60\n",
            "\n",
            "Epoch 4: saving model to Resnet50V2/cp-0004.ckpt\n",
            "30/30 - 12s - loss: 0.4006 - acc: 0.8507 - val_loss: 0.2719 - val_acc: 0.8625 - 12s/epoch - 406ms/step\n",
            "Epoch 5/60\n",
            "\n",
            "Epoch 5: saving model to Resnet50V2/cp-0005.ckpt\n",
            "30/30 - 8s - loss: 0.4411 - acc: 0.8166 - val_loss: 0.3054 - val_acc: 0.8750 - 8s/epoch - 281ms/step\n",
            "Epoch 6/60\n",
            "\n",
            "Epoch 6: saving model to Resnet50V2/cp-0006.ckpt\n",
            "30/30 - 12s - loss: 0.3180 - acc: 0.8657 - val_loss: 0.3206 - val_acc: 0.8625 - 12s/epoch - 390ms/step\n",
            "Epoch 7/60\n",
            "\n",
            "Epoch 7: saving model to Resnet50V2/cp-0007.ckpt\n",
            "30/30 - 10s - loss: 0.2909 - acc: 0.8721 - val_loss: 0.1938 - val_acc: 0.9375 - 10s/epoch - 328ms/step\n",
            "Epoch 8/60\n",
            "\n",
            "Epoch 8: saving model to Resnet50V2/cp-0008.ckpt\n",
            "30/30 - 12s - loss: 0.3288 - acc: 0.8614 - val_loss: 0.2363 - val_acc: 0.9000 - 12s/epoch - 414ms/step\n",
            "Epoch 9/60\n",
            "\n",
            "Epoch 9: saving model to Resnet50V2/cp-0009.ckpt\n",
            "30/30 - 11s - loss: 0.2533 - acc: 0.9062 - val_loss: 0.2222 - val_acc: 0.9125 - 11s/epoch - 371ms/step\n",
            "Epoch 10/60\n",
            "\n",
            "Epoch 10: saving model to Resnet50V2/cp-0010.ckpt\n",
            "30/30 - 12s - loss: 0.2808 - acc: 0.8913 - val_loss: 0.2204 - val_acc: 0.9125 - 12s/epoch - 392ms/step\n",
            "Epoch 11/60\n",
            "\n",
            "Epoch 11: saving model to Resnet50V2/cp-0011.ckpt\n",
            "30/30 - 13s - loss: 0.2719 - acc: 0.8827 - val_loss: 0.2267 - val_acc: 0.9000 - 13s/epoch - 443ms/step\n",
            "Epoch 12/60\n",
            "\n",
            "Epoch 12: saving model to Resnet50V2/cp-0012.ckpt\n",
            "30/30 - 14s - loss: 0.2643 - acc: 0.8891 - val_loss: 0.2398 - val_acc: 0.8375 - 14s/epoch - 452ms/step\n",
            "Epoch 13/60\n",
            "\n",
            "Epoch 13: saving model to Resnet50V2/cp-0013.ckpt\n",
            "30/30 - 12s - loss: 0.2717 - acc: 0.8913 - val_loss: 0.3078 - val_acc: 0.8750 - 12s/epoch - 403ms/step\n",
            "Epoch 14/60\n",
            "\n",
            "Epoch 14: saving model to Resnet50V2/cp-0014.ckpt\n",
            "30/30 - 16s - loss: 0.1988 - acc: 0.9190 - val_loss: 0.2352 - val_acc: 0.9125 - 16s/epoch - 538ms/step\n",
            "Epoch 15/60\n",
            "\n",
            "Epoch 15: saving model to Resnet50V2/cp-0015.ckpt\n",
            "30/30 - 12s - loss: 0.1913 - acc: 0.9190 - val_loss: 0.1964 - val_acc: 0.9125 - 12s/epoch - 385ms/step\n",
            "Epoch 16/60\n",
            "\n",
            "Epoch 16: saving model to Resnet50V2/cp-0016.ckpt\n",
            "30/30 - 14s - loss: 0.2516 - acc: 0.8977 - val_loss: 0.2110 - val_acc: 0.9000 - 14s/epoch - 453ms/step\n",
            "Epoch 17/60\n",
            "\n",
            "Epoch 17: saving model to Resnet50V2/cp-0017.ckpt\n",
            "30/30 - 14s - loss: 0.2103 - acc: 0.9083 - val_loss: 0.1447 - val_acc: 0.9625 - 14s/epoch - 462ms/step\n",
            "Epoch 18/60\n",
            "\n",
            "Epoch 18: saving model to Resnet50V2/cp-0018.ckpt\n",
            "30/30 - 10s - loss: 0.1743 - acc: 0.9339 - val_loss: 0.2495 - val_acc: 0.9125 - 10s/epoch - 334ms/step\n",
            "Epoch 19/60\n",
            "\n",
            "Epoch 19: saving model to Resnet50V2/cp-0019.ckpt\n",
            "30/30 - 13s - loss: 0.2087 - acc: 0.9168 - val_loss: 0.2388 - val_acc: 0.9000 - 13s/epoch - 443ms/step\n",
            "Epoch 20/60\n",
            "\n",
            "Epoch 20: saving model to Resnet50V2/cp-0020.ckpt\n",
            "30/30 - 14s - loss: 0.2038 - acc: 0.9360 - val_loss: 0.2323 - val_acc: 0.8875 - 14s/epoch - 453ms/step\n",
            "Epoch 21/60\n",
            "\n",
            "Epoch 21: saving model to Resnet50V2/cp-0021.ckpt\n",
            "30/30 - 15s - loss: 0.1875 - acc: 0.9318 - val_loss: 0.1641 - val_acc: 0.9125 - 15s/epoch - 507ms/step\n",
            "Epoch 22/60\n",
            "\n",
            "Epoch 22: saving model to Resnet50V2/cp-0022.ckpt\n",
            "30/30 - 14s - loss: 0.2259 - acc: 0.9104 - val_loss: 0.3514 - val_acc: 0.8750 - 14s/epoch - 478ms/step\n",
            "Epoch 23/60\n",
            "\n",
            "Epoch 23: saving model to Resnet50V2/cp-0023.ckpt\n",
            "30/30 - 10s - loss: 0.1926 - acc: 0.9190 - val_loss: 0.2808 - val_acc: 0.8625 - 10s/epoch - 335ms/step\n",
            "Epoch 24/60\n",
            "\n",
            "Epoch 24: saving model to Resnet50V2/cp-0024.ckpt\n",
            "30/30 - 9s - loss: 0.2177 - acc: 0.9254 - val_loss: 0.2383 - val_acc: 0.9250 - 9s/epoch - 283ms/step\n",
            "Epoch 25/60\n",
            "\n",
            "Epoch 25: saving model to Resnet50V2/cp-0025.ckpt\n",
            "30/30 - 14s - loss: 0.1320 - acc: 0.9488 - val_loss: 0.2000 - val_acc: 0.9125 - 14s/epoch - 483ms/step\n",
            "Epoch 26/60\n",
            "\n",
            "Epoch 26: saving model to Resnet50V2/cp-0026.ckpt\n",
            "30/30 - 13s - loss: 0.1544 - acc: 0.9296 - val_loss: 0.2001 - val_acc: 0.9125 - 13s/epoch - 430ms/step\n",
            "Epoch 27/60\n",
            "\n",
            "Epoch 27: saving model to Resnet50V2/cp-0027.ckpt\n",
            "30/30 - 12s - loss: 0.2355 - acc: 0.9083 - val_loss: 0.1365 - val_acc: 0.9625 - 12s/epoch - 414ms/step\n",
            "Epoch 28/60\n",
            "\n",
            "Epoch 28: saving model to Resnet50V2/cp-0028.ckpt\n",
            "30/30 - 14s - loss: 0.1597 - acc: 0.9360 - val_loss: 0.1344 - val_acc: 0.9500 - 14s/epoch - 474ms/step\n",
            "Epoch 29/60\n",
            "\n",
            "Epoch 29: saving model to Resnet50V2/cp-0029.ckpt\n",
            "30/30 - 12s - loss: 0.2244 - acc: 0.9190 - val_loss: 0.1339 - val_acc: 0.9125 - 12s/epoch - 402ms/step\n",
            "Epoch 30/60\n",
            "\n",
            "Epoch 30: saving model to Resnet50V2/cp-0030.ckpt\n",
            "30/30 - 14s - loss: 0.1577 - acc: 0.9382 - val_loss: 0.2191 - val_acc: 0.9375 - 14s/epoch - 469ms/step\n",
            "Epoch 31/60\n",
            "\n",
            "Epoch 31: saving model to Resnet50V2/cp-0031.ckpt\n",
            "30/30 - 10s - loss: 0.1938 - acc: 0.9254 - val_loss: 0.1670 - val_acc: 0.9125 - 10s/epoch - 342ms/step\n",
            "Epoch 32/60\n",
            "\n",
            "Epoch 32: saving model to Resnet50V2/cp-0032.ckpt\n",
            "30/30 - 15s - loss: 0.1828 - acc: 0.9232 - val_loss: 0.2342 - val_acc: 0.9250 - 15s/epoch - 495ms/step\n",
            "Epoch 33/60\n",
            "\n",
            "Epoch 33: saving model to Resnet50V2/cp-0033.ckpt\n",
            "30/30 - 10s - loss: 0.1852 - acc: 0.9360 - val_loss: 0.2566 - val_acc: 0.9125 - 10s/epoch - 345ms/step\n",
            "Epoch 34/60\n",
            "\n",
            "Epoch 34: saving model to Resnet50V2/cp-0034.ckpt\n",
            "30/30 - 10s - loss: 0.1452 - acc: 0.9424 - val_loss: 0.1790 - val_acc: 0.9125 - 10s/epoch - 335ms/step\n",
            "Epoch 35/60\n",
            "\n",
            "Epoch 35: saving model to Resnet50V2/cp-0035.ckpt\n",
            "30/30 - 14s - loss: 0.1628 - acc: 0.9339 - val_loss: 0.2302 - val_acc: 0.9250 - 14s/epoch - 470ms/step\n",
            "Epoch 36/60\n",
            "\n",
            "Epoch 36: saving model to Resnet50V2/cp-0036.ckpt\n",
            "30/30 - 14s - loss: 0.1408 - acc: 0.9467 - val_loss: 0.3054 - val_acc: 0.9125 - 14s/epoch - 479ms/step\n",
            "Epoch 37/60\n",
            "\n",
            "Epoch 37: saving model to Resnet50V2/cp-0037.ckpt\n",
            "30/30 - 14s - loss: 0.1437 - acc: 0.9488 - val_loss: 0.2714 - val_acc: 0.8500 - 14s/epoch - 466ms/step\n",
            "Epoch 38/60\n",
            "\n",
            "Epoch 38: saving model to Resnet50V2/cp-0038.ckpt\n",
            "30/30 - 10s - loss: 0.1465 - acc: 0.9360 - val_loss: 0.2792 - val_acc: 0.8875 - 10s/epoch - 320ms/step\n",
            "Epoch 39/60\n",
            "\n",
            "Epoch 39: saving model to Resnet50V2/cp-0039.ckpt\n",
            "30/30 - 13s - loss: 0.1640 - acc: 0.9232 - val_loss: 0.1884 - val_acc: 0.9375 - 13s/epoch - 429ms/step\n",
            "Epoch 40/60\n",
            "\n",
            "Epoch 40: saving model to Resnet50V2/cp-0040.ckpt\n",
            "30/30 - 13s - loss: 0.1322 - acc: 0.9403 - val_loss: 0.2769 - val_acc: 0.8750 - 13s/epoch - 428ms/step\n",
            "Epoch 41/60\n",
            "\n",
            "Epoch 41: saving model to Resnet50V2/cp-0041.ckpt\n",
            "30/30 - 15s - loss: 0.1385 - acc: 0.9488 - val_loss: 0.1058 - val_acc: 0.9625 - 15s/epoch - 511ms/step\n",
            "Epoch 42/60\n",
            "\n",
            "Epoch 42: saving model to Resnet50V2/cp-0042.ckpt\n",
            "30/30 - 14s - loss: 0.1290 - acc: 0.9510 - val_loss: 0.3046 - val_acc: 0.8625 - 14s/epoch - 470ms/step\n",
            "Epoch 43/60\n",
            "\n",
            "Epoch 43: saving model to Resnet50V2/cp-0043.ckpt\n",
            "30/30 - 14s - loss: 0.1446 - acc: 0.9616 - val_loss: 0.2655 - val_acc: 0.9000 - 14s/epoch - 469ms/step\n",
            "Epoch 44/60\n",
            "\n",
            "Epoch 44: saving model to Resnet50V2/cp-0044.ckpt\n",
            "30/30 - 17s - loss: 0.1538 - acc: 0.9382 - val_loss: 0.1641 - val_acc: 0.9125 - 17s/epoch - 572ms/step\n",
            "Epoch 45/60\n",
            "\n",
            "Epoch 45: saving model to Resnet50V2/cp-0045.ckpt\n",
            "30/30 - 15s - loss: 0.1665 - acc: 0.9318 - val_loss: 0.2423 - val_acc: 0.9000 - 15s/epoch - 490ms/step\n",
            "Epoch 46/60\n",
            "\n",
            "Epoch 46: saving model to Resnet50V2/cp-0046.ckpt\n",
            "30/30 - 12s - loss: 0.1266 - acc: 0.9424 - val_loss: 0.1698 - val_acc: 0.9250 - 12s/epoch - 385ms/step\n",
            "Epoch 47/60\n",
            "\n",
            "Epoch 47: saving model to Resnet50V2/cp-0047.ckpt\n",
            "30/30 - 9s - loss: 0.1554 - acc: 0.9360 - val_loss: 0.1677 - val_acc: 0.9375 - 9s/epoch - 301ms/step\n",
            "Epoch 48/60\n",
            "\n",
            "Epoch 48: saving model to Resnet50V2/cp-0048.ckpt\n",
            "30/30 - 10s - loss: 0.1343 - acc: 0.9488 - val_loss: 0.1374 - val_acc: 0.9500 - 10s/epoch - 343ms/step\n",
            "Epoch 49/60\n",
            "\n",
            "Epoch 49: saving model to Resnet50V2/cp-0049.ckpt\n",
            "30/30 - 11s - loss: 0.1258 - acc: 0.9488 - val_loss: 0.1846 - val_acc: 0.9250 - 11s/epoch - 353ms/step\n",
            "Epoch 50/60\n",
            "\n",
            "Epoch 50: saving model to Resnet50V2/cp-0050.ckpt\n",
            "30/30 - 13s - loss: 0.1473 - acc: 0.9446 - val_loss: 0.1794 - val_acc: 0.9500 - 13s/epoch - 450ms/step\n",
            "Epoch 51/60\n",
            "\n",
            "Epoch 51: saving model to Resnet50V2/cp-0051.ckpt\n",
            "30/30 - 8s - loss: 0.1020 - acc: 0.9616 - val_loss: 0.2236 - val_acc: 0.9125 - 8s/epoch - 277ms/step\n",
            "Epoch 52/60\n",
            "\n",
            "Epoch 52: saving model to Resnet50V2/cp-0052.ckpt\n",
            "30/30 - 15s - loss: 0.1301 - acc: 0.9467 - val_loss: 0.2673 - val_acc: 0.9250 - 15s/epoch - 512ms/step\n",
            "Epoch 53/60\n",
            "\n",
            "Epoch 53: saving model to Resnet50V2/cp-0053.ckpt\n",
            "30/30 - 17s - loss: 0.1340 - acc: 0.9467 - val_loss: 0.2285 - val_acc: 0.9125 - 17s/epoch - 571ms/step\n",
            "Epoch 54/60\n",
            "\n",
            "Epoch 54: saving model to Resnet50V2/cp-0054.ckpt\n",
            "30/30 - 13s - loss: 0.1101 - acc: 0.9595 - val_loss: 0.3506 - val_acc: 0.9250 - 13s/epoch - 441ms/step\n",
            "Epoch 55/60\n",
            "\n",
            "Epoch 55: saving model to Resnet50V2/cp-0055.ckpt\n",
            "30/30 - 14s - loss: 0.0934 - acc: 0.9680 - val_loss: 0.2280 - val_acc: 0.9250 - 14s/epoch - 452ms/step\n",
            "Epoch 56/60\n",
            "\n",
            "Epoch 56: saving model to Resnet50V2/cp-0056.ckpt\n",
            "30/30 - 16s - loss: 0.0597 - acc: 0.9765 - val_loss: 0.2666 - val_acc: 0.9000 - 16s/epoch - 536ms/step\n",
            "Epoch 57/60\n",
            "\n",
            "Epoch 57: saving model to Resnet50V2/cp-0057.ckpt\n",
            "30/30 - 11s - loss: 0.1186 - acc: 0.9595 - val_loss: 0.2197 - val_acc: 0.9250 - 11s/epoch - 378ms/step\n",
            "Epoch 58/60\n",
            "\n",
            "Epoch 58: saving model to Resnet50V2/cp-0058.ckpt\n",
            "30/30 - 13s - loss: 0.0998 - acc: 0.9638 - val_loss: 0.2004 - val_acc: 0.9375 - 13s/epoch - 441ms/step\n",
            "Epoch 59/60\n",
            "\n",
            "Epoch 59: saving model to Resnet50V2/cp-0059.ckpt\n",
            "30/30 - 18s - loss: 0.1330 - acc: 0.9424 - val_loss: 0.1680 - val_acc: 0.9250 - 18s/epoch - 612ms/step\n",
            "Epoch 60/60\n",
            "\n",
            "Epoch 60: saving model to Resnet50V2/cp-0060.ckpt\n",
            "30/30 - 13s - loss: 0.0789 - acc: 0.9744 - val_loss: 0.1536 - val_acc: 0.9500 - 13s/epoch - 435ms/step\n",
            "time: 15min 47s (started: 2024-01-15 21:08:54 +00:00)\n"
          ]
        }
      ]
    },
    {
      "cell_type": "code",
      "source": [
        "# Especificar o diretório de destino no Google Drive\n",
        "drive_dir = '/content/drive/MyDrive/Resnet50V2Pre/'"
      ],
      "metadata": {
        "colab": {
          "base_uri": "https://localhost:8080/"
        },
        "id": "ic90m-9fQdlK",
        "outputId": "1380626c-9b19-4289-ea26-b1b14713d7b2"
      },
      "execution_count": 116,
      "outputs": [
        {
          "output_type": "stream",
          "name": "stdout",
          "text": [
            "time: 510 µs (started: 2024-01-15 21:24:41 +00:00)\n"
          ]
        }
      ]
    },
    {
      "cell_type": "code",
      "source": [
        "shutil.copytree(checkpoint_dir, drive_dir)"
      ],
      "metadata": {
        "colab": {
          "base_uri": "https://localhost:8080/",
          "height": 52
        },
        "id": "AieJKDaXP4TR",
        "outputId": "1692fc82-beb5-4bb0-d878-0f6ad03cd34d"
      },
      "execution_count": 117,
      "outputs": [
        {
          "output_type": "execute_result",
          "data": {
            "text/plain": [
              "'/content/drive/MyDrive/Resnet50V2Pre/'"
            ],
            "application/vnd.google.colaboratory.intrinsic+json": {
              "type": "string"
            }
          },
          "metadata": {},
          "execution_count": 117
        },
        {
          "output_type": "stream",
          "name": "stdout",
          "text": [
            "time: 8min 19s (started: 2024-01-15 21:24:41 +00:00)\n"
          ]
        }
      ]
    },
    {
      "cell_type": "code",
      "execution_count": 118,
      "metadata": {
        "colab": {
          "base_uri": "https://localhost:8080/"
        },
        "id": "psL6jhi8-UT_",
        "outputId": "cf8f2366-dca1-457c-f39e-93c8b2e36fbf"
      },
      "outputs": [
        {
          "output_type": "stream",
          "name": "stdout",
          "text": [
            "time: 607 µs (started: 2024-01-15 21:33:00 +00:00)\n"
          ]
        }
      ],
      "source": [
        "def smooth_curve(points, factor=0.8): #this function will make our plots more smooth\n",
        "\tsmoothed_points = []\n",
        "\tfor point in points:\n",
        "\t\tif smoothed_points:\n",
        "\t\t\tprevious = smoothed_points[-1]\n",
        "\t\t\tsmoothed_points.append(previous*factor+point*(1-factor))\n",
        "\t\telse:\n",
        "\t\t\tsmoothed_points.append(point)\n",
        "\treturn smoothed_points"
      ]
    },
    {
      "cell_type": "code",
      "source": [
        "def imprime_graficos(history):\n",
        "  acc = history.history['acc']\n",
        "  val_acc = history.history['val_acc']\n",
        "  loss = history.history['loss']\n",
        "  val_loss = history.history['val_loss']\n",
        "\n",
        "  epochs = range(1, len(acc)+1)\n",
        "  plt.plot(epochs, smooth_curve(acc), 'bo', label='Treinamento acc')\n",
        "  plt.plot(epochs, smooth_curve(val_acc), 'r-', label='Validação acc')\n",
        "  plt.legend()\n",
        "  plt.title('Treinamento and Validação Acc')\n",
        "  plt.figure()\n",
        "\n",
        "  plt.plot(epochs, smooth_curve(loss), 'bo', label='Treinamento loss')\n",
        "  plt.plot(epochs, smooth_curve(val_loss), 'r-', label='Validação loss')\n",
        "  plt.legend()\n",
        "  plt.title('Treinamento e Validação Loss')\n",
        "  plt.show()\n",
        "\n",
        "  print(\"\\n\")"
      ],
      "metadata": {
        "colab": {
          "base_uri": "https://localhost:8080/"
        },
        "id": "tCp08vPNeCju",
        "outputId": "50368c59-d0d8-43f5-bcf8-246bc88d0b19"
      },
      "execution_count": 119,
      "outputs": [
        {
          "output_type": "stream",
          "name": "stdout",
          "text": [
            "time: 702 µs (started: 2024-01-15 21:33:00 +00:00)\n"
          ]
        }
      ]
    },
    {
      "cell_type": "code",
      "execution_count": 120,
      "metadata": {
        "colab": {
          "base_uri": "https://localhost:8080/"
        },
        "id": "wMwF5avo4hk8",
        "outputId": "848772b5-cff3-4020-87b5-76161841e90b"
      },
      "outputs": [
        {
          "output_type": "stream",
          "name": "stdout",
          "text": [
            "time: 962 µs (started: 2024-01-15 21:33:00 +00:00)\n"
          ]
        }
      ],
      "source": [
        "def metricas(modelo_metricas, epocas):\n",
        "\n",
        "  # Obter as previsões do modelo nos dados de teste\n",
        "  y_pred = modelo_metricas.predict(X_test)\n",
        "\n",
        "  # Converter as previsões em rótulos binários\n",
        "  y_pred_binary = (y_pred > 0.5).astype(int)\n",
        "\n",
        "  # Calcular as métricas de precisão, recall e F1 Score\n",
        "  classification_rep = classification_report(Y_test, y_pred_binary)\n",
        "  print(\"Classification Report:\\n\", classification_rep)\n",
        "\n",
        "\n",
        "  #Calcula a matriz de confusão\n",
        "  cm = confusion_matrix(Y_test, y_pred_binary)\n",
        "  # Display\n",
        "  plt.figure(figsize=(4, 4))\n",
        "\n",
        "  sns.heatmap(cm, annot=True, fmt='g', vmin=0, cmap='Reds', cbar=False)\n",
        "  plt.xticks(ticks=[0.5, 1.5], labels=[\"No Pollen\", \"Pollen\"])\n",
        "  plt.yticks(ticks=[0.5, 1.5], labels=[\"No Pollen\", \"Pollen\"])\n",
        "  plt.xlabel(\"Predicted\")\n",
        "  plt.ylabel(\"Actual\")\n",
        "  plt.title(\"Confusion Matrix \" + str(epocas) + \" épocas\")\n",
        "\n",
        "  plt.show()\n",
        "\n",
        "  print(\"\\n\")"
      ]
    },
    {
      "cell_type": "code",
      "source": [
        "#shutil.rmtree(checkpoint_dir, ignore_errors=False, onerror=None)"
      ],
      "metadata": {
        "colab": {
          "base_uri": "https://localhost:8080/"
        },
        "id": "FXistSEkbyTt",
        "outputId": "930017fd-489d-459d-a3e2-bf4c0145e777"
      },
      "execution_count": 121,
      "outputs": [
        {
          "output_type": "stream",
          "name": "stdout",
          "text": [
            "time: 377 µs (started: 2024-01-15 21:35:17 +00:00)\n"
          ]
        }
      ]
    },
    {
      "cell_type": "code",
      "source": [
        "epoca = 10\n",
        "for i in range(6):\n",
        "  cp = \"Resnet50V2/cp-00\"+str(epoca)+\".ckpt\"\n",
        "  print(\"Avaliando modelo com checkpoint \" + cp + \" correspondente a época \" + str(epoca))\n",
        "  avaliacao_modelo = create_model()\n",
        "  # Load the previously saved weights\n",
        "  avaliacao_modelo.load_weights(cp)\n",
        "\n",
        "  # Re-evaluate the model\n",
        "  loss, acc = avaliacao_modelo.evaluate(X_test, Y_test)\n",
        "  print(\"Restored model, accuracy: \" + str(acc) )\n",
        "  print(\"Restored model, loss: \" + str(loss) + \"\\n\")\n",
        "\n",
        "  metricas(avaliacao_modelo, epoca)\n",
        "\n",
        "  epoca += 10"
      ],
      "metadata": {
        "colab": {
          "base_uri": "https://localhost:8080/",
          "height": 1000
        },
        "id": "Hcftf7YvhGSy",
        "outputId": "ed111e03-4764-4dff-d81c-3b16d706534c"
      },
      "execution_count": 122,
      "outputs": [
        {
          "output_type": "stream",
          "name": "stdout",
          "text": [
            "Avaliando modelo com checkpoint Resnet50V2/cp-0010.ckpt correspondente a época 10\n",
            "5/5 [==============================] - 2s 82ms/step - loss: 0.2571 - acc: 0.8881\n",
            "Restored model, accuracy: 0.8881118893623352\n",
            "Restored model, loss: 0.257147878408432\n",
            "\n",
            "5/5 [==============================] - 1s 78ms/step\n",
            "Classification Report:\n",
            "               precision    recall  f1-score   support\n",
            "\n",
            "           0       0.85      0.93      0.89        67\n",
            "           1       0.93      0.86      0.89        76\n",
            "\n",
            "    accuracy                           0.89       143\n",
            "   macro avg       0.89      0.89      0.89       143\n",
            "weighted avg       0.89      0.89      0.89       143\n",
            "\n"
          ]
        },
        {
          "output_type": "display_data",
          "data": {
            "text/plain": [
              "<Figure size 400x400 with 1 Axes>"
            ],
            "image/png": "[encoded data removed]"
          },
          "metadata": {}
        },
        {
          "output_type": "stream",
          "name": "stdout",
          "text": [
            "\n",
            "\n",
            "Avaliando modelo com checkpoint Resnet50V2/cp-0020.ckpt correspondente a época 20\n",
            "5/5 [==============================] - 3s 88ms/step - loss: 0.2239 - acc: 0.9231\n",
            "Restored model, accuracy: 0.9230769276618958\n",
            "Restored model, loss: 0.22385942935943604\n",
            "\n",
            "5/5 [==============================] - 1s 77ms/step\n",
            "Classification Report:\n",
            "               precision    recall  f1-score   support\n",
            "\n",
            "           0       0.91      0.93      0.92        67\n",
            "           1       0.93      0.92      0.93        76\n",
            "\n",
            "    accuracy                           0.92       143\n",
            "   macro avg       0.92      0.92      0.92       143\n",
            "weighted avg       0.92      0.92      0.92       143\n",
            "\n"
          ]
        },
        {
          "output_type": "display_data",
          "data": {
            "text/plain": [
              "<Figure size 400x400 with 1 Axes>"
            ],
            "image/png": "[encoded data removed]"
          },
          "metadata": {}
        },
        {
          "output_type": "stream",
          "name": "stdout",
          "text": [
            "\n",
            "\n",
            "Avaliando modelo com checkpoint Resnet50V2/cp-0030.ckpt correspondente a época 30\n",
            "5/5 [==============================] - 2s 81ms/step - loss: 0.2128 - acc: 0.9091\n",
            "Restored model, accuracy: 0.9090909361839294\n",
            "Restored model, loss: 0.2128325253725052\n",
            "\n",
            "5/5 [==============================] - 1s 79ms/step\n",
            "Classification Report:\n",
            "               precision    recall  f1-score   support\n",
            "\n",
            "           0       0.88      0.94      0.91        67\n",
            "           1       0.94      0.88      0.91        76\n",
            "\n",
            "    accuracy                           0.91       143\n",
            "   macro avg       0.91      0.91      0.91       143\n",
            "weighted avg       0.91      0.91      0.91       143\n",
            "\n"
          ]
        },
        {
          "output_type": "display_data",
          "data": {
            "text/plain": [
              "<Figure size 400x400 with 1 Axes>"
            ],
            "image/png": "[encoded data removed]"
          },
          "metadata": {}
        },
        {
          "output_type": "stream",
          "name": "stdout",
          "text": [
            "\n",
            "\n",
            "Avaliando modelo com checkpoint Resnet50V2/cp-0040.ckpt correspondente a época 40\n"
          ]
        },
        {
          "output_type": "stream",
          "name": "stderr",
          "text": [
            "WARNING:tensorflow:Detecting that an object or model or tf.train.Checkpoint is being deleted with unrestored values. See the following logs for the specific values in question. To silence these warnings, use `status.expect_partial()`. See https://www.tensorflow.org/api_docs/python/tf/train/Checkpoint#restorefor details about the status object returned by the restore function.\n",
            "WARNING:tensorflow:Value in checkpoint could not be found in the restored object: (root).optimizer._variables.1\n",
            "WARNING:tensorflow:Value in checkpoint could not be found in the restored object: (root).optimizer._variables.2\n",
            "WARNING:tensorflow:Value in checkpoint could not be found in the restored object: (root).optimizer._variables.3\n",
            "WARNING:tensorflow:Value in checkpoint could not be found in the restored object: (root).optimizer._variables.4\n",
            "WARNING:tensorflow:Value in checkpoint could not be found in the restored object: (root).optimizer._variables.5\n",
            "WARNING:tensorflow:Value in checkpoint could not be found in the restored object: (root).optimizer._variables.6\n",
            "WARNING:tensorflow:Value in checkpoint could not be found in the restored object: (root).optimizer._variables.7\n",
            "WARNING:tensorflow:Value in checkpoint could not be found in the restored object: (root).optimizer._variables.8\n",
            "WARNING:tensorflow:Detecting that an object or model or tf.train.Checkpoint is being deleted with unrestored values. See the following logs for the specific values in question. To silence these warnings, use `status.expect_partial()`. See https://www.tensorflow.org/api_docs/python/tf/train/Checkpoint#restorefor details about the status object returned by the restore function.\n",
            "WARNING:tensorflow:Value in checkpoint could not be found in the restored object: (root).optimizer._variables.1\n",
            "WARNING:tensorflow:Value in checkpoint could not be found in the restored object: (root).optimizer._variables.2\n",
            "WARNING:tensorflow:Value in checkpoint could not be found in the restored object: (root).optimizer._variables.3\n",
            "WARNING:tensorflow:Value in checkpoint could not be found in the restored object: (root).optimizer._variables.4\n",
            "WARNING:tensorflow:Value in checkpoint could not be found in the restored object: (root).optimizer._variables.5\n",
            "WARNING:tensorflow:Value in checkpoint could not be found in the restored object: (root).optimizer._variables.6\n",
            "WARNING:tensorflow:Value in checkpoint could not be found in the restored object: (root).optimizer._variables.7\n",
            "WARNING:tensorflow:Value in checkpoint could not be found in the restored object: (root).optimizer._variables.8\n",
            "WARNING:tensorflow:Detecting that an object or model or tf.train.Checkpoint is being deleted with unrestored values. See the following logs for the specific values in question. To silence these warnings, use `status.expect_partial()`. See https://www.tensorflow.org/api_docs/python/tf/train/Checkpoint#restorefor details about the status object returned by the restore function.\n",
            "WARNING:tensorflow:Value in checkpoint could not be found in the restored object: (root).optimizer._variables.1\n",
            "WARNING:tensorflow:Value in checkpoint could not be found in the restored object: (root).optimizer._variables.2\n",
            "WARNING:tensorflow:Value in checkpoint could not be found in the restored object: (root).optimizer._variables.3\n",
            "WARNING:tensorflow:Value in checkpoint could not be found in the restored object: (root).optimizer._variables.4\n",
            "WARNING:tensorflow:Value in checkpoint could not be found in the restored object: (root).optimizer._variables.5\n",
            "WARNING:tensorflow:Value in checkpoint could not be found in the restored object: (root).optimizer._variables.6\n",
            "WARNING:tensorflow:Value in checkpoint could not be found in the restored object: (root).optimizer._variables.7\n",
            "WARNING:tensorflow:Value in checkpoint could not be found in the restored object: (root).optimizer._variables.8\n"
          ]
        },
        {
          "output_type": "stream",
          "name": "stdout",
          "text": [
            "5/5 [==============================] - 2s 82ms/step - loss: 0.2261 - acc: 0.8951\n",
            "Restored model, accuracy: 0.8951048851013184\n",
            "Restored model, loss: 0.22606614232063293\n",
            "\n",
            "5/5 [==============================] - 1s 99ms/step\n",
            "Classification Report:\n",
            "               precision    recall  f1-score   support\n",
            "\n",
            "           0       0.89      0.88      0.89        67\n",
            "           1       0.90      0.91      0.90        76\n",
            "\n",
            "    accuracy                           0.90       143\n",
            "   macro avg       0.90      0.89      0.89       143\n",
            "weighted avg       0.90      0.90      0.90       143\n",
            "\n"
          ]
        },
        {
          "output_type": "display_data",
          "data": {
            "text/plain": [
              "<Figure size 400x400 with 1 Axes>"
            ],
            "image/png": "[encoded data removed]"
          },
          "metadata": {}
        },
        {
          "output_type": "stream",
          "name": "stdout",
          "text": [
            "\n",
            "\n",
            "Avaliando modelo com checkpoint Resnet50V2/cp-0050.ckpt correspondente a época 50\n",
            "5/5 [==============================] - 2s 81ms/step - loss: 0.2239 - acc: 0.9161\n",
            "Restored model, accuracy: 0.9160839319229126\n",
            "Restored model, loss: 0.22389468550682068\n",
            "\n",
            "5/5 [==============================] - 2s 98ms/step\n",
            "Classification Report:\n",
            "               precision    recall  f1-score   support\n",
            "\n",
            "           0       0.92      0.90      0.91        67\n",
            "           1       0.91      0.93      0.92        76\n",
            "\n",
            "    accuracy                           0.92       143\n",
            "   macro avg       0.92      0.91      0.92       143\n",
            "weighted avg       0.92      0.92      0.92       143\n",
            "\n"
          ]
        },
        {
          "output_type": "display_data",
          "data": {
            "text/plain": [
              "<Figure size 400x400 with 1 Axes>"
            ],
            "image/png": "[encoded data removed]"
          },
          "metadata": {}
        },
        {
          "output_type": "stream",
          "name": "stdout",
          "text": [
            "\n",
            "\n",
            "Avaliando modelo com checkpoint Resnet50V2/cp-0060.ckpt correspondente a época 60\n",
            "5/5 [==============================] - 2s 88ms/step - loss: 0.2647 - acc: 0.8951\n",
            "Restored model, accuracy: 0.8951048851013184\n",
            "Restored model, loss: 0.26465553045272827\n",
            "\n",
            "5/5 [==============================] - 1s 78ms/step\n",
            "Classification Report:\n",
            "               precision    recall  f1-score   support\n",
            "\n",
            "           0       0.87      0.91      0.89        67\n",
            "           1       0.92      0.88      0.90        76\n",
            "\n",
            "    accuracy                           0.90       143\n",
            "   macro avg       0.89      0.90      0.89       143\n",
            "weighted avg       0.90      0.90      0.90       143\n",
            "\n"
          ]
        },
        {
          "output_type": "display_data",
          "data": {
            "text/plain": [
              "<Figure size 400x400 with 1 Axes>"
            ],
            "image/png": "[encoded data removed]"
          },
          "metadata": {}
        },
        {
          "output_type": "stream",
          "name": "stdout",
          "text": [
            "\n",
            "\n",
            "time: 49.3 s (started: 2024-01-15 21:36:18 +00:00)\n"
          ]
        }
      ]
    },
    {
      "cell_type": "code",
      "source": [
        "imprime_graficos(history)"
      ],
      "metadata": {
        "id": "F3ZtmSa1jk2b",
        "colab": {
          "base_uri": "https://localhost:8080/",
          "height": 939
        },
        "outputId": "bdb6be40-17d3-43e9-e4ba-04db705b84d4"
      },
      "execution_count": 88,
      "outputs": [
        {
          "output_type": "display_data",
          "data": {
            "text/plain": [
              "<Figure size 640x480 with 1 Axes>"
            ],
            "image/png": "[encoded data removed]"
          },
          "metadata": {}
        },
        {
          "output_type": "display_data",
          "data": {
            "text/plain": [
              "<Figure size 640x480 with 1 Axes>"
            ],
            "image/png": "[encoded data removed]"
          },
          "metadata": {}
        },
        {
          "output_type": "stream",
          "name": "stdout",
          "text": [
            "\n",
            "\n",
            "time: 450 ms (started: 2024-01-15 20:58:50 +00:00)\n"
          ]
        }
      ]
    }
  ],
  "metadata": {
    "accelerator": "GPU",
    "colab": {
      "gpuType": "T4",
      "provenance": []
    },
    "kernelspec": {
      "display_name": "Python 3 (ipykernel)",
      "language": "python",
      "name": "python3"
    },
    "language_info": {
      "codemirror_mode": {
        "name": "ipython",
        "version": 3
      },
      "file_extension": ".py",
      "mimetype": "text/x-python",
      "name": "python",
      "nbconvert_exporter": "python",
      "pygments_lexer": "ipython3",
      "version": "3.9.7"
    }
  },
  "nbformat": 4,
  "nbformat_minor": 0
}